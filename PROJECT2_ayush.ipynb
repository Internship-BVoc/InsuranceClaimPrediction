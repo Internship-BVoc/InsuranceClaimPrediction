{
  "nbformat": 4,
  "nbformat_minor": 0,
  "metadata": {
    "colab": {
      "name": "PROJECT2_ayush.ipynb",
      "provenance": [],
      "collapsed_sections": []
    },
    "kernelspec": {
      "name": "python3",
      "display_name": "Python 3"
    }
  },
  "cells": [
    {
      "cell_type": "code",
      "metadata": {
        "id": "FSmQF3hef56U",
        "colab_type": "code",
        "colab": {}
      },
      "source": [
        "import pandas as pd\n",
        "import numpy as np\n",
        "from scipy import *\n",
        "from sklearn.preprocessing import LabelEncoder\n",
        "from sklearn.preprocessing import OneHotEncoder\n",
        "from sklearn.preprocessing import *\n",
        "from sklearn.model_selection import GridSearchCV\n",
        "from sklearn.model_selection import *\n",
        "from sklearn.tree import DecisionTreeClassifier\n",
        "from sklearn.metrics import *\n",
        "import matplotlib.pyplot as plt\n",
        "import seaborn as sns"
      ],
      "execution_count": 49,
      "outputs": []
    },
    {
      "cell_type": "code",
      "metadata": {
        "id": "67J8DXfog29H",
        "colab_type": "code",
        "colab": {
          "base_uri": "https://localhost:8080/",
          "height": 122
        },
        "outputId": "b005890b-3e7f-4062-870c-37f2020e9a77"
      },
      "source": [
        "df=pd.read_csv('travel insurance.csv',sep=',')\n",
        "row,column=df.shape\n",
        "print(\"The dataset has {} Rows and {} Columns\".format(row,column))\n",
        "print('')\n",
        "cols=list(df.columns)\n",
        "continous=list(set(df._get_numeric_data().columns)-{'Duration','Age'})\n",
        "print(\"Columns : \",cols)\n",
        "print(\"Continous Variables   : \",continous)\n",
        "categorical=list(set(cols)-set(continous))\n",
        "print(\"Categorical Variables : \",categorical)\n",
        "# Duration and Age are categorical ( done in EDA part [Ayush_Project.ipynb] )\n",
        "df_=df.copy()\n",
        "df_['Gender']=df_['Gender'].fillna('N')"
      ],
      "execution_count": 50,
      "outputs": [
        {
          "output_type": "stream",
          "text": [
            "The dataset has 63326 Rows and 11 Columns\n",
            "\n",
            "Columns :  ['Agency', 'Agency Type', 'Distribution Channel', 'Product Name', 'Claim', 'Duration', 'Destination', 'Net Sales', 'Commision (in value)', 'Gender', 'Age']\n",
            "Continous Variables   :  ['Net Sales', 'Commision (in value)']\n",
            "Categorical Variables :  ['Gender', 'Agency', 'Agency Type', 'Age', 'Destination', 'Distribution Channel', 'Claim', 'Product Name', 'Duration']\n"
          ],
          "name": "stdout"
        }
      ]
    },
    {
      "cell_type": "code",
      "metadata": {
        "id": "NYS69s06hlTJ",
        "colab_type": "code",
        "colab": {
          "base_uri": "https://localhost:8080/",
          "height": 51
        },
        "outputId": "88b59f18-913c-4a51-8737-85f862bfc31c"
      },
      "source": [
        "df_ = df_[df_.Age != 118]\n",
        "df_ = df_[df_.Duration >=0]\n",
        "print(\"Now the dataset  has {} Rows and {} Columns\".format(df_.shape[0],df_.shape[1]))\n",
        "print(\"%d records deleted from the dataset\"%(df.shape[0]-df_.shape[0]))\n",
        "df_=df_.reset_index().drop(columns='index')\n",
        "df1=df_.copy()"
      ],
      "execution_count": 51,
      "outputs": [
        {
          "output_type": "stream",
          "text": [
            "Now the dataset  has 62342 Rows and 11 Columns\n",
            "984 records deleted from the dataset\n"
          ],
          "name": "stdout"
        }
      ]
    },
    {
      "cell_type": "code",
      "metadata": {
        "id": "eKIOKnVkTnPd",
        "colab_type": "code",
        "colab": {
          "base_uri": "https://localhost:8080/",
          "height": 34
        },
        "outputId": "7ad23693-7211-4ecb-b1de-542ee2a41be7"
      },
      "source": [
        "# Label Encoding\n",
        "le=LabelEncoder()\n",
        "le_df=pd.DataFrame()\n",
        "for i in list(set(df_.columns)-set(df_._get_numeric_data().columns)):\n",
        "  le_df[i]=le.fit_transform(df_[i])\n",
        "for j in list(df_._get_numeric_data().columns):\n",
        "  le_df[j]=df_[j]\n",
        "print(\"Label Encoded dataset  has {} Rows and {} Columns\".format(le_df.shape[0],le_df.shape[1]))"
      ],
      "execution_count": 52,
      "outputs": [
        {
          "output_type": "stream",
          "text": [
            "Label Encoded dataset  has 62342 Rows and 11 Columns\n"
          ],
          "name": "stdout"
        }
      ]
    },
    {
      "cell_type": "code",
      "metadata": {
        "id": "Zod_9ueDVNu_",
        "colab_type": "code",
        "colab": {
          "base_uri": "https://localhost:8080/",
          "height": 156
        },
        "outputId": "e7ce0bba-064a-4daa-bce3-76f7c0b58a51"
      },
      "source": [
        "relation=dict()\n",
        "for l in list(set(df_.columns)-set(df_._get_numeric_data().columns)):\n",
        "  indx=[]\n",
        "  for x in df_[l].unique():\n",
        "    #print(x,' ',df_.index[df_[l] == x].tolist()[0])\n",
        "    indx.append(df_.index[df_[l] == x].tolist()[0])\n",
        "  dic=dict(zip(le_df.loc[indx][l].to_list(),df_.loc[indx][l].to_list()))\n",
        "  relation[l]=dic\n",
        "  print(dic)"
      ],
      "execution_count": 53,
      "outputs": [
        {
          "output_type": "stream",
          "text": [
            "{0: 'F', 2: 'N', 1: 'M'}\n",
            "{3: 'CBH', 6: 'CWT', 8: 'JZI', 9: 'KML', 7: 'EPX', 2: 'C2B', 11: 'RAB', 12: 'SSI', 1: 'ART', 5: 'CSR', 4: 'CCR', 0: 'ADM', 10: 'LWC', 14: 'TTW', 13: 'TST'}\n",
            "{1: 'Travel Agency', 0: 'Airlines'}\n",
            "{78: 'MALAYSIA', 4: 'AUSTRALIA', 61: 'ITALY', 138: 'UNITED STATES', 128: 'THAILAND', 95: 'NORWAY', 143: 'VIET NAM', 32: 'DENMARK', 117: 'SINGAPORE', 63: 'JAPAN', 137: 'UNITED KINGDOM', 57: 'INDONESIA', 56: 'INDIA', 26: 'CHINA', 41: 'FRANCE', 125: 'TAIWAN, PROVINCE OF CHINA', 101: 'PHILIPPINES', 87: 'MYANMAR', 53: 'HONG KONG', 67: 'KOREA, REPUBLIC OF', 136: 'UNITED ARAB EMIRATES', 88: 'NAMIBIA', 92: 'NEW ZEALAND', 28: 'COSTA RICA', 19: 'BRUNEI DARUSSALAM', 102: 'POLAND', 121: 'SPAIN', 31: 'CZECH REPUBLIC', 44: 'GERMANY', 122: 'SRI LANKA', 21: 'CAMBODIA', 5: 'AUSTRIA', 120: 'SOUTH AFRICA', 127: 'TANZANIA, UNITED REPUBLIC OF', 70: \"LAO PEOPLE'S DEMOCRATIC REPUBLIC\", 89: 'NEPAL', 90: 'NETHERLANDS', 76: 'MACAO', 29: 'CROATIA', 40: 'FINLAND', 23: 'CANADA', 130: 'TUNISIA', 109: 'RUSSIAN FEDERATION', 46: 'GREECE', 11: 'BELGIUM', 59: 'IRELAND', 124: 'SWITZERLAND', 25: 'CHILE', 60: 'ISRAEL', 8: 'BANGLADESH', 55: 'ICELAND', 103: 'PORTUGAL', 108: 'ROMANIA', 66: 'KENYA', 43: 'GEORGIA', 131: 'TURKEY', 123: 'SWEDEN', 79: 'MALDIVES', 36: 'ESTONIA', 112: 'SAUDI ARABIA', 97: 'PAKISTAN', 105: 'QATAR', 100: 'PERU', 75: 'LUXEMBOURG', 85: 'MONGOLIA', 2: 'ARGENTINA', 30: 'CYPRUS', 39: 'FIJI', 9: 'BARBADOS', 129: 'TRINIDAD AND TOBAGO', 37: 'ETHIOPIA', 99: 'PAPUA NEW GUINEA', 114: 'SERBIA', 64: 'JORDAN', 34: 'ECUADOR', 12: 'BENIN', 96: 'OMAN', 7: 'BAHRAIN', 134: 'UGANDA', 18: 'BRAZIL', 83: 'MEXICO', 54: 'HUNGARY', 6: 'AZERBAIJAN', 86: 'MOROCCO', 139: 'URUGUAY', 82: 'MAURITIUS', 62: 'JAMAICA', 65: 'KAZAKHSTAN', 45: 'GHANA', 140: 'UZBEKISTAN', 118: 'SLOVENIA', 68: 'KUWAIT', 48: 'GUAM', 20: 'BULGARIA', 74: 'LITHUANIA', 91: 'NEW CALEDONIA', 35: 'EGYPT', 3: 'ARMENIA', 15: 'BOLIVIA', 144: 'VIRGIN ISLANDS, U.S.', 98: 'PANAMA', 116: 'SIERRA LEONE', 27: 'COLOMBIA', 104: 'PUERTO RICO', 135: 'UKRAINE', 50: 'GUINEA', 47: 'GUADELOUPE', 84: 'MOLDOVA, REPUBLIC OF', 52: 'GUYANA', 71: 'LATVIA', 146: 'ZIMBABWE', 141: 'VANUATU', 142: 'VENEZUELA', 17: 'BOTSWANA', 13: 'BERMUDA', 80: 'MALI', 69: 'KYRGYZSTAN', 24: 'CAYMAN ISLANDS', 81: 'MALTA', 72: 'LEBANON', 107: 'REUNION', 115: 'SEYCHELLES', 145: 'ZAMBIA', 111: 'SAMOA', 94: 'NORTHERN MARIANA ISLANDS', 93: 'NIGERIA', 33: 'DOMINICAN REPUBLIC', 126: 'TAJIKISTAN', 0: 'ALBANIA', 77: 'MACEDONIA, THE FORMER YUGOSLAV REPUBLIC OF', 73: 'LIBYAN ARAB JAMAHIRIYA', 1: 'ANGOLA', 10: 'BELARUS', 133: 'TURKS AND CAICOS ISLANDS', 38: 'FAROE ISLANDS', 132: 'TURKMENISTAN', 51: 'GUINEA-BISSAU', 22: 'CAMEROON', 14: 'BHUTAN', 110: 'RWANDA', 119: 'SOLOMON ISLANDS', 58: 'IRAN, ISLAMIC REPUBLIC OF', 49: 'GUATEMALA', 42: 'FRENCH POLYNESIA', 113: 'SENEGAL', 106: 'REPUBLIC OF MONTENEGRO', 16: 'BOSNIA AND HERZEGOVINA'}\n",
            "{0: 'Offline', 1: 'Online'}\n",
            "{0: 'No', 1: 'Yes'}\n",
            "{12: 'Comprehensive Plan', 16: 'Rental Vehicle Excess Insurance', 25: 'Value Plan', 8: 'Basic Plan', 15: 'Premier Plan', 1: '2 way Comprehensive Plan', 9: 'Bronze Plan', 17: 'Silver Plan', 4: 'Annual Silver Plan', 10: 'Cancellation Plan', 0: '1 way Comprehensive Plan', 22: 'Ticket Protector', 2: '24 Protect', 13: 'Gold Plan', 3: 'Annual Gold Plan', 20: 'Single Trip Travel Protect Silver', 14: 'Individual Comprehensive Plan', 21: 'Spouse or Parents Comprehensive Plan', 7: 'Annual Travel Protect Silver', 19: 'Single Trip Travel Protect Platinum', 5: 'Annual Travel Protect Gold', 18: 'Single Trip Travel Protect Gold', 6: 'Annual Travel Protect Platinum', 11: 'Child Comprehensive Plan', 23: 'Travel Cruise Protect', 24: 'Travel Cruise Protect Family'}\n"
          ],
          "name": "stdout"
        }
      ]
    },
    {
      "cell_type": "code",
      "metadata": {
        "id": "vHo0N50fZvKT",
        "colab_type": "code",
        "colab": {
          "base_uri": "https://localhost:8080/",
          "height": 51
        },
        "outputId": "130db54d-8017-485c-c290-cebd613e9f9b"
      },
      "source": [
        "#OneHotEncoding\n",
        "ohe=OneHotEncoder()\n",
        "ohe_df=df_.copy()\n",
        "s=0\n",
        "for i in list(set(df_.columns)-set(df_._get_numeric_data().columns)-{'Claim'}):\n",
        "  ohe_df = pd.get_dummies(ohe_df, columns=[i], prefix=[i] )\n",
        "ohe_df=ohe_df.drop(columns='Claim')\n",
        "print(s)\n",
        "print(\"One Hot Encoded dataset  has {} Rows and {} Columns\".format(ohe_df.shape[0],ohe_df.shape[1]))"
      ],
      "execution_count": 54,
      "outputs": [
        {
          "output_type": "stream",
          "text": [
            "0\n",
            "One Hot Encoded dataset  has 62342 Rows and 199 Columns\n"
          ],
          "name": "stdout"
        }
      ]
    },
    {
      "cell_type": "markdown",
      "metadata": {
        "id": "_uZdzbDYffdv",
        "colab_type": "text"
      },
      "source": [
        "Functions "
      ]
    },
    {
      "cell_type": "code",
      "metadata": {
        "id": "m1xB8ekNcrNa",
        "colab_type": "code",
        "colab": {}
      },
      "source": [
        "def print_result(y_test,y_pred):\n",
        "  print(\"Confusion Matrix       : \\n\" ,confusion_matrix(y_test,y_pred))\n",
        "  print(\"Accuracy of Model      : \",accuracy_score(y_test, y_pred))\n",
        "  print(\"Precision of Model     : \",precision_score(y_test, y_pred))\n",
        "  print(\"Recall of Model        : \" , recall_score(y_test, y_pred))\n",
        "  print(\"F1 Score of Model      : \" ,f1_score(y_test, y_pred))\n",
        "  print(\"ROC_AUC score of Model : \" ,roc_auc_score(y_test,y_pred))\t\n",
        "  fpr, tpr, thresholds = roc_curve(y_test,y_pred)\n",
        "  plt.figure(1)\n",
        "  plt.plot([0, 1], [0, 1], 'k--')\n",
        "  plt.plot(fpr, tpr, label='ROC curve (area = %0.2f)'% roc_auc_score(y_test,y_pred))\n",
        "  plt.xlabel('False Positive Rate')\n",
        "  plt.ylabel('True Positive Rate')\n",
        "  plt.legend(loc='best')"
      ],
      "execution_count": 55,
      "outputs": []
    },
    {
      "cell_type": "code",
      "metadata": {
        "id": "I7d1sYvUhdoY",
        "colab_type": "code",
        "colab": {}
      },
      "source": [
        "def print_input(X_train, X_test, y_train, y_test):\n",
        "  print(\"TRAIN(X_train) Feature set        : \",len(X_train))\n",
        "  print(\"TRAIN(y_train) Label Feature set  : \",len(y_train))\n",
        "  print(\"TEST (X_test)  Feature set        : \",len(X_test))\n",
        "  print(\"TEST (y_test)  Label set          : \",len(y_test))\n",
        "  print(\"-------For Training Set--------\\n\")\n",
        "  print(y_train['Claim'].value_counts())\n",
        "  l_1,l_2= y_train['Claim'].value_counts()\n",
        "  print(\"Class Label 1 is : \",(l_1/y_train.shape[0])*100,\"%\")\n",
        "  print(\"Class Label 0 is : \",(l_2/y_train.shape[0])*100,\"%\")\n",
        "  print(\"\\n-------For Testing Set--------\\n\")\n",
        "  print(y_test['Claim'].value_counts())\n",
        "  l_1,l_2= y_test['Claim'].value_counts()\n",
        "  print(\"Class Label 1 is : \",(l_1/y_test.shape[0])*100,\"%\")\n",
        "  print(\"Class Label 0 is : \",(l_2/y_test.shape[0])*100,\"%\")"
      ],
      "execution_count": 56,
      "outputs": []
    },
    {
      "cell_type": "code",
      "metadata": {
        "id": "GTF1j_oiw0Qy",
        "colab_type": "code",
        "colab": {}
      },
      "source": [
        "target = pd.DataFrame(le_df['Claim'])\n",
        "le_df=le_df.drop(columns='Claim')"
      ],
      "execution_count": 57,
      "outputs": []
    },
    {
      "cell_type": "markdown",
      "metadata": {
        "id": "HZpxGEoxib3H",
        "colab_type": "text"
      },
      "source": [
        "**With Gender Column**"
      ]
    },
    {
      "cell_type": "markdown",
      "metadata": {
        "id": "1S-BFXn8eBOQ",
        "colab_type": "text"
      },
      "source": [
        "Decision Tree with Lable Encoding"
      ]
    },
    {
      "cell_type": "code",
      "metadata": {
        "id": "2OGPoRyJd-Ks",
        "colab_type": "code",
        "colab": {
          "base_uri": "https://localhost:8080/",
          "height": 340
        },
        "outputId": "669f2f7b-38e4-4a75-a70d-b7ae4e397a23"
      },
      "source": [
        "X_train, X_test, y_train, y_test = train_test_split(le_df,target,test_size = 0.25, random_state = 21, stratify = target)\n",
        "print_input(X_train, X_test, y_train, y_test)"
      ],
      "execution_count": 58,
      "outputs": [
        {
          "output_type": "stream",
          "text": [
            "TRAIN(X_train) Feature set        :  46756\n",
            "TRAIN(y_train) Label Feature set  :  46756\n",
            "TEST (X_test)  Feature set        :  15586\n",
            "TEST (y_test)  Label set          :  15586\n",
            "-------For Training Set--------\n",
            "\n",
            "0    46068\n",
            "1      688\n",
            "Name: Claim, dtype: int64\n",
            "Class Label 1 is :  98.52853109761314 %\n",
            "Class Label 0 is :  1.4714689023868595 %\n",
            "\n",
            "-------For Testing Set--------\n",
            "\n",
            "0    15357\n",
            "1      229\n",
            "Name: Claim, dtype: int64\n",
            "Class Label 1 is :  98.53073270884127 %\n",
            "Class Label 0 is :  1.4692672911587321 %\n"
          ],
          "name": "stdout"
        }
      ]
    },
    {
      "cell_type": "code",
      "metadata": {
        "id": "ebDbxOKWu9d6",
        "colab_type": "code",
        "colab": {
          "base_uri": "https://localhost:8080/",
          "height": 534
        },
        "outputId": "548167c1-7175-4eea-865c-109369e0b23b"
      },
      "source": [
        "dtc = DecisionTreeClassifier(random_state=21)\n",
        "dtc.fit(X_train, y_train)\n",
        "print(dtc)\n",
        "y_pred = dtc.predict(X_test)\n",
        "print(y_pred)\n",
        "print_result(y_test=y_test,y_pred=y_pred)"
      ],
      "execution_count": 59,
      "outputs": [
        {
          "output_type": "stream",
          "text": [
            "DecisionTreeClassifier(ccp_alpha=0.0, class_weight=None, criterion='gini',\n",
            "                       max_depth=None, max_features=None, max_leaf_nodes=None,\n",
            "                       min_impurity_decrease=0.0, min_impurity_split=None,\n",
            "                       min_samples_leaf=1, min_samples_split=2,\n",
            "                       min_weight_fraction_leaf=0.0, presort='deprecated',\n",
            "                       random_state=21, splitter='best')\n",
            "[0 0 0 ... 0 0 0]\n",
            "Confusion Matrix       : \n",
            " [[15116   241]\n",
            " [  217    12]]\n",
            "Accuracy of Model      :  0.9706146541768254\n",
            "Precision of Model     :  0.04743083003952569\n",
            "Recall of Model        :  0.05240174672489083\n",
            "F1 Score of Model      :  0.049792531120331954\n",
            "ROC_AUC score of Model :  0.5183542887430536\n"
          ],
          "name": "stdout"
        },
        {
          "output_type": "display_data",
          "data": {
            "image/png": "[encoded data removed]",
            "text/plain": [
              "<Figure size 432x288 with 1 Axes>"
            ]
          },
          "metadata": {
            "tags": [],
            "needs_background": "light"
          }
        }
      ]
    },
    {
      "cell_type": "markdown",
      "metadata": {
        "id": "YPb612uH8zQE",
        "colab_type": "text"
      },
      "source": [
        "Hyperparameter Tuning ( Lable Encoding)"
      ]
    },
    {
      "cell_type": "code",
      "metadata": {
        "id": "dtii2-4e8x0h",
        "colab_type": "code",
        "colab": {
          "base_uri": "https://localhost:8080/",
          "height": 517
        },
        "outputId": "00ead830-2ad2-4a80-f6c2-de486eaad375"
      },
      "source": [
        "#Using GridSearch , find the optimal hyperparameters\n",
        "param_grid = {\n",
        "   'max_leaf_nodes': [ 100,200,1000,2000 ],\n",
        "   'class_weight' : ['balanced'],\n",
        "   'criterion' :['entropy','gini'], \n",
        "   'max_depth' : [ 100,500],\n",
        "   'min_samples_split': [2],\n",
        "   'max_features' : [5,8,10]\n",
        "    }\n",
        "CV_dt = GridSearchCV(estimator=dtc, param_grid=param_grid, cv= 3)\n",
        "CV_dt.fit(X_train, y_train)\n",
        "dtc_best = CV_dt.best_estimator_\n",
        "print(dtc_best)\n",
        "y_pred = dtc_best.predict(X_test)\n",
        "print_result(y_test=y_test,y_pred=y_pred)"
      ],
      "execution_count": 60,
      "outputs": [
        {
          "output_type": "stream",
          "text": [
            "DecisionTreeClassifier(ccp_alpha=0.0, class_weight='balanced', criterion='gini',\n",
            "                       max_depth=100, max_features=5, max_leaf_nodes=2000,\n",
            "                       min_impurity_decrease=0.0, min_impurity_split=None,\n",
            "                       min_samples_leaf=1, min_samples_split=2,\n",
            "                       min_weight_fraction_leaf=0.0, presort='deprecated',\n",
            "                       random_state=21, splitter='best')\n",
            "Confusion Matrix       : \n",
            " [[15068   289]\n",
            " [  209    20]]\n",
            "Accuracy of Model      :  0.9680482484280765\n",
            "Precision of Model     :  0.06472491909385113\n",
            "Recall of Model        :  0.08733624454148471\n",
            "F1 Score of Model      :  0.07434944237918216\n",
            "ROC_AUC score of Model :  0.534258732415953\n"
          ],
          "name": "stdout"
        },
        {
          "output_type": "display_data",
          "data": {
            "image/png": "[encoded data removed]",
            "text/plain": [
              "<Figure size 432x288 with 1 Axes>"
            ]
          },
          "metadata": {
            "tags": [],
            "needs_background": "light"
          }
        }
      ]
    },
    {
      "cell_type": "markdown",
      "metadata": {
        "id": "uwG4jFzj3WYU",
        "colab_type": "text"
      },
      "source": [
        "Decision Tree with One hot Encoding "
      ]
    },
    {
      "cell_type": "code",
      "metadata": {
        "id": "tHxeyO7d4Al_",
        "colab_type": "code",
        "colab": {
          "base_uri": "https://localhost:8080/",
          "height": 340
        },
        "outputId": "31ea12ac-3c09-400a-8ba6-f506ae6dfe2f"
      },
      "source": [
        "X_train, X_test, y_train, y_test = train_test_split(ohe_df,target,test_size = 0.25, random_state = 21, stratify = target)\n",
        "print_input(X_train, X_test, y_train, y_test)"
      ],
      "execution_count": 72,
      "outputs": [
        {
          "output_type": "stream",
          "text": [
            "TRAIN(X_train) Feature set        :  46756\n",
            "TRAIN(y_train) Label Feature set  :  46756\n",
            "TEST (X_test)  Feature set        :  15586\n",
            "TEST (y_test)  Label set          :  15586\n",
            "-------For Training Set--------\n",
            "\n",
            "0    46068\n",
            "1      688\n",
            "Name: Claim, dtype: int64\n",
            "Class Label 1 is :  98.52853109761314 %\n",
            "Class Label 0 is :  1.4714689023868595 %\n",
            "\n",
            "-------For Testing Set--------\n",
            "\n",
            "0    15357\n",
            "1      229\n",
            "Name: Claim, dtype: int64\n",
            "Class Label 1 is :  98.53073270884127 %\n",
            "Class Label 0 is :  1.4692672911587321 %\n"
          ],
          "name": "stdout"
        }
      ]
    },
    {
      "cell_type": "code",
      "metadata": {
        "id": "WHh3Uq2Y4Odw",
        "colab_type": "code",
        "colab": {
          "base_uri": "https://localhost:8080/",
          "height": 534
        },
        "outputId": "6e85c070-0124-4d8c-dcf5-102eae716706"
      },
      "source": [
        "dtc = DecisionTreeClassifier(random_state=21)\n",
        "dtc.fit(X_train, y_train)\n",
        "print(dtc)\n",
        "y_pred = dtc.predict(X_test)\n",
        "print(y_pred)\n",
        "print_result(y_test=y_test,y_pred=y_pred)"
      ],
      "execution_count": 62,
      "outputs": [
        {
          "output_type": "stream",
          "text": [
            "DecisionTreeClassifier(ccp_alpha=0.0, class_weight=None, criterion='gini',\n",
            "                       max_depth=None, max_features=None, max_leaf_nodes=None,\n",
            "                       min_impurity_decrease=0.0, min_impurity_split=None,\n",
            "                       min_samples_leaf=1, min_samples_split=2,\n",
            "                       min_weight_fraction_leaf=0.0, presort='deprecated',\n",
            "                       random_state=21, splitter='best')\n",
            "[0 0 0 ... 0 0 0]\n",
            "Confusion Matrix       : \n",
            " [[15115   242]\n",
            " [  213    16]]\n",
            "Accuracy of Model      :  0.9708071346079815\n",
            "Precision of Model     :  0.06201550387596899\n",
            "Recall of Model        :  0.06986899563318777\n",
            "F1 Score of Model      :  0.06570841889117043\n",
            "ROC_AUC score of Model :  0.5270553547547979\n"
          ],
          "name": "stdout"
        },
        {
          "output_type": "display_data",
          "data": {
            "image/png": "[encoded data removed]",
            "text/plain": [
              "<Figure size 432x288 with 1 Axes>"
            ]
          },
          "metadata": {
            "tags": [],
            "needs_background": "light"
          }
        }
      ]
    },
    {
      "cell_type": "markdown",
      "metadata": {
        "id": "smzjc32pnVBx",
        "colab_type": "text"
      },
      "source": [
        "Hyperparameter Tuning ( One Hot Encoding)"
      ]
    },
    {
      "cell_type": "code",
      "metadata": {
        "id": "mA0qqWzHnVcJ",
        "colab_type": "code",
        "colab": {
          "base_uri": "https://localhost:8080/",
          "height": 517
        },
        "outputId": "181ae0f6-f303-4557-f4f3-a70c794688a2"
      },
      "source": [
        "#Using GridSearch , find the optimal hyperparameters\n",
        "param_grid = {\n",
        "   'max_leaf_nodes': [ 800 ],\n",
        "   'class_weight' : ['balanced'],\n",
        "   'criterion' :['gini','entropy'], \n",
        "   'max_depth' : [ 20,50,60],\n",
        "   'min_samples_split': [5,2,6],\n",
        "   'max_features' : [20]\n",
        "    }\n",
        "CV_dt = GridSearchCV(estimator=dtc, param_grid=param_grid, cv= 3)\n",
        "CV_dt.fit(X_train, y_train)\n",
        "dtc_best = CV_dt.best_estimator_\n",
        "print(dtc_best)\n",
        "y_pred = dtc_best.predict(X_test)\n",
        "print_result(y_test=y_test,y_pred=y_pred)"
      ],
      "execution_count": 74,
      "outputs": [
        {
          "output_type": "stream",
          "text": [
            "DecisionTreeClassifier(ccp_alpha=0.0, class_weight='balanced', criterion='gini',\n",
            "                       max_depth=50, max_features=20, max_leaf_nodes=800,\n",
            "                       min_impurity_decrease=0.0, min_impurity_split=None,\n",
            "                       min_samples_leaf=1, min_samples_split=6,\n",
            "                       min_weight_fraction_leaf=0.0, presort='deprecated',\n",
            "                       random_state=21, splitter='best')\n",
            "Confusion Matrix       : \n",
            " [[14010  1347]\n",
            " [  135    94]]\n",
            "Accuracy of Model      :  0.9049146670088541\n",
            "Precision of Model     :  0.0652324774462179\n",
            "Recall of Model        :  0.4104803493449782\n",
            "F1 Score of Model      :  0.1125748502994012\n",
            "ROC_AUC score of Model :  0.6613839527541456\n"
          ],
          "name": "stdout"
        },
        {
          "output_type": "display_data",
          "data": {
            "image/png": "[encoded data removed]",
            "text/plain": [
              "<Figure size 432x288 with 1 Axes>"
            ]
          },
          "metadata": {
            "tags": [],
            "needs_background": "light"
          }
        }
      ]
    },
    {
      "cell_type": "markdown",
      "metadata": {
        "id": "jibaliFcin9U",
        "colab_type": "text"
      },
      "source": [
        "**Without Gender Column (Dropping the Column)**"
      ]
    },
    {
      "cell_type": "code",
      "metadata": {
        "id": "VsIJrLG8l9Dz",
        "colab_type": "code",
        "colab": {
          "base_uri": "https://localhost:8080/",
          "height": 51
        },
        "outputId": "39f58c39-33e1-4c19-80d8-448508a170bc"
      },
      "source": [
        "df_=df_.drop(columns='Gender')\n",
        "# Label Encoding\n",
        "le=LabelEncoder()\n",
        "le_df=pd.DataFrame()\n",
        "for i in list(set(df_.columns)-set(df_._get_numeric_data().columns)):\n",
        "  le_df[i]=le.fit_transform(df_[i])\n",
        "for j in list(df_._get_numeric_data().columns):\n",
        "  le_df[j]=df_[j]\n",
        "print(\"Label Encoded dataset  has {} Rows and {} Columns\".format(le_df.shape[0],le_df.shape[1]))\n",
        "#OneHotEncoding\n",
        "ohe=OneHotEncoder()\n",
        "ohe_df=df_.copy()\n",
        "for i in list(set(df_.columns)-set(df_._get_numeric_data().columns)-{'Claim'}):\n",
        "  ohe_df = pd.get_dummies(ohe_df, columns=[i], prefix=[i] )\n",
        "ohe_df=ohe_df.drop(columns='Claim')\n",
        "print(\"One Hot Encoded dataset  has {} Rows and {} Columns\".format(ohe_df.shape[0],ohe_df.shape[1]))"
      ],
      "execution_count": 64,
      "outputs": [
        {
          "output_type": "stream",
          "text": [
            "Label Encoded dataset  has 62342 Rows and 10 Columns\n",
            "One Hot Encoded dataset  has 62342 Rows and 196 Columns\n"
          ],
          "name": "stdout"
        }
      ]
    },
    {
      "cell_type": "code",
      "metadata": {
        "id": "mo5Y_kogn1wL",
        "colab_type": "code",
        "colab": {}
      },
      "source": [
        "target = pd.DataFrame(le_df['Claim'])\n",
        "le_df=le_df.drop(columns='Claim')"
      ],
      "execution_count": 65,
      "outputs": []
    },
    {
      "cell_type": "markdown",
      "metadata": {
        "id": "oOUoGnTZmIDV",
        "colab_type": "text"
      },
      "source": [
        "Decision Tree with Lable Encoding"
      ]
    },
    {
      "cell_type": "code",
      "metadata": {
        "colab_type": "code",
        "id": "cNamOrdvjak7",
        "colab": {
          "base_uri": "https://localhost:8080/",
          "height": 340
        },
        "outputId": "64264700-2b15-41b5-c570-71ae51b89892"
      },
      "source": [
        "X_train, X_test, y_train, y_test = train_test_split(le_df,target,test_size = 0.25, random_state = 21, stratify = target)\n",
        "print_input(X_train, X_test, y_train, y_test)"
      ],
      "execution_count": 66,
      "outputs": [
        {
          "output_type": "stream",
          "text": [
            "TRAIN(X_train) Feature set        :  46756\n",
            "TRAIN(y_train) Label Feature set  :  46756\n",
            "TEST (X_test)  Feature set        :  15586\n",
            "TEST (y_test)  Label set          :  15586\n",
            "-------For Training Set--------\n",
            "\n",
            "0    46068\n",
            "1      688\n",
            "Name: Claim, dtype: int64\n",
            "Class Label 1 is :  98.52853109761314 %\n",
            "Class Label 0 is :  1.4714689023868595 %\n",
            "\n",
            "-------For Testing Set--------\n",
            "\n",
            "0    15357\n",
            "1      229\n",
            "Name: Claim, dtype: int64\n",
            "Class Label 1 is :  98.53073270884127 %\n",
            "Class Label 0 is :  1.4692672911587321 %\n"
          ],
          "name": "stdout"
        }
      ]
    },
    {
      "cell_type": "code",
      "metadata": {
        "colab_type": "code",
        "id": "vK6MtsisjalH",
        "colab": {
          "base_uri": "https://localhost:8080/",
          "height": 534
        },
        "outputId": "5bcbc493-961a-4662-a813-a17178b85d0b"
      },
      "source": [
        "dtc = DecisionTreeClassifier(random_state=21)\n",
        "dtc.fit(X_train, y_train)\n",
        "print(dtc)\n",
        "y_pred = dtc.predict(X_test)\n",
        "print(y_pred)\n",
        "print_result(y_test=y_test,y_pred=y_pred)"
      ],
      "execution_count": 67,
      "outputs": [
        {
          "output_type": "stream",
          "text": [
            "DecisionTreeClassifier(ccp_alpha=0.0, class_weight=None, criterion='gini',\n",
            "                       max_depth=None, max_features=None, max_leaf_nodes=None,\n",
            "                       min_impurity_decrease=0.0, min_impurity_split=None,\n",
            "                       min_samples_leaf=1, min_samples_split=2,\n",
            "                       min_weight_fraction_leaf=0.0, presort='deprecated',\n",
            "                       random_state=21, splitter='best')\n",
            "[0 0 0 ... 0 0 0]\n",
            "Confusion Matrix       : \n",
            " [[15121   236]\n",
            " [  214    15]]\n",
            "Accuracy of Model      :  0.9711279353265752\n",
            "Precision of Model     :  0.05976095617529881\n",
            "Recall of Model        :  0.06550218340611354\n",
            "F1 Score of Model      :  0.06250000000000001\n",
            "ROC_AUC score of Model :  0.5250672992956855\n"
          ],
          "name": "stdout"
        },
        {
          "output_type": "display_data",
          "data": {
            "image/png": "[encoded data removed]",
            "text/plain": [
              "<Figure size 432x288 with 1 Axes>"
            ]
          },
          "metadata": {
            "tags": [],
            "needs_background": "light"
          }
        }
      ]
    },
    {
      "cell_type": "markdown",
      "metadata": {
        "id": "UrSIngConjON",
        "colab_type": "text"
      },
      "source": [
        "Hyperparameter Tuning ( Lable Encoding)"
      ]
    },
    {
      "cell_type": "code",
      "metadata": {
        "id": "0i3wp_Fmnk21",
        "colab_type": "code",
        "colab": {
          "base_uri": "https://localhost:8080/",
          "height": 517
        },
        "outputId": "b409c609-cce2-4a3e-94ee-550650b6a618"
      },
      "source": [
        "#Using GridSearch , find the optimal hyperparameters\n",
        "param_grid = {\n",
        "   'max_leaf_nodes': [ 1000,1200,1300 ],\n",
        "   'class_weight' : ['balanced'],\n",
        "   'criterion' :['gini','entropy'], \n",
        "   'max_depth' : [ 100,200],\n",
        "   'min_samples_split': [2,3],\n",
        "   'max_features' : [2,5,8]\n",
        "    }\n",
        "CV_dt = GridSearchCV(estimator=dtc, param_grid=param_grid, cv= 3)\n",
        "CV_dt.fit(X_train, y_train)\n",
        "dtc_best = CV_dt.best_estimator_\n",
        "print(dtc_best)\n",
        "y_pred = dtc_best.predict(X_test)\n",
        "print_result(y_test=y_test,y_pred=y_pred)"
      ],
      "execution_count": 68,
      "outputs": [
        {
          "output_type": "stream",
          "text": [
            "DecisionTreeClassifier(ccp_alpha=0.0, class_weight='balanced',\n",
            "                       criterion='entropy', max_depth=100, max_features=8,\n",
            "                       max_leaf_nodes=1300, min_impurity_decrease=0.0,\n",
            "                       min_impurity_split=None, min_samples_leaf=1,\n",
            "                       min_samples_split=2, min_weight_fraction_leaf=0.0,\n",
            "                       presort='deprecated', random_state=21, splitter='best')\n",
            "Confusion Matrix       : \n",
            " [[14826   531]\n",
            " [  198    31]]\n",
            "Accuracy of Model      :  0.9532272552290517\n",
            "Precision of Model     :  0.05516014234875445\n",
            "Recall of Model        :  0.13537117903930132\n",
            "F1 Score of Model      :  0.07838179519595449\n",
            "ROC_AUC score of Model :  0.5503970566030654\n"
          ],
          "name": "stdout"
        },
        {
          "output_type": "display_data",
          "data": {
            "image/png": "[encoded data removed]",
            "text/plain": [
              "<Figure size 432x288 with 1 Axes>"
            ]
          },
          "metadata": {
            "tags": [],
            "needs_background": "light"
          }
        }
      ]
    },
    {
      "cell_type": "markdown",
      "metadata": {
        "colab_type": "text",
        "id": "SMLDZ8ZPjalW"
      },
      "source": [
        "Decision Tree with One hot Encoding "
      ]
    },
    {
      "cell_type": "code",
      "metadata": {
        "colab_type": "code",
        "id": "4N-ChEe3jald",
        "colab": {
          "base_uri": "https://localhost:8080/",
          "height": 340
        },
        "outputId": "cc232ef3-190d-4c25-aa5c-8cf0a615c0f8"
      },
      "source": [
        "X_train, X_test, y_train, y_test = train_test_split(ohe_df,target,test_size = 0.25, random_state = 21, stratify = target)\n",
        "print_input(X_train, X_test, y_train, y_test)"
      ],
      "execution_count": 69,
      "outputs": [
        {
          "output_type": "stream",
          "text": [
            "TRAIN(X_train) Feature set        :  46756\n",
            "TRAIN(y_train) Label Feature set  :  46756\n",
            "TEST (X_test)  Feature set        :  15586\n",
            "TEST (y_test)  Label set          :  15586\n",
            "-------For Training Set--------\n",
            "\n",
            "0    46068\n",
            "1      688\n",
            "Name: Claim, dtype: int64\n",
            "Class Label 1 is :  98.52853109761314 %\n",
            "Class Label 0 is :  1.4714689023868595 %\n",
            "\n",
            "-------For Testing Set--------\n",
            "\n",
            "0    15357\n",
            "1      229\n",
            "Name: Claim, dtype: int64\n",
            "Class Label 1 is :  98.53073270884127 %\n",
            "Class Label 0 is :  1.4692672911587321 %\n"
          ],
          "name": "stdout"
        }
      ]
    },
    {
      "cell_type": "code",
      "metadata": {
        "colab_type": "code",
        "id": "qwkdA57ojalj",
        "colab": {
          "base_uri": "https://localhost:8080/",
          "height": 534
        },
        "outputId": "684c8970-7376-4952-eae1-56465eacd7c4"
      },
      "source": [
        "dtc = DecisionTreeClassifier(random_state=21)\n",
        "dtc.fit(X_train, y_train)\n",
        "print(dtc)\n",
        "y_pred = dtc.predict(X_test)\n",
        "print(y_pred)\n",
        "print_result(y_test=y_test,y_pred=y_pred)"
      ],
      "execution_count": 70,
      "outputs": [
        {
          "output_type": "stream",
          "text": [
            "DecisionTreeClassifier(ccp_alpha=0.0, class_weight=None, criterion='gini',\n",
            "                       max_depth=None, max_features=None, max_leaf_nodes=None,\n",
            "                       min_impurity_decrease=0.0, min_impurity_split=None,\n",
            "                       min_samples_leaf=1, min_samples_split=2,\n",
            "                       min_weight_fraction_leaf=0.0, presort='deprecated',\n",
            "                       random_state=21, splitter='best')\n",
            "[0 0 0 ... 0 0 0]\n",
            "Confusion Matrix       : \n",
            " [[15104   253]\n",
            " [  212    17]]\n",
            "Accuracy of Model      :  0.9701655331707943\n",
            "Precision of Model     :  0.06296296296296296\n",
            "Recall of Model        :  0.07423580786026202\n",
            "F1 Score of Model      :  0.06813627254509018\n",
            "ROC_AUC score of Model :  0.5288806180018899\n"
          ],
          "name": "stdout"
        },
        {
          "output_type": "display_data",
          "data": {
            "image/png": "[encoded data removed]",
            "text/plain": [
              "<Figure size 432x288 with 1 Axes>"
            ]
          },
          "metadata": {
            "tags": [],
            "needs_background": "light"
          }
        }
      ]
    },
    {
      "cell_type": "markdown",
      "metadata": {
        "id": "_abtzwpnnfY0",
        "colab_type": "text"
      },
      "source": [
        "Hyperparameter Tuning ( One Hot Encoding)"
      ]
    },
    {
      "cell_type": "code",
      "metadata": {
        "id": "Y_LZSNOvnf5Y",
        "colab_type": "code",
        "colab": {
          "base_uri": "https://localhost:8080/",
          "height": 517
        },
        "outputId": "383abfb4-b77f-4b00-9cae-e030b64f9d5a"
      },
      "source": [
        "#Using GridSearch , find the optimal hyperparameters\n",
        "param_grid = {\n",
        "   'max_leaf_nodes': [ 2000],\n",
        "   'class_weight' : ['balanced'],\n",
        "   'criterion' :['gini','entropy'], \n",
        "   'max_depth' : [ 20,100,60],\n",
        "   'min_samples_split': [4,2,6],\n",
        "   'max_features' : [5,20,50,100]\n",
        "    }\n",
        "CV_dt = GridSearchCV(estimator=dtc, param_grid=param_grid, cv= 3)\n",
        "CV_dt.fit(X_train, y_train)\n",
        "dtc_best = CV_dt.best_estimator_\n",
        "print(dtc_best)\n",
        "y_pred = dtc_best.predict(X_test)\n",
        "print_result(y_test=y_test,y_pred=y_pred)"
      ],
      "execution_count": 71,
      "outputs": [
        {
          "output_type": "stream",
          "text": [
            "DecisionTreeClassifier(ccp_alpha=0.0, class_weight='balanced', criterion='gini',\n",
            "                       max_depth=100, max_features=5, max_leaf_nodes=2000,\n",
            "                       min_impurity_decrease=0.0, min_impurity_split=None,\n",
            "                       min_samples_leaf=1, min_samples_split=2,\n",
            "                       min_weight_fraction_leaf=0.0, presort='deprecated',\n",
            "                       random_state=21, splitter='best')\n",
            "Confusion Matrix       : \n",
            " [[14663   694]\n",
            " [  165    64]]\n",
            "Accuracy of Model      :  0.9448864365456179\n",
            "Precision of Model     :  0.08443271767810026\n",
            "Recall of Model        :  0.2794759825327511\n",
            "F1 Score of Model      :  0.12968591691995948\n",
            "ROC_AUC score of Model :  0.6171424322379194\n"
          ],
          "name": "stdout"
        },
        {
          "output_type": "display_data",
          "data": {
            "image/png": "[encoded data removed]",
            "text/plain": [
              "<Figure size 432x288 with 1 Axes>"
            ]
          },
          "metadata": {
            "tags": [],
            "needs_background": "light"
          }
        }
      ]
    }
  ]
}