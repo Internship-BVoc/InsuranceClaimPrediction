{
  "nbformat": 4,
  "nbformat_minor": 0,
  "metadata": {
    "colab": {
      "name": "Combined_Project.ipynb",
      "provenance": [],
      "collapsed_sections": [
        "36kuDuSGPILa",
        "yBPVDLa6PO11"
      ],
      "toc_visible": true
    },
    "kernelspec": {
      "name": "python3",
      "display_name": "Python 3"
    }
  },
  "cells": [
    {
      "cell_type": "markdown",
      "metadata": {
        "id": "glZxHnf3OEr-",
        "colab_type": "text"
      },
      "source": [
        "## Predicting Insurance Claims filed by Travelling Agencies"
      ]
    },
    {
      "cell_type": "code",
      "metadata": {
        "id": "FSmQF3hef56U",
        "colab_type": "code",
        "colab": {
          "base_uri": "https://localhost:8080/",
          "height": 71
        },
        "outputId": "d6ae229e-a715-41fb-a0e5-ee2ad36d9516"
      },
      "source": [
        "import pandas as pd\n",
        "import numpy as np\n",
        "from scipy import *\n",
        "from sklearn.preprocessing import LabelEncoder\n",
        "from sklearn.preprocessing import OneHotEncoder\n",
        "from sklearn.preprocessing import *\n",
        "from sklearn.model_selection import GridSearchCV\n",
        "from sklearn.model_selection import *\n",
        "from sklearn.tree import DecisionTreeClassifier\n",
        "from sklearn.linear_model import LogisticRegression\n",
        "from sklearn.ensemble import RandomForestClassifier\n",
        "from sklearn.metrics import *\n",
        "from sklearn.decomposition import PCA\n",
        "import matplotlib.pyplot as plt\n",
        "import seaborn as sns"
      ],
      "execution_count": 1,
      "outputs": [
        {
          "output_type": "stream",
          "text": [
            "/usr/local/lib/python3.6/dist-packages/statsmodels/tools/_testing.py:19: FutureWarning: pandas.util.testing is deprecated. Use the functions in the public API at pandas.testing instead.\n",
            "  import pandas.util.testing as tm\n"
          ],
          "name": "stderr"
        }
      ]
    },
    {
      "cell_type": "code",
      "metadata": {
        "id": "QHEf0BToV3oW",
        "colab_type": "code",
        "colab": {
          "base_uri": "https://localhost:8080/",
          "height": 105
        },
        "outputId": "e30c0a8c-4e86-48ac-a635-d6cf1b10b472"
      },
      "source": [
        "from imblearn.over_sampling import RandomOverSampler, SMOTE, ADASYN\n",
        "from imblearn.under_sampling import RandomUnderSampler, TomekLinks\n",
        "from collections import Counter"
      ],
      "execution_count": 2,
      "outputs": [
        {
          "output_type": "stream",
          "text": [
            "/usr/local/lib/python3.6/dist-packages/sklearn/externals/six.py:31: FutureWarning: The module is deprecated in version 0.21 and will be removed in version 0.23 since we've dropped support for Python 2.7. Please rely on the official version of six (https://pypi.org/project/six/).\n",
            "  \"(https://pypi.org/project/six/).\", FutureWarning)\n",
            "/usr/local/lib/python3.6/dist-packages/sklearn/utils/deprecation.py:144: FutureWarning: The sklearn.neighbors.base module is  deprecated in version 0.22 and will be removed in version 0.24. The corresponding classes / functions should instead be imported from sklearn.neighbors. Anything that cannot be imported from sklearn.neighbors is now part of the private API.\n",
            "  warnings.warn(message, FutureWarning)\n"
          ],
          "name": "stderr"
        }
      ]
    },
    {
      "cell_type": "code",
      "metadata": {
        "id": "ptKPd1nQk-hP",
        "colab_type": "code",
        "colab": {}
      },
      "source": [
        "# import warnings\n",
        "# from sklearn.exceptions import DataConversionWarning\n",
        "# warnings.filterwarnings(action='ignore', category=DataConversionWarning)\n",
        "# from sklearn.exceptions import ConvergenceWarning\n",
        "# warnings.filterwarnings(\"ignore\", category=ConvergenceWarning)\n",
        "# from sklearn.exceptions import FitFailedWarning\n",
        "# warnings.filterwarnings(\"ignore\", category=FitFailedWarning)\n",
        "import warnings\n",
        "warnings.simplefilter(action='ignore', category=FutureWarning)"
      ],
      "execution_count": 3,
      "outputs": []
    },
    {
      "cell_type": "code",
      "metadata": {
        "id": "67J8DXfog29H",
        "colab_type": "code",
        "colab": {
          "base_uri": "https://localhost:8080/",
          "height": 122
        },
        "outputId": "5d7f97bf-f7e5-465a-e042-0f87a0576d1f"
      },
      "source": [
        "df=pd.read_csv('travel insurance.csv',sep=',')\n",
        "row,column=df.shape\n",
        "print(\"The dataset has {} Rows and {} Columns\".format(row,column))\n",
        "print('')\n",
        "cols=list(df.columns)\n",
        "continous=list(set(df._get_numeric_data().columns)-{'Duration','Age'})\n",
        "print(\"Columns : \",cols)\n",
        "print(\"Continous Variables   : \",continous)\n",
        "categorical=list(set(cols)-set(continous))\n",
        "print(\"Categorical Variables : \",categorical)\n",
        "# Duration and Age are categorical ( done in EDA part [Ayush_Project.ipynb] )\n",
        "df_=df.copy()\n",
        "df_['Gender']=df_['Gender'].fillna('N')"
      ],
      "execution_count": 4,
      "outputs": [
        {
          "output_type": "stream",
          "text": [
            "The dataset has 63326 Rows and 11 Columns\n",
            "\n",
            "Columns :  ['Agency', 'Agency Type', 'Distribution Channel', 'Product Name', 'Claim', 'Duration', 'Destination', 'Net Sales', 'Commision (in value)', 'Gender', 'Age']\n",
            "Continous Variables   :  ['Net Sales', 'Commision (in value)']\n",
            "Categorical Variables :  ['Destination', 'Agency', 'Distribution Channel', 'Gender', 'Product Name', 'Agency Type', 'Age', 'Duration', 'Claim']\n"
          ],
          "name": "stdout"
        }
      ]
    },
    {
      "cell_type": "code",
      "metadata": {
        "id": "cXzD62-J3lf5",
        "colab_type": "code",
        "colab": {}
      },
      "source": [
        "a=list(df_['Destination'].unique())\n",
        "aa=list(df_['Agency'].unique())"
      ],
      "execution_count": 5,
      "outputs": []
    },
    {
      "cell_type": "code",
      "metadata": {
        "id": "NYS69s06hlTJ",
        "colab_type": "code",
        "colab": {
          "base_uri": "https://localhost:8080/",
          "height": 51
        },
        "outputId": "7655afeb-4b39-4ff3-9f4e-50c98eb6706c"
      },
      "source": [
        "df_ = df_[df_.Age != 118]\n",
        "df_ = df_[df_.Duration >=0]\n",
        "df_.loc[df_['Net Sales'] == 0.0, 'Commision (in value)'] = 0\n",
        "print(\"Now the dataset  has {} Rows and {} Columns\".format(df_.shape[0],df_.shape[1]))\n",
        "print(\"%d records deleted from the dataset\"%(df.shape[0]-df_.shape[0]))\n",
        "df_=df_.reset_index().drop(columns='index')\n",
        "df1=df_.copy()"
      ],
      "execution_count": 6,
      "outputs": [
        {
          "output_type": "stream",
          "text": [
            "Now the dataset  has 62342 Rows and 11 Columns\n",
            "984 records deleted from the dataset\n"
          ],
          "name": "stdout"
        }
      ]
    },
    {
      "cell_type": "code",
      "metadata": {
        "id": "Gh1JzA4f1P1U",
        "colab_type": "code",
        "colab": {}
      },
      "source": [
        "b=list(df_['Destination'].unique())\n",
        "bb=list(df_['Agency'].unique())"
      ],
      "execution_count": 7,
      "outputs": []
    },
    {
      "cell_type": "code",
      "metadata": {
        "id": "2ryjRbCg1sZH",
        "colab_type": "code",
        "colab": {
          "base_uri": "https://localhost:8080/",
          "height": 68
        },
        "outputId": "bc5fd92e-9fcc-42ce-a57c-235ac37f2a48"
      },
      "source": [
        "new=[]\n",
        "for i in a :\n",
        "  if(i not in list(b)):\n",
        "    print(i)\n",
        "    new.append(i)\n",
        "for i in aa:\n",
        "  if(i not in list(bb)):\n",
        "    print(i)\n",
        "    new.append(i)"
      ],
      "execution_count": 8,
      "outputs": [
        {
          "output_type": "stream",
          "text": [
            "KOREA, DEMOCRATIC PEOPLE'S REPUBLIC OF\n",
            "TIBET\n",
            "JWT\n"
          ],
          "name": "stdout"
        }
      ]
    },
    {
      "cell_type": "code",
      "metadata": {
        "id": "2GLhJME14RXM",
        "colab_type": "code",
        "colab": {
          "base_uri": "https://localhost:8080/",
          "height": 196
        },
        "outputId": "74b089e4-4cfa-433b-bd82-df53b465c885"
      },
      "source": [
        "df.loc[df['Destination'].isin(new) ]#| df['Agency'].isin(new)]"
      ],
      "execution_count": 9,
      "outputs": [
        {
          "output_type": "execute_result",
          "data": {
            "text/html": [
              "<div>\n",
              "<style scoped>\n",
              "    .dataframe tbody tr th:only-of-type {\n",
              "        vertical-align: middle;\n",
              "    }\n",
              "\n",
              "    .dataframe tbody tr th {\n",
              "        vertical-align: top;\n",
              "    }\n",
              "\n",
              "    .dataframe thead th {\n",
              "        text-align: right;\n",
              "    }\n",
              "</style>\n",
              "<table border=\"1\" class=\"dataframe\">\n",
              "  <thead>\n",
              "    <tr style=\"text-align: right;\">\n",
              "      <th></th>\n",
              "      <th>Agency</th>\n",
              "      <th>Agency Type</th>\n",
              "      <th>Distribution Channel</th>\n",
              "      <th>Product Name</th>\n",
              "      <th>Claim</th>\n",
              "      <th>Duration</th>\n",
              "      <th>Destination</th>\n",
              "      <th>Net Sales</th>\n",
              "      <th>Commision (in value)</th>\n",
              "      <th>Gender</th>\n",
              "      <th>Age</th>\n",
              "    </tr>\n",
              "  </thead>\n",
              "  <tbody>\n",
              "    <tr>\n",
              "      <th>10</th>\n",
              "      <td>JZI</td>\n",
              "      <td>Airlines</td>\n",
              "      <td>Online</td>\n",
              "      <td>Basic Plan</td>\n",
              "      <td>No</td>\n",
              "      <td>33</td>\n",
              "      <td>KOREA, DEMOCRATIC PEOPLE'S REPUBLIC OF</td>\n",
              "      <td>-26.0</td>\n",
              "      <td>9.1</td>\n",
              "      <td>NaN</td>\n",
              "      <td>118</td>\n",
              "    </tr>\n",
              "    <tr>\n",
              "      <th>56265</th>\n",
              "      <td>EPX</td>\n",
              "      <td>Travel Agency</td>\n",
              "      <td>Offline</td>\n",
              "      <td>2 way Comprehensive Plan</td>\n",
              "      <td>No</td>\n",
              "      <td>29</td>\n",
              "      <td>TIBET</td>\n",
              "      <td>24.0</td>\n",
              "      <td>0.0</td>\n",
              "      <td>NaN</td>\n",
              "      <td>118</td>\n",
              "    </tr>\n",
              "  </tbody>\n",
              "</table>\n",
              "</div>"
            ],
            "text/plain": [
              "      Agency    Agency Type  ... Gender  Age\n",
              "10       JZI       Airlines  ...    NaN  118\n",
              "56265    EPX  Travel Agency  ...    NaN  118\n",
              "\n",
              "[2 rows x 11 columns]"
            ]
          },
          "metadata": {
            "tags": []
          },
          "execution_count": 9
        }
      ]
    },
    {
      "cell_type": "code",
      "metadata": {
        "id": "eKIOKnVkTnPd",
        "colab_type": "code",
        "colab": {
          "base_uri": "https://localhost:8080/",
          "height": 34
        },
        "outputId": "df9c5de7-c549-400f-d704-1d7e37b5c52b"
      },
      "source": [
        "# Label Encoding\n",
        "le=LabelEncoder()\n",
        "le_df=pd.DataFrame()\n",
        "for i in list(set(df_.columns)-set(df_._get_numeric_data().columns)):\n",
        "  le_df[i]=le.fit_transform(df_[i])\n",
        "for j in list(df_._get_numeric_data().columns):\n",
        "  le_df[j]=df_[j]\n",
        "print(\"Label Encoded dataset  has {} Rows and {} Columns\".format(le_df.shape[0],le_df.shape[1]))"
      ],
      "execution_count": 10,
      "outputs": [
        {
          "output_type": "stream",
          "text": [
            "Label Encoded dataset  has 62342 Rows and 11 Columns\n"
          ],
          "name": "stdout"
        }
      ]
    },
    {
      "cell_type": "code",
      "metadata": {
        "id": "Zod_9ueDVNu_",
        "colab_type": "code",
        "colab": {
          "base_uri": "https://localhost:8080/",
          "height": 156
        },
        "outputId": "12b859de-ace3-47d2-9656-8bd59c0df409"
      },
      "source": [
        "relation=dict()\n",
        "for l in list(set(df_.columns)-set(df_._get_numeric_data().columns)):\n",
        "  indx=[]\n",
        "  for x in df_[l].unique():\n",
        "    #print(x,' ',df_.index[df_[l] == x].tolist()[0])\n",
        "    indx.append(df_.index[df_[l] == x].tolist()[0])\n",
        "  dic=dict(zip(le_df.loc[indx][l].to_list(),df_.loc[indx][l].to_list()))\n",
        "  relation[l]=dic\n",
        "  print(dic)"
      ],
      "execution_count": 11,
      "outputs": [
        {
          "output_type": "stream",
          "text": [
            "{78: 'MALAYSIA', 4: 'AUSTRALIA', 61: 'ITALY', 138: 'UNITED STATES', 128: 'THAILAND', 95: 'NORWAY', 143: 'VIET NAM', 32: 'DENMARK', 117: 'SINGAPORE', 63: 'JAPAN', 137: 'UNITED KINGDOM', 57: 'INDONESIA', 56: 'INDIA', 26: 'CHINA', 41: 'FRANCE', 125: 'TAIWAN, PROVINCE OF CHINA', 101: 'PHILIPPINES', 87: 'MYANMAR', 53: 'HONG KONG', 67: 'KOREA, REPUBLIC OF', 136: 'UNITED ARAB EMIRATES', 88: 'NAMIBIA', 92: 'NEW ZEALAND', 28: 'COSTA RICA', 19: 'BRUNEI DARUSSALAM', 102: 'POLAND', 121: 'SPAIN', 31: 'CZECH REPUBLIC', 44: 'GERMANY', 122: 'SRI LANKA', 21: 'CAMBODIA', 5: 'AUSTRIA', 120: 'SOUTH AFRICA', 127: 'TANZANIA, UNITED REPUBLIC OF', 70: \"LAO PEOPLE'S DEMOCRATIC REPUBLIC\", 89: 'NEPAL', 90: 'NETHERLANDS', 76: 'MACAO', 29: 'CROATIA', 40: 'FINLAND', 23: 'CANADA', 130: 'TUNISIA', 109: 'RUSSIAN FEDERATION', 46: 'GREECE', 11: 'BELGIUM', 59: 'IRELAND', 124: 'SWITZERLAND', 25: 'CHILE', 60: 'ISRAEL', 8: 'BANGLADESH', 55: 'ICELAND', 103: 'PORTUGAL', 108: 'ROMANIA', 66: 'KENYA', 43: 'GEORGIA', 131: 'TURKEY', 123: 'SWEDEN', 79: 'MALDIVES', 36: 'ESTONIA', 112: 'SAUDI ARABIA', 97: 'PAKISTAN', 105: 'QATAR', 100: 'PERU', 75: 'LUXEMBOURG', 85: 'MONGOLIA', 2: 'ARGENTINA', 30: 'CYPRUS', 39: 'FIJI', 9: 'BARBADOS', 129: 'TRINIDAD AND TOBAGO', 37: 'ETHIOPIA', 99: 'PAPUA NEW GUINEA', 114: 'SERBIA', 64: 'JORDAN', 34: 'ECUADOR', 12: 'BENIN', 96: 'OMAN', 7: 'BAHRAIN', 134: 'UGANDA', 18: 'BRAZIL', 83: 'MEXICO', 54: 'HUNGARY', 6: 'AZERBAIJAN', 86: 'MOROCCO', 139: 'URUGUAY', 82: 'MAURITIUS', 62: 'JAMAICA', 65: 'KAZAKHSTAN', 45: 'GHANA', 140: 'UZBEKISTAN', 118: 'SLOVENIA', 68: 'KUWAIT', 48: 'GUAM', 20: 'BULGARIA', 74: 'LITHUANIA', 91: 'NEW CALEDONIA', 35: 'EGYPT', 3: 'ARMENIA', 15: 'BOLIVIA', 144: 'VIRGIN ISLANDS, U.S.', 98: 'PANAMA', 116: 'SIERRA LEONE', 27: 'COLOMBIA', 104: 'PUERTO RICO', 135: 'UKRAINE', 50: 'GUINEA', 47: 'GUADELOUPE', 84: 'MOLDOVA, REPUBLIC OF', 52: 'GUYANA', 71: 'LATVIA', 146: 'ZIMBABWE', 141: 'VANUATU', 142: 'VENEZUELA', 17: 'BOTSWANA', 13: 'BERMUDA', 80: 'MALI', 69: 'KYRGYZSTAN', 24: 'CAYMAN ISLANDS', 81: 'MALTA', 72: 'LEBANON', 107: 'REUNION', 115: 'SEYCHELLES', 145: 'ZAMBIA', 111: 'SAMOA', 94: 'NORTHERN MARIANA ISLANDS', 93: 'NIGERIA', 33: 'DOMINICAN REPUBLIC', 126: 'TAJIKISTAN', 0: 'ALBANIA', 77: 'MACEDONIA, THE FORMER YUGOSLAV REPUBLIC OF', 73: 'LIBYAN ARAB JAMAHIRIYA', 1: 'ANGOLA', 10: 'BELARUS', 133: 'TURKS AND CAICOS ISLANDS', 38: 'FAROE ISLANDS', 132: 'TURKMENISTAN', 51: 'GUINEA-BISSAU', 22: 'CAMEROON', 14: 'BHUTAN', 110: 'RWANDA', 119: 'SOLOMON ISLANDS', 58: 'IRAN, ISLAMIC REPUBLIC OF', 49: 'GUATEMALA', 42: 'FRENCH POLYNESIA', 113: 'SENEGAL', 106: 'REPUBLIC OF MONTENEGRO', 16: 'BOSNIA AND HERZEGOVINA'}\n",
            "{3: 'CBH', 6: 'CWT', 8: 'JZI', 9: 'KML', 7: 'EPX', 2: 'C2B', 11: 'RAB', 12: 'SSI', 1: 'ART', 5: 'CSR', 4: 'CCR', 0: 'ADM', 10: 'LWC', 14: 'TTW', 13: 'TST'}\n",
            "{0: 'Offline', 1: 'Online'}\n",
            "{0: 'F', 2: 'N', 1: 'M'}\n",
            "{12: 'Comprehensive Plan', 16: 'Rental Vehicle Excess Insurance', 25: 'Value Plan', 8: 'Basic Plan', 15: 'Premier Plan', 1: '2 way Comprehensive Plan', 9: 'Bronze Plan', 17: 'Silver Plan', 4: 'Annual Silver Plan', 10: 'Cancellation Plan', 0: '1 way Comprehensive Plan', 22: 'Ticket Protector', 2: '24 Protect', 13: 'Gold Plan', 3: 'Annual Gold Plan', 20: 'Single Trip Travel Protect Silver', 14: 'Individual Comprehensive Plan', 21: 'Spouse or Parents Comprehensive Plan', 7: 'Annual Travel Protect Silver', 19: 'Single Trip Travel Protect Platinum', 5: 'Annual Travel Protect Gold', 18: 'Single Trip Travel Protect Gold', 6: 'Annual Travel Protect Platinum', 11: 'Child Comprehensive Plan', 23: 'Travel Cruise Protect', 24: 'Travel Cruise Protect Family'}\n",
            "{1: 'Travel Agency', 0: 'Airlines'}\n",
            "{0: 'No', 1: 'Yes'}\n"
          ],
          "name": "stdout"
        }
      ]
    },
    {
      "cell_type": "code",
      "metadata": {
        "id": "vHo0N50fZvKT",
        "colab_type": "code",
        "colab": {
          "base_uri": "https://localhost:8080/",
          "height": 34
        },
        "outputId": "5aac1afc-8be6-4858-e5bb-36acf4ccef14"
      },
      "source": [
        "#OneHotEncoding\n",
        "ohe=OneHotEncoder()\n",
        "ohe_df=df_.copy()\n",
        "for i in list(set(df_.columns)-set(df_._get_numeric_data().columns)-{'Claim'}):\n",
        "  ohe_df = pd.get_dummies(ohe_df, columns=[i], prefix=[i] )\n",
        "ohe_df=ohe_df.drop(columns='Claim')\n",
        "print(\"One Hot Encoded dataset  has {} Rows and {} Columns\".format(ohe_df.shape[0],ohe_df.shape[1]))"
      ],
      "execution_count": 12,
      "outputs": [
        {
          "output_type": "stream",
          "text": [
            "One Hot Encoded dataset  has 62342 Rows and 199 Columns\n"
          ],
          "name": "stdout"
        }
      ]
    },
    {
      "cell_type": "code",
      "metadata": {
        "id": "m1xB8ekNcrNa",
        "colab_type": "code",
        "colab": {}
      },
      "source": [
        "# Function to print the result after the prediction \n",
        "def print_result(y_test,y_pred):\n",
        "  print(\"Confusion Matrix       : \\n\" ,confusion_matrix(y_test,y_pred))\n",
        "  print(\"Accuracy of Model      : \",accuracy_score(y_test, y_pred))\n",
        "  print(\"Precision of Model     : \",precision_score(y_test, y_pred))\n",
        "  print(\"Recall of Model        : \" , recall_score(y_test, y_pred))\n",
        "  print(\"F1 Score of Model      : \" ,f1_score(y_test, y_pred))\n",
        "  print(\"ROC_AUC score of Model : \" ,roc_auc_score(y_test,y_pred))\t\n",
        "  fpr, tpr, thresholds = roc_curve(y_test,y_pred)\n",
        "  plt.figure(1)\n",
        "  plt.plot([0, 1], [0, 1], 'k--')\n",
        "  plt.plot(fpr, tpr, label='ROC curve (area = %0.2f)'% roc_auc_score(y_test,y_pred))\n",
        "  plt.xlabel('False Positive Rate')\n",
        "  plt.ylabel('True Positive Rate')\n",
        "  plt.legend(loc='best')"
      ],
      "execution_count": 13,
      "outputs": []
    },
    {
      "cell_type": "code",
      "metadata": {
        "id": "I7d1sYvUhdoY",
        "colab_type": "code",
        "colab": {}
      },
      "source": [
        "# Funtion to print the details after train-test split\n",
        "def print_input(X_train, X_test, y_train, y_test):\n",
        "  print(\"TRAIN(X_train) Feature set        : \",len(X_train))\n",
        "  print(\"TRAIN(y_train) Label Feature set  : \",len(y_train))\n",
        "  print(\"TEST (X_test)  Feature set        : \",len(X_test))\n",
        "  print(\"TEST (y_test)  Label set          : \",len(y_test))\n",
        "  print(\"-------For Training Set--------\\n\")\n",
        "  print(y_train['Claim'].value_counts())\n",
        "  l_1,l_2= y_train['Claim'].value_counts()\n",
        "  print(\"Class Label 0 is : \",(l_1/y_train.shape[0])*100,\"%\")\n",
        "  print(\"Class Label 1 is : \",(l_2/y_train.shape[0])*100,\"%\")\n",
        "  print(\"\\n-------For Testing Set--------\\n\")\n",
        "  print(y_test['Claim'].value_counts())\n",
        "  l_1,l_2= y_test['Claim'].value_counts()\n",
        "  print(\"Class Label 0 is : \",(l_1/y_test.shape[0])*100,\"%\")\n",
        "  print(\"Class Label 1 is : \",(l_2/y_test.shape[0])*100,\"%\")"
      ],
      "execution_count": 14,
      "outputs": []
    },
    {
      "cell_type": "code",
      "metadata": {
        "id": "gpKq0imUU95O",
        "colab_type": "code",
        "colab": {}
      },
      "source": [
        "# Function to balance the imbalanced classes \n",
        "def balance(X_train,y_train,typ,s=0.3):\n",
        "  if(typ.lower() == 'ros'):\n",
        "    rus=RandomOverSampler(random_state=21)\n",
        "    x_res, y_res = rus.fit_sample(X_train, y_train)\n",
        "    print('Dataset shape after Random Over Sampling', Counter(y_res))\n",
        "    print('After ROS the number of Rows Training set has are  : ', x_res.shape[0])\n",
        "  elif(typ.lower() == 'rus' ):\n",
        "    ros=RandomUnderSampler(random_state=21)\n",
        "    x_res, y_res = ros.fit_sample(X_train, y_train)\n",
        "    print('Dataset shape after Random Under Sampling', Counter(y_res))\n",
        "    print('After RUS the number of Rows Training set has are : ', x_res.shape[0])\n",
        "  elif(typ.lower() == 'adasyn'):\n",
        "    ada=ADASYN(random_state=21, sampling_strategy=s, n_jobs=-1)\n",
        "    x_res, y_res = ada.fit_sample(X_train, y_train)\n",
        "    print('Dataset shape after ADASYN', Counter(y_res))\n",
        "    print('After ADASYN the number of Rows Training set has are : ', x_res.shape[0])\n",
        "  elif(typ.lower() == 'smote'):\n",
        "    smo=SMOTE(random_state=21, sampling_strategy=s, n_jobs=-1)\n",
        "    x_rs, y_rs = smo.fit_sample(X_train, y_train)\n",
        "    tom=TomekLinks(random_state=21)\n",
        "    x_res, y_res = tom.fit_sample(x_rs,y_rs)\n",
        "    print('Dataset shape after SMOTE + Tomek Links', Counter(y_res))\n",
        "    print('After SMOTE Tomek the number of Rows Training set has are : ', x_res.shape[0])\n",
        "  return x_res, y_res\n"
      ],
      "execution_count": 15,
      "outputs": []
    },
    {
      "cell_type": "code",
      "metadata": {
        "id": "jvvpcf12a1Aw",
        "colab_type": "code",
        "colab": {}
      },
      "source": [
        "# Function to plot the scatter plot of values it get by applying PCA\n",
        "def plt_scatter(tmp_sample):\n",
        "  plt.figure(figsize=(10,10))\n",
        "  sns.scatterplot(x='Component 1',y='Component 2', hue='Label', data=tmp_sample)\n",
        "  plt.legend(bbox_to_anchor=(1.05,1), loc=2, borderaxespad=0.)\n"
      ],
      "execution_count": 16,
      "outputs": []
    },
    {
      "cell_type": "code",
      "metadata": {
        "id": "uAtkICiy_eNn",
        "colab_type": "code",
        "colab": {}
      },
      "source": [
        "# Function to count the number of elements with Label 1 and Lable 0\n",
        "def plt_print(temp):\n",
        "  tmp_sample = temp.sample(frac = 0.10, random_state=21)\n",
        "  tmp_sample = tmp_sample[tmp_sample['Component 1'] < 0.90 ]\n",
        "  print(tmp_sample['Label'].value_counts())\n",
        "  l_1,l_2= tmp_sample['Label'].value_counts()\n",
        "  print(\"Class Label 0 is : \",(l_1/tmp_sample.shape[0])*100,\"%\")\n",
        "  print(\"Class Label 1 is : \",(l_2/tmp_sample.shape[0])*100,\"%\")\n",
        "  print(\" \")\n",
        "  plt_scatter(tmp_sample)"
      ],
      "execution_count": 17,
      "outputs": []
    },
    {
      "cell_type": "code",
      "metadata": {
        "id": "F5hNooHOLgXT",
        "colab_type": "code",
        "colab": {}
      },
      "source": [
        "# Function to plot the graph \n",
        "def plot_graph(X_train,y_train):\n",
        "  pca=PCA(n_components=2) \n",
        "  dim=pca.fit_transform(X_train)\n",
        "  scaler=MinMaxScaler()\n",
        "  res=scaler.fit_transform(dim)\n",
        "  temp= pd.DataFrame(res,columns=['Component 1', 'Component 2'])\n",
        "  y_temp=y_train.copy()\n",
        "  y_temp=y_temp.reset_index()\n",
        "  temp['Label'] = y_temp['Claim']\n",
        "  plt_print(temp)"
      ],
      "execution_count": 18,
      "outputs": []
    },
    {
      "cell_type": "code",
      "metadata": {
        "id": "lsAWfS-JwtN0",
        "colab_type": "code",
        "colab": {}
      },
      "source": [
        "# Function to plot the graph \n",
        "def plt_graph(X_train,y_train):\n",
        "  pca=PCA(n_components=2) \n",
        "  dim=pca.fit_transform(X_train)\n",
        "  scaler=MinMaxScaler()\n",
        "  res=scaler.fit_transform(dim)\n",
        "  temp= pd.DataFrame(res,columns=['Component 1', 'Component 2'])\n",
        "  y_temp=y_train.copy()\n",
        "  temp['Label'] = y_temp\n",
        "  plt_print(temp)"
      ],
      "execution_count": 19,
      "outputs": []
    },
    {
      "cell_type": "code",
      "metadata": {
        "id": "wS8bLKLPdZVb",
        "colab_type": "code",
        "colab": {}
      },
      "source": [
        "# Function to print precision , recall, Accuracy and F1 score\n",
        "def calc(TP,TN,FP,FN):\n",
        "  if(TP==0):\n",
        "    TP=0.00000000000000001\n",
        "  if(FP==0):\n",
        "    FP=0.00000000000000001\n",
        "  if(FN==0):\n",
        "    FN=0.00000000000000001\n",
        "  conf_mat=[[TN,FP],[FN,TP]]\n",
        "  precision=(TP/(TP+FP))\n",
        "  recall= (TP/(TP+FN))\n",
        "  f1=((2*recall*precision)/(recall+precision))\n",
        "  accuracy=((TP+TN)/(TP+TN+FP+FN))\n",
        "  TPR=(TP/(TP+FN))\n",
        "  FPR=(FP/(FP+TN))\n",
        "  print(\"Confusion Matrix       : \\n\" ,conf_mat[0],'\\n',conf_mat[1])\n",
        "  print(\"Accuracy of Model      : \", accuracy)\n",
        "  print(\"Precision of Model     : \", precision)\n",
        "  print(\"Recall of Model        : \", recall)\n",
        "  print(\"F1 Score of Model      : \", f1)"
      ],
      "execution_count": 20,
      "outputs": []
    },
    {
      "cell_type": "code",
      "metadata": {
        "id": "5TgZ7rP8dtMO",
        "colab_type": "code",
        "colab": {}
      },
      "source": [
        "# Function to compute the value of TP, TN, FP, FN\n",
        "def comp(y_test,y_pred):\n",
        "  TP=0\n",
        "  TN=0\n",
        "  FP=0\n",
        "  FN=0\n",
        "  for i in range(0,len(y_pred)):\n",
        "    if (int(y_test.iloc[i]) == 1 and y_pred[i] == 1):\n",
        "      TP+=1\n",
        "    elif (int(y_test.iloc[i]) == 1 and y_pred[i] == 0 ):\n",
        "      FN+=1\n",
        "    elif (int(y_test.iloc[i]) == 0 and y_pred[i] == 1 ):\n",
        "      FP+=1\n",
        "    elif (int(y_test.iloc[i]) == 0 and y_pred[i] == 0 ):\n",
        "      TN+=1\n",
        "  calc(TP,TN,FP,FN)"
      ],
      "execution_count": 21,
      "outputs": []
    },
    {
      "cell_type": "code",
      "metadata": {
        "id": "OTXBCSfb28JR",
        "colab_type": "code",
        "colab": {}
      },
      "source": [
        "# Funtion to get the predicted value via probability \n",
        "def thresh(y_thresh,val=0.5):\n",
        "  y_pred=[]\n",
        "  for i in range(0,len(y_thresh)):\n",
        "    if(y_thresh[i][0] >= val):\n",
        "      y_pred.append(0)\n",
        "    else:\n",
        "      y_pred.append(1)\n",
        "  y_pred=np.array(y_pred)\n",
        "  return y_pred\n"
      ],
      "execution_count": 22,
      "outputs": []
    },
    {
      "cell_type": "code",
      "metadata": {
        "id": "GTF1j_oiw0Qy",
        "colab_type": "code",
        "colab": {}
      },
      "source": [
        "target = pd.DataFrame(le_df['Claim'])\n",
        "le_df=le_df.drop(columns='Claim')"
      ],
      "execution_count": 23,
      "outputs": []
    },
    {
      "cell_type": "markdown",
      "metadata": {
        "id": "OmwzWffH4UEV",
        "colab_type": "text"
      },
      "source": [
        "# MODEL TRAINING"
      ]
    },
    {
      "cell_type": "markdown",
      "metadata": {
        "id": "EXDZcgHojeMb",
        "colab_type": "text"
      },
      "source": [
        "## Without HyperParameter Tuning"
      ]
    },
    {
      "cell_type": "code",
      "metadata": {
        "id": "u7G_FQew4ONl",
        "colab_type": "code",
        "colab": {
          "base_uri": "https://localhost:8080/",
          "height": 476
        },
        "outputId": "5e11ca5e-b665-49d1-a3f7-1cff89f7d82d"
      },
      "source": [
        "X_train, X_test, y_train, y_test = train_test_split(ohe_df,target,test_size = 0.25, random_state = 21, stratify = target)\n",
        "print_input(X_train, X_test, y_train, y_test)\n",
        "X_u_train, y_u_train = balance(X_train, y_train.values.ravel(),'rus')\n",
        "X_o_train, y_o_train = balance(X_train, y_train.values.ravel(),'ros')\n",
        "X_s_train, y_s_train = balance(X_train, y_train.values.ravel(),'smote',0.5)\n",
        "X_a_train, y_a_train = balance(X_train, y_train.values.ravel(),'adasyn',0.5)"
      ],
      "execution_count": 25,
      "outputs": [
        {
          "output_type": "stream",
          "text": [
            "TRAIN(X_train) Feature set        :  46756\n",
            "TRAIN(y_train) Label Feature set  :  46756\n",
            "TEST (X_test)  Feature set        :  15586\n",
            "TEST (y_test)  Label set          :  15586\n",
            "-------For Training Set--------\n",
            "\n",
            "0    46068\n",
            "1      688\n",
            "Name: Claim, dtype: int64\n",
            "Class Label 0 is :  98.52853109761314 %\n",
            "Class Label 1 is :  1.4714689023868595 %\n",
            "\n",
            "-------For Testing Set--------\n",
            "\n",
            "0    15357\n",
            "1      229\n",
            "Name: Claim, dtype: int64\n",
            "Class Label 0 is :  98.53073270884127 %\n",
            "Class Label 1 is :  1.4692672911587321 %\n",
            "Dataset shape after Random Under Sampling Counter({0: 688, 1: 688})\n",
            "After RUS the number of Rows Training set has are :  1376\n",
            "Dataset shape after Random Over Sampling Counter({0: 46068, 1: 46068})\n",
            "After ROS the number of Rows Training set has are  :  92136\n",
            "Dataset shape after SMOTE + Tomek Links Counter({0: 45752, 1: 23034})\n",
            "After SMOTE Tomek the number of Rows Training set has are :  68786\n",
            "Dataset shape after ADASYN Counter({0: 46068, 1: 22899})\n",
            "After ADASYN the number of Rows Training set has are :  68967\n"
          ],
          "name": "stdout"
        }
      ]
    },
    {
      "cell_type": "code",
      "metadata": {
        "id": "ymNh5AQTCVkV",
        "colab_type": "code",
        "colab": {
          "base_uri": "https://localhost:8080/",
          "height": 568
        },
        "outputId": "9d19c8ce-7c33-4133-ddfa-f62d9bdde680"
      },
      "source": [
        "clf_dt = RandomForestClassifier(random_state=42)\n",
        "clf_dt.fit(X_u_train, y_u_train)\n",
        "y_pred = clf_dt.predict(X_test)\n",
        "print(clf_dt)\n",
        "print(y_pred)\n",
        "print_result(y_test=y_test,y_pred=y_pred)"
      ],
      "execution_count": 45,
      "outputs": [
        {
          "output_type": "stream",
          "text": [
            "RandomForestClassifier(bootstrap=True, ccp_alpha=0.0, class_weight=None,\n",
            "                       criterion='gini', max_depth=None, max_features='auto',\n",
            "                       max_leaf_nodes=None, max_samples=None,\n",
            "                       min_impurity_decrease=0.0, min_impurity_split=None,\n",
            "                       min_samples_leaf=1, min_samples_split=2,\n",
            "                       min_weight_fraction_leaf=0.0, n_estimators=100,\n",
            "                       n_jobs=None, oob_score=False, random_state=42, verbose=0,\n",
            "                       warm_start=False)\n",
            "[0 0 0 ... 0 1 0]\n",
            "Confusion Matrix       : \n",
            " [[11313  4044]\n",
            " [   58   171]]\n",
            "Accuracy of Model      :  0.7368150904658026\n",
            "Precision of Model     :  0.040569395017793594\n",
            "Recall of Model        :  0.7467248908296943\n",
            "F1 Score of Model      :  0.07695769576957696\n",
            "ROC_AUC score of Model :  0.7416961043326046\n"
          ],
          "name": "stdout"
        },
        {
          "output_type": "display_data",
          "data": {
            "image/png": "[encoded data removed]",
            "text/plain": [
              "<Figure size 432x288 with 1 Axes>"
            ]
          },
          "metadata": {
            "tags": [],
            "needs_background": "light"
          }
        }
      ]
    },
    {
      "cell_type": "code",
      "metadata": {
        "id": "UzWpeyRMkI26",
        "colab_type": "code",
        "colab": {
          "base_uri": "https://localhost:8080/",
          "height": 568
        },
        "outputId": "75914aa3-84c8-46dc-bc3f-2470f9370979"
      },
      "source": [
        "clf_dt = RandomForestClassifier(random_state=42)\n",
        "clf_dt.fit(X_o_train, y_o_train)\n",
        "y_pred = clf_dt.predict(X_test)\n",
        "print(clf_dt)\n",
        "print(y_pred)\n",
        "print_result(y_test=y_test,y_pred=y_pred)"
      ],
      "execution_count": 37,
      "outputs": [
        {
          "output_type": "stream",
          "text": [
            "RandomForestClassifier(bootstrap=True, ccp_alpha=0.0, class_weight=None,\n",
            "                       criterion='gini', max_depth=None, max_features='auto',\n",
            "                       max_leaf_nodes=None, max_samples=None,\n",
            "                       min_impurity_decrease=0.0, min_impurity_split=None,\n",
            "                       min_samples_leaf=1, min_samples_split=2,\n",
            "                       min_weight_fraction_leaf=0.0, n_estimators=100,\n",
            "                       n_jobs=None, oob_score=False, random_state=42, verbose=0,\n",
            "                       warm_start=False)\n",
            "[0 0 0 ... 0 0 0]\n",
            "Confusion Matrix       : \n",
            " [[15218   139]\n",
            " [  220     9]]\n",
            "Accuracy of Model      :  0.9769665084049788\n",
            "Precision of Model     :  0.060810810810810814\n",
            "Recall of Model        :  0.039301310043668124\n",
            "F1 Score of Model      :  0.04774535809018568\n",
            "ROC_AUC score of Model :  0.515125031527662\n"
          ],
          "name": "stdout"
        },
        {
          "output_type": "display_data",
          "data": {
            "image/png": "[encoded data removed]",
            "text/plain": [
              "<Figure size 432x288 with 1 Axes>"
            ]
          },
          "metadata": {
            "tags": [],
            "needs_background": "light"
          }
        }
      ]
    },
    {
      "cell_type": "code",
      "metadata": {
        "id": "fPBB3ZZ4kNuE",
        "colab_type": "code",
        "colab": {
          "base_uri": "https://localhost:8080/",
          "height": 568
        },
        "outputId": "30feba79-693d-4706-cc62-cb51e65b153e"
      },
      "source": [
        "clf_dt = RandomForestClassifier(random_state=42)\n",
        "clf_dt.fit(X_s_train, y_s_train)\n",
        "y_pred = clf_dt.predict(X_test)\n",
        "print(clf_dt)\n",
        "print(y_pred)\n",
        "print_result(y_test=y_test,y_pred=y_pred)"
      ],
      "execution_count": 28,
      "outputs": [
        {
          "output_type": "stream",
          "text": [
            "RandomForestClassifier(bootstrap=True, ccp_alpha=0.0, class_weight=None,\n",
            "                       criterion='gini', max_depth=None, max_features='auto',\n",
            "                       max_leaf_nodes=None, max_samples=None,\n",
            "                       min_impurity_decrease=0.0, min_impurity_split=None,\n",
            "                       min_samples_leaf=1, min_samples_split=2,\n",
            "                       min_weight_fraction_leaf=0.0, n_estimators=100,\n",
            "                       n_jobs=None, oob_score=False, random_state=42, verbose=0,\n",
            "                       warm_start=False)\n",
            "[0 0 0 ... 0 0 0]\n",
            "Confusion Matrix       : \n",
            " [[15202   155]\n",
            " [  212    17]]\n",
            "Accuracy of Model      :  0.9764532272552291\n",
            "Precision of Model     :  0.09883720930232558\n",
            "Recall of Model        :  0.07423580786026202\n",
            "F1 Score of Model      :  0.08478802992518704\n",
            "ROC_AUC score of Model :  0.5320713453574931\n"
          ],
          "name": "stdout"
        },
        {
          "output_type": "display_data",
          "data": {
            "image/png": "[encoded data removed]",
            "text/plain": [
              "<Figure size 432x288 with 1 Axes>"
            ]
          },
          "metadata": {
            "tags": [],
            "needs_background": "light"
          }
        }
      ]
    },
    {
      "cell_type": "code",
      "metadata": {
        "id": "UUHSJl_KkQY-",
        "colab_type": "code",
        "colab": {
          "base_uri": "https://localhost:8080/",
          "height": 568
        },
        "outputId": "853385d8-b498-4c3a-8097-c5685a9dc650"
      },
      "source": [
        "clf_dt = RandomForestClassifier(random_state=42)\n",
        "clf_dt.fit(X_a_train, y_a_train)\n",
        "y_pred = clf_dt.predict(X_test)\n",
        "print(clf_dt)\n",
        "print(y_pred)\n",
        "print_result(y_test=y_test,y_pred=y_pred)"
      ],
      "execution_count": 29,
      "outputs": [
        {
          "output_type": "stream",
          "text": [
            "RandomForestClassifier(bootstrap=True, ccp_alpha=0.0, class_weight=None,\n",
            "                       criterion='gini', max_depth=None, max_features='auto',\n",
            "                       max_leaf_nodes=None, max_samples=None,\n",
            "                       min_impurity_decrease=0.0, min_impurity_split=None,\n",
            "                       min_samples_leaf=1, min_samples_split=2,\n",
            "                       min_weight_fraction_leaf=0.0, n_estimators=100,\n",
            "                       n_jobs=None, oob_score=False, random_state=42, verbose=0,\n",
            "                       warm_start=False)\n",
            "[0 0 0 ... 0 0 0]\n",
            "Confusion Matrix       : \n",
            " [[15206   151]\n",
            " [  216    13]]\n",
            "Accuracy of Model      :  0.9764532272552291\n",
            "Precision of Model     :  0.07926829268292683\n",
            "Recall of Model        :  0.056768558951965066\n",
            "F1 Score of Model      :  0.06615776081424936\n",
            "ROC_AUC score of Model :  0.5234679546729611\n"
          ],
          "name": "stdout"
        },
        {
          "output_type": "display_data",
          "data": {
            "image/png": "[encoded data removed]",
            "text/plain": [
              "<Figure size 432x288 with 1 Axes>"
            ]
          },
          "metadata": {
            "tags": [],
            "needs_background": "light"
          }
        }
      ]
    },
    {
      "cell_type": "markdown",
      "metadata": {
        "id": "2bt3c4ltkUi_",
        "colab_type": "text"
      },
      "source": [
        "## With HyperParameter Tuning"
      ]
    },
    {
      "cell_type": "code",
      "metadata": {
        "id": "mrExPLFBSfVy",
        "colab_type": "code",
        "colab": {}
      },
      "source": [
        "clf_dt = RandomForestClassifier()\n",
        "param_grid = {\n",
        "   'max_leaf_nodes': [ 40,50 ],\n",
        "   'class_weight' : ['balanced'],\n",
        "   'criterion' :['gini','entropy'] ,\n",
        "   'max_depth' : [ 30, 50, 100 ],\n",
        "   'min_samples_split': [ 2, 3, 4]\n",
        "    }"
      ],
      "execution_count": null,
      "outputs": []
    },
    {
      "cell_type": "code",
      "metadata": {
        "id": "T5eHfbJuoOFt",
        "colab_type": "code",
        "colab": {
          "base_uri": "https://localhost:8080/",
          "height": 551
        },
        "outputId": "06af755c-10c6-4d98-b96b-56f8a6b061fa"
      },
      "source": [
        "CV_dt = GridSearchCV(estimator=clf_dt, param_grid=param_grid, cv= 3)\n",
        "CV_dt.fit(X_o_train, y_o_train)\n",
        "clf_best_dt = CV_dt.best_estimator_\n",
        "print(clf_best_dt)\n",
        "y_pred = clf_best_dt.predict(X_test)\n",
        "print_result(y_test=y_test,y_pred=y_pred)"
      ],
      "execution_count": 36,
      "outputs": [
        {
          "output_type": "stream",
          "text": [
            "RandomForestClassifier(bootstrap=True, ccp_alpha=0.0, class_weight='balanced',\n",
            "                       criterion='gini', max_depth=50, max_features='auto',\n",
            "                       max_leaf_nodes=50, max_samples=None,\n",
            "                       min_impurity_decrease=0.0, min_impurity_split=None,\n",
            "                       min_samples_leaf=1, min_samples_split=3,\n",
            "                       min_weight_fraction_leaf=0.0, n_estimators=100,\n",
            "                       n_jobs=None, oob_score=False, random_state=None,\n",
            "                       verbose=0, warm_start=False)\n",
            "Confusion Matrix       : \n",
            " [[13053  2304]\n",
            " [   84   145]]\n",
            "Accuracy of Model      :  0.846785576799692\n",
            "Precision of Model     :  0.05920783993466721\n",
            "Recall of Model        :  0.6331877729257642\n",
            "F1 Score of Model      :  0.10828976848394326\n",
            "ROC_AUC score of Model :  0.7415792351638003\n"
          ],
          "name": "stdout"
        },
        {
          "output_type": "display_data",
          "data": {
            "image/png": "[encoded data removed]",
            "text/plain": [
              "<Figure size 432x288 with 1 Axes>"
            ]
          },
          "metadata": {
            "tags": [],
            "needs_background": "light"
          }
        }
      ]
    },
    {
      "cell_type": "code",
      "metadata": {
        "id": "5k44G3DR4cnE",
        "colab_type": "code",
        "colab": {
          "base_uri": "https://localhost:8080/",
          "height": 551
        },
        "outputId": "81efb598-df03-4ab5-9661-a2e15bec0e20"
      },
      "source": [
        "CV_dt = GridSearchCV(estimator=clf_dt, param_grid=param_grid, cv= 3)\n",
        "CV_dt.fit(X_u_train, y_u_train)\n",
        "clf_best_dt = CV_dt.best_estimator_\n",
        "print(clf_best_dt)\n",
        "y_pred = clf_best_dt.predict(X_test)\n",
        "print_result(y_test=y_test,y_pred=y_pred)"
      ],
      "execution_count": 44,
      "outputs": [
        {
          "output_type": "stream",
          "text": [
            "RandomForestClassifier(bootstrap=True, ccp_alpha=0.0, class_weight='balanced',\n",
            "                       criterion='gini', max_depth=30, max_features='auto',\n",
            "                       max_leaf_nodes=50, max_samples=None,\n",
            "                       min_impurity_decrease=0.0, min_impurity_split=None,\n",
            "                       min_samples_leaf=1, min_samples_split=2,\n",
            "                       min_weight_fraction_leaf=0.0, n_estimators=100,\n",
            "                       n_jobs=None, oob_score=False, random_state=None,\n",
            "                       verbose=0, warm_start=False)\n",
            "Confusion Matrix       : \n",
            " [[12298  3059]\n",
            " [   69   160]]\n",
            "Accuracy of Model      :  0.7993070704478378\n",
            "Precision of Model     :  0.049704877291084186\n",
            "Recall of Model        :  0.6986899563318777\n",
            "F1 Score of Model      :  0.09280742459396751\n",
            "ROC_AUC score of Model :  0.7497487028517499\n"
          ],
          "name": "stdout"
        },
        {
          "output_type": "display_data",
          "data": {
            "image/png": "[encoded data removed]",
            "text/plain": [
              "<Figure size 432x288 with 1 Axes>"
            ]
          },
          "metadata": {
            "tags": [],
            "needs_background": "light"
          }
        }
      ]
    },
    {
      "cell_type": "markdown",
      "metadata": {
        "id": "36kuDuSGPILa",
        "colab_type": "text"
      },
      "source": [
        "## Feature Selection "
      ]
    },
    {
      "cell_type": "code",
      "metadata": {
        "id": "zQMQxEOE3_1A",
        "colab_type": "code",
        "colab": {
          "base_uri": "https://localhost:8080/",
          "height": 419
        },
        "outputId": "c258253d-db8d-4fde-f24b-824f8941b5fe"
      },
      "source": [
        "# hyper parameter \n",
        "hyp1=pd.DataFrame({'Percent' : clf_best_dt.feature_importances_ , 'col' : ohe_df.columns}).sort_values(by='Percent',ascending=False)\n",
        "hyp1"
      ],
      "execution_count": 41,
      "outputs": [
        {
          "output_type": "execute_result",
          "data": {
            "text/html": [
              "<div>\n",
              "<style scoped>\n",
              "    .dataframe tbody tr th:only-of-type {\n",
              "        vertical-align: middle;\n",
              "    }\n",
              "\n",
              "    .dataframe tbody tr th {\n",
              "        vertical-align: top;\n",
              "    }\n",
              "\n",
              "    .dataframe thead th {\n",
              "        text-align: right;\n",
              "    }\n",
              "</style>\n",
              "<table border=\"1\" class=\"dataframe\">\n",
              "  <thead>\n",
              "    <tr style=\"text-align: right;\">\n",
              "      <th></th>\n",
              "      <th>Percent</th>\n",
              "      <th>col</th>\n",
              "    </tr>\n",
              "  </thead>\n",
              "  <tbody>\n",
              "    <tr>\n",
              "      <th>153</th>\n",
              "      <td>0.128443</td>\n",
              "      <td>Agency_C2B</td>\n",
              "    </tr>\n",
              "    <tr>\n",
              "      <th>121</th>\n",
              "      <td>0.103110</td>\n",
              "      <td>Destination_SINGAPORE</td>\n",
              "    </tr>\n",
              "    <tr>\n",
              "      <th>2</th>\n",
              "      <td>0.100881</td>\n",
              "      <td>Commision (in value)</td>\n",
              "    </tr>\n",
              "    <tr>\n",
              "      <th>1</th>\n",
              "      <td>0.097221</td>\n",
              "      <td>Net Sales</td>\n",
              "    </tr>\n",
              "    <tr>\n",
              "      <th>170</th>\n",
              "      <td>0.074286</td>\n",
              "      <td>Gender_N</td>\n",
              "    </tr>\n",
              "    <tr>\n",
              "      <th>...</th>\n",
              "      <td>...</td>\n",
              "      <td>...</td>\n",
              "    </tr>\n",
              "    <tr>\n",
              "      <th>85</th>\n",
              "      <td>0.000000</td>\n",
              "      <td>Destination_MALTA</td>\n",
              "    </tr>\n",
              "    <tr>\n",
              "      <th>86</th>\n",
              "      <td>0.000000</td>\n",
              "      <td>Destination_MAURITIUS</td>\n",
              "    </tr>\n",
              "    <tr>\n",
              "      <th>87</th>\n",
              "      <td>0.000000</td>\n",
              "      <td>Destination_MEXICO</td>\n",
              "    </tr>\n",
              "    <tr>\n",
              "      <th>88</th>\n",
              "      <td>0.000000</td>\n",
              "      <td>Destination_MOLDOVA, REPUBLIC OF</td>\n",
              "    </tr>\n",
              "    <tr>\n",
              "      <th>103</th>\n",
              "      <td>0.000000</td>\n",
              "      <td>Destination_PAPUA NEW GUINEA</td>\n",
              "    </tr>\n",
              "  </tbody>\n",
              "</table>\n",
              "<p>199 rows × 2 columns</p>\n",
              "</div>"
            ],
            "text/plain": [
              "      Percent                               col\n",
              "153  0.128443                        Agency_C2B\n",
              "121  0.103110             Destination_SINGAPORE\n",
              "2    0.100881              Commision (in value)\n",
              "1    0.097221                         Net Sales\n",
              "170  0.074286                          Gender_N\n",
              "..        ...                               ...\n",
              "85   0.000000                 Destination_MALTA\n",
              "86   0.000000             Destination_MAURITIUS\n",
              "87   0.000000                Destination_MEXICO\n",
              "88   0.000000  Destination_MOLDOVA, REPUBLIC OF\n",
              "103  0.000000      Destination_PAPUA NEW GUINEA\n",
              "\n",
              "[199 rows x 2 columns]"
            ]
          },
          "metadata": {
            "tags": []
          },
          "execution_count": 41
        }
      ]
    },
    {
      "cell_type": "code",
      "metadata": {
        "id": "7Faxn8Kh1R9N",
        "colab_type": "code",
        "colab": {
          "base_uri": "https://localhost:8080/",
          "height": 419
        },
        "outputId": "e206e7a1-3962-4e23-dca7-2b0b7d30b433"
      },
      "source": [
        "# without hyper parameter\n",
        "imp=pd.DataFrame({'Percent' : clf_dt.feature_importances_ , 'col' : ohe_df.columns}).sort_values(by='Percent',ascending=False)\n",
        "imp"
      ],
      "execution_count": 42,
      "outputs": [
        {
          "output_type": "execute_result",
          "data": {
            "text/html": [
              "<div>\n",
              "<style scoped>\n",
              "    .dataframe tbody tr th:only-of-type {\n",
              "        vertical-align: middle;\n",
              "    }\n",
              "\n",
              "    .dataframe tbody tr th {\n",
              "        vertical-align: top;\n",
              "    }\n",
              "\n",
              "    .dataframe thead th {\n",
              "        text-align: right;\n",
              "    }\n",
              "</style>\n",
              "<table border=\"1\" class=\"dataframe\">\n",
              "  <thead>\n",
              "    <tr style=\"text-align: right;\">\n",
              "      <th></th>\n",
              "      <th>Percent</th>\n",
              "      <th>col</th>\n",
              "    </tr>\n",
              "  </thead>\n",
              "  <tbody>\n",
              "    <tr>\n",
              "      <th>0</th>\n",
              "      <td>0.229800</td>\n",
              "      <td>Duration</td>\n",
              "    </tr>\n",
              "    <tr>\n",
              "      <th>1</th>\n",
              "      <td>0.155975</td>\n",
              "      <td>Net Sales</td>\n",
              "    </tr>\n",
              "    <tr>\n",
              "      <th>3</th>\n",
              "      <td>0.147393</td>\n",
              "      <td>Age</td>\n",
              "    </tr>\n",
              "    <tr>\n",
              "      <th>2</th>\n",
              "      <td>0.097487</td>\n",
              "      <td>Commision (in value)</td>\n",
              "    </tr>\n",
              "    <tr>\n",
              "      <th>153</th>\n",
              "      <td>0.042200</td>\n",
              "      <td>Agency_C2B</td>\n",
              "    </tr>\n",
              "    <tr>\n",
              "      <th>...</th>\n",
              "      <td>...</td>\n",
              "      <td>...</td>\n",
              "    </tr>\n",
              "    <tr>\n",
              "      <th>115</th>\n",
              "      <td>0.000000</td>\n",
              "      <td>Destination_SAMOA</td>\n",
              "    </tr>\n",
              "    <tr>\n",
              "      <th>114</th>\n",
              "      <td>0.000000</td>\n",
              "      <td>Destination_RWANDA</td>\n",
              "    </tr>\n",
              "    <tr>\n",
              "      <th>13</th>\n",
              "      <td>0.000000</td>\n",
              "      <td>Destination_BARBADOS</td>\n",
              "    </tr>\n",
              "    <tr>\n",
              "      <th>51</th>\n",
              "      <td>0.000000</td>\n",
              "      <td>Destination_GUADELOUPE</td>\n",
              "    </tr>\n",
              "    <tr>\n",
              "      <th>148</th>\n",
              "      <td>0.000000</td>\n",
              "      <td>Destination_VIRGIN ISLANDS, U.S.</td>\n",
              "    </tr>\n",
              "  </tbody>\n",
              "</table>\n",
              "<p>199 rows × 2 columns</p>\n",
              "</div>"
            ],
            "text/plain": [
              "      Percent                               col\n",
              "0    0.229800                          Duration\n",
              "1    0.155975                         Net Sales\n",
              "3    0.147393                               Age\n",
              "2    0.097487              Commision (in value)\n",
              "153  0.042200                        Agency_C2B\n",
              "..        ...                               ...\n",
              "115  0.000000                 Destination_SAMOA\n",
              "114  0.000000                Destination_RWANDA\n",
              "13   0.000000              Destination_BARBADOS\n",
              "51   0.000000            Destination_GUADELOUPE\n",
              "148  0.000000  Destination_VIRGIN ISLANDS, U.S.\n",
              "\n",
              "[199 rows x 2 columns]"
            ]
          },
          "metadata": {
            "tags": []
          },
          "execution_count": 42
        }
      ]
    },
    {
      "cell_type": "markdown",
      "metadata": {
        "id": "yBPVDLa6PO11",
        "colab_type": "text"
      },
      "source": [
        "## Threshold"
      ]
    },
    {
      "cell_type": "code",
      "metadata": {
        "id": "rW0po2yu88G1",
        "colab_type": "code",
        "colab": {
          "base_uri": "https://localhost:8080/",
          "height": 34
        },
        "outputId": "728ac497-8f4c-4dd8-dd6f-221fe2bbe3b9"
      },
      "source": [
        "x=np.linspace(0.5,0.95,10)\n",
        "x"
      ],
      "execution_count": 47,
      "outputs": [
        {
          "output_type": "execute_result",
          "data": {
            "text/plain": [
              "array([0.5 , 0.55, 0.6 , 0.65, 0.7 , 0.75, 0.8 , 0.85, 0.9 , 0.95])"
            ]
          },
          "metadata": {
            "tags": []
          },
          "execution_count": 47
        }
      ]
    },
    {
      "cell_type": "code",
      "metadata": {
        "id": "ojR4CoXT5ecu",
        "colab_type": "code",
        "colab": {
          "base_uri": "https://localhost:8080/",
          "height": 136
        },
        "outputId": "b05b0e76-27c0-4d73-83be-1cb2d458895d"
      },
      "source": [
        "y_prob_hyp = clf_best_dt.predict_proba(X_test)\n",
        "y_prob_hyp"
      ],
      "execution_count": 51,
      "outputs": [
        {
          "output_type": "execute_result",
          "data": {
            "text/plain": [
              "array([[0.68992378, 0.31007622],\n",
              "       [0.75630857, 0.24369143],\n",
              "       [0.71136126, 0.28863874],\n",
              "       ...,\n",
              "       [0.74311314, 0.25688686],\n",
              "       [0.17151698, 0.82848302],\n",
              "       [0.81312844, 0.18687156]])"
            ]
          },
          "metadata": {
            "tags": []
          },
          "execution_count": 51
        }
      ]
    },
    {
      "cell_type": "code",
      "metadata": {
        "id": "6vkyVdmx_uKt",
        "colab_type": "code",
        "colab": {
          "base_uri": "https://localhost:8080/",
          "height": 1000
        },
        "outputId": "d52a94a3-49ef-4267-e968-7caada2d4d6a"
      },
      "source": [
        "for i in x:\n",
        "  print(\"\\n Threshold => \",i,'\\n')\n",
        "  comp(y_test,thresh(y_prob_hyp,i))"
      ],
      "execution_count": 52,
      "outputs": [
        {
          "output_type": "stream",
          "text": [
            "\n",
            " Threshold =>  0.5 \n",
            "\n",
            "Confusion Matrix       : \n",
            " [12298, 3059] \n",
            " [69, 160]\n",
            "Accuracy of Model      :  0.7993070704478378\n",
            "Precision of Model     :  0.049704877291084186\n",
            "Recall of Model        :  0.6986899563318777\n",
            "F1 Score of Model      :  0.09280742459396751\n",
            "\n",
            " Threshold =>  0.55 \n",
            "\n",
            "Confusion Matrix       : \n",
            " [11766, 3591] \n",
            " [59, 170]\n",
            "Accuracy of Model      :  0.765815475426665\n",
            "Precision of Model     :  0.0452007444828503\n",
            "Recall of Model        :  0.74235807860262\n",
            "F1 Score of Model      :  0.08521303258145364\n",
            "\n",
            " Threshold =>  0.6 \n",
            "\n",
            "Confusion Matrix       : \n",
            " [11173, 4184] \n",
            " [49, 180]\n",
            "Accuracy of Model      :  0.7284101116386501\n",
            "Precision of Model     :  0.04124656278643447\n",
            "Recall of Model        :  0.7860262008733624\n",
            "F1 Score of Model      :  0.07838014369693012\n",
            "\n",
            " Threshold =>  0.65 \n",
            "\n",
            "Confusion Matrix       : \n",
            " [10404, 4953] \n",
            " [40, 189]\n",
            "Accuracy of Model      :  0.6796484024124214\n",
            "Precision of Model     :  0.0367561260210035\n",
            "Recall of Model        :  0.8253275109170306\n",
            "F1 Score of Model      :  0.07037795568795382\n",
            "\n",
            " Threshold =>  0.7 \n",
            "\n",
            "Confusion Matrix       : \n",
            " [9132, 6225] \n",
            " [28, 201]\n",
            "Accuracy of Model      :  0.5988066213268318\n",
            "Precision of Model     :  0.03127917833800187\n",
            "Recall of Model        :  0.8777292576419214\n",
            "F1 Score of Model      :  0.06040570999248685\n",
            "\n",
            " Threshold =>  0.75 \n",
            "\n",
            "Confusion Matrix       : \n",
            " [7274, 8083] \n",
            " [18, 211]\n",
            "Accuracy of Model      :  0.48023867573463364\n",
            "Precision of Model     :  0.025440077164215095\n",
            "Recall of Model        :  0.9213973799126638\n",
            "F1 Score of Model      :  0.049513082248034725\n",
            "\n",
            " Threshold =>  0.8 \n",
            "\n",
            "Confusion Matrix       : \n",
            " [4644, 10713] \n",
            " [8, 221]\n",
            "Accuracy of Model      :  0.31213909919158217\n",
            "Precision of Model     :  0.02021218218401317\n",
            "Recall of Model        :  0.9650655021834061\n",
            "F1 Score of Model      :  0.03959509092537849\n",
            "\n",
            " Threshold =>  0.85 \n",
            "\n",
            "Confusion Matrix       : \n",
            " [1738, 13619] \n",
            " [2, 227]\n",
            "Accuracy of Model      :  0.12607468240728859\n",
            "Precision of Model     :  0.0163946266069623\n",
            "Recall of Model        :  0.9912663755458515\n",
            "F1 Score of Model      :  0.03225577264653641\n",
            "\n",
            " Threshold =>  0.8999999999999999 \n",
            "\n",
            "Confusion Matrix       : \n",
            " [0, 15357] \n",
            " [1e-17, 229]\n",
            "Accuracy of Model      :  0.014692672911587322\n",
            "Precision of Model     :  0.014692672911587322\n",
            "Recall of Model        :  1.0\n",
            "F1 Score of Model      :  0.028959848245336706\n",
            "\n",
            " Threshold =>  0.95 \n",
            "\n",
            "Confusion Matrix       : \n",
            " [0, 15357] \n",
            " [1e-17, 229]\n",
            "Accuracy of Model      :  0.014692672911587322\n",
            "Precision of Model     :  0.014692672911587322\n",
            "Recall of Model        :  1.0\n",
            "F1 Score of Model      :  0.028959848245336706\n"
          ],
          "name": "stdout"
        }
      ]
    },
    {
      "cell_type": "code",
      "metadata": {
        "id": "Wf1aZ2el5zDV",
        "colab_type": "code",
        "colab": {
          "base_uri": "https://localhost:8080/",
          "height": 136
        },
        "outputId": "c2259c9a-d87a-481a-9583-d20f2af6bdc4"
      },
      "source": [
        "y_prob=clf_dt.predict_proba(X_test)\n",
        "y_prob"
      ],
      "execution_count": 53,
      "outputs": [
        {
          "output_type": "execute_result",
          "data": {
            "text/plain": [
              "array([[0.63      , 0.37      ],\n",
              "       [0.91      , 0.09      ],\n",
              "       [0.94666667, 0.05333333],\n",
              "       ...,\n",
              "       [0.84      , 0.16      ],\n",
              "       [0.23      , 0.77      ],\n",
              "       [0.9       , 0.1       ]])"
            ]
          },
          "metadata": {
            "tags": []
          },
          "execution_count": 53
        }
      ]
    },
    {
      "cell_type": "code",
      "metadata": {
        "id": "9XU2KfWsPnNi",
        "colab_type": "code",
        "colab": {
          "base_uri": "https://localhost:8080/",
          "height": 1000
        },
        "outputId": "ed766e64-0c52-417f-8aba-1c9a889a1147"
      },
      "source": [
        "for i in x:\n",
        "  print(\"\\n Threshold => \",i,'\\n')\n",
        "  comp(y_test,thresh(y_prob_hyp,i))"
      ],
      "execution_count": 54,
      "outputs": [
        {
          "output_type": "stream",
          "text": [
            "\n",
            " Threshold =>  0.5 \n",
            "\n",
            "Confusion Matrix       : \n",
            " [12298, 3059] \n",
            " [69, 160]\n",
            "Accuracy of Model      :  0.7993070704478378\n",
            "Precision of Model     :  0.049704877291084186\n",
            "Recall of Model        :  0.6986899563318777\n",
            "F1 Score of Model      :  0.09280742459396751\n",
            "\n",
            " Threshold =>  0.55 \n",
            "\n",
            "Confusion Matrix       : \n",
            " [11766, 3591] \n",
            " [59, 170]\n",
            "Accuracy of Model      :  0.765815475426665\n",
            "Precision of Model     :  0.0452007444828503\n",
            "Recall of Model        :  0.74235807860262\n",
            "F1 Score of Model      :  0.08521303258145364\n",
            "\n",
            " Threshold =>  0.6 \n",
            "\n",
            "Confusion Matrix       : \n",
            " [11173, 4184] \n",
            " [49, 180]\n",
            "Accuracy of Model      :  0.7284101116386501\n",
            "Precision of Model     :  0.04124656278643447\n",
            "Recall of Model        :  0.7860262008733624\n",
            "F1 Score of Model      :  0.07838014369693012\n",
            "\n",
            " Threshold =>  0.65 \n",
            "\n",
            "Confusion Matrix       : \n",
            " [10404, 4953] \n",
            " [40, 189]\n",
            "Accuracy of Model      :  0.6796484024124214\n",
            "Precision of Model     :  0.0367561260210035\n",
            "Recall of Model        :  0.8253275109170306\n",
            "F1 Score of Model      :  0.07037795568795382\n",
            "\n",
            " Threshold =>  0.7 \n",
            "\n",
            "Confusion Matrix       : \n",
            " [9132, 6225] \n",
            " [28, 201]\n",
            "Accuracy of Model      :  0.5988066213268318\n",
            "Precision of Model     :  0.03127917833800187\n",
            "Recall of Model        :  0.8777292576419214\n",
            "F1 Score of Model      :  0.06040570999248685\n",
            "\n",
            " Threshold =>  0.75 \n",
            "\n",
            "Confusion Matrix       : \n",
            " [7274, 8083] \n",
            " [18, 211]\n",
            "Accuracy of Model      :  0.48023867573463364\n",
            "Precision of Model     :  0.025440077164215095\n",
            "Recall of Model        :  0.9213973799126638\n",
            "F1 Score of Model      :  0.049513082248034725\n",
            "\n",
            " Threshold =>  0.8 \n",
            "\n",
            "Confusion Matrix       : \n",
            " [4644, 10713] \n",
            " [8, 221]\n",
            "Accuracy of Model      :  0.31213909919158217\n",
            "Precision of Model     :  0.02021218218401317\n",
            "Recall of Model        :  0.9650655021834061\n",
            "F1 Score of Model      :  0.03959509092537849\n",
            "\n",
            " Threshold =>  0.85 \n",
            "\n",
            "Confusion Matrix       : \n",
            " [1738, 13619] \n",
            " [2, 227]\n",
            "Accuracy of Model      :  0.12607468240728859\n",
            "Precision of Model     :  0.0163946266069623\n",
            "Recall of Model        :  0.9912663755458515\n",
            "F1 Score of Model      :  0.03225577264653641\n",
            "\n",
            " Threshold =>  0.8999999999999999 \n",
            "\n",
            "Confusion Matrix       : \n",
            " [0, 15357] \n",
            " [1e-17, 229]\n",
            "Accuracy of Model      :  0.014692672911587322\n",
            "Precision of Model     :  0.014692672911587322\n",
            "Recall of Model        :  1.0\n",
            "F1 Score of Model      :  0.028959848245336706\n",
            "\n",
            " Threshold =>  0.95 \n",
            "\n",
            "Confusion Matrix       : \n",
            " [0, 15357] \n",
            " [1e-17, 229]\n",
            "Accuracy of Model      :  0.014692672911587322\n",
            "Precision of Model     :  0.014692672911587322\n",
            "Recall of Model        :  1.0\n",
            "F1 Score of Model      :  0.028959848245336706\n"
          ],
          "name": "stdout"
        }
      ]
    },
    {
      "cell_type": "markdown",
      "metadata": {
        "id": "x85hmsKcQ_1I",
        "colab_type": "text"
      },
      "source": [
        "## Comparing Feature selction for each TP, TN, FP, FN"
      ]
    },
    {
      "cell_type": "markdown",
      "metadata": {
        "id": "K4A5vzezSScQ",
        "colab_type": "text"
      },
      "source": [
        "### hyperparameter tuning"
      ]
    },
    {
      "cell_type": "code",
      "metadata": {
        "id": "-2Cg1np02k1w",
        "colab_type": "code",
        "colab": {}
      },
      "source": [
        "l=hyp1['col'][0:19].to_list()"
      ],
      "execution_count": 56,
      "outputs": []
    },
    {
      "cell_type": "code",
      "metadata": {
        "id": "5jbuIoZwFOcY",
        "colab_type": "code",
        "colab": {
          "base_uri": "https://localhost:8080/",
          "height": 340
        },
        "outputId": "bb1bac6c-d9e7-41ea-ca18-138907a2521a"
      },
      "source": [
        "l"
      ],
      "execution_count": 57,
      "outputs": [
        {
          "output_type": "execute_result",
          "data": {
            "text/plain": [
              "['Agency_C2B',\n",
              " 'Destination_SINGAPORE',\n",
              " 'Commision (in value)',\n",
              " 'Net Sales',\n",
              " 'Gender_N',\n",
              " 'Duration',\n",
              " 'Agency Type_Travel Agency',\n",
              " 'Agency_EPX',\n",
              " 'Product Name_Cancellation Plan',\n",
              " 'Agency Type_Airlines',\n",
              " 'Age',\n",
              " 'Product Name_2 way Comprehensive Plan',\n",
              " 'Agency_JZI',\n",
              " 'Product Name_Bronze Plan',\n",
              " 'Product Name_Basic Plan',\n",
              " 'Gender_F',\n",
              " 'Gender_M',\n",
              " 'Agency_LWC',\n",
              " 'Product Name_Silver Plan']"
            ]
          },
          "metadata": {
            "tags": []
          },
          "execution_count": 57
        }
      ]
    },
    {
      "cell_type": "code",
      "metadata": {
        "id": "RcWCzluJFQdE",
        "colab_type": "code",
        "colab": {}
      },
      "source": [
        "new_ohe=ohe_df[l]"
      ],
      "execution_count": 58,
      "outputs": []
    },
    {
      "cell_type": "code",
      "metadata": {
        "id": "S6zGIxAUFc9B",
        "colab_type": "code",
        "colab": {
          "base_uri": "https://localhost:8080/",
          "height": 490
        },
        "outputId": "47268a8a-ec1b-4049-e9e4-e1952936145d"
      },
      "source": [
        "new_ohe"
      ],
      "execution_count": 59,
      "outputs": [
        {
          "output_type": "execute_result",
          "data": {
            "text/html": [
              "<div>\n",
              "<style scoped>\n",
              "    .dataframe tbody tr th:only-of-type {\n",
              "        vertical-align: middle;\n",
              "    }\n",
              "\n",
              "    .dataframe tbody tr th {\n",
              "        vertical-align: top;\n",
              "    }\n",
              "\n",
              "    .dataframe thead th {\n",
              "        text-align: right;\n",
              "    }\n",
              "</style>\n",
              "<table border=\"1\" class=\"dataframe\">\n",
              "  <thead>\n",
              "    <tr style=\"text-align: right;\">\n",
              "      <th></th>\n",
              "      <th>Agency_C2B</th>\n",
              "      <th>Destination_SINGAPORE</th>\n",
              "      <th>Commision (in value)</th>\n",
              "      <th>Net Sales</th>\n",
              "      <th>Gender_N</th>\n",
              "      <th>Duration</th>\n",
              "      <th>Agency Type_Travel Agency</th>\n",
              "      <th>Agency_EPX</th>\n",
              "      <th>Product Name_Cancellation Plan</th>\n",
              "      <th>Agency Type_Airlines</th>\n",
              "      <th>Age</th>\n",
              "      <th>Product Name_2 way Comprehensive Plan</th>\n",
              "      <th>Agency_JZI</th>\n",
              "      <th>Product Name_Bronze Plan</th>\n",
              "      <th>Product Name_Basic Plan</th>\n",
              "      <th>Gender_F</th>\n",
              "      <th>Gender_M</th>\n",
              "      <th>Agency_LWC</th>\n",
              "      <th>Product Name_Silver Plan</th>\n",
              "    </tr>\n",
              "  </thead>\n",
              "  <tbody>\n",
              "    <tr>\n",
              "      <th>0</th>\n",
              "      <td>0</td>\n",
              "      <td>0</td>\n",
              "      <td>9.57</td>\n",
              "      <td>-29.0</td>\n",
              "      <td>0</td>\n",
              "      <td>186</td>\n",
              "      <td>1</td>\n",
              "      <td>0</td>\n",
              "      <td>0</td>\n",
              "      <td>0</td>\n",
              "      <td>81</td>\n",
              "      <td>0</td>\n",
              "      <td>0</td>\n",
              "      <td>0</td>\n",
              "      <td>0</td>\n",
              "      <td>1</td>\n",
              "      <td>0</td>\n",
              "      <td>0</td>\n",
              "      <td>0</td>\n",
              "    </tr>\n",
              "    <tr>\n",
              "      <th>1</th>\n",
              "      <td>0</td>\n",
              "      <td>0</td>\n",
              "      <td>9.57</td>\n",
              "      <td>-29.0</td>\n",
              "      <td>0</td>\n",
              "      <td>186</td>\n",
              "      <td>1</td>\n",
              "      <td>0</td>\n",
              "      <td>0</td>\n",
              "      <td>0</td>\n",
              "      <td>71</td>\n",
              "      <td>0</td>\n",
              "      <td>0</td>\n",
              "      <td>0</td>\n",
              "      <td>0</td>\n",
              "      <td>1</td>\n",
              "      <td>0</td>\n",
              "      <td>0</td>\n",
              "      <td>0</td>\n",
              "    </tr>\n",
              "    <tr>\n",
              "      <th>2</th>\n",
              "      <td>0</td>\n",
              "      <td>0</td>\n",
              "      <td>29.70</td>\n",
              "      <td>-49.5</td>\n",
              "      <td>1</td>\n",
              "      <td>65</td>\n",
              "      <td>1</td>\n",
              "      <td>0</td>\n",
              "      <td>0</td>\n",
              "      <td>0</td>\n",
              "      <td>32</td>\n",
              "      <td>0</td>\n",
              "      <td>0</td>\n",
              "      <td>0</td>\n",
              "      <td>0</td>\n",
              "      <td>0</td>\n",
              "      <td>0</td>\n",
              "      <td>0</td>\n",
              "      <td>0</td>\n",
              "    </tr>\n",
              "    <tr>\n",
              "      <th>3</th>\n",
              "      <td>0</td>\n",
              "      <td>0</td>\n",
              "      <td>23.76</td>\n",
              "      <td>-39.6</td>\n",
              "      <td>1</td>\n",
              "      <td>60</td>\n",
              "      <td>1</td>\n",
              "      <td>0</td>\n",
              "      <td>0</td>\n",
              "      <td>0</td>\n",
              "      <td>32</td>\n",
              "      <td>0</td>\n",
              "      <td>0</td>\n",
              "      <td>0</td>\n",
              "      <td>0</td>\n",
              "      <td>0</td>\n",
              "      <td>0</td>\n",
              "      <td>0</td>\n",
              "      <td>0</td>\n",
              "    </tr>\n",
              "    <tr>\n",
              "      <th>4</th>\n",
              "      <td>0</td>\n",
              "      <td>0</td>\n",
              "      <td>11.88</td>\n",
              "      <td>-19.8</td>\n",
              "      <td>1</td>\n",
              "      <td>79</td>\n",
              "      <td>1</td>\n",
              "      <td>0</td>\n",
              "      <td>0</td>\n",
              "      <td>0</td>\n",
              "      <td>41</td>\n",
              "      <td>0</td>\n",
              "      <td>0</td>\n",
              "      <td>0</td>\n",
              "      <td>0</td>\n",
              "      <td>0</td>\n",
              "      <td>0</td>\n",
              "      <td>0</td>\n",
              "      <td>0</td>\n",
              "    </tr>\n",
              "    <tr>\n",
              "      <th>...</th>\n",
              "      <td>...</td>\n",
              "      <td>...</td>\n",
              "      <td>...</td>\n",
              "      <td>...</td>\n",
              "      <td>...</td>\n",
              "      <td>...</td>\n",
              "      <td>...</td>\n",
              "      <td>...</td>\n",
              "      <td>...</td>\n",
              "      <td>...</td>\n",
              "      <td>...</td>\n",
              "      <td>...</td>\n",
              "      <td>...</td>\n",
              "      <td>...</td>\n",
              "      <td>...</td>\n",
              "      <td>...</td>\n",
              "      <td>...</td>\n",
              "      <td>...</td>\n",
              "      <td>...</td>\n",
              "    </tr>\n",
              "    <tr>\n",
              "      <th>62337</th>\n",
              "      <td>0</td>\n",
              "      <td>0</td>\n",
              "      <td>12.25</td>\n",
              "      <td>35.0</td>\n",
              "      <td>0</td>\n",
              "      <td>111</td>\n",
              "      <td>0</td>\n",
              "      <td>0</td>\n",
              "      <td>0</td>\n",
              "      <td>1</td>\n",
              "      <td>31</td>\n",
              "      <td>0</td>\n",
              "      <td>1</td>\n",
              "      <td>0</td>\n",
              "      <td>1</td>\n",
              "      <td>0</td>\n",
              "      <td>1</td>\n",
              "      <td>0</td>\n",
              "      <td>0</td>\n",
              "    </tr>\n",
              "    <tr>\n",
              "      <th>62338</th>\n",
              "      <td>0</td>\n",
              "      <td>0</td>\n",
              "      <td>14.00</td>\n",
              "      <td>40.0</td>\n",
              "      <td>0</td>\n",
              "      <td>58</td>\n",
              "      <td>0</td>\n",
              "      <td>0</td>\n",
              "      <td>0</td>\n",
              "      <td>1</td>\n",
              "      <td>40</td>\n",
              "      <td>0</td>\n",
              "      <td>1</td>\n",
              "      <td>0</td>\n",
              "      <td>1</td>\n",
              "      <td>1</td>\n",
              "      <td>0</td>\n",
              "      <td>0</td>\n",
              "      <td>0</td>\n",
              "    </tr>\n",
              "    <tr>\n",
              "      <th>62339</th>\n",
              "      <td>0</td>\n",
              "      <td>0</td>\n",
              "      <td>6.30</td>\n",
              "      <td>18.0</td>\n",
              "      <td>0</td>\n",
              "      <td>2</td>\n",
              "      <td>0</td>\n",
              "      <td>0</td>\n",
              "      <td>0</td>\n",
              "      <td>1</td>\n",
              "      <td>57</td>\n",
              "      <td>0</td>\n",
              "      <td>1</td>\n",
              "      <td>0</td>\n",
              "      <td>1</td>\n",
              "      <td>0</td>\n",
              "      <td>1</td>\n",
              "      <td>0</td>\n",
              "      <td>0</td>\n",
              "    </tr>\n",
              "    <tr>\n",
              "      <th>62340</th>\n",
              "      <td>0</td>\n",
              "      <td>0</td>\n",
              "      <td>6.30</td>\n",
              "      <td>18.0</td>\n",
              "      <td>0</td>\n",
              "      <td>3</td>\n",
              "      <td>0</td>\n",
              "      <td>0</td>\n",
              "      <td>0</td>\n",
              "      <td>1</td>\n",
              "      <td>63</td>\n",
              "      <td>0</td>\n",
              "      <td>1</td>\n",
              "      <td>0</td>\n",
              "      <td>1</td>\n",
              "      <td>0</td>\n",
              "      <td>1</td>\n",
              "      <td>0</td>\n",
              "      <td>0</td>\n",
              "    </tr>\n",
              "    <tr>\n",
              "      <th>62341</th>\n",
              "      <td>0</td>\n",
              "      <td>0</td>\n",
              "      <td>9.10</td>\n",
              "      <td>26.0</td>\n",
              "      <td>0</td>\n",
              "      <td>22</td>\n",
              "      <td>0</td>\n",
              "      <td>0</td>\n",
              "      <td>0</td>\n",
              "      <td>1</td>\n",
              "      <td>35</td>\n",
              "      <td>0</td>\n",
              "      <td>1</td>\n",
              "      <td>0</td>\n",
              "      <td>1</td>\n",
              "      <td>1</td>\n",
              "      <td>0</td>\n",
              "      <td>0</td>\n",
              "      <td>0</td>\n",
              "    </tr>\n",
              "  </tbody>\n",
              "</table>\n",
              "<p>62342 rows × 19 columns</p>\n",
              "</div>"
            ],
            "text/plain": [
              "       Agency_C2B  Destination_SINGAPORE  ...  Agency_LWC  Product Name_Silver Plan\n",
              "0               0                      0  ...           0                         0\n",
              "1               0                      0  ...           0                         0\n",
              "2               0                      0  ...           0                         0\n",
              "3               0                      0  ...           0                         0\n",
              "4               0                      0  ...           0                         0\n",
              "...           ...                    ...  ...         ...                       ...\n",
              "62337           0                      0  ...           0                         0\n",
              "62338           0                      0  ...           0                         0\n",
              "62339           0                      0  ...           0                         0\n",
              "62340           0                      0  ...           0                         0\n",
              "62341           0                      0  ...           0                         0\n",
              "\n",
              "[62342 rows x 19 columns]"
            ]
          },
          "metadata": {
            "tags": []
          },
          "execution_count": 59
        }
      ]
    },
    {
      "cell_type": "code",
      "metadata": {
        "id": "27Xv7U47Fr3h",
        "colab_type": "code",
        "colab": {
          "base_uri": "https://localhost:8080/",
          "height": 51
        },
        "outputId": "4632ece9-2e62-490b-bdd9-bcf5719875f3"
      },
      "source": [
        "X_train, X_test, y_train, y_test = train_test_split(new_ohe,target,test_size = 0.25, random_state = 21, stratify = target)\n",
        "X_u_train, y_u_train = balance(X_train, y_train.values.ravel(),'rus')"
      ],
      "execution_count": 60,
      "outputs": [
        {
          "output_type": "stream",
          "text": [
            "Dataset shape after Random Under Sampling Counter({0: 688, 1: 688})\n",
            "After RUS the number of Rows Training set has are :  1376\n"
          ],
          "name": "stdout"
        }
      ]
    },
    {
      "cell_type": "code",
      "metadata": {
        "id": "isdXtp-3FwVG",
        "colab_type": "code",
        "colab": {
          "base_uri": "https://localhost:8080/",
          "height": 551
        },
        "outputId": "4925d5a4-496d-43c0-f7f1-0087d7611767"
      },
      "source": [
        "clf_dt = RandomForestClassifier()\n",
        "param_grid = {\n",
        "   'max_leaf_nodes': [ 40,50 ],\n",
        "   'class_weight' : ['balanced'],\n",
        "   'criterion' :['gini','entropy'] ,\n",
        "   'max_depth' : [ 30, 50, 100 ],\n",
        "   'min_samples_split': [ 2, 3, 4]\n",
        "    }\n",
        "CV_dt = GridSearchCV(estimator=clf_dt, param_grid=param_grid, cv= 3)\n",
        "CV_dt.fit(X_u_train, y_u_train)\n",
        "clf_best_dt = CV_dt.best_estimator_\n",
        "print(clf_best_dt)\n",
        "y_pred = clf_best_dt.predict(X_test)\n",
        "print_result(y_test=y_test,y_pred=y_pred)"
      ],
      "execution_count": 61,
      "outputs": [
        {
          "output_type": "stream",
          "text": [
            "RandomForestClassifier(bootstrap=True, ccp_alpha=0.0, class_weight='balanced',\n",
            "                       criterion='gini', max_depth=50, max_features='auto',\n",
            "                       max_leaf_nodes=50, max_samples=None,\n",
            "                       min_impurity_decrease=0.0, min_impurity_split=None,\n",
            "                       min_samples_leaf=1, min_samples_split=3,\n",
            "                       min_weight_fraction_leaf=0.0, n_estimators=100,\n",
            "                       n_jobs=None, oob_score=False, random_state=None,\n",
            "                       verbose=0, warm_start=False)\n",
            "Confusion Matrix       : \n",
            " [[12121  3236]\n",
            " [   61   168]]\n",
            "Accuracy of Model      :  0.7884640061593738\n",
            "Precision of Model     :  0.04935370152761457\n",
            "Recall of Model        :  0.7336244541484717\n",
            "F1 Score of Model      :  0.09248554913294797\n",
            "ROC_AUC score of Model :  0.7614531074545184\n"
          ],
          "name": "stdout"
        },
        {
          "output_type": "display_data",
          "data": {
            "image/png": "[encoded data removed]",
            "text/plain": [
              "<Figure size 432x288 with 1 Axes>"
            ]
          },
          "metadata": {
            "tags": [],
            "needs_background": "light"
          }
        }
      ]
    },
    {
      "cell_type": "code",
      "metadata": {
        "id": "v2ABZhtVUNnc",
        "colab_type": "code",
        "colab": {}
      },
      "source": [
        "'''\n",
        "Before Feature selection \n",
        "Confusion Matrix       : \n",
        " [[12298  3059]\n",
        " [   69   160]]\n",
        "\n",
        "After Feature Selection \n",
        "Confusion Matrix       : \n",
        " [[12121  3236]\n",
        " [   61   168]]\n",
        "'''\n"
      ],
      "execution_count": null,
      "outputs": []
    },
    {
      "cell_type": "markdown",
      "metadata": {
        "id": "7oHSpP2VS-ug",
        "colab_type": "text"
      },
      "source": [
        "### without hyperparameter tuning "
      ]
    },
    {
      "cell_type": "code",
      "metadata": {
        "id": "m7g9DA3kymXw",
        "colab_type": "code",
        "colab": {
          "base_uri": "https://localhost:8080/",
          "height": 340
        },
        "outputId": "8c4be21b-fa66-4e35-d36a-a740b7d2abde"
      },
      "source": [
        "l2=imp['col'][0:19].to_list()\n",
        "l2"
      ],
      "execution_count": 62,
      "outputs": [
        {
          "output_type": "execute_result",
          "data": {
            "text/plain": [
              "['Duration',\n",
              " 'Net Sales',\n",
              " 'Age',\n",
              " 'Commision (in value)',\n",
              " 'Agency_C2B',\n",
              " 'Destination_SINGAPORE',\n",
              " 'Gender_N',\n",
              " 'Product Name_Cancellation Plan',\n",
              " 'Agency_EPX',\n",
              " 'Agency Type_Travel Agency',\n",
              " 'Product Name_2 way Comprehensive Plan',\n",
              " 'Gender_F',\n",
              " 'Agency_JZI',\n",
              " 'Agency Type_Airlines',\n",
              " 'Product Name_Basic Plan',\n",
              " 'Product Name_Bronze Plan',\n",
              " 'Destination_THAILAND',\n",
              " 'Destination_MALAYSIA',\n",
              " 'Product Name_Annual Silver Plan']"
            ]
          },
          "metadata": {
            "tags": []
          },
          "execution_count": 62
        }
      ]
    },
    {
      "cell_type": "code",
      "metadata": {
        "id": "hSZoaZuwTCos",
        "colab_type": "code",
        "colab": {
          "base_uri": "https://localhost:8080/",
          "height": 275
        },
        "outputId": "92e2ca42-3185-45ce-98b2-50738ac9a275"
      },
      "source": [
        "new_ohe2=ohe_df[l]\n",
        "new_ohe2.head()"
      ],
      "execution_count": 63,
      "outputs": [
        {
          "output_type": "execute_result",
          "data": {
            "text/html": [
              "<div>\n",
              "<style scoped>\n",
              "    .dataframe tbody tr th:only-of-type {\n",
              "        vertical-align: middle;\n",
              "    }\n",
              "\n",
              "    .dataframe tbody tr th {\n",
              "        vertical-align: top;\n",
              "    }\n",
              "\n",
              "    .dataframe thead th {\n",
              "        text-align: right;\n",
              "    }\n",
              "</style>\n",
              "<table border=\"1\" class=\"dataframe\">\n",
              "  <thead>\n",
              "    <tr style=\"text-align: right;\">\n",
              "      <th></th>\n",
              "      <th>Agency_C2B</th>\n",
              "      <th>Destination_SINGAPORE</th>\n",
              "      <th>Commision (in value)</th>\n",
              "      <th>Net Sales</th>\n",
              "      <th>Gender_N</th>\n",
              "      <th>Duration</th>\n",
              "      <th>Agency Type_Travel Agency</th>\n",
              "      <th>Agency_EPX</th>\n",
              "      <th>Product Name_Cancellation Plan</th>\n",
              "      <th>Agency Type_Airlines</th>\n",
              "      <th>Age</th>\n",
              "      <th>Product Name_2 way Comprehensive Plan</th>\n",
              "      <th>Agency_JZI</th>\n",
              "      <th>Product Name_Bronze Plan</th>\n",
              "      <th>Product Name_Basic Plan</th>\n",
              "      <th>Gender_F</th>\n",
              "      <th>Gender_M</th>\n",
              "      <th>Agency_LWC</th>\n",
              "      <th>Product Name_Silver Plan</th>\n",
              "    </tr>\n",
              "  </thead>\n",
              "  <tbody>\n",
              "    <tr>\n",
              "      <th>0</th>\n",
              "      <td>0</td>\n",
              "      <td>0</td>\n",
              "      <td>9.57</td>\n",
              "      <td>-29.0</td>\n",
              "      <td>0</td>\n",
              "      <td>186</td>\n",
              "      <td>1</td>\n",
              "      <td>0</td>\n",
              "      <td>0</td>\n",
              "      <td>0</td>\n",
              "      <td>81</td>\n",
              "      <td>0</td>\n",
              "      <td>0</td>\n",
              "      <td>0</td>\n",
              "      <td>0</td>\n",
              "      <td>1</td>\n",
              "      <td>0</td>\n",
              "      <td>0</td>\n",
              "      <td>0</td>\n",
              "    </tr>\n",
              "    <tr>\n",
              "      <th>1</th>\n",
              "      <td>0</td>\n",
              "      <td>0</td>\n",
              "      <td>9.57</td>\n",
              "      <td>-29.0</td>\n",
              "      <td>0</td>\n",
              "      <td>186</td>\n",
              "      <td>1</td>\n",
              "      <td>0</td>\n",
              "      <td>0</td>\n",
              "      <td>0</td>\n",
              "      <td>71</td>\n",
              "      <td>0</td>\n",
              "      <td>0</td>\n",
              "      <td>0</td>\n",
              "      <td>0</td>\n",
              "      <td>1</td>\n",
              "      <td>0</td>\n",
              "      <td>0</td>\n",
              "      <td>0</td>\n",
              "    </tr>\n",
              "    <tr>\n",
              "      <th>2</th>\n",
              "      <td>0</td>\n",
              "      <td>0</td>\n",
              "      <td>29.70</td>\n",
              "      <td>-49.5</td>\n",
              "      <td>1</td>\n",
              "      <td>65</td>\n",
              "      <td>1</td>\n",
              "      <td>0</td>\n",
              "      <td>0</td>\n",
              "      <td>0</td>\n",
              "      <td>32</td>\n",
              "      <td>0</td>\n",
              "      <td>0</td>\n",
              "      <td>0</td>\n",
              "      <td>0</td>\n",
              "      <td>0</td>\n",
              "      <td>0</td>\n",
              "      <td>0</td>\n",
              "      <td>0</td>\n",
              "    </tr>\n",
              "    <tr>\n",
              "      <th>3</th>\n",
              "      <td>0</td>\n",
              "      <td>0</td>\n",
              "      <td>23.76</td>\n",
              "      <td>-39.6</td>\n",
              "      <td>1</td>\n",
              "      <td>60</td>\n",
              "      <td>1</td>\n",
              "      <td>0</td>\n",
              "      <td>0</td>\n",
              "      <td>0</td>\n",
              "      <td>32</td>\n",
              "      <td>0</td>\n",
              "      <td>0</td>\n",
              "      <td>0</td>\n",
              "      <td>0</td>\n",
              "      <td>0</td>\n",
              "      <td>0</td>\n",
              "      <td>0</td>\n",
              "      <td>0</td>\n",
              "    </tr>\n",
              "    <tr>\n",
              "      <th>4</th>\n",
              "      <td>0</td>\n",
              "      <td>0</td>\n",
              "      <td>11.88</td>\n",
              "      <td>-19.8</td>\n",
              "      <td>1</td>\n",
              "      <td>79</td>\n",
              "      <td>1</td>\n",
              "      <td>0</td>\n",
              "      <td>0</td>\n",
              "      <td>0</td>\n",
              "      <td>41</td>\n",
              "      <td>0</td>\n",
              "      <td>0</td>\n",
              "      <td>0</td>\n",
              "      <td>0</td>\n",
              "      <td>0</td>\n",
              "      <td>0</td>\n",
              "      <td>0</td>\n",
              "      <td>0</td>\n",
              "    </tr>\n",
              "  </tbody>\n",
              "</table>\n",
              "</div>"
            ],
            "text/plain": [
              "   Agency_C2B  Destination_SINGAPORE  ...  Agency_LWC  Product Name_Silver Plan\n",
              "0           0                      0  ...           0                         0\n",
              "1           0                      0  ...           0                         0\n",
              "2           0                      0  ...           0                         0\n",
              "3           0                      0  ...           0                         0\n",
              "4           0                      0  ...           0                         0\n",
              "\n",
              "[5 rows x 19 columns]"
            ]
          },
          "metadata": {
            "tags": []
          },
          "execution_count": 63
        }
      ]
    },
    {
      "cell_type": "code",
      "metadata": {
        "id": "SBNO6AwsBs1u",
        "colab_type": "code",
        "colab": {
          "base_uri": "https://localhost:8080/",
          "height": 51
        },
        "outputId": "f88a714b-3121-4d90-9d3c-c139f59cd527"
      },
      "source": [
        "X_train, X_test, y_train, y_test = train_test_split(new_ohe2,target,test_size = 0.25, random_state = 21, stratify = target)\n",
        "X_u_train, y_u_train = balance(X_train, y_train.values.ravel(),'rus')"
      ],
      "execution_count": 64,
      "outputs": [
        {
          "output_type": "stream",
          "text": [
            "Dataset shape after Random Under Sampling Counter({0: 688, 1: 688})\n",
            "After RUS the number of Rows Training set has are :  1376\n"
          ],
          "name": "stdout"
        }
      ]
    },
    {
      "cell_type": "code",
      "metadata": {
        "id": "B9m4oaOJB8zn",
        "colab_type": "code",
        "colab": {
          "base_uri": "https://localhost:8080/",
          "height": 568
        },
        "outputId": "1550bca9-fd53-40a7-ca6d-d7bb15fcec58"
      },
      "source": [
        "clf_dt = RandomForestClassifier(random_state=42)\n",
        "clf_dt.fit(X_u_train, y_u_train)\n",
        "y_pred = clf_dt.predict(X_test)\n",
        "print(clf_dt)\n",
        "print(y_pred)\n",
        "print_result(y_test=y_test,y_pred=y_pred)"
      ],
      "execution_count": 65,
      "outputs": [
        {
          "output_type": "stream",
          "text": [
            "RandomForestClassifier(bootstrap=True, ccp_alpha=0.0, class_weight=None,\n",
            "                       criterion='gini', max_depth=None, max_features='auto',\n",
            "                       max_leaf_nodes=None, max_samples=None,\n",
            "                       min_impurity_decrease=0.0, min_impurity_split=None,\n",
            "                       min_samples_leaf=1, min_samples_split=2,\n",
            "                       min_weight_fraction_leaf=0.0, n_estimators=100,\n",
            "                       n_jobs=None, oob_score=False, random_state=42, verbose=0,\n",
            "                       warm_start=False)\n",
            "[0 0 0 ... 0 1 0]\n",
            "Confusion Matrix       : \n",
            " [[11073  4284]\n",
            " [   61   168]]\n",
            "Accuracy of Model      :  0.7212241755421532\n",
            "Precision of Model     :  0.03773584905660377\n",
            "Recall of Model        :  0.7336244541484717\n",
            "F1 Score of Model      :  0.0717795342875454\n",
            "ROC_AUC score of Model :  0.7273318598150055\n"
          ],
          "name": "stdout"
        },
        {
          "output_type": "display_data",
          "data": {
            "image/png": "[encoded data removed]",
            "text/plain": [
              "<Figure size 432x288 with 1 Axes>"
            ]
          },
          "metadata": {
            "tags": [],
            "needs_background": "light"
          }
        }
      ]
    },
    {
      "cell_type": "code",
      "metadata": {
        "id": "47oKxiuTUAC-",
        "colab_type": "code",
        "colab": {}
      },
      "source": [
        "'''\n",
        "Before feature slection \n",
        "Confusion Matrix       : \n",
        " [[11313  4044]\n",
        " [   58   171]] \n",
        "\n",
        "After feature selection \n",
        "Confusion Matrix       : \n",
        " [[11073  4284]\n",
        " [   61   168]]\n",
        "\n",
        " \n",
        "'''"
      ],
      "execution_count": null,
      "outputs": []
    },
    {
      "cell_type": "code",
      "metadata": {
        "id": "u8Hj58XvC1Tx",
        "colab_type": "code",
        "colab": {
          "base_uri": "https://localhost:8080/",
          "height": 102
        },
        "outputId": "7b5d4d72-c72e-4f30-d01d-e85d718aa999"
      },
      "source": [
        "for i in range(0,int((10/199)*100)):\n",
        "  print(aa[i])"
      ],
      "execution_count": 55,
      "outputs": [
        {
          "output_type": "stream",
          "text": [
            "0.1899969893841905\n",
            "0.16455821381903615\n",
            "0.12841578923148111\n",
            "0.08797555402764885\n",
            "0.05426085473635304\n"
          ],
          "name": "stdout"
        }
      ]
    }
  ]
}