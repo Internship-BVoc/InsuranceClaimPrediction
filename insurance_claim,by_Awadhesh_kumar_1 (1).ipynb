{
  "nbformat": 4,
  "nbformat_minor": 0,
  "metadata": {
    "colab": {
      "name": "insurance claim,by Awadhesh kumar ..1.ipynb",
      "provenance": []
    },
    "kernelspec": {
      "name": "python3",
      "display_name": "Python 3"
    }
  },
  "cells": [
    {
      "cell_type": "code",
      "metadata": {
        "id": "3-U6QQSbzWGP",
        "colab_type": "code",
        "colab": {}
      },
      "source": [
        "import pandas as pd\n"
      ],
      "execution_count": 1,
      "outputs": []
    },
    {
      "cell_type": "code",
      "metadata": {
        "id": "KmWzh6WP58GU",
        "colab_type": "code",
        "colab": {
          "base_uri": "https://localhost:8080/",
          "height": 391
        },
        "outputId": "b303ad24-5928-4fe5-d8c6-f5723efe68de"
      },
      "source": [
        "df=pd.read_csv(\"/content/travel insurance1.csv\")\n",
        "df.head()"
      ],
      "execution_count": 2,
      "outputs": [
        {
          "output_type": "execute_result",
          "data": {
            "text/html": [
              "<div>\n",
              "<style scoped>\n",
              "    .dataframe tbody tr th:only-of-type {\n",
              "        vertical-align: middle;\n",
              "    }\n",
              "\n",
              "    .dataframe tbody tr th {\n",
              "        vertical-align: top;\n",
              "    }\n",
              "\n",
              "    .dataframe thead th {\n",
              "        text-align: right;\n",
              "    }\n",
              "</style>\n",
              "<table border=\"1\" class=\"dataframe\">\n",
              "  <thead>\n",
              "    <tr style=\"text-align: right;\">\n",
              "      <th></th>\n",
              "      <th>Agency</th>\n",
              "      <th>Agency Type</th>\n",
              "      <th>Distribution Channel</th>\n",
              "      <th>Product Name</th>\n",
              "      <th>Claim</th>\n",
              "      <th>Duration</th>\n",
              "      <th>Destination</th>\n",
              "      <th>Net Sales</th>\n",
              "      <th>Commision (in value)</th>\n",
              "      <th>Gender</th>\n",
              "      <th>Age</th>\n",
              "    </tr>\n",
              "  </thead>\n",
              "  <tbody>\n",
              "    <tr>\n",
              "      <th>0</th>\n",
              "      <td>CBH</td>\n",
              "      <td>Travel Agency</td>\n",
              "      <td>Offline</td>\n",
              "      <td>Comprehensive Plan</td>\n",
              "      <td>No</td>\n",
              "      <td>186</td>\n",
              "      <td>MALAYSIA</td>\n",
              "      <td>-29.0</td>\n",
              "      <td>9.57</td>\n",
              "      <td>F</td>\n",
              "      <td>81</td>\n",
              "    </tr>\n",
              "    <tr>\n",
              "      <th>1</th>\n",
              "      <td>CBH</td>\n",
              "      <td>Travel Agency</td>\n",
              "      <td>Offline</td>\n",
              "      <td>Comprehensive Plan</td>\n",
              "      <td>No</td>\n",
              "      <td>186</td>\n",
              "      <td>MALAYSIA</td>\n",
              "      <td>-29.0</td>\n",
              "      <td>9.57</td>\n",
              "      <td>F</td>\n",
              "      <td>71</td>\n",
              "    </tr>\n",
              "    <tr>\n",
              "      <th>2</th>\n",
              "      <td>CWT</td>\n",
              "      <td>Travel Agency</td>\n",
              "      <td>Online</td>\n",
              "      <td>Rental Vehicle Excess Insurance</td>\n",
              "      <td>No</td>\n",
              "      <td>65</td>\n",
              "      <td>AUSTRALIA</td>\n",
              "      <td>-49.5</td>\n",
              "      <td>29.70</td>\n",
              "      <td>NaN</td>\n",
              "      <td>32</td>\n",
              "    </tr>\n",
              "    <tr>\n",
              "      <th>3</th>\n",
              "      <td>CWT</td>\n",
              "      <td>Travel Agency</td>\n",
              "      <td>Online</td>\n",
              "      <td>Rental Vehicle Excess Insurance</td>\n",
              "      <td>No</td>\n",
              "      <td>60</td>\n",
              "      <td>AUSTRALIA</td>\n",
              "      <td>-39.6</td>\n",
              "      <td>23.76</td>\n",
              "      <td>NaN</td>\n",
              "      <td>32</td>\n",
              "    </tr>\n",
              "    <tr>\n",
              "      <th>4</th>\n",
              "      <td>CWT</td>\n",
              "      <td>Travel Agency</td>\n",
              "      <td>Online</td>\n",
              "      <td>Rental Vehicle Excess Insurance</td>\n",
              "      <td>No</td>\n",
              "      <td>79</td>\n",
              "      <td>ITALY</td>\n",
              "      <td>-19.8</td>\n",
              "      <td>11.88</td>\n",
              "      <td>NaN</td>\n",
              "      <td>41</td>\n",
              "    </tr>\n",
              "  </tbody>\n",
              "</table>\n",
              "</div>"
            ],
            "text/plain": [
              "  Agency    Agency Type Distribution Channel  ... Commision (in value) Gender  Age\n",
              "0    CBH  Travel Agency              Offline  ...                 9.57      F   81\n",
              "1    CBH  Travel Agency              Offline  ...                 9.57      F   71\n",
              "2    CWT  Travel Agency               Online  ...                29.70    NaN   32\n",
              "3    CWT  Travel Agency               Online  ...                23.76    NaN   32\n",
              "4    CWT  Travel Agency               Online  ...                11.88    NaN   41\n",
              "\n",
              "[5 rows x 11 columns]"
            ]
          },
          "metadata": {
            "tags": []
          },
          "execution_count": 2
        }
      ]
    },
    {
      "cell_type": "markdown",
      "metadata": {
        "id": "T66nJO-7t5_C",
        "colab_type": "text"
      },
      "source": [
        "**#1. Perform Dataset overview,uni-variate & Bi -variate analysis with chats**"
      ]
    },
    {
      "cell_type": "code",
      "metadata": {
        "id": "T-wxCOAX7H2K",
        "colab_type": "code",
        "colab": {
          "base_uri": "https://localhost:8080/",
          "height": 90
        },
        "outputId": "bac8312f-0bd1-4ad5-f9a9-a24763f4799a"
      },
      "source": [
        "print(df.shape,df.columns)"
      ],
      "execution_count": 3,
      "outputs": [
        {
          "output_type": "stream",
          "text": [
            "(63326, 11) Index(['Agency', 'Agency Type', 'Distribution Channel', 'Product Name',\n",
            "       'Claim', 'Duration', 'Destination', 'Net Sales', 'Commision (in value)',\n",
            "       'Gender', 'Age'],\n",
            "      dtype='object')\n"
          ],
          "name": "stdout"
        }
      ]
    },
    {
      "cell_type": "code",
      "metadata": {
        "id": "UxWn8_h87Zis",
        "colab_type": "code",
        "colab": {
          "base_uri": "https://localhost:8080/",
          "height": 345
        },
        "outputId": "215fb05b-e98c-4d53-b0ce-0ca7d2de2bfa"
      },
      "source": [
        "# find out the agency and age in this data\n",
        "df.groupby(['Agency'])['Age'].count()"
      ],
      "execution_count": 4,
      "outputs": [
        {
          "output_type": "execute_result",
          "data": {
            "text/plain": [
              "Agency\n",
              "ADM       82\n",
              "ART      331\n",
              "C2B     8267\n",
              "CBH      101\n",
              "CCR      194\n",
              "CSR       86\n",
              "CWT     8580\n",
              "EPX    35119\n",
              "JWT      749\n",
              "JZI     6329\n",
              "KML      392\n",
              "LWC      689\n",
              "RAB      725\n",
              "SSI     1056\n",
              "TST      528\n",
              "TTW       98\n",
              "Name: Age, dtype: int64"
            ]
          },
          "metadata": {
            "tags": []
          },
          "execution_count": 4
        }
      ]
    },
    {
      "cell_type": "markdown",
      "metadata": {
        "id": "WusL8QVpBQuC",
        "colab_type": "text"
      },
      "source": [
        "**Categorical Variables and overview of data**"
      ]
    },
    {
      "cell_type": "code",
      "metadata": {
        "id": "wStefJCRBZeG",
        "colab_type": "code",
        "colab": {
          "base_uri": "https://localhost:8080/",
          "height": 145
        },
        "outputId": "a906abdf-07bd-4677-f2ec-2157b2fa15b3"
      },
      "source": [
        "# unique of age\n",
        "df['Age'].unique()"
      ],
      "execution_count": 5,
      "outputs": [
        {
          "output_type": "execute_result",
          "data": {
            "text/plain": [
              "array([ 81,  71,  32,  41,  44,  29,  37, 118,  47,  48,  64,  36,  53,\n",
              "        43,  58,  25,  34,  26,  30,  33,  35,  31,  61,  20,  46,  49,\n",
              "        50,  62,  65,  24,  40,  21,  66,  57,  45,  52,  60,  27,  23,\n",
              "        39,  59,  28,  67,  38,  72,  51,  55,  54,  69,  22,  78,  42,\n",
              "        70,  68,  77,  63,  56,  79,  76,  16,  14,  73,  18,  19,  74,\n",
              "        85,  84,  13,  75,  87,  80,  83,  12,  10,   8,  17,  15,   9,\n",
              "        11,  86,   3,  82,   1,   5,  88,   2,   4,   0,   7])"
            ]
          },
          "metadata": {
            "tags": []
          },
          "execution_count": 5
        }
      ]
    },
    {
      "cell_type": "code",
      "metadata": {
        "id": "zNFmpHuGDMa8",
        "colab_type": "code",
        "colab": {
          "base_uri": "https://localhost:8080/",
          "height": 35
        },
        "outputId": "b54fa104-36f0-418c-a704-e5e3c96d4269"
      },
      "source": [
        "# unique of agency type \n",
        "df['Agency Type'].unique()"
      ],
      "execution_count": 6,
      "outputs": [
        {
          "output_type": "execute_result",
          "data": {
            "text/plain": [
              "array(['Travel Agency', 'Airlines'], dtype=object)"
            ]
          },
          "metadata": {
            "tags": []
          },
          "execution_count": 6
        }
      ]
    },
    {
      "cell_type": "code",
      "metadata": {
        "id": "CB56ORI0DhPQ",
        "colab_type": "code",
        "colab": {
          "base_uri": "https://localhost:8080/",
          "height": 54
        },
        "outputId": "cfcfe728-ceeb-4408-97b5-07cd548bf8d5"
      },
      "source": [
        "# unique of Agency \n",
        "df['Agency'].unique()"
      ],
      "execution_count": 7,
      "outputs": [
        {
          "output_type": "execute_result",
          "data": {
            "text/plain": [
              "array(['CBH', 'CWT', 'JZI', 'KML', 'EPX', 'C2B', 'JWT', 'RAB', 'SSI',\n",
              "       'ART', 'CSR', 'CCR', 'ADM', 'LWC', 'TTW', 'TST'], dtype=object)"
            ]
          },
          "metadata": {
            "tags": []
          },
          "execution_count": 7
        }
      ]
    },
    {
      "cell_type": "code",
      "metadata": {
        "id": "ZXFYK9BvDzwp",
        "colab_type": "code",
        "colab": {
          "base_uri": "https://localhost:8080/",
          "height": 35
        },
        "outputId": "5198a757-8e4f-451c-b4ab-993fd30f8adb"
      },
      "source": [
        "# unique of Claim\n",
        "df['Claim'].unique()"
      ],
      "execution_count": 8,
      "outputs": [
        {
          "output_type": "execute_result",
          "data": {
            "text/plain": [
              "array(['No', 'Yes'], dtype=object)"
            ]
          },
          "metadata": {
            "tags": []
          },
          "execution_count": 8
        }
      ]
    },
    {
      "cell_type": "code",
      "metadata": {
        "id": "wcM99KytECkr",
        "colab_type": "code",
        "colab": {
          "base_uri": "https://localhost:8080/",
          "height": 35
        },
        "outputId": "bc5db2dc-ace7-465b-8277-56349dd624e6"
      },
      "source": [
        "# unique of Commision\n",
        "df['Commision (in value)'].unique()"
      ],
      "execution_count": 9,
      "outputs": [
        {
          "output_type": "execute_result",
          "data": {
            "text/plain": [
              "array([ 9.57, 29.7 , 23.76, ..., 21.63, 97.2 ,  3.25])"
            ]
          },
          "metadata": {
            "tags": []
          },
          "execution_count": 9
        }
      ]
    },
    {
      "cell_type": "code",
      "metadata": {
        "id": "tCyuJ1DlFNzY",
        "colab_type": "code",
        "colab": {
          "base_uri": "https://localhost:8080/",
          "height": 654
        },
        "outputId": "df1380d6-b6a7-4d79-930b-5e43528099ae"
      },
      "source": [
        "# unique of Destination\n",
        "df['Destination'].unique()"
      ],
      "execution_count": 10,
      "outputs": [
        {
          "output_type": "execute_result",
          "data": {
            "text/plain": [
              "array(['MALAYSIA', 'AUSTRALIA', 'ITALY', 'UNITED STATES', 'THAILAND',\n",
              "       \"KOREA, DEMOCRATIC PEOPLE'S REPUBLIC OF\", 'NORWAY', 'VIET NAM',\n",
              "       'DENMARK', 'SINGAPORE', 'JAPAN', 'UNITED KINGDOM', 'INDONESIA',\n",
              "       'INDIA', 'CHINA', 'FRANCE', 'TAIWAN, PROVINCE OF CHINA',\n",
              "       'PHILIPPINES', 'MYANMAR', 'HONG KONG', 'KOREA, REPUBLIC OF',\n",
              "       'UNITED ARAB EMIRATES', 'NAMIBIA', 'NEW ZEALAND', 'COSTA RICA',\n",
              "       'BRUNEI DARUSSALAM', 'POLAND', 'SPAIN', 'CZECH REPUBLIC',\n",
              "       'GERMANY', 'SRI LANKA', 'CAMBODIA', 'AUSTRIA', 'SOUTH AFRICA',\n",
              "       'TANZANIA, UNITED REPUBLIC OF', \"LAO PEOPLE'S DEMOCRATIC REPUBLIC\",\n",
              "       'NEPAL', 'NETHERLANDS', 'MACAO', 'CROATIA', 'FINLAND', 'CANADA',\n",
              "       'TUNISIA', 'RUSSIAN FEDERATION', 'GREECE', 'BELGIUM', 'IRELAND',\n",
              "       'SWITZERLAND', 'CHILE', 'ISRAEL', 'BANGLADESH', 'ICELAND',\n",
              "       'PORTUGAL', 'ROMANIA', 'KENYA', 'GEORGIA', 'TURKEY', 'SWEDEN',\n",
              "       'MALDIVES', 'ESTONIA', 'SAUDI ARABIA', 'PAKISTAN', 'QATAR', 'PERU',\n",
              "       'LUXEMBOURG', 'MONGOLIA', 'ARGENTINA', 'CYPRUS', 'FIJI',\n",
              "       'BARBADOS', 'TRINIDAD AND TOBAGO', 'ETHIOPIA', 'PAPUA NEW GUINEA',\n",
              "       'SERBIA', 'JORDAN', 'ECUADOR', 'BENIN', 'OMAN', 'BAHRAIN',\n",
              "       'UGANDA', 'BRAZIL', 'MEXICO', 'HUNGARY', 'AZERBAIJAN', 'MOROCCO',\n",
              "       'URUGUAY', 'MAURITIUS', 'JAMAICA', 'KAZAKHSTAN', 'GHANA',\n",
              "       'UZBEKISTAN', 'SLOVENIA', 'KUWAIT', 'GUAM', 'BULGARIA',\n",
              "       'LITHUANIA', 'NEW CALEDONIA', 'EGYPT', 'ARMENIA', 'BOLIVIA',\n",
              "       'VIRGIN ISLANDS, U.S.', 'PANAMA', 'SIERRA LEONE', 'COLOMBIA',\n",
              "       'PUERTO RICO', 'UKRAINE', 'GUINEA', 'GUADELOUPE',\n",
              "       'MOLDOVA, REPUBLIC OF', 'GUYANA', 'LATVIA', 'ZIMBABWE', 'VANUATU',\n",
              "       'VENEZUELA', 'BOTSWANA', 'BERMUDA', 'MALI', 'KYRGYZSTAN',\n",
              "       'CAYMAN ISLANDS', 'MALTA', 'LEBANON', 'REUNION', 'SEYCHELLES',\n",
              "       'ZAMBIA', 'SAMOA', 'NORTHERN MARIANA ISLANDS', 'NIGERIA',\n",
              "       'DOMINICAN REPUBLIC', 'TAJIKISTAN', 'ALBANIA',\n",
              "       'MACEDONIA, THE FORMER YUGOSLAV REPUBLIC OF',\n",
              "       'LIBYAN ARAB JAMAHIRIYA', 'ANGOLA', 'BELARUS',\n",
              "       'TURKS AND CAICOS ISLANDS', 'FAROE ISLANDS', 'TURKMENISTAN',\n",
              "       'GUINEA-BISSAU', 'CAMEROON', 'BHUTAN', 'RWANDA', 'SOLOMON ISLANDS',\n",
              "       'IRAN, ISLAMIC REPUBLIC OF', 'GUATEMALA', 'FRENCH POLYNESIA',\n",
              "       'TIBET', 'SENEGAL', 'REPUBLIC OF MONTENEGRO',\n",
              "       'BOSNIA AND HERZEGOVINA'], dtype=object)"
            ]
          },
          "metadata": {
            "tags": []
          },
          "execution_count": 10
        }
      ]
    },
    {
      "cell_type": "code",
      "metadata": {
        "id": "I4dAx9xjFaeQ",
        "colab_type": "code",
        "colab": {
          "base_uri": "https://localhost:8080/",
          "height": 35
        },
        "outputId": "df843dff-dcaf-4c2f-b44d-179c8089b01d"
      },
      "source": [
        "# unique of distribution channel\n",
        "df['Distribution Channel'].unique()"
      ],
      "execution_count": 11,
      "outputs": [
        {
          "output_type": "execute_result",
          "data": {
            "text/plain": [
              "array(['Offline', 'Online'], dtype=object)"
            ]
          },
          "metadata": {
            "tags": []
          },
          "execution_count": 11
        }
      ]
    },
    {
      "cell_type": "code",
      "metadata": {
        "id": "KNMDU2wAFw2n",
        "colab_type": "code",
        "colab": {
          "base_uri": "https://localhost:8080/",
          "height": 781
        },
        "outputId": "8dc0224a-0283-4ee5-c6d3-e9abd9ec08b8"
      },
      "source": [
        "# unique of duration\n",
        "df['Duration'].unique()"
      ],
      "execution_count": 12,
      "outputs": [
        {
          "output_type": "execute_result",
          "data": {
            "text/plain": [
              "array([ 186,   65,   60,   79,   66,   47,   63,   57,   33,    1,   53,\n",
              "          5,   39,    6,   48,   11,    3,   14,  136,   12,    7,  190,\n",
              "        364,   29,   28,  153,    4,   54,   24,    9,   45,   35,    8,\n",
              "        183,   36,   38,   13,   27,   16,   19,   18,  189,  105,   23,\n",
              "         15,  180,   90,   91,    2,   17,   10,  279,   92,   22,   64,\n",
              "         37,   31,   41,  126,   50,   55,  181,   76,   43,   56,   20,\n",
              "        164,   26,  152,   30,   32,  111,   34,  201,   62,   81,   42,\n",
              "         49,  124,  118,   52,   59,   73,   21,   25,   94,   46,   82,\n",
              "         40,  130,  388,  369,  368,  114,   85,  133,  103,  110,  147,\n",
              "        306,   75,   83,   70,  104,  131,  202,  179,   61,  365,  374,\n",
              "        386,   86,  100,  244,   99,  108,  277,  107,   87,  276,  123,\n",
              "        122,  148,  278,  204,  112,   78,   97,  142,  351,   68,  163,\n",
              "        197,   95,  125,   51,   69,   44,   71,   72,  178,   80,  150,\n",
              "         74,  171,  127,  160,  168,  158,  325,  116,  215,  149,  212,\n",
              "        282,  174,    0,  155,   67,  101,  135,   93,  328,  106,   77,\n",
              "        151,  198,  146,  266,  102,  273,  144,  175,  274,  275,   58,\n",
              "        113,  154,  117,  140,   84,  327,  115,  165,  143,  367,  159,\n",
              "         96,   98,   89,  173,  230,  269,  132,  366,  109,  192,  169,\n",
              "        268,  271,  270,  166,  431,  129,   88,  263,  185,  242,  128,\n",
              "        233,  203,  145,  170,  239,  191,  156,  182,  283,  281,  267,\n",
              "        121,  326,  370,  321,  120,  255,  403,  392,  161,  167,  288,\n",
              "        141,  223,  240,  265,  187,  397,  378,  139,  172,  229,  119,\n",
              "        134,  235, 4881,  206,  262,  261,  237,  309,  391,  137,  259,\n",
              "        243,  342,  390,  389,  157,  375,  210,  264,  200,  254,  221,\n",
              "        199,  193,  214,  218,  304,  194,  162,  250,  249,  227,  226,\n",
              "        228,  385,  246,  211,  248,  371,  387,  376,  138,  245,  377,\n",
              "        213,  417,  331,  177,  406,  207,  241,  295,  319, 4857,  373,\n",
              "        432,  208,  236,  419,  400,  196,  381,  232,  300,  314,  290,\n",
              "        176, 4847,  311,  225,  318, 4844,  184,  287,  222,  238,  310,\n",
              "        285,  216,  380,  289,  305,  384,  220,  296,  224,  209,  219,\n",
              "        382,  317,  286,  217,  407,  302,  291,  297,  260, 4831,  234,\n",
              "        205, 4829,  294,  299,  383,  324,  257,  427,  293,  284,  740,\n",
              "        334,  312,  292,  247,   -2,  303,  280, 4815,  395,  252,  253,\n",
              "        256,  195,  330,  316,  307,  323,  322,  188,  231,  372,  399,\n",
              "        315,  329,  272,  379,  411,  251,  258, 4784,  402,  436,  409,\n",
              "        547,  396,  457,  393,  394,  401,  426,  487,  408,  361,  398,\n",
              "       4738, 4736,  421,  313,  298,  456,  416,  440,  529,  461,  418,\n",
              "        420,  404,  428,  413, 4685,  430, 4652,  448,  465,  301,  478,\n",
              "        497,  405,  422,  352,  350,  545,  508,  412,  415,  437,  474,\n",
              "        441,  332, 4609,  459,   -1,  435,  472,  410,  424,  531,  434,\n",
              "       4580,  490,  494,  466,  512,  519,  444,  423,  425,  445,  414,\n",
              "        463,  433,  450,  488])"
            ]
          },
          "metadata": {
            "tags": []
          },
          "execution_count": 12
        }
      ]
    },
    {
      "cell_type": "code",
      "metadata": {
        "id": "VkJlI1FVF7ni",
        "colab_type": "code",
        "colab": {
          "base_uri": "https://localhost:8080/",
          "height": 35
        },
        "outputId": "157197c7-634f-4f54-8ba6-968c084b3d77"
      },
      "source": [
        "# unique of gender\n",
        "df['Gender'].unique()"
      ],
      "execution_count": 13,
      "outputs": [
        {
          "output_type": "execute_result",
          "data": {
            "text/plain": [
              "array(['F', nan, 'M'], dtype=object)"
            ]
          },
          "metadata": {
            "tags": []
          },
          "execution_count": 13
        }
      ]
    },
    {
      "cell_type": "code",
      "metadata": {
        "id": "ptPBTifBGI5v",
        "colab_type": "code",
        "colab": {
          "base_uri": "https://localhost:8080/",
          "height": 35
        },
        "outputId": "5f0ee81f-9e71-4b04-9ed4-a641b01e3367"
      },
      "source": [
        "# unique of net sales\n",
        "df['Net Sales'].unique()"
      ],
      "execution_count": 14,
      "outputs": [
        {
          "output_type": "execute_result",
          "data": {
            "text/plain": [
              "array([-29.  , -49.5 , -39.6 , ...,   1.74, 388.8 ,  11.58])"
            ]
          },
          "metadata": {
            "tags": []
          },
          "execution_count": 14
        }
      ]
    },
    {
      "cell_type": "code",
      "metadata": {
        "id": "0LdZcWPyGTNR",
        "colab_type": "code",
        "colab": {
          "base_uri": "https://localhost:8080/",
          "height": 290
        },
        "outputId": "706cbe96-0e64-4b8b-f487-9da37d2da7c8"
      },
      "source": [
        "# unique of product name\n",
        "df['Product Name'].unique()"
      ],
      "execution_count": 15,
      "outputs": [
        {
          "output_type": "execute_result",
          "data": {
            "text/plain": [
              "array(['Comprehensive Plan', 'Rental Vehicle Excess Insurance',\n",
              "       'Value Plan', 'Basic Plan', 'Premier Plan',\n",
              "       '2 way Comprehensive Plan', 'Bronze Plan', 'Silver Plan',\n",
              "       'Annual Silver Plan', 'Cancellation Plan',\n",
              "       '1 way Comprehensive Plan', 'Ticket Protector', '24 Protect',\n",
              "       'Gold Plan', 'Annual Gold Plan',\n",
              "       'Single Trip Travel Protect Silver',\n",
              "       'Individual Comprehensive Plan',\n",
              "       'Spouse or Parents Comprehensive Plan',\n",
              "       'Annual Travel Protect Silver',\n",
              "       'Single Trip Travel Protect Platinum',\n",
              "       'Annual Travel Protect Gold', 'Single Trip Travel Protect Gold',\n",
              "       'Annual Travel Protect Platinum', 'Child Comprehensive Plan',\n",
              "       'Travel Cruise Protect', 'Travel Cruise Protect Family'],\n",
              "      dtype=object)"
            ]
          },
          "metadata": {
            "tags": []
          },
          "execution_count": 15
        }
      ]
    },
    {
      "cell_type": "markdown",
      "metadata": {
        "id": "MUxf2e-xGh2W",
        "colab_type": "text"
      },
      "source": [
        "**Continous Variables and overview of data**"
      ]
    },
    {
      "cell_type": "code",
      "metadata": {
        "id": "zf3TyLfcGyfw",
        "colab_type": "code",
        "colab": {
          "base_uri": "https://localhost:8080/",
          "height": 35
        },
        "outputId": "3e6e3780-97d5-48ee-b600-df359c10e971"
      },
      "source": [
        "# len of destination \n",
        "len(df['Destination'].unique())"
      ],
      "execution_count": 16,
      "outputs": [
        {
          "output_type": "execute_result",
          "data": {
            "text/plain": [
              "149"
            ]
          },
          "metadata": {
            "tags": []
          },
          "execution_count": 16
        }
      ]
    },
    {
      "cell_type": "code",
      "metadata": {
        "id": "hvJcVYJwHhqH",
        "colab_type": "code",
        "colab": {
          "base_uri": "https://localhost:8080/",
          "height": 35
        },
        "outputId": "d220a8b1-653a-4bee-b81b-541ca557cbbe"
      },
      "source": [
        "# len of duration\n",
        "len(df['Duration'].unique())"
      ],
      "execution_count": 17,
      "outputs": [
        {
          "output_type": "execute_result",
          "data": {
            "text/plain": [
              "455"
            ]
          },
          "metadata": {
            "tags": []
          },
          "execution_count": 17
        }
      ]
    },
    {
      "cell_type": "markdown",
      "metadata": {
        "id": "bNHN2s2TIJJJ",
        "colab_type": "text"
      },
      "source": [
        "**Univariate Analysis**"
      ]
    },
    {
      "cell_type": "code",
      "metadata": {
        "id": "CIg_B3tHIaxG",
        "colab_type": "code",
        "colab": {
          "base_uri": "https://localhost:8080/",
          "height": 481
        },
        "outputId": "9e0ead7d-88ec-406d-ec8a-61cc574b7ada"
      },
      "source": [
        "#travel insurance claim data (continous or categorical) and plots\n",
        "df.hist(figsize=[18,8])"
      ],
      "execution_count": 18,
      "outputs": [
        {
          "output_type": "execute_result",
          "data": {
            "text/plain": [
              "array([[<matplotlib.axes._subplots.AxesSubplot object at 0x7f02955175c0>,\n",
              "        <matplotlib.axes._subplots.AxesSubplot object at 0x7f02954f1898>],\n",
              "       [<matplotlib.axes._subplots.AxesSubplot object at 0x7f02954a9b00>,\n",
              "        <matplotlib.axes._subplots.AxesSubplot object at 0x7f0295459d68>]],\n",
              "      dtype=object)"
            ]
          },
          "metadata": {
            "tags": []
          },
          "execution_count": 18
        },
        {
          "output_type": "display_data",
          "data": {
            "image/png": "[encoded data removed]",
            "text/plain": [
              "<Figure size 1296x576 with 4 Axes>"
            ]
          },
          "metadata": {
            "tags": [],
            "needs_background": "light"
          }
        }
      ]
    },
    {
      "cell_type": "code",
      "metadata": {
        "id": "Xi4PJuKyIw7m",
        "colab_type": "code",
        "colab": {
          "base_uri": "https://localhost:8080/",
          "height": 297
        },
        "outputId": "bc76f019-8215-496a-d885-72e03ce05dd7"
      },
      "source": [
        "# histogram of agency\n",
        "df['Agency'].value_counts().plot.bar()"
      ],
      "execution_count": 19,
      "outputs": [
        {
          "output_type": "execute_result",
          "data": {
            "text/plain": [
              "<matplotlib.axes._subplots.AxesSubplot at 0x7f0294e4dba8>"
            ]
          },
          "metadata": {
            "tags": []
          },
          "execution_count": 19
        },
        {
          "output_type": "display_data",
          "data": {
            "image/png": "[encoded data removed]",
            "text/plain": [
              "<Figure size 432x288 with 1 Axes>"
            ]
          },
          "metadata": {
            "tags": [],
            "needs_background": "light"
          }
        }
      ]
    },
    {
      "cell_type": "code",
      "metadata": {
        "id": "fdA-aGZ-I9WQ",
        "colab_type": "code",
        "colab": {
          "base_uri": "https://localhost:8080/",
          "height": 425
        },
        "outputId": "060c14e4-0455-4e5c-d870-dd6842da8c9b"
      },
      "source": [
        "# histogram of destination\n",
        "df['Destination'].value_counts().plot.bar(figsize=[30,10])"
      ],
      "execution_count": 20,
      "outputs": [
        {
          "output_type": "execute_result",
          "data": {
            "text/plain": [
              "<matplotlib.axes._subplots.AxesSubplot at 0x7f0294decb00>"
            ]
          },
          "metadata": {
            "tags": []
          },
          "execution_count": 20
        },
        {
          "output_type": "display_data",
          "data": {
            "image/png": "[encoded data removed]",
            "text/plain": [
              "<Figure size 2160x720 with 1 Axes>"
            ]
          },
          "metadata": {
            "tags": [],
            "needs_background": "light"
          }
        }
      ]
    },
    {
      "cell_type": "code",
      "metadata": {
        "id": "3nvKvViZJy37",
        "colab_type": "code",
        "colab": {
          "base_uri": "https://localhost:8080/",
          "height": 315
        },
        "outputId": "50c568dd-9dab-4a15-f9e0-5dfdb3a32104"
      },
      "source": [
        "# histogram of duration\n",
        "df['Duration'].value_counts().plot.bar(figsize=[30,10])"
      ],
      "execution_count": 21,
      "outputs": [
        {
          "output_type": "execute_result",
          "data": {
            "text/plain": [
              "<matplotlib.axes._subplots.AxesSubplot at 0x7f0294dae240>"
            ]
          },
          "metadata": {
            "tags": []
          },
          "execution_count": 21
        },
        {
          "output_type": "display_data",
          "data": {
            "image/png": "[encoded data removed]",
            "text/plain": [
              "<Figure size 2160x720 with 1 Axes>"
            ]
          },
          "metadata": {
            "tags": [],
            "needs_background": "light"
          }
        }
      ]
    },
    {
      "cell_type": "markdown",
      "metadata": {
        "id": "7C6umQEQLEgj",
        "colab_type": "text"
      },
      "source": [
        "**Bivariate Analysis of travel insurance claime**"
      ]
    },
    {
      "cell_type": "code",
      "metadata": {
        "id": "9bn1p0FvLPhw",
        "colab_type": "code",
        "colab": {
          "base_uri": "https://localhost:8080/",
          "height": 297
        },
        "outputId": "3574a838-748f-499d-c18e-a73c0a8b9362"
      },
      "source": [
        "df.plot.scatter(x='Claim',y='Net Sales')"
      ],
      "execution_count": 23,
      "outputs": [
        {
          "output_type": "execute_result",
          "data": {
            "text/plain": [
              "<matplotlib.axes._subplots.AxesSubplot at 0x7f029280cc18>"
            ]
          },
          "metadata": {
            "tags": []
          },
          "execution_count": 23
        },
        {
          "output_type": "display_data",
          "data": {
            "image/png": "[encoded data removed]",
            "text/plain": [
              "<Figure size 432x288 with 1 Axes>"
            ]
          },
          "metadata": {
            "tags": [],
            "needs_background": "light"
          }
        }
      ]
    },
    {
      "cell_type": "markdown",
      "metadata": {
        "id": "moqK54mvPX93",
        "colab_type": "text"
      },
      "source": [
        "1. there represent not to be equal Net Sales and duration"
      ]
    },
    {
      "cell_type": "code",
      "metadata": {
        "id": "Tyy0w1uWo_s1",
        "colab_type": "code",
        "colab": {
          "base_uri": "https://localhost:8080/",
          "height": 354
        },
        "outputId": "2811e782-1e98-4f10-93d8-badcd559a00f"
      },
      "source": [
        "import seaborn as sns\n",
        "import matplotlib.pyplot as plt\n",
        "nd = sns.FacetGrid(df,col='Agency Type',height=4, aspect=1)\n",
        "nd = nd.map(plt.hist,\"Claim\",color='r')"
      ],
      "execution_count": 24,
      "outputs": [
        {
          "output_type": "stream",
          "text": [
            "/usr/local/lib/python3.6/dist-packages/statsmodels/tools/_testing.py:19: FutureWarning: pandas.util.testing is deprecated. Use the functions in the public API at pandas.testing instead.\n",
            "  import pandas.util.testing as tm\n"
          ],
          "name": "stderr"
        },
        {
          "output_type": "display_data",
          "data": {
            "image/png": "[encoded data removed]",
            "text/plain": [
              "<Figure size 576x288 with 2 Axes>"
            ]
          },
          "metadata": {
            "tags": [],
            "needs_background": "light"
          }
        }
      ]
    },
    {
      "cell_type": "markdown",
      "metadata": {
        "id": "JgjyHvo5qTHv",
        "colab_type": "text"
      },
      "source": [
        "Agency type maximum than claim"
      ]
    },
    {
      "cell_type": "code",
      "metadata": {
        "id": "fbExbdgMbUxd",
        "colab_type": "code",
        "colab": {
          "base_uri": "https://localhost:8080/",
          "height": 297
        },
        "outputId": "53b917df-e595-4ab6-a37b-50548a2484c7"
      },
      "source": [
        "df.plot.scatter(x='Claim',y='Commision (in value)',color='r')"
      ],
      "execution_count": 29,
      "outputs": [
        {
          "output_type": "execute_result",
          "data": {
            "text/plain": [
              "<matplotlib.axes._subplots.AxesSubplot at 0x7f6aaeda2e10>"
            ]
          },
          "metadata": {
            "tags": []
          },
          "execution_count": 29
        },
        {
          "output_type": "display_data",
          "data": {
            "image/png": "[encoded data removed]",
            "text/plain": [
              "<Figure size 432x288 with 1 Axes>"
            ]
          },
          "metadata": {
            "tags": [],
            "needs_background": "light"
          }
        }
      ]
    },
    {
      "cell_type": "code",
      "metadata": {
        "id": "_ZciyKdHaFSp",
        "colab_type": "code",
        "colab": {
          "base_uri": "https://localhost:8080/",
          "height": 297
        },
        "outputId": "a47e547d-1347-47ce-b317-3b5de167e527"
      },
      "source": [
        "df.plot.scatter(x='Age',y='Agency',color='r')"
      ],
      "execution_count": 26,
      "outputs": [
        {
          "output_type": "execute_result",
          "data": {
            "text/plain": [
              "<matplotlib.axes._subplots.AxesSubplot at 0x7f6aaef41048>"
            ]
          },
          "metadata": {
            "tags": []
          },
          "execution_count": 26
        },
        {
          "output_type": "display_data",
          "data": {
            "image/png": "[encoded data removed]",
            "text/plain": [
              "<Figure size 432x288 with 1 Axes>"
            ]
          },
          "metadata": {
            "tags": [],
            "needs_background": "light"
          }
        }
      ]
    },
    {
      "cell_type": "markdown",
      "metadata": {
        "id": "7hlplaIaue6q",
        "colab_type": "text"
      },
      "source": [
        "**#2. Identify outliers missing value if any**"
      ]
    },
    {
      "cell_type": "code",
      "metadata": {
        "id": "M3u6cslYZ4jE",
        "colab_type": "code",
        "colab": {}
      },
      "source": [
        "import numpy as np\n",
        "from scipy import *\n",
        "from sklearn.preprocessing import LabelEncoder\n",
        "from sklearn.preprocessing import OneHotEncoder\n",
        "from sklearn.preprocessing import *\n"
      ],
      "execution_count": 25,
      "outputs": []
    },
    {
      "cell_type": "markdown",
      "metadata": {
        "id": "t3NQqZNhbQlg",
        "colab_type": "text"
      },
      "source": [
        "**Continous Columns**"
      ]
    },
    {
      "cell_type": "code",
      "metadata": {
        "id": "D5iMHvy2aL4b",
        "colab_type": "code",
        "colab": {
          "base_uri": "https://localhost:8080/",
          "height": 35
        },
        "outputId": "478bed8b-e64d-4524-ca60-b1276749adac"
      },
      "source": [
        "num_cols = df._get_numeric_data().columns\n",
        "cont_cols = []\n",
        "for i in num_cols:\n",
        "  if(len(df[i].unique())) > int(df.shape[0]/40):\n",
        "     cont_cols.append(i)\n",
        "print (cont_cols)"
      ],
      "execution_count": 26,
      "outputs": [
        {
          "output_type": "stream",
          "text": [
            "[]\n"
          ],
          "name": "stdout"
        }
      ]
    },
    {
      "cell_type": "markdown",
      "metadata": {
        "id": "Hed57mPXbWoL",
        "colab_type": "text"
      },
      "source": [
        "**Categorical Columns**"
      ]
    },
    {
      "cell_type": "code",
      "metadata": {
        "id": "112DcGzsawvx",
        "colab_type": "code",
        "colab": {
          "base_uri": "https://localhost:8080/",
          "height": 217
        },
        "outputId": "f7fb28b6-6b54-41c9-9a78-2d4820e5bc67"
      },
      "source": [
        "# find out the categorical columns\n",
        "cat_cols = list(set(df.columns) - set(cont_cols))\n",
        "cat_cols"
      ],
      "execution_count": 27,
      "outputs": [
        {
          "output_type": "execute_result",
          "data": {
            "text/plain": [
              "['Distribution Channel',\n",
              " 'Age',\n",
              " 'Commision (in value)',\n",
              " 'Net Sales',\n",
              " 'Destination',\n",
              " 'Duration',\n",
              " 'Gender',\n",
              " 'Product Name',\n",
              " 'Agency Type',\n",
              " 'Claim',\n",
              " 'Agency']"
            ]
          },
          "metadata": {
            "tags": []
          },
          "execution_count": 27
        }
      ]
    },
    {
      "cell_type": "code",
      "metadata": {
        "id": "sIM9KTRW8RIY",
        "colab_type": "code",
        "colab": {
          "base_uri": "https://localhost:8080/",
          "height": 217
        },
        "outputId": "676bba4f-2343-4dc3-88ae-2c1c854562a4"
      },
      "source": [
        "missing=[]\n",
        "for i in df.columns:\n",
        "  m=df[i].isnull()\n",
        "  n=np.sum(m)\n",
        "  if(n>=1):\n",
        "    missing.append(i)\n",
        "  print(i,\"  <=> has missing values = \",n)"
      ],
      "execution_count": 28,
      "outputs": [
        {
          "output_type": "stream",
          "text": [
            "Agency   <=> has missing values =  0\n",
            "Agency Type   <=> has missing values =  0\n",
            "Distribution Channel   <=> has missing values =  0\n",
            "Product Name   <=> has missing values =  0\n",
            "Claim   <=> has missing values =  0\n",
            "Duration   <=> has missing values =  0\n",
            "Destination   <=> has missing values =  0\n",
            "Net Sales   <=> has missing values =  0\n",
            "Commision (in value)   <=> has missing values =  0\n",
            "Gender   <=> has missing values =  45107\n",
            "Age   <=> has missing values =  0\n"
          ],
          "name": "stdout"
        }
      ]
    },
    {
      "cell_type": "markdown",
      "metadata": {
        "id": "AZL-SHXXb45y",
        "colab_type": "text"
      },
      "source": [
        "**Outlier Treatment for Continous Variables**"
      ]
    },
    {
      "cell_type": "code",
      "metadata": {
        "id": "A6z6swhlb9yI",
        "colab_type": "code",
        "colab": {}
      },
      "source": [
        "#Check out Skewness\n",
        "for i in cont_cols:\n",
        "  print(str(i)+' : '+str(df[i].skew()))"
      ],
      "execution_count": 29,
      "outputs": []
    },
    {
      "cell_type": "code",
      "metadata": {
        "id": "TWQGUqNBcX4G",
        "colab_type": "code",
        "colab": {
          "base_uri": "https://localhost:8080/",
          "height": 283
        },
        "outputId": "d3f7c460-a6fb-449b-e47e-7b159b339b55"
      },
      "source": [
        "# find out the Net Sales in plot kde\n",
        "df['Net Sales'].plot.kde()"
      ],
      "execution_count": 30,
      "outputs": [
        {
          "output_type": "execute_result",
          "data": {
            "text/plain": [
              "<matplotlib.axes._subplots.AxesSubplot at 0x7f0280c93da0>"
            ]
          },
          "metadata": {
            "tags": []
          },
          "execution_count": 30
        },
        {
          "output_type": "display_data",
          "data": {
            "image/png": "[encoded data removed]",
            "text/plain": [
              "<Figure size 432x288 with 1 Axes>"
            ]
          },
          "metadata": {
            "tags": [],
            "needs_background": "light"
          }
        }
      ]
    },
    {
      "cell_type": "code",
      "metadata": {
        "id": "jYKCYrkVcrGu",
        "colab_type": "code",
        "colab": {
          "base_uri": "https://localhost:8080/",
          "height": 283
        },
        "outputId": "7105bcd6-5cee-4f64-b3e0-3ed23e4a1976"
      },
      "source": [
        "# find out the duration plot\n",
        "df['Duration'].plot.kde()"
      ],
      "execution_count": 31,
      "outputs": [
        {
          "output_type": "execute_result",
          "data": {
            "text/plain": [
              "<matplotlib.axes._subplots.AxesSubplot at 0x7f0280c733c8>"
            ]
          },
          "metadata": {
            "tags": []
          },
          "execution_count": 31
        },
        {
          "output_type": "display_data",
          "data": {
            "image/png": "[encoded data removed]",
            "text/plain": [
              "<Figure size 432x288 with 1 Axes>"
            ]
          },
          "metadata": {
            "tags": [],
            "needs_background": "light"
          }
        }
      ]
    },
    {
      "cell_type": "code",
      "metadata": {
        "id": "LzkvoKzIdFd5",
        "colab_type": "code",
        "colab": {
          "base_uri": "https://localhost:8080/",
          "height": 283
        },
        "outputId": "9755cf2f-b17d-416f-9634-bdf9f8aa2074"
      },
      "source": [
        "df['Commision (in value)'].plot.kde()"
      ],
      "execution_count": 32,
      "outputs": [
        {
          "output_type": "execute_result",
          "data": {
            "text/plain": [
              "<matplotlib.axes._subplots.AxesSubplot at 0x7f0280be5128>"
            ]
          },
          "metadata": {
            "tags": []
          },
          "execution_count": 32
        },
        {
          "output_type": "display_data",
          "data": {
            "image/png": "[encoded data removed]",
            "text/plain": [
              "<Figure size 432x288 with 1 Axes>"
            ]
          },
          "metadata": {
            "tags": [],
            "needs_background": "light"
          }
        }
      ]
    },
    {
      "cell_type": "code",
      "metadata": {
        "id": "1TiNHpOJdUwG",
        "colab_type": "code",
        "colab": {
          "base_uri": "https://localhost:8080/",
          "height": 286
        },
        "outputId": "25f5a7b7-7fd6-447c-8b5b-239ae1a7ba0e"
      },
      "source": [
        "# find out the age plot\n",
        "df['Age'].plot.kde()"
      ],
      "execution_count": 33,
      "outputs": [
        {
          "output_type": "execute_result",
          "data": {
            "text/plain": [
              "<matplotlib.axes._subplots.AxesSubplot at 0x7f0280bba160>"
            ]
          },
          "metadata": {
            "tags": []
          },
          "execution_count": 33
        },
        {
          "output_type": "display_data",
          "data": {
            "image/png": "[encoded data removed]",
            "text/plain": [
              "<Figure size 432x288 with 1 Axes>"
            ]
          },
          "metadata": {
            "tags": [],
            "needs_background": "light"
          }
        }
      ]
    },
    {
      "cell_type": "code",
      "metadata": {
        "id": "lyhy5QeneBHd",
        "colab_type": "code",
        "colab": {
          "base_uri": "https://localhost:8080/",
          "height": 301
        },
        "outputId": "6e8afbd2-1fc8-4c64-d140-caf60f12f1bc"
      },
      "source": [
        "# find out the Performing Log Transformation for Outlier Treatment\n",
        "df['log_Duration'] = df['Duration'].map(lambda i: np.log(i) if i > 0 else 0) \n",
        "print(df['log_Duration'].skew())\n",
        "df['log_Duration'].plot.kde()"
      ],
      "execution_count": 34,
      "outputs": [
        {
          "output_type": "stream",
          "text": [
            "0.05415948009758856\n"
          ],
          "name": "stdout"
        },
        {
          "output_type": "execute_result",
          "data": {
            "text/plain": [
              "<matplotlib.axes._subplots.AxesSubplot at 0x7f0280c3eda0>"
            ]
          },
          "metadata": {
            "tags": []
          },
          "execution_count": 34
        },
        {
          "output_type": "display_data",
          "data": {
            "image/png": "[encoded data removed]",
            "text/plain": [
              "<Figure size 432x288 with 1 Axes>"
            ]
          },
          "metadata": {
            "tags": [],
            "needs_background": "light"
          }
        }
      ]
    },
    {
      "cell_type": "code",
      "metadata": {
        "id": "V_R9p_H5fL5Q",
        "colab_type": "code",
        "colab": {
          "base_uri": "https://localhost:8080/",
          "height": 90
        },
        "outputId": "30efbb29-c6e7-481d-9bc2-9f21b0786dcb"
      },
      "source": [
        "df.columns"
      ],
      "execution_count": 35,
      "outputs": [
        {
          "output_type": "execute_result",
          "data": {
            "text/plain": [
              "Index(['Agency', 'Agency Type', 'Distribution Channel', 'Product Name',\n",
              "       'Claim', 'Duration', 'Destination', 'Net Sales', 'Commision (in value)',\n",
              "       'Gender', 'Age', 'log_Duration'],\n",
              "      dtype='object')"
            ]
          },
          "metadata": {
            "tags": []
          },
          "execution_count": 35
        }
      ]
    },
    {
      "cell_type": "markdown",
      "metadata": {
        "id": "M6yFjSWffuiX",
        "colab_type": "text"
      },
      "source": [
        "**Handling Missing Data and value**"
      ]
    },
    {
      "cell_type": "code",
      "metadata": {
        "id": "koE44AWqfki9",
        "colab_type": "code",
        "colab": {
          "base_uri": "https://localhost:8080/",
          "height": 78
        },
        "outputId": "54666e2d-dcd2-48c5-aef5-22a5847354c3"
      },
      "source": [
        "#Missing Features\n",
        "mis_data =pd.DataFrame(df.count(axis=0)).reset_index()\n",
        "mis_data.columns =[\"Agency\",\"Claim\"]\n",
        "mis_data =mis_data[(mis_data['Claim'] < df.shape[0])]\n",
        "mis_data"
      ],
      "execution_count": 36,
      "outputs": [
        {
          "output_type": "execute_result",
          "data": {
            "text/html": [
              "<div>\n",
              "<style scoped>\n",
              "    .dataframe tbody tr th:only-of-type {\n",
              "        vertical-align: middle;\n",
              "    }\n",
              "\n",
              "    .dataframe tbody tr th {\n",
              "        vertical-align: top;\n",
              "    }\n",
              "\n",
              "    .dataframe thead th {\n",
              "        text-align: right;\n",
              "    }\n",
              "</style>\n",
              "<table border=\"1\" class=\"dataframe\">\n",
              "  <thead>\n",
              "    <tr style=\"text-align: right;\">\n",
              "      <th></th>\n",
              "      <th>Agency</th>\n",
              "      <th>Claim</th>\n",
              "    </tr>\n",
              "  </thead>\n",
              "  <tbody>\n",
              "    <tr>\n",
              "      <th>9</th>\n",
              "      <td>Gender</td>\n",
              "      <td>18219</td>\n",
              "    </tr>\n",
              "  </tbody>\n",
              "</table>\n",
              "</div>"
            ],
            "text/plain": [
              "   Agency  Claim\n",
              "9  Gender  18219"
            ]
          },
          "metadata": {
            "tags": []
          },
          "execution_count": 36
        }
      ]
    },
    {
      "cell_type": "markdown",
      "metadata": {
        "id": "HbOr8cR3gsK9",
        "colab_type": "text"
      },
      "source": [
        "**Missing values in Categorical columns**"
      ]
    },
    {
      "cell_type": "code",
      "metadata": {
        "id": "wv65mbPegvpm",
        "colab_type": "code",
        "colab": {
          "base_uri": "https://localhost:8080/",
          "height": 254
        },
        "outputId": "a5e95926-a5bc-4341-8a01-fe8b3c4adcae"
      },
      "source": [
        "#Mode value for every field\n",
        "df.mode().iloc[0]"
      ],
      "execution_count": 38,
      "outputs": [
        {
          "output_type": "execute_result",
          "data": {
            "text/plain": [
              "Agency                                EPX\n",
              "Agency Type                 Travel Agency\n",
              "Distribution Channel               Online\n",
              "Product Name            Cancellation Plan\n",
              "Claim                                  No\n",
              "Duration                                6\n",
              "Destination                     SINGAPORE\n",
              "Net Sales                              20\n",
              "Commision (in value)                    0\n",
              "Gender                                  M\n",
              "Age                                    36\n",
              "log_Duration                      1.79176\n",
              "Name: 0, dtype: object"
            ]
          },
          "metadata": {
            "tags": []
          },
          "execution_count": 38
        }
      ]
    },
    {
      "cell_type": "code",
      "metadata": {
        "id": "kB13irwWg7xJ",
        "colab_type": "code",
        "colab": {
          "base_uri": "https://localhost:8080/",
          "height": 235
        },
        "outputId": "ee94f2dd-3faf-4983-dbcd-2240526c0fd0"
      },
      "source": [
        "#Categorical Columns with missing values\n",
        "df[cat_cols].isnull().sum()"
      ],
      "execution_count": 39,
      "outputs": [
        {
          "output_type": "execute_result",
          "data": {
            "text/plain": [
              "Distribution Channel        0\n",
              "Age                         0\n",
              "Commision (in value)        0\n",
              "Net Sales                   0\n",
              "Destination                 0\n",
              "Duration                    0\n",
              "Gender                  45107\n",
              "Product Name                0\n",
              "Agency Type                 0\n",
              "Claim                       0\n",
              "Agency                      0\n",
              "dtype: int64"
            ]
          },
          "metadata": {
            "tags": []
          },
          "execution_count": 39
        }
      ]
    },
    {
      "cell_type": "code",
      "metadata": {
        "id": "k-EAY87ehBeD",
        "colab_type": "code",
        "colab": {}
      },
      "source": [
        "#Populating Categorical with Mode\n",
        "for cols in cat_cols:\n",
        "  if ( df[cols].isnull().sum() > 0):\n",
        "    df[cols] = df[cols].fillna(df[cols].mode().iloc[0])"
      ],
      "execution_count": 40,
      "outputs": []
    },
    {
      "cell_type": "code",
      "metadata": {
        "id": "SrLctLILhTph",
        "colab_type": "code",
        "colab": {
          "base_uri": "https://localhost:8080/",
          "height": 235
        },
        "outputId": "5434b197-4714-4c15-edc4-8016e84c397f"
      },
      "source": [
        "#Checking for missing values post Mode imputation\n",
        "df[cat_cols].isnull().sum()"
      ],
      "execution_count": 41,
      "outputs": [
        {
          "output_type": "execute_result",
          "data": {
            "text/plain": [
              "Distribution Channel    0\n",
              "Age                     0\n",
              "Commision (in value)    0\n",
              "Net Sales               0\n",
              "Destination             0\n",
              "Duration                0\n",
              "Gender                  0\n",
              "Product Name            0\n",
              "Agency Type             0\n",
              "Claim                   0\n",
              "Agency                  0\n",
              "dtype: int64"
            ]
          },
          "metadata": {
            "tags": []
          },
          "execution_count": 41
        }
      ]
    },
    {
      "cell_type": "markdown",
      "metadata": {
        "id": "F-L_-ZEEhieF",
        "colab_type": "text"
      },
      "source": [
        "** Missing Values in Continous Columns value with Median**"
      ]
    },
    {
      "cell_type": "code",
      "metadata": {
        "id": "Grl6npr1hl3Q",
        "colab_type": "code",
        "colab": {
          "base_uri": "https://localhost:8080/",
          "height": 126
        },
        "outputId": "1ec6f20c-33a9-4a25-e010-fc62570c247e"
      },
      "source": [
        "df.median()"
      ],
      "execution_count": 42,
      "outputs": [
        {
          "output_type": "execute_result",
          "data": {
            "text/plain": [
              "Duration                22.000000\n",
              "Net Sales               26.530000\n",
              "Commision (in value)     0.000000\n",
              "Age                     36.000000\n",
              "log_Duration             3.091042\n",
              "dtype: float64"
            ]
          },
          "metadata": {
            "tags": []
          },
          "execution_count": 42
        }
      ]
    },
    {
      "cell_type": "code",
      "metadata": {
        "id": "vtXkne8IhsV6",
        "colab_type": "code",
        "colab": {
          "base_uri": "https://localhost:8080/",
          "height": 35
        },
        "outputId": "520e8327-8944-4168-c207-a5bb7f820ba6"
      },
      "source": [
        "#Check which of continous columns have missing value\n",
        "df[cont_cols].isnull().sum()"
      ],
      "execution_count": 43,
      "outputs": [
        {
          "output_type": "execute_result",
          "data": {
            "text/plain": [
              "Series([], dtype: float64)"
            ]
          },
          "metadata": {
            "tags": []
          },
          "execution_count": 43
        }
      ]
    },
    {
      "cell_type": "code",
      "metadata": {
        "id": "lUsUzrRGidcW",
        "colab_type": "code",
        "colab": {
          "base_uri": "https://localhost:8080/",
          "height": 35
        },
        "outputId": "ff0e14f2-a4ce-42c5-8b5b-c5eba530cd40"
      },
      "source": [
        "df.shape"
      ],
      "execution_count": 44,
      "outputs": [
        {
          "output_type": "execute_result",
          "data": {
            "text/plain": [
              "(63326, 12)"
            ]
          },
          "metadata": {
            "tags": []
          },
          "execution_count": 44
        }
      ]
    },
    {
      "cell_type": "markdown",
      "metadata": {
        "id": "OmwnFtHQ-hko",
        "colab_type": "text"
      },
      "source": [
        "**3.Derive correlation patterns of each independent variable with dependent variable**"
      ]
    },
    {
      "cell_type": "markdown",
      "metadata": {
        "id": "AgUCZVmmBBEP",
        "colab_type": "text"
      },
      "source": [
        "*** Correlation on Label Encoded Dataframe**"
      ]
    },
    {
      "cell_type": "code",
      "metadata": {
        "id": "H-_St3nEAeHC",
        "colab_type": "code",
        "colab": {
          "base_uri": "https://localhost:8080/",
          "height": 270
        },
        "outputId": "0fc0390b-4b94-4ffb-8a51-c55b29dd9de6"
      },
      "source": [
        "corr = df_le.corr()\n",
        "corr.head()"
      ],
      "execution_count": 75,
      "outputs": [
        {
          "output_type": "execute_result",
          "data": {
            "text/html": [
              "<div>\n",
              "<style scoped>\n",
              "    .dataframe tbody tr th:only-of-type {\n",
              "        vertical-align: middle;\n",
              "    }\n",
              "\n",
              "    .dataframe tbody tr th {\n",
              "        vertical-align: top;\n",
              "    }\n",
              "\n",
              "    .dataframe thead th {\n",
              "        text-align: right;\n",
              "    }\n",
              "</style>\n",
              "<table border=\"1\" class=\"dataframe\">\n",
              "  <thead>\n",
              "    <tr style=\"text-align: right;\">\n",
              "      <th></th>\n",
              "      <th>Duration</th>\n",
              "      <th>Net Sales</th>\n",
              "      <th>Commision (in value)</th>\n",
              "      <th>Age</th>\n",
              "      <th>log_Duration</th>\n",
              "      <th>enc_Distribution Channel</th>\n",
              "      <th>enc_Age</th>\n",
              "      <th>enc_Commision (in value)</th>\n",
              "      <th>enc_Net Sales</th>\n",
              "      <th>enc_Destination</th>\n",
              "      <th>enc_Duration</th>\n",
              "      <th>enc_Gender</th>\n",
              "      <th>enc_Product Name</th>\n",
              "      <th>enc_Agency Type</th>\n",
              "      <th>enc_Agency</th>\n",
              "    </tr>\n",
              "  </thead>\n",
              "  <tbody>\n",
              "    <tr>\n",
              "      <th>Duration</th>\n",
              "      <td>1.000000</td>\n",
              "      <td>0.429235</td>\n",
              "      <td>0.344772</td>\n",
              "      <td>0.002468</td>\n",
              "      <td>0.602371</td>\n",
              "      <td>-0.040856</td>\n",
              "      <td>0.010604</td>\n",
              "      <td>0.222477</td>\n",
              "      <td>0.260518</td>\n",
              "      <td>0.074720</td>\n",
              "      <td>0.779663</td>\n",
              "      <td>-0.102729</td>\n",
              "      <td>-0.048609</td>\n",
              "      <td>-0.111588</td>\n",
              "      <td>-0.076735</td>\n",
              "    </tr>\n",
              "    <tr>\n",
              "      <th>Net Sales</th>\n",
              "      <td>0.429235</td>\n",
              "      <td>1.000000</td>\n",
              "      <td>0.651315</td>\n",
              "      <td>0.037756</td>\n",
              "      <td>0.400438</td>\n",
              "      <td>0.011045</td>\n",
              "      <td>0.037859</td>\n",
              "      <td>0.450110</td>\n",
              "      <td>0.843238</td>\n",
              "      <td>0.079102</td>\n",
              "      <td>0.586959</td>\n",
              "      <td>-0.152959</td>\n",
              "      <td>-0.075750</td>\n",
              "      <td>-0.155522</td>\n",
              "      <td>-0.239052</td>\n",
              "    </tr>\n",
              "    <tr>\n",
              "      <th>Commision (in value)</th>\n",
              "      <td>0.344772</td>\n",
              "      <td>0.651315</td>\n",
              "      <td>1.000000</td>\n",
              "      <td>0.118348</td>\n",
              "      <td>0.317037</td>\n",
              "      <td>0.005199</td>\n",
              "      <td>0.122616</td>\n",
              "      <td>0.833045</td>\n",
              "      <td>0.448246</td>\n",
              "      <td>-0.005216</td>\n",
              "      <td>0.468829</td>\n",
              "      <td>-0.182295</td>\n",
              "      <td>0.289959</td>\n",
              "      <td>-0.178070</td>\n",
              "      <td>-0.166456</td>\n",
              "    </tr>\n",
              "    <tr>\n",
              "      <th>Age</th>\n",
              "      <td>0.002468</td>\n",
              "      <td>0.037756</td>\n",
              "      <td>0.118348</td>\n",
              "      <td>1.000000</td>\n",
              "      <td>-0.027428</td>\n",
              "      <td>-0.159644</td>\n",
              "      <td>0.976083</td>\n",
              "      <td>0.203537</td>\n",
              "      <td>0.041681</td>\n",
              "      <td>-0.041579</td>\n",
              "      <td>-0.004937</td>\n",
              "      <td>-0.085551</td>\n",
              "      <td>0.273164</td>\n",
              "      <td>-0.221503</td>\n",
              "      <td>0.126357</td>\n",
              "    </tr>\n",
              "    <tr>\n",
              "      <th>log_Duration</th>\n",
              "      <td>0.602371</td>\n",
              "      <td>0.400438</td>\n",
              "      <td>0.317037</td>\n",
              "      <td>-0.027428</td>\n",
              "      <td>1.000000</td>\n",
              "      <td>-0.061085</td>\n",
              "      <td>-0.018942</td>\n",
              "      <td>0.216701</td>\n",
              "      <td>0.318315</td>\n",
              "      <td>0.027744</td>\n",
              "      <td>0.787088</td>\n",
              "      <td>-0.080195</td>\n",
              "      <td>-0.044351</td>\n",
              "      <td>-0.023503</td>\n",
              "      <td>-0.046855</td>\n",
              "    </tr>\n",
              "  </tbody>\n",
              "</table>\n",
              "</div>"
            ],
            "text/plain": [
              "                      Duration  Net Sales  ...  enc_Agency Type  enc_Agency\n",
              "Duration              1.000000   0.429235  ...        -0.111588   -0.076735\n",
              "Net Sales             0.429235   1.000000  ...        -0.155522   -0.239052\n",
              "Commision (in value)  0.344772   0.651315  ...        -0.178070   -0.166456\n",
              "Age                   0.002468   0.037756  ...        -0.221503    0.126357\n",
              "log_Duration          0.602371   0.400438  ...        -0.023503   -0.046855\n",
              "\n",
              "[5 rows x 15 columns]"
            ]
          },
          "metadata": {
            "tags": []
          },
          "execution_count": 75
        }
      ]
    },
    {
      "cell_type": "code",
      "metadata": {
        "id": "vsPXmTXa_e2S",
        "colab_type": "code",
        "colab": {
          "base_uri": "https://localhost:8080/",
          "height": 613
        },
        "outputId": "c16748bd-05b0-444d-949c-07c308801fef"
      },
      "source": [
        "mask = np.zeros_like(corr, dtype=np.bool)\n",
        "mask[np.triu_indices_from(mask)] = True\n",
        "f, ax = plt.subplots(figsize=(10,10))\n",
        "cmap = sns.diverging_palette(220, 10, as_cmap=True)\n",
        "svm = sns.heatmap(corr, mask=mask, cmap=cmap, center=0,\n",
        "            square=True, linewidths=.5, cbar_kws={\"shrink\": .5})\n",
        "figure = svm.get_figure()"
      ],
      "execution_count": 76,
      "outputs": [
        {
          "output_type": "display_data",
          "data": {
            "image/png": "[encoded data removed]",
            "text/plain": [
              "<Figure size 720x720 with 2 Axes>"
            ]
          },
          "metadata": {
            "tags": [],
            "needs_background": "light"
          }
        }
      ]
    },
    {
      "cell_type": "code",
      "metadata": {
        "id": "kUoXRNZ0CdZo",
        "colab_type": "code",
        "colab": {}
      },
      "source": [
        "df_ohe = df.copy()"
      ],
      "execution_count": 47,
      "outputs": []
    },
    {
      "cell_type": "code",
      "metadata": {
        "id": "tznFBapsCkTd",
        "colab_type": "code",
        "colab": {}
      },
      "source": [
        "ohe = OneHotEncoder(handle_unknown='ignore')"
      ],
      "execution_count": 48,
      "outputs": []
    },
    {
      "cell_type": "code",
      "metadata": {
        "id": "J6yaTKYwCyGp",
        "colab_type": "code",
        "colab": {}
      },
      "source": [
        "enc_rel = pd.DataFrame(ohe.fit_transform(df_ohe[['Agency']]).toarray())"
      ],
      "execution_count": 49,
      "outputs": []
    },
    {
      "cell_type": "code",
      "metadata": {
        "id": "QstK37_kDYV9",
        "colab_type": "code",
        "colab": {
          "base_uri": "https://localhost:8080/",
          "height": 407
        },
        "outputId": "a625f792-c4bf-415f-ea36-a90a68641493"
      },
      "source": [
        "enc_rel"
      ],
      "execution_count": 50,
      "outputs": [
        {
          "output_type": "execute_result",
          "data": {
            "text/html": [
              "<div>\n",
              "<style scoped>\n",
              "    .dataframe tbody tr th:only-of-type {\n",
              "        vertical-align: middle;\n",
              "    }\n",
              "\n",
              "    .dataframe tbody tr th {\n",
              "        vertical-align: top;\n",
              "    }\n",
              "\n",
              "    .dataframe thead th {\n",
              "        text-align: right;\n",
              "    }\n",
              "</style>\n",
              "<table border=\"1\" class=\"dataframe\">\n",
              "  <thead>\n",
              "    <tr style=\"text-align: right;\">\n",
              "      <th></th>\n",
              "      <th>0</th>\n",
              "      <th>1</th>\n",
              "      <th>2</th>\n",
              "      <th>3</th>\n",
              "      <th>4</th>\n",
              "      <th>5</th>\n",
              "      <th>6</th>\n",
              "      <th>7</th>\n",
              "      <th>8</th>\n",
              "      <th>9</th>\n",
              "      <th>10</th>\n",
              "      <th>11</th>\n",
              "      <th>12</th>\n",
              "      <th>13</th>\n",
              "      <th>14</th>\n",
              "      <th>15</th>\n",
              "    </tr>\n",
              "  </thead>\n",
              "  <tbody>\n",
              "    <tr>\n",
              "      <th>0</th>\n",
              "      <td>0.0</td>\n",
              "      <td>0.0</td>\n",
              "      <td>0.0</td>\n",
              "      <td>1.0</td>\n",
              "      <td>0.0</td>\n",
              "      <td>0.0</td>\n",
              "      <td>0.0</td>\n",
              "      <td>0.0</td>\n",
              "      <td>0.0</td>\n",
              "      <td>0.0</td>\n",
              "      <td>0.0</td>\n",
              "      <td>0.0</td>\n",
              "      <td>0.0</td>\n",
              "      <td>0.0</td>\n",
              "      <td>0.0</td>\n",
              "      <td>0.0</td>\n",
              "    </tr>\n",
              "    <tr>\n",
              "      <th>1</th>\n",
              "      <td>0.0</td>\n",
              "      <td>0.0</td>\n",
              "      <td>0.0</td>\n",
              "      <td>1.0</td>\n",
              "      <td>0.0</td>\n",
              "      <td>0.0</td>\n",
              "      <td>0.0</td>\n",
              "      <td>0.0</td>\n",
              "      <td>0.0</td>\n",
              "      <td>0.0</td>\n",
              "      <td>0.0</td>\n",
              "      <td>0.0</td>\n",
              "      <td>0.0</td>\n",
              "      <td>0.0</td>\n",
              "      <td>0.0</td>\n",
              "      <td>0.0</td>\n",
              "    </tr>\n",
              "    <tr>\n",
              "      <th>2</th>\n",
              "      <td>0.0</td>\n",
              "      <td>0.0</td>\n",
              "      <td>0.0</td>\n",
              "      <td>0.0</td>\n",
              "      <td>0.0</td>\n",
              "      <td>0.0</td>\n",
              "      <td>1.0</td>\n",
              "      <td>0.0</td>\n",
              "      <td>0.0</td>\n",
              "      <td>0.0</td>\n",
              "      <td>0.0</td>\n",
              "      <td>0.0</td>\n",
              "      <td>0.0</td>\n",
              "      <td>0.0</td>\n",
              "      <td>0.0</td>\n",
              "      <td>0.0</td>\n",
              "    </tr>\n",
              "    <tr>\n",
              "      <th>3</th>\n",
              "      <td>0.0</td>\n",
              "      <td>0.0</td>\n",
              "      <td>0.0</td>\n",
              "      <td>0.0</td>\n",
              "      <td>0.0</td>\n",
              "      <td>0.0</td>\n",
              "      <td>1.0</td>\n",
              "      <td>0.0</td>\n",
              "      <td>0.0</td>\n",
              "      <td>0.0</td>\n",
              "      <td>0.0</td>\n",
              "      <td>0.0</td>\n",
              "      <td>0.0</td>\n",
              "      <td>0.0</td>\n",
              "      <td>0.0</td>\n",
              "      <td>0.0</td>\n",
              "    </tr>\n",
              "    <tr>\n",
              "      <th>4</th>\n",
              "      <td>0.0</td>\n",
              "      <td>0.0</td>\n",
              "      <td>0.0</td>\n",
              "      <td>0.0</td>\n",
              "      <td>0.0</td>\n",
              "      <td>0.0</td>\n",
              "      <td>1.0</td>\n",
              "      <td>0.0</td>\n",
              "      <td>0.0</td>\n",
              "      <td>0.0</td>\n",
              "      <td>0.0</td>\n",
              "      <td>0.0</td>\n",
              "      <td>0.0</td>\n",
              "      <td>0.0</td>\n",
              "      <td>0.0</td>\n",
              "      <td>0.0</td>\n",
              "    </tr>\n",
              "    <tr>\n",
              "      <th>...</th>\n",
              "      <td>...</td>\n",
              "      <td>...</td>\n",
              "      <td>...</td>\n",
              "      <td>...</td>\n",
              "      <td>...</td>\n",
              "      <td>...</td>\n",
              "      <td>...</td>\n",
              "      <td>...</td>\n",
              "      <td>...</td>\n",
              "      <td>...</td>\n",
              "      <td>...</td>\n",
              "      <td>...</td>\n",
              "      <td>...</td>\n",
              "      <td>...</td>\n",
              "      <td>...</td>\n",
              "      <td>...</td>\n",
              "    </tr>\n",
              "    <tr>\n",
              "      <th>63321</th>\n",
              "      <td>0.0</td>\n",
              "      <td>0.0</td>\n",
              "      <td>0.0</td>\n",
              "      <td>0.0</td>\n",
              "      <td>0.0</td>\n",
              "      <td>0.0</td>\n",
              "      <td>0.0</td>\n",
              "      <td>0.0</td>\n",
              "      <td>0.0</td>\n",
              "      <td>1.0</td>\n",
              "      <td>0.0</td>\n",
              "      <td>0.0</td>\n",
              "      <td>0.0</td>\n",
              "      <td>0.0</td>\n",
              "      <td>0.0</td>\n",
              "      <td>0.0</td>\n",
              "    </tr>\n",
              "    <tr>\n",
              "      <th>63322</th>\n",
              "      <td>0.0</td>\n",
              "      <td>0.0</td>\n",
              "      <td>0.0</td>\n",
              "      <td>0.0</td>\n",
              "      <td>0.0</td>\n",
              "      <td>0.0</td>\n",
              "      <td>0.0</td>\n",
              "      <td>0.0</td>\n",
              "      <td>0.0</td>\n",
              "      <td>1.0</td>\n",
              "      <td>0.0</td>\n",
              "      <td>0.0</td>\n",
              "      <td>0.0</td>\n",
              "      <td>0.0</td>\n",
              "      <td>0.0</td>\n",
              "      <td>0.0</td>\n",
              "    </tr>\n",
              "    <tr>\n",
              "      <th>63323</th>\n",
              "      <td>0.0</td>\n",
              "      <td>0.0</td>\n",
              "      <td>0.0</td>\n",
              "      <td>0.0</td>\n",
              "      <td>0.0</td>\n",
              "      <td>0.0</td>\n",
              "      <td>0.0</td>\n",
              "      <td>0.0</td>\n",
              "      <td>0.0</td>\n",
              "      <td>1.0</td>\n",
              "      <td>0.0</td>\n",
              "      <td>0.0</td>\n",
              "      <td>0.0</td>\n",
              "      <td>0.0</td>\n",
              "      <td>0.0</td>\n",
              "      <td>0.0</td>\n",
              "    </tr>\n",
              "    <tr>\n",
              "      <th>63324</th>\n",
              "      <td>0.0</td>\n",
              "      <td>0.0</td>\n",
              "      <td>0.0</td>\n",
              "      <td>0.0</td>\n",
              "      <td>0.0</td>\n",
              "      <td>0.0</td>\n",
              "      <td>0.0</td>\n",
              "      <td>0.0</td>\n",
              "      <td>0.0</td>\n",
              "      <td>1.0</td>\n",
              "      <td>0.0</td>\n",
              "      <td>0.0</td>\n",
              "      <td>0.0</td>\n",
              "      <td>0.0</td>\n",
              "      <td>0.0</td>\n",
              "      <td>0.0</td>\n",
              "    </tr>\n",
              "    <tr>\n",
              "      <th>63325</th>\n",
              "      <td>0.0</td>\n",
              "      <td>0.0</td>\n",
              "      <td>0.0</td>\n",
              "      <td>0.0</td>\n",
              "      <td>0.0</td>\n",
              "      <td>0.0</td>\n",
              "      <td>0.0</td>\n",
              "      <td>0.0</td>\n",
              "      <td>0.0</td>\n",
              "      <td>1.0</td>\n",
              "      <td>0.0</td>\n",
              "      <td>0.0</td>\n",
              "      <td>0.0</td>\n",
              "      <td>0.0</td>\n",
              "      <td>0.0</td>\n",
              "      <td>0.0</td>\n",
              "    </tr>\n",
              "  </tbody>\n",
              "</table>\n",
              "<p>63326 rows × 16 columns</p>\n",
              "</div>"
            ],
            "text/plain": [
              "        0    1    2    3    4    5    6   ...   9    10   11   12   13   14   15\n",
              "0      0.0  0.0  0.0  1.0  0.0  0.0  0.0  ...  0.0  0.0  0.0  0.0  0.0  0.0  0.0\n",
              "1      0.0  0.0  0.0  1.0  0.0  0.0  0.0  ...  0.0  0.0  0.0  0.0  0.0  0.0  0.0\n",
              "2      0.0  0.0  0.0  0.0  0.0  0.0  1.0  ...  0.0  0.0  0.0  0.0  0.0  0.0  0.0\n",
              "3      0.0  0.0  0.0  0.0  0.0  0.0  1.0  ...  0.0  0.0  0.0  0.0  0.0  0.0  0.0\n",
              "4      0.0  0.0  0.0  0.0  0.0  0.0  1.0  ...  0.0  0.0  0.0  0.0  0.0  0.0  0.0\n",
              "...    ...  ...  ...  ...  ...  ...  ...  ...  ...  ...  ...  ...  ...  ...  ...\n",
              "63321  0.0  0.0  0.0  0.0  0.0  0.0  0.0  ...  1.0  0.0  0.0  0.0  0.0  0.0  0.0\n",
              "63322  0.0  0.0  0.0  0.0  0.0  0.0  0.0  ...  1.0  0.0  0.0  0.0  0.0  0.0  0.0\n",
              "63323  0.0  0.0  0.0  0.0  0.0  0.0  0.0  ...  1.0  0.0  0.0  0.0  0.0  0.0  0.0\n",
              "63324  0.0  0.0  0.0  0.0  0.0  0.0  0.0  ...  1.0  0.0  0.0  0.0  0.0  0.0  0.0\n",
              "63325  0.0  0.0  0.0  0.0  0.0  0.0  0.0  ...  1.0  0.0  0.0  0.0  0.0  0.0  0.0\n",
              "\n",
              "[63326 rows x 16 columns]"
            ]
          },
          "metadata": {
            "tags": []
          },
          "execution_count": 50
        }
      ]
    },
    {
      "cell_type": "markdown",
      "metadata": {
        "id": "YIKsstviD2WJ",
        "colab_type": "text"
      },
      "source": [
        "**OHE programmatically for all Categorical variables**"
      ]
    },
    {
      "cell_type": "code",
      "metadata": {
        "id": "-02Xid_gD8VO",
        "colab_type": "code",
        "colab": {}
      },
      "source": [
        "df_ohe = df_ohe = df.copy()\n",
        "for j in list(set(df.columns) - set(num_cols)):\n",
        "  enc_rel = pd.DataFrame(ohe.fit_transform(df_ohe[[j]]).toarray())\n",
        "  enc_rel = enc_rel.add_prefix(str(j)+'_')\n",
        "  df_ohe = df_ohe.join(enc_rel)"
      ],
      "execution_count": 52,
      "outputs": []
    },
    {
      "cell_type": "code",
      "metadata": {
        "id": "dxImXKVUEFkc",
        "colab_type": "code",
        "colab": {
          "base_uri": "https://localhost:8080/",
          "height": 145
        },
        "outputId": "dda37e90-f8e5-4f1f-ce59-763ccc9c539a"
      },
      "source": [
        "df_ohe.columns"
      ],
      "execution_count": 53,
      "outputs": [
        {
          "output_type": "execute_result",
          "data": {
            "text/plain": [
              "Index(['Agency', 'Agency Type', 'Distribution Channel', 'Product Name',\n",
              "       'Claim', 'Duration', 'Destination', 'Net Sales', 'Commision (in value)',\n",
              "       'Gender',\n",
              "       ...\n",
              "       'Agency_6', 'Agency_7', 'Agency_8', 'Agency_9', 'Agency_10',\n",
              "       'Agency_11', 'Agency_12', 'Agency_13', 'Agency_14', 'Agency_15'],\n",
              "      dtype='object', length=663)"
            ]
          },
          "metadata": {
            "tags": []
          },
          "execution_count": 53
        }
      ]
    },
    {
      "cell_type": "code",
      "metadata": {
        "id": "QGVxMkfREI1B",
        "colab_type": "code",
        "colab": {
          "base_uri": "https://localhost:8080/",
          "height": 145
        },
        "outputId": "4cdfc781-ca5c-4712-9918-e8229b346676"
      },
      "source": [
        "df_ohe = df_ohe.drop(columns = list(set(df.columns) - set(num_cols)))\n",
        "df_ohe.columns"
      ],
      "execution_count": 54,
      "outputs": [
        {
          "output_type": "execute_result",
          "data": {
            "text/plain": [
              "Index(['Duration', 'Net Sales', 'Commision (in value)', 'Age',\n",
              "       'Distribution Channel_0', 'Distribution Channel_1', 'Destination_0',\n",
              "       'Destination_1', 'Destination_2', 'Destination_3',\n",
              "       ...\n",
              "       'Agency_6', 'Agency_7', 'Agency_8', 'Agency_9', 'Agency_10',\n",
              "       'Agency_11', 'Agency_12', 'Agency_13', 'Agency_14', 'Agency_15'],\n",
              "      dtype='object', length=655)"
            ]
          },
          "metadata": {
            "tags": []
          },
          "execution_count": 54
        }
      ]
    },
    {
      "cell_type": "code",
      "metadata": {
        "id": "Lq_x0LSJEW6n",
        "colab_type": "code",
        "colab": {
          "base_uri": "https://localhost:8080/",
          "height": 35
        },
        "outputId": "75781756-1628-48a5-a502-f28decaa9065"
      },
      "source": [
        "df_ohe.shape"
      ],
      "execution_count": 55,
      "outputs": [
        {
          "output_type": "execute_result",
          "data": {
            "text/plain": [
              "(63326, 655)"
            ]
          },
          "metadata": {
            "tags": []
          },
          "execution_count": 55
        }
      ]
    },
    {
      "cell_type": "markdown",
      "metadata": {
        "id": "5g0QOFOuEwSW",
        "colab_type": "text"
      },
      "source": [
        "Correlation Heatmap on One Hot Encoded dataframe"
      ]
    },
    {
      "cell_type": "code",
      "metadata": {
        "id": "MmuMClp0E0EX",
        "colab_type": "code",
        "colab": {
          "base_uri": "https://localhost:8080/",
          "height": 316
        },
        "outputId": "df241a22-c17b-4820-e4fa-b85d009e78b0"
      },
      "source": [
        "df_ohe.corr().head()"
      ],
      "execution_count": 56,
      "outputs": [
        {
          "output_type": "execute_result",
          "data": {
            "text/html": [
              "<div>\n",
              "<style scoped>\n",
              "    .dataframe tbody tr th:only-of-type {\n",
              "        vertical-align: middle;\n",
              "    }\n",
              "\n",
              "    .dataframe tbody tr th {\n",
              "        vertical-align: top;\n",
              "    }\n",
              "\n",
              "    .dataframe thead th {\n",
              "        text-align: right;\n",
              "    }\n",
              "</style>\n",
              "<table border=\"1\" class=\"dataframe\">\n",
              "  <thead>\n",
              "    <tr style=\"text-align: right;\">\n",
              "      <th></th>\n",
              "      <th>Duration</th>\n",
              "      <th>Net Sales</th>\n",
              "      <th>Commision (in value)</th>\n",
              "      <th>Age</th>\n",
              "      <th>Distribution Channel_0</th>\n",
              "      <th>Distribution Channel_1</th>\n",
              "      <th>Destination_0</th>\n",
              "      <th>Destination_1</th>\n",
              "      <th>Destination_2</th>\n",
              "      <th>Destination_3</th>\n",
              "      <th>Destination_4</th>\n",
              "      <th>Destination_5</th>\n",
              "      <th>Destination_6</th>\n",
              "      <th>Destination_7</th>\n",
              "      <th>Destination_8</th>\n",
              "      <th>Destination_9</th>\n",
              "      <th>Destination_10</th>\n",
              "      <th>Destination_11</th>\n",
              "      <th>Destination_12</th>\n",
              "      <th>Destination_13</th>\n",
              "      <th>Destination_14</th>\n",
              "      <th>Destination_15</th>\n",
              "      <th>Destination_16</th>\n",
              "      <th>Destination_17</th>\n",
              "      <th>Destination_18</th>\n",
              "      <th>Destination_19</th>\n",
              "      <th>Destination_20</th>\n",
              "      <th>Destination_21</th>\n",
              "      <th>Destination_22</th>\n",
              "      <th>Destination_23</th>\n",
              "      <th>Destination_24</th>\n",
              "      <th>Destination_25</th>\n",
              "      <th>Destination_26</th>\n",
              "      <th>Destination_27</th>\n",
              "      <th>Destination_28</th>\n",
              "      <th>Destination_29</th>\n",
              "      <th>Destination_30</th>\n",
              "      <th>Destination_31</th>\n",
              "      <th>Destination_32</th>\n",
              "      <th>Destination_33</th>\n",
              "      <th>...</th>\n",
              "      <th>log_Duration_430</th>\n",
              "      <th>log_Duration_431</th>\n",
              "      <th>log_Duration_432</th>\n",
              "      <th>log_Duration_433</th>\n",
              "      <th>log_Duration_434</th>\n",
              "      <th>log_Duration_435</th>\n",
              "      <th>log_Duration_436</th>\n",
              "      <th>log_Duration_437</th>\n",
              "      <th>log_Duration_438</th>\n",
              "      <th>log_Duration_439</th>\n",
              "      <th>log_Duration_440</th>\n",
              "      <th>log_Duration_441</th>\n",
              "      <th>log_Duration_442</th>\n",
              "      <th>log_Duration_443</th>\n",
              "      <th>log_Duration_444</th>\n",
              "      <th>log_Duration_445</th>\n",
              "      <th>log_Duration_446</th>\n",
              "      <th>log_Duration_447</th>\n",
              "      <th>log_Duration_448</th>\n",
              "      <th>log_Duration_449</th>\n",
              "      <th>log_Duration_450</th>\n",
              "      <th>log_Duration_451</th>\n",
              "      <th>Claim_0</th>\n",
              "      <th>Claim_1</th>\n",
              "      <th>Agency_0</th>\n",
              "      <th>Agency_1</th>\n",
              "      <th>Agency_2</th>\n",
              "      <th>Agency_3</th>\n",
              "      <th>Agency_4</th>\n",
              "      <th>Agency_5</th>\n",
              "      <th>Agency_6</th>\n",
              "      <th>Agency_7</th>\n",
              "      <th>Agency_8</th>\n",
              "      <th>Agency_9</th>\n",
              "      <th>Agency_10</th>\n",
              "      <th>Agency_11</th>\n",
              "      <th>Agency_12</th>\n",
              "      <th>Agency_13</th>\n",
              "      <th>Agency_14</th>\n",
              "      <th>Agency_15</th>\n",
              "    </tr>\n",
              "  </thead>\n",
              "  <tbody>\n",
              "    <tr>\n",
              "      <th>Duration</th>\n",
              "      <td>1.000000</td>\n",
              "      <td>0.429235</td>\n",
              "      <td>0.344772</td>\n",
              "      <td>0.002468</td>\n",
              "      <td>0.040856</td>\n",
              "      <td>-0.040856</td>\n",
              "      <td>-0.000832</td>\n",
              "      <td>-0.001847</td>\n",
              "      <td>-0.002506</td>\n",
              "      <td>0.007132</td>\n",
              "      <td>-0.004220</td>\n",
              "      <td>0.005585</td>\n",
              "      <td>-0.000214</td>\n",
              "      <td>-0.004874</td>\n",
              "      <td>-0.014124</td>\n",
              "      <td>-0.000403</td>\n",
              "      <td>-0.002478</td>\n",
              "      <td>-0.002145</td>\n",
              "      <td>-0.001379</td>\n",
              "      <td>0.000226</td>\n",
              "      <td>0.004270</td>\n",
              "      <td>0.007270</td>\n",
              "      <td>-0.001574</td>\n",
              "      <td>-0.001184</td>\n",
              "      <td>0.001241</td>\n",
              "      <td>-0.028356</td>\n",
              "      <td>-0.002004</td>\n",
              "      <td>-0.016282</td>\n",
              "      <td>0.000027</td>\n",
              "      <td>0.016395</td>\n",
              "      <td>-0.000156</td>\n",
              "      <td>-0.001857</td>\n",
              "      <td>-0.039191</td>\n",
              "      <td>0.002160</td>\n",
              "      <td>-0.000166</td>\n",
              "      <td>0.007350</td>\n",
              "      <td>-0.002911</td>\n",
              "      <td>0.005878</td>\n",
              "      <td>-0.001835</td>\n",
              "      <td>-0.001691</td>\n",
              "      <td>...</td>\n",
              "      <td>0.025324</td>\n",
              "      <td>0.018063</td>\n",
              "      <td>0.018336</td>\n",
              "      <td>0.026484</td>\n",
              "      <td>0.018805</td>\n",
              "      <td>0.019351</td>\n",
              "      <td>0.019429</td>\n",
              "      <td>0.026964</td>\n",
              "      <td>0.176876</td>\n",
              "      <td>0.178008</td>\n",
              "      <td>0.179686</td>\n",
              "      <td>0.180975</td>\n",
              "      <td>0.182966</td>\n",
              "      <td>0.183044</td>\n",
              "      <td>0.184840</td>\n",
              "      <td>0.186050</td>\n",
              "      <td>0.186596</td>\n",
              "      <td>0.186674</td>\n",
              "      <td>0.187182</td>\n",
              "      <td>0.187299</td>\n",
              "      <td>0.187689</td>\n",
              "      <td>0.188626</td>\n",
              "      <td>-0.073607</td>\n",
              "      <td>0.073607</td>\n",
              "      <td>0.001980</td>\n",
              "      <td>-0.013500</td>\n",
              "      <td>0.174739</td>\n",
              "      <td>0.016740</td>\n",
              "      <td>0.007348</td>\n",
              "      <td>0.011078</td>\n",
              "      <td>-0.030595</td>\n",
              "      <td>-0.111353</td>\n",
              "      <td>-0.021438</td>\n",
              "      <td>-0.049631</td>\n",
              "      <td>-0.006894</td>\n",
              "      <td>0.103999</td>\n",
              "      <td>-0.026903</td>\n",
              "      <td>0.093955</td>\n",
              "      <td>-0.007857</td>\n",
              "      <td>0.123765</td>\n",
              "    </tr>\n",
              "    <tr>\n",
              "      <th>Net Sales</th>\n",
              "      <td>0.429235</td>\n",
              "      <td>1.000000</td>\n",
              "      <td>0.651315</td>\n",
              "      <td>0.037756</td>\n",
              "      <td>-0.011045</td>\n",
              "      <td>0.011045</td>\n",
              "      <td>0.003197</td>\n",
              "      <td>-0.003311</td>\n",
              "      <td>0.002765</td>\n",
              "      <td>-0.001277</td>\n",
              "      <td>0.037138</td>\n",
              "      <td>0.008156</td>\n",
              "      <td>0.002773</td>\n",
              "      <td>0.001184</td>\n",
              "      <td>-0.011982</td>\n",
              "      <td>-0.002172</td>\n",
              "      <td>0.000206</td>\n",
              "      <td>0.007790</td>\n",
              "      <td>-0.002498</td>\n",
              "      <td>0.003800</td>\n",
              "      <td>0.000120</td>\n",
              "      <td>-0.002470</td>\n",
              "      <td>0.002327</td>\n",
              "      <td>0.003197</td>\n",
              "      <td>0.002090</td>\n",
              "      <td>-0.050428</td>\n",
              "      <td>0.009157</td>\n",
              "      <td>-0.032491</td>\n",
              "      <td>0.005801</td>\n",
              "      <td>0.037225</td>\n",
              "      <td>0.006362</td>\n",
              "      <td>0.007483</td>\n",
              "      <td>-0.035460</td>\n",
              "      <td>0.003632</td>\n",
              "      <td>0.001519</td>\n",
              "      <td>0.013686</td>\n",
              "      <td>0.012924</td>\n",
              "      <td>0.012464</td>\n",
              "      <td>0.019599</td>\n",
              "      <td>0.003197</td>\n",
              "      <td>...</td>\n",
              "      <td>0.020169</td>\n",
              "      <td>0.015384</td>\n",
              "      <td>0.014262</td>\n",
              "      <td>0.022470</td>\n",
              "      <td>0.015384</td>\n",
              "      <td>0.009787</td>\n",
              "      <td>0.017260</td>\n",
              "      <td>-0.003311</td>\n",
              "      <td>-0.003285</td>\n",
              "      <td>-0.003285</td>\n",
              "      <td>-0.003285</td>\n",
              "      <td>-0.003285</td>\n",
              "      <td>-0.003285</td>\n",
              "      <td>-0.003285</td>\n",
              "      <td>-0.003285</td>\n",
              "      <td>-0.003285</td>\n",
              "      <td>-0.003285</td>\n",
              "      <td>-0.003285</td>\n",
              "      <td>-0.003285</td>\n",
              "      <td>-0.003285</td>\n",
              "      <td>-0.003285</td>\n",
              "      <td>-0.003301</td>\n",
              "      <td>-0.133931</td>\n",
              "      <td>0.133931</td>\n",
              "      <td>0.009255</td>\n",
              "      <td>-0.017824</td>\n",
              "      <td>0.302753</td>\n",
              "      <td>-0.011074</td>\n",
              "      <td>-0.011403</td>\n",
              "      <td>-0.005964</td>\n",
              "      <td>0.018955</td>\n",
              "      <td>-0.185881</td>\n",
              "      <td>0.027572</td>\n",
              "      <td>-0.057057</td>\n",
              "      <td>0.023828</td>\n",
              "      <td>0.152040</td>\n",
              "      <td>-0.050418</td>\n",
              "      <td>-0.091544</td>\n",
              "      <td>-0.021370</td>\n",
              "      <td>0.042317</td>\n",
              "    </tr>\n",
              "    <tr>\n",
              "      <th>Commision (in value)</th>\n",
              "      <td>0.344772</td>\n",
              "      <td>0.651315</td>\n",
              "      <td>1.000000</td>\n",
              "      <td>0.118348</td>\n",
              "      <td>-0.005199</td>\n",
              "      <td>0.005199</td>\n",
              "      <td>-0.001968</td>\n",
              "      <td>0.001242</td>\n",
              "      <td>0.002954</td>\n",
              "      <td>-0.001968</td>\n",
              "      <td>0.204310</td>\n",
              "      <td>0.017399</td>\n",
              "      <td>-0.003508</td>\n",
              "      <td>-0.001164</td>\n",
              "      <td>-0.016441</td>\n",
              "      <td>-0.001968</td>\n",
              "      <td>0.003035</td>\n",
              "      <td>-0.004678</td>\n",
              "      <td>-0.001968</td>\n",
              "      <td>-0.003409</td>\n",
              "      <td>0.006874</td>\n",
              "      <td>-0.006225</td>\n",
              "      <td>0.006375</td>\n",
              "      <td>-0.001968</td>\n",
              "      <td>-0.008370</td>\n",
              "      <td>-0.017831</td>\n",
              "      <td>0.006128</td>\n",
              "      <td>-0.039881</td>\n",
              "      <td>-0.001968</td>\n",
              "      <td>-0.001723</td>\n",
              "      <td>-0.002784</td>\n",
              "      <td>-0.006819</td>\n",
              "      <td>-0.075609</td>\n",
              "      <td>-0.002700</td>\n",
              "      <td>-0.002055</td>\n",
              "      <td>0.010248</td>\n",
              "      <td>0.009903</td>\n",
              "      <td>-0.002710</td>\n",
              "      <td>0.040056</td>\n",
              "      <td>-0.001968</td>\n",
              "      <td>...</td>\n",
              "      <td>0.012540</td>\n",
              "      <td>0.028004</td>\n",
              "      <td>0.008867</td>\n",
              "      <td>0.028488</td>\n",
              "      <td>0.028004</td>\n",
              "      <td>0.006108</td>\n",
              "      <td>0.010715</td>\n",
              "      <td>0.008905</td>\n",
              "      <td>-0.001950</td>\n",
              "      <td>-0.001950</td>\n",
              "      <td>-0.001950</td>\n",
              "      <td>-0.001950</td>\n",
              "      <td>-0.001950</td>\n",
              "      <td>-0.001950</td>\n",
              "      <td>-0.001950</td>\n",
              "      <td>-0.001950</td>\n",
              "      <td>-0.001950</td>\n",
              "      <td>-0.001950</td>\n",
              "      <td>-0.001950</td>\n",
              "      <td>-0.001950</td>\n",
              "      <td>-0.001950</td>\n",
              "      <td>-0.001960</td>\n",
              "      <td>-0.098696</td>\n",
              "      <td>0.098696</td>\n",
              "      <td>0.051718</td>\n",
              "      <td>0.002723</td>\n",
              "      <td>0.209809</td>\n",
              "      <td>0.000445</td>\n",
              "      <td>0.001409</td>\n",
              "      <td>0.001890</td>\n",
              "      <td>0.451183</td>\n",
              "      <td>-0.552718</td>\n",
              "      <td>0.065353</td>\n",
              "      <td>0.032923</td>\n",
              "      <td>0.047830</td>\n",
              "      <td>0.341349</td>\n",
              "      <td>-0.014039</td>\n",
              "      <td>-0.052770</td>\n",
              "      <td>0.003302</td>\n",
              "      <td>-0.019502</td>\n",
              "    </tr>\n",
              "    <tr>\n",
              "      <th>Age</th>\n",
              "      <td>0.002468</td>\n",
              "      <td>0.037756</td>\n",
              "      <td>0.118348</td>\n",
              "      <td>1.000000</td>\n",
              "      <td>0.159644</td>\n",
              "      <td>-0.159644</td>\n",
              "      <td>-0.001126</td>\n",
              "      <td>-0.005945</td>\n",
              "      <td>-0.005340</td>\n",
              "      <td>-0.001126</td>\n",
              "      <td>-0.009552</td>\n",
              "      <td>-0.008820</td>\n",
              "      <td>-0.004286</td>\n",
              "      <td>-0.000677</td>\n",
              "      <td>0.004574</td>\n",
              "      <td>-0.001126</td>\n",
              "      <td>-0.006205</td>\n",
              "      <td>0.004783</td>\n",
              "      <td>-0.001126</td>\n",
              "      <td>0.001815</td>\n",
              "      <td>0.002143</td>\n",
              "      <td>-0.003290</td>\n",
              "      <td>-0.002543</td>\n",
              "      <td>-0.001126</td>\n",
              "      <td>-0.003398</td>\n",
              "      <td>0.018676</td>\n",
              "      <td>-0.001444</td>\n",
              "      <td>-0.014974</td>\n",
              "      <td>-0.001126</td>\n",
              "      <td>-0.000349</td>\n",
              "      <td>-0.001592</td>\n",
              "      <td>-0.001853</td>\n",
              "      <td>-0.026332</td>\n",
              "      <td>-0.003335</td>\n",
              "      <td>-0.001156</td>\n",
              "      <td>-0.002514</td>\n",
              "      <td>0.000985</td>\n",
              "      <td>-0.007100</td>\n",
              "      <td>0.004628</td>\n",
              "      <td>0.000009</td>\n",
              "      <td>...</td>\n",
              "      <td>-0.000990</td>\n",
              "      <td>-0.003110</td>\n",
              "      <td>0.005679</td>\n",
              "      <td>0.005826</td>\n",
              "      <td>0.002277</td>\n",
              "      <td>0.000009</td>\n",
              "      <td>-0.001976</td>\n",
              "      <td>-0.001126</td>\n",
              "      <td>0.002277</td>\n",
              "      <td>0.002277</td>\n",
              "      <td>0.002277</td>\n",
              "      <td>0.002277</td>\n",
              "      <td>0.002277</td>\n",
              "      <td>0.002277</td>\n",
              "      <td>0.002277</td>\n",
              "      <td>0.002277</td>\n",
              "      <td>0.002277</td>\n",
              "      <td>0.002277</td>\n",
              "      <td>0.002277</td>\n",
              "      <td>0.002277</td>\n",
              "      <td>0.002277</td>\n",
              "      <td>0.002277</td>\n",
              "      <td>0.011614</td>\n",
              "      <td>-0.011614</td>\n",
              "      <td>-0.041526</td>\n",
              "      <td>0.105208</td>\n",
              "      <td>-0.061391</td>\n",
              "      <td>0.048927</td>\n",
              "      <td>0.109161</td>\n",
              "      <td>0.046150</td>\n",
              "      <td>0.009090</td>\n",
              "      <td>-0.241700</td>\n",
              "      <td>0.609036</td>\n",
              "      <td>0.110156</td>\n",
              "      <td>0.044754</td>\n",
              "      <td>0.000170</td>\n",
              "      <td>0.020881</td>\n",
              "      <td>0.085688</td>\n",
              "      <td>0.068674</td>\n",
              "      <td>0.001890</td>\n",
              "    </tr>\n",
              "    <tr>\n",
              "      <th>Distribution Channel_0</th>\n",
              "      <td>0.040856</td>\n",
              "      <td>-0.011045</td>\n",
              "      <td>-0.005199</td>\n",
              "      <td>0.159644</td>\n",
              "      <td>1.000000</td>\n",
              "      <td>-1.000000</td>\n",
              "      <td>-0.000530</td>\n",
              "      <td>-0.000530</td>\n",
              "      <td>-0.002487</td>\n",
              "      <td>-0.000530</td>\n",
              "      <td>-0.020860</td>\n",
              "      <td>-0.005358</td>\n",
              "      <td>-0.001499</td>\n",
              "      <td>-0.001911</td>\n",
              "      <td>-0.005331</td>\n",
              "      <td>-0.000530</td>\n",
              "      <td>-0.000918</td>\n",
              "      <td>0.005348</td>\n",
              "      <td>-0.000530</td>\n",
              "      <td>-0.000918</td>\n",
              "      <td>-0.001060</td>\n",
              "      <td>-0.001676</td>\n",
              "      <td>-0.000530</td>\n",
              "      <td>-0.000530</td>\n",
              "      <td>-0.003225</td>\n",
              "      <td>-0.013803</td>\n",
              "      <td>-0.001836</td>\n",
              "      <td>-0.011815</td>\n",
              "      <td>-0.000530</td>\n",
              "      <td>-0.009581</td>\n",
              "      <td>-0.000750</td>\n",
              "      <td>-0.001836</td>\n",
              "      <td>-0.030896</td>\n",
              "      <td>-0.002053</td>\n",
              "      <td>-0.001402</td>\n",
              "      <td>-0.003968</td>\n",
              "      <td>-0.002053</td>\n",
              "      <td>-0.000753</td>\n",
              "      <td>-0.005436</td>\n",
              "      <td>-0.000530</td>\n",
              "      <td>...</td>\n",
              "      <td>-0.000750</td>\n",
              "      <td>-0.000530</td>\n",
              "      <td>-0.000530</td>\n",
              "      <td>-0.000750</td>\n",
              "      <td>-0.000530</td>\n",
              "      <td>-0.000530</td>\n",
              "      <td>-0.000530</td>\n",
              "      <td>-0.000530</td>\n",
              "      <td>-0.000530</td>\n",
              "      <td>-0.000530</td>\n",
              "      <td>-0.000530</td>\n",
              "      <td>-0.000530</td>\n",
              "      <td>-0.000530</td>\n",
              "      <td>-0.000530</td>\n",
              "      <td>-0.000530</td>\n",
              "      <td>-0.000530</td>\n",
              "      <td>-0.000530</td>\n",
              "      <td>-0.000530</td>\n",
              "      <td>-0.000530</td>\n",
              "      <td>-0.000530</td>\n",
              "      <td>-0.000530</td>\n",
              "      <td>-0.000530</td>\n",
              "      <td>-0.000798</td>\n",
              "      <td>0.000798</td>\n",
              "      <td>-0.004803</td>\n",
              "      <td>-0.006327</td>\n",
              "      <td>-0.051686</td>\n",
              "      <td>0.299643</td>\n",
              "      <td>0.415589</td>\n",
              "      <td>0.276466</td>\n",
              "      <td>-0.050341</td>\n",
              "      <td>-0.131622</td>\n",
              "      <td>-0.014593</td>\n",
              "      <td>-0.042439</td>\n",
              "      <td>-0.007455</td>\n",
              "      <td>-0.013990</td>\n",
              "      <td>-0.013222</td>\n",
              "      <td>-0.006079</td>\n",
              "      <td>0.687435</td>\n",
              "      <td>0.295152</td>\n",
              "    </tr>\n",
              "  </tbody>\n",
              "</table>\n",
              "<p>5 rows × 655 columns</p>\n",
              "</div>"
            ],
            "text/plain": [
              "                        Duration  Net Sales  ...  Agency_14  Agency_15\n",
              "Duration                1.000000   0.429235  ...  -0.007857   0.123765\n",
              "Net Sales               0.429235   1.000000  ...  -0.021370   0.042317\n",
              "Commision (in value)    0.344772   0.651315  ...   0.003302  -0.019502\n",
              "Age                     0.002468   0.037756  ...   0.068674   0.001890\n",
              "Distribution Channel_0  0.040856  -0.011045  ...   0.687435   0.295152\n",
              "\n",
              "[5 rows x 655 columns]"
            ]
          },
          "metadata": {
            "tags": []
          },
          "execution_count": 56
        }
      ]
    },
    {
      "cell_type": "code",
      "metadata": {
        "id": "7Sl2psv8j13M",
        "colab_type": "code",
        "colab": {
          "base_uri": "https://localhost:8080/",
          "height": 198
        },
        "outputId": "776f63f6-e42b-4398-c2a5-0e2e57294abd"
      },
      "source": [
        "le = LabelEncoder()\n",
        "df_target = pd.DataFrame(le.fit_transform(df['Claim']))\n",
        "df_target.columns = (['Claim'])\n",
        "df_target.head()"
      ],
      "execution_count": 57,
      "outputs": [
        {
          "output_type": "execute_result",
          "data": {
            "text/html": [
              "<div>\n",
              "<style scoped>\n",
              "    .dataframe tbody tr th:only-of-type {\n",
              "        vertical-align: middle;\n",
              "    }\n",
              "\n",
              "    .dataframe tbody tr th {\n",
              "        vertical-align: top;\n",
              "    }\n",
              "\n",
              "    .dataframe thead th {\n",
              "        text-align: right;\n",
              "    }\n",
              "</style>\n",
              "<table border=\"1\" class=\"dataframe\">\n",
              "  <thead>\n",
              "    <tr style=\"text-align: right;\">\n",
              "      <th></th>\n",
              "      <th>Claim</th>\n",
              "    </tr>\n",
              "  </thead>\n",
              "  <tbody>\n",
              "    <tr>\n",
              "      <th>0</th>\n",
              "      <td>0</td>\n",
              "    </tr>\n",
              "    <tr>\n",
              "      <th>1</th>\n",
              "      <td>0</td>\n",
              "    </tr>\n",
              "    <tr>\n",
              "      <th>2</th>\n",
              "      <td>0</td>\n",
              "    </tr>\n",
              "    <tr>\n",
              "      <th>3</th>\n",
              "      <td>0</td>\n",
              "    </tr>\n",
              "    <tr>\n",
              "      <th>4</th>\n",
              "      <td>0</td>\n",
              "    </tr>\n",
              "  </tbody>\n",
              "</table>\n",
              "</div>"
            ],
            "text/plain": [
              "   Claim\n",
              "0      0\n",
              "1      0\n",
              "2      0\n",
              "3      0\n",
              "4      0"
            ]
          },
          "metadata": {
            "tags": []
          },
          "execution_count": 57
        }
      ]
    },
    {
      "cell_type": "code",
      "metadata": {
        "id": "HvG7apqrkNjY",
        "colab_type": "code",
        "colab": {
          "base_uri": "https://localhost:8080/",
          "height": 108
        },
        "outputId": "52d29030-53a9-459d-8336-a25f8336c619"
      },
      "source": [
        "print(df_target['Claim'].value_counts())\n",
        "lbl_1,lbl_0 = df_target['Claim'].value_counts()\n",
        "print(\"Label 1 class %age: \"+str((lbl_1*100)/df_target['Claim'].count()))\n",
        "print(\"Label 0 class %age: \"+str((lbl_0*100)/df_target['Claim'].count()))"
      ],
      "execution_count": 58,
      "outputs": [
        {
          "output_type": "stream",
          "text": [
            "0    62399\n",
            "1      927\n",
            "Name: Claim, dtype: int64\n",
            "Label 1 class %age: 98.53614629062312\n",
            "Label 0 class %age: 1.4638537093768753\n"
          ],
          "name": "stdout"
        }
      ]
    },
    {
      "cell_type": "code",
      "metadata": {
        "id": "mRpgtrMWqeHk",
        "colab_type": "code",
        "colab": {
          "base_uri": "https://localhost:8080/",
          "height": 90
        },
        "outputId": "21af086c-8d91-4a07-fffc-db5bd560edb6"
      },
      "source": [
        "df=df.drop(columns='Claim')\n",
        "df.columns"
      ],
      "execution_count": 59,
      "outputs": [
        {
          "output_type": "execute_result",
          "data": {
            "text/plain": [
              "Index(['Agency', 'Agency Type', 'Distribution Channel', 'Product Name',\n",
              "       'Duration', 'Destination', 'Net Sales', 'Commision (in value)',\n",
              "       'Gender', 'Age', 'log_Duration'],\n",
              "      dtype='object')"
            ]
          },
          "metadata": {
            "tags": []
          },
          "execution_count": 59
        }
      ]
    },
    {
      "cell_type": "markdown",
      "metadata": {
        "id": "rh7nWRVVrrLx",
        "colab_type": "text"
      },
      "source": [
        "**Label Encode the Categorical Columns**"
      ]
    },
    {
      "cell_type": "code",
      "metadata": {
        "id": "3cRdGVJgr25u",
        "colab_type": "code",
        "colab": {}
      },
      "source": [
        "df_le = df.copy()"
      ],
      "execution_count": 60,
      "outputs": []
    },
    {
      "cell_type": "code",
      "metadata": {
        "id": "HeRh4yzJshMm",
        "colab_type": "code",
        "colab": {
          "base_uri": "https://localhost:8080/",
          "height": 199
        },
        "outputId": "f2fa3bbc-d596-47b9-f39d-2f6a088c6c60"
      },
      "source": [
        "cat_cols = list(set(cat_cols) - set(['Claim']))\n",
        "cat_cols"
      ],
      "execution_count": 61,
      "outputs": [
        {
          "output_type": "execute_result",
          "data": {
            "text/plain": [
              "['Distribution Channel',\n",
              " 'Age',\n",
              " 'Commision (in value)',\n",
              " 'Net Sales',\n",
              " 'Destination',\n",
              " 'Duration',\n",
              " 'Gender',\n",
              " 'Product Name',\n",
              " 'Agency Type',\n",
              " 'Agency']"
            ]
          },
          "metadata": {
            "tags": []
          },
          "execution_count": 61
        }
      ]
    },
    {
      "cell_type": "code",
      "metadata": {
        "id": "2DV2SfS3ssTx",
        "colab_type": "code",
        "colab": {
          "base_uri": "https://localhost:8080/",
          "height": 235
        },
        "outputId": "970a05d4-2265-47aa-aa2e-b45fc5589338"
      },
      "source": [
        "for j in cat_cols :\n",
        "  df_le['enc_'+str(j)] = le.fit_transform(df_le[j])\n",
        "df_loan_le = df_le.drop(columns = cat_cols)\n",
        "df_loan_le.head()"
      ],
      "execution_count": 62,
      "outputs": [
        {
          "output_type": "execute_result",
          "data": {
            "text/html": [
              "<div>\n",
              "<style scoped>\n",
              "    .dataframe tbody tr th:only-of-type {\n",
              "        vertical-align: middle;\n",
              "    }\n",
              "\n",
              "    .dataframe tbody tr th {\n",
              "        vertical-align: top;\n",
              "    }\n",
              "\n",
              "    .dataframe thead th {\n",
              "        text-align: right;\n",
              "    }\n",
              "</style>\n",
              "<table border=\"1\" class=\"dataframe\">\n",
              "  <thead>\n",
              "    <tr style=\"text-align: right;\">\n",
              "      <th></th>\n",
              "      <th>log_Duration</th>\n",
              "      <th>enc_Distribution Channel</th>\n",
              "      <th>enc_Age</th>\n",
              "      <th>enc_Commision (in value)</th>\n",
              "      <th>enc_Net Sales</th>\n",
              "      <th>enc_Destination</th>\n",
              "      <th>enc_Duration</th>\n",
              "      <th>enc_Gender</th>\n",
              "      <th>enc_Product Name</th>\n",
              "      <th>enc_Agency Type</th>\n",
              "      <th>enc_Agency</th>\n",
              "    </tr>\n",
              "  </thead>\n",
              "  <tbody>\n",
              "    <tr>\n",
              "      <th>0</th>\n",
              "      <td>5.225747</td>\n",
              "      <td>0</td>\n",
              "      <td>80</td>\n",
              "      <td>396</td>\n",
              "      <td>105</td>\n",
              "      <td>79</td>\n",
              "      <td>188</td>\n",
              "      <td>0</td>\n",
              "      <td>12</td>\n",
              "      <td>1</td>\n",
              "      <td>3</td>\n",
              "    </tr>\n",
              "    <tr>\n",
              "      <th>1</th>\n",
              "      <td>5.225747</td>\n",
              "      <td>0</td>\n",
              "      <td>70</td>\n",
              "      <td>396</td>\n",
              "      <td>105</td>\n",
              "      <td>79</td>\n",
              "      <td>188</td>\n",
              "      <td>0</td>\n",
              "      <td>12</td>\n",
              "      <td>1</td>\n",
              "      <td>3</td>\n",
              "    </tr>\n",
              "    <tr>\n",
              "      <th>2</th>\n",
              "      <td>4.174387</td>\n",
              "      <td>1</td>\n",
              "      <td>31</td>\n",
              "      <td>716</td>\n",
              "      <td>80</td>\n",
              "      <td>4</td>\n",
              "      <td>67</td>\n",
              "      <td>1</td>\n",
              "      <td>16</td>\n",
              "      <td>1</td>\n",
              "      <td>6</td>\n",
              "    </tr>\n",
              "    <tr>\n",
              "      <th>3</th>\n",
              "      <td>4.094345</td>\n",
              "      <td>1</td>\n",
              "      <td>31</td>\n",
              "      <td>646</td>\n",
              "      <td>91</td>\n",
              "      <td>4</td>\n",
              "      <td>62</td>\n",
              "      <td>1</td>\n",
              "      <td>16</td>\n",
              "      <td>1</td>\n",
              "      <td>6</td>\n",
              "    </tr>\n",
              "    <tr>\n",
              "      <th>4</th>\n",
              "      <td>4.369448</td>\n",
              "      <td>1</td>\n",
              "      <td>40</td>\n",
              "      <td>442</td>\n",
              "      <td>120</td>\n",
              "      <td>61</td>\n",
              "      <td>81</td>\n",
              "      <td>1</td>\n",
              "      <td>16</td>\n",
              "      <td>1</td>\n",
              "      <td>6</td>\n",
              "    </tr>\n",
              "  </tbody>\n",
              "</table>\n",
              "</div>"
            ],
            "text/plain": [
              "   log_Duration  enc_Distribution Channel  ...  enc_Agency Type  enc_Agency\n",
              "0      5.225747                         0  ...                1           3\n",
              "1      5.225747                         0  ...                1           3\n",
              "2      4.174387                         1  ...                1           6\n",
              "3      4.094345                         1  ...                1           6\n",
              "4      4.369448                         1  ...                1           6\n",
              "\n",
              "[5 rows x 11 columns]"
            ]
          },
          "metadata": {
            "tags": []
          },
          "execution_count": 62
        }
      ]
    },
    {
      "cell_type": "code",
      "metadata": {
        "id": "UAc84WT5s0Qv",
        "colab_type": "code",
        "colab": {
          "base_uri": "https://localhost:8080/",
          "height": 35
        },
        "outputId": "50f5a011-b119-4eef-9e3c-46c7ea715298"
      },
      "source": [
        "df_loan_le.shape"
      ],
      "execution_count": 63,
      "outputs": [
        {
          "output_type": "execute_result",
          "data": {
            "text/plain": [
              "(63326, 11)"
            ]
          },
          "metadata": {
            "tags": []
          },
          "execution_count": 63
        }
      ]
    },
    {
      "cell_type": "markdown",
      "metadata": {
        "id": "sWOg7kW0wir_",
        "colab_type": "text"
      },
      "source": [
        "**OHE Categorical Columns**"
      ]
    },
    {
      "cell_type": "code",
      "metadata": {
        "id": "Fj1XrgkdwrrJ",
        "colab_type": "code",
        "colab": {
          "base_uri": "https://localhost:8080/",
          "height": 199
        },
        "outputId": "efd39b21-0171-4f7f-f178-c41e2b3c1c29"
      },
      "source": [
        "df_ohe = df.copy()\n",
        "cat_cols"
      ],
      "execution_count": 64,
      "outputs": [
        {
          "output_type": "execute_result",
          "data": {
            "text/plain": [
              "['Distribution Channel',\n",
              " 'Age',\n",
              " 'Commision (in value)',\n",
              " 'Net Sales',\n",
              " 'Destination',\n",
              " 'Duration',\n",
              " 'Gender',\n",
              " 'Product Name',\n",
              " 'Agency Type',\n",
              " 'Agency']"
            ]
          },
          "metadata": {
            "tags": []
          },
          "execution_count": 64
        }
      ]
    },
    {
      "cell_type": "code",
      "metadata": {
        "id": "s1GdARtTw9QB",
        "colab_type": "code",
        "colab": {
          "base_uri": "https://localhost:8080/",
          "height": 316
        },
        "outputId": "3c9071b4-d0ad-49ef-cd77-c0ae91f3d5ba"
      },
      "source": [
        "for j in cat_cols :\n",
        "   df_ohe = pd.get_dummies(df_ohe, columns=[j], prefix=[j] )\n",
        "df_ohe.head()"
      ],
      "execution_count": 65,
      "outputs": [
        {
          "output_type": "execute_result",
          "data": {
            "text/html": [
              "<div>\n",
              "<style scoped>\n",
              "    .dataframe tbody tr th:only-of-type {\n",
              "        vertical-align: middle;\n",
              "    }\n",
              "\n",
              "    .dataframe tbody tr th {\n",
              "        vertical-align: top;\n",
              "    }\n",
              "\n",
              "    .dataframe thead th {\n",
              "        text-align: right;\n",
              "    }\n",
              "</style>\n",
              "<table border=\"1\" class=\"dataframe\">\n",
              "  <thead>\n",
              "    <tr style=\"text-align: right;\">\n",
              "      <th></th>\n",
              "      <th>log_Duration</th>\n",
              "      <th>Distribution Channel_Offline</th>\n",
              "      <th>Distribution Channel_Online</th>\n",
              "      <th>Age_0</th>\n",
              "      <th>Age_1</th>\n",
              "      <th>Age_2</th>\n",
              "      <th>Age_3</th>\n",
              "      <th>Age_4</th>\n",
              "      <th>Age_5</th>\n",
              "      <th>Age_7</th>\n",
              "      <th>Age_8</th>\n",
              "      <th>Age_9</th>\n",
              "      <th>Age_10</th>\n",
              "      <th>Age_11</th>\n",
              "      <th>Age_12</th>\n",
              "      <th>Age_13</th>\n",
              "      <th>Age_14</th>\n",
              "      <th>Age_15</th>\n",
              "      <th>Age_16</th>\n",
              "      <th>Age_17</th>\n",
              "      <th>Age_18</th>\n",
              "      <th>Age_19</th>\n",
              "      <th>Age_20</th>\n",
              "      <th>Age_21</th>\n",
              "      <th>Age_22</th>\n",
              "      <th>Age_23</th>\n",
              "      <th>Age_24</th>\n",
              "      <th>Age_25</th>\n",
              "      <th>Age_26</th>\n",
              "      <th>Age_27</th>\n",
              "      <th>Age_28</th>\n",
              "      <th>Age_29</th>\n",
              "      <th>Age_30</th>\n",
              "      <th>Age_31</th>\n",
              "      <th>Age_32</th>\n",
              "      <th>Age_33</th>\n",
              "      <th>Age_34</th>\n",
              "      <th>Age_35</th>\n",
              "      <th>Age_36</th>\n",
              "      <th>Age_37</th>\n",
              "      <th>...</th>\n",
              "      <th>Product Name_Annual Silver Plan</th>\n",
              "      <th>Product Name_Annual Travel Protect Gold</th>\n",
              "      <th>Product Name_Annual Travel Protect Platinum</th>\n",
              "      <th>Product Name_Annual Travel Protect Silver</th>\n",
              "      <th>Product Name_Basic Plan</th>\n",
              "      <th>Product Name_Bronze Plan</th>\n",
              "      <th>Product Name_Cancellation Plan</th>\n",
              "      <th>Product Name_Child Comprehensive Plan</th>\n",
              "      <th>Product Name_Comprehensive Plan</th>\n",
              "      <th>Product Name_Gold Plan</th>\n",
              "      <th>Product Name_Individual Comprehensive Plan</th>\n",
              "      <th>Product Name_Premier Plan</th>\n",
              "      <th>Product Name_Rental Vehicle Excess Insurance</th>\n",
              "      <th>Product Name_Silver Plan</th>\n",
              "      <th>Product Name_Single Trip Travel Protect Gold</th>\n",
              "      <th>Product Name_Single Trip Travel Protect Platinum</th>\n",
              "      <th>Product Name_Single Trip Travel Protect Silver</th>\n",
              "      <th>Product Name_Spouse or Parents Comprehensive Plan</th>\n",
              "      <th>Product Name_Ticket Protector</th>\n",
              "      <th>Product Name_Travel Cruise Protect</th>\n",
              "      <th>Product Name_Travel Cruise Protect Family</th>\n",
              "      <th>Product Name_Value Plan</th>\n",
              "      <th>Agency Type_Airlines</th>\n",
              "      <th>Agency Type_Travel Agency</th>\n",
              "      <th>Agency_ADM</th>\n",
              "      <th>Agency_ART</th>\n",
              "      <th>Agency_C2B</th>\n",
              "      <th>Agency_CBH</th>\n",
              "      <th>Agency_CCR</th>\n",
              "      <th>Agency_CSR</th>\n",
              "      <th>Agency_CWT</th>\n",
              "      <th>Agency_EPX</th>\n",
              "      <th>Agency_JWT</th>\n",
              "      <th>Agency_JZI</th>\n",
              "      <th>Agency_KML</th>\n",
              "      <th>Agency_LWC</th>\n",
              "      <th>Agency_RAB</th>\n",
              "      <th>Agency_SSI</th>\n",
              "      <th>Agency_TST</th>\n",
              "      <th>Agency_TTW</th>\n",
              "    </tr>\n",
              "  </thead>\n",
              "  <tbody>\n",
              "    <tr>\n",
              "      <th>0</th>\n",
              "      <td>5.225747</td>\n",
              "      <td>1</td>\n",
              "      <td>0</td>\n",
              "      <td>0</td>\n",
              "      <td>0</td>\n",
              "      <td>0</td>\n",
              "      <td>0</td>\n",
              "      <td>0</td>\n",
              "      <td>0</td>\n",
              "      <td>0</td>\n",
              "      <td>0</td>\n",
              "      <td>0</td>\n",
              "      <td>0</td>\n",
              "      <td>0</td>\n",
              "      <td>0</td>\n",
              "      <td>0</td>\n",
              "      <td>0</td>\n",
              "      <td>0</td>\n",
              "      <td>0</td>\n",
              "      <td>0</td>\n",
              "      <td>0</td>\n",
              "      <td>0</td>\n",
              "      <td>0</td>\n",
              "      <td>0</td>\n",
              "      <td>0</td>\n",
              "      <td>0</td>\n",
              "      <td>0</td>\n",
              "      <td>0</td>\n",
              "      <td>0</td>\n",
              "      <td>0</td>\n",
              "      <td>0</td>\n",
              "      <td>0</td>\n",
              "      <td>0</td>\n",
              "      <td>0</td>\n",
              "      <td>0</td>\n",
              "      <td>0</td>\n",
              "      <td>0</td>\n",
              "      <td>0</td>\n",
              "      <td>0</td>\n",
              "      <td>0</td>\n",
              "      <td>...</td>\n",
              "      <td>0</td>\n",
              "      <td>0</td>\n",
              "      <td>0</td>\n",
              "      <td>0</td>\n",
              "      <td>0</td>\n",
              "      <td>0</td>\n",
              "      <td>0</td>\n",
              "      <td>0</td>\n",
              "      <td>1</td>\n",
              "      <td>0</td>\n",
              "      <td>0</td>\n",
              "      <td>0</td>\n",
              "      <td>0</td>\n",
              "      <td>0</td>\n",
              "      <td>0</td>\n",
              "      <td>0</td>\n",
              "      <td>0</td>\n",
              "      <td>0</td>\n",
              "      <td>0</td>\n",
              "      <td>0</td>\n",
              "      <td>0</td>\n",
              "      <td>0</td>\n",
              "      <td>0</td>\n",
              "      <td>1</td>\n",
              "      <td>0</td>\n",
              "      <td>0</td>\n",
              "      <td>0</td>\n",
              "      <td>1</td>\n",
              "      <td>0</td>\n",
              "      <td>0</td>\n",
              "      <td>0</td>\n",
              "      <td>0</td>\n",
              "      <td>0</td>\n",
              "      <td>0</td>\n",
              "      <td>0</td>\n",
              "      <td>0</td>\n",
              "      <td>0</td>\n",
              "      <td>0</td>\n",
              "      <td>0</td>\n",
              "      <td>0</td>\n",
              "    </tr>\n",
              "    <tr>\n",
              "      <th>1</th>\n",
              "      <td>5.225747</td>\n",
              "      <td>1</td>\n",
              "      <td>0</td>\n",
              "      <td>0</td>\n",
              "      <td>0</td>\n",
              "      <td>0</td>\n",
              "      <td>0</td>\n",
              "      <td>0</td>\n",
              "      <td>0</td>\n",
              "      <td>0</td>\n",
              "      <td>0</td>\n",
              "      <td>0</td>\n",
              "      <td>0</td>\n",
              "      <td>0</td>\n",
              "      <td>0</td>\n",
              "      <td>0</td>\n",
              "      <td>0</td>\n",
              "      <td>0</td>\n",
              "      <td>0</td>\n",
              "      <td>0</td>\n",
              "      <td>0</td>\n",
              "      <td>0</td>\n",
              "      <td>0</td>\n",
              "      <td>0</td>\n",
              "      <td>0</td>\n",
              "      <td>0</td>\n",
              "      <td>0</td>\n",
              "      <td>0</td>\n",
              "      <td>0</td>\n",
              "      <td>0</td>\n",
              "      <td>0</td>\n",
              "      <td>0</td>\n",
              "      <td>0</td>\n",
              "      <td>0</td>\n",
              "      <td>0</td>\n",
              "      <td>0</td>\n",
              "      <td>0</td>\n",
              "      <td>0</td>\n",
              "      <td>0</td>\n",
              "      <td>0</td>\n",
              "      <td>...</td>\n",
              "      <td>0</td>\n",
              "      <td>0</td>\n",
              "      <td>0</td>\n",
              "      <td>0</td>\n",
              "      <td>0</td>\n",
              "      <td>0</td>\n",
              "      <td>0</td>\n",
              "      <td>0</td>\n",
              "      <td>1</td>\n",
              "      <td>0</td>\n",
              "      <td>0</td>\n",
              "      <td>0</td>\n",
              "      <td>0</td>\n",
              "      <td>0</td>\n",
              "      <td>0</td>\n",
              "      <td>0</td>\n",
              "      <td>0</td>\n",
              "      <td>0</td>\n",
              "      <td>0</td>\n",
              "      <td>0</td>\n",
              "      <td>0</td>\n",
              "      <td>0</td>\n",
              "      <td>0</td>\n",
              "      <td>1</td>\n",
              "      <td>0</td>\n",
              "      <td>0</td>\n",
              "      <td>0</td>\n",
              "      <td>1</td>\n",
              "      <td>0</td>\n",
              "      <td>0</td>\n",
              "      <td>0</td>\n",
              "      <td>0</td>\n",
              "      <td>0</td>\n",
              "      <td>0</td>\n",
              "      <td>0</td>\n",
              "      <td>0</td>\n",
              "      <td>0</td>\n",
              "      <td>0</td>\n",
              "      <td>0</td>\n",
              "      <td>0</td>\n",
              "    </tr>\n",
              "    <tr>\n",
              "      <th>2</th>\n",
              "      <td>4.174387</td>\n",
              "      <td>0</td>\n",
              "      <td>1</td>\n",
              "      <td>0</td>\n",
              "      <td>0</td>\n",
              "      <td>0</td>\n",
              "      <td>0</td>\n",
              "      <td>0</td>\n",
              "      <td>0</td>\n",
              "      <td>0</td>\n",
              "      <td>0</td>\n",
              "      <td>0</td>\n",
              "      <td>0</td>\n",
              "      <td>0</td>\n",
              "      <td>0</td>\n",
              "      <td>0</td>\n",
              "      <td>0</td>\n",
              "      <td>0</td>\n",
              "      <td>0</td>\n",
              "      <td>0</td>\n",
              "      <td>0</td>\n",
              "      <td>0</td>\n",
              "      <td>0</td>\n",
              "      <td>0</td>\n",
              "      <td>0</td>\n",
              "      <td>0</td>\n",
              "      <td>0</td>\n",
              "      <td>0</td>\n",
              "      <td>0</td>\n",
              "      <td>0</td>\n",
              "      <td>0</td>\n",
              "      <td>0</td>\n",
              "      <td>0</td>\n",
              "      <td>0</td>\n",
              "      <td>1</td>\n",
              "      <td>0</td>\n",
              "      <td>0</td>\n",
              "      <td>0</td>\n",
              "      <td>0</td>\n",
              "      <td>0</td>\n",
              "      <td>...</td>\n",
              "      <td>0</td>\n",
              "      <td>0</td>\n",
              "      <td>0</td>\n",
              "      <td>0</td>\n",
              "      <td>0</td>\n",
              "      <td>0</td>\n",
              "      <td>0</td>\n",
              "      <td>0</td>\n",
              "      <td>0</td>\n",
              "      <td>0</td>\n",
              "      <td>0</td>\n",
              "      <td>0</td>\n",
              "      <td>1</td>\n",
              "      <td>0</td>\n",
              "      <td>0</td>\n",
              "      <td>0</td>\n",
              "      <td>0</td>\n",
              "      <td>0</td>\n",
              "      <td>0</td>\n",
              "      <td>0</td>\n",
              "      <td>0</td>\n",
              "      <td>0</td>\n",
              "      <td>0</td>\n",
              "      <td>1</td>\n",
              "      <td>0</td>\n",
              "      <td>0</td>\n",
              "      <td>0</td>\n",
              "      <td>0</td>\n",
              "      <td>0</td>\n",
              "      <td>0</td>\n",
              "      <td>1</td>\n",
              "      <td>0</td>\n",
              "      <td>0</td>\n",
              "      <td>0</td>\n",
              "      <td>0</td>\n",
              "      <td>0</td>\n",
              "      <td>0</td>\n",
              "      <td>0</td>\n",
              "      <td>0</td>\n",
              "      <td>0</td>\n",
              "    </tr>\n",
              "    <tr>\n",
              "      <th>3</th>\n",
              "      <td>4.094345</td>\n",
              "      <td>0</td>\n",
              "      <td>1</td>\n",
              "      <td>0</td>\n",
              "      <td>0</td>\n",
              "      <td>0</td>\n",
              "      <td>0</td>\n",
              "      <td>0</td>\n",
              "      <td>0</td>\n",
              "      <td>0</td>\n",
              "      <td>0</td>\n",
              "      <td>0</td>\n",
              "      <td>0</td>\n",
              "      <td>0</td>\n",
              "      <td>0</td>\n",
              "      <td>0</td>\n",
              "      <td>0</td>\n",
              "      <td>0</td>\n",
              "      <td>0</td>\n",
              "      <td>0</td>\n",
              "      <td>0</td>\n",
              "      <td>0</td>\n",
              "      <td>0</td>\n",
              "      <td>0</td>\n",
              "      <td>0</td>\n",
              "      <td>0</td>\n",
              "      <td>0</td>\n",
              "      <td>0</td>\n",
              "      <td>0</td>\n",
              "      <td>0</td>\n",
              "      <td>0</td>\n",
              "      <td>0</td>\n",
              "      <td>0</td>\n",
              "      <td>0</td>\n",
              "      <td>1</td>\n",
              "      <td>0</td>\n",
              "      <td>0</td>\n",
              "      <td>0</td>\n",
              "      <td>0</td>\n",
              "      <td>0</td>\n",
              "      <td>...</td>\n",
              "      <td>0</td>\n",
              "      <td>0</td>\n",
              "      <td>0</td>\n",
              "      <td>0</td>\n",
              "      <td>0</td>\n",
              "      <td>0</td>\n",
              "      <td>0</td>\n",
              "      <td>0</td>\n",
              "      <td>0</td>\n",
              "      <td>0</td>\n",
              "      <td>0</td>\n",
              "      <td>0</td>\n",
              "      <td>1</td>\n",
              "      <td>0</td>\n",
              "      <td>0</td>\n",
              "      <td>0</td>\n",
              "      <td>0</td>\n",
              "      <td>0</td>\n",
              "      <td>0</td>\n",
              "      <td>0</td>\n",
              "      <td>0</td>\n",
              "      <td>0</td>\n",
              "      <td>0</td>\n",
              "      <td>1</td>\n",
              "      <td>0</td>\n",
              "      <td>0</td>\n",
              "      <td>0</td>\n",
              "      <td>0</td>\n",
              "      <td>0</td>\n",
              "      <td>0</td>\n",
              "      <td>1</td>\n",
              "      <td>0</td>\n",
              "      <td>0</td>\n",
              "      <td>0</td>\n",
              "      <td>0</td>\n",
              "      <td>0</td>\n",
              "      <td>0</td>\n",
              "      <td>0</td>\n",
              "      <td>0</td>\n",
              "      <td>0</td>\n",
              "    </tr>\n",
              "    <tr>\n",
              "      <th>4</th>\n",
              "      <td>4.369448</td>\n",
              "      <td>0</td>\n",
              "      <td>1</td>\n",
              "      <td>0</td>\n",
              "      <td>0</td>\n",
              "      <td>0</td>\n",
              "      <td>0</td>\n",
              "      <td>0</td>\n",
              "      <td>0</td>\n",
              "      <td>0</td>\n",
              "      <td>0</td>\n",
              "      <td>0</td>\n",
              "      <td>0</td>\n",
              "      <td>0</td>\n",
              "      <td>0</td>\n",
              "      <td>0</td>\n",
              "      <td>0</td>\n",
              "      <td>0</td>\n",
              "      <td>0</td>\n",
              "      <td>0</td>\n",
              "      <td>0</td>\n",
              "      <td>0</td>\n",
              "      <td>0</td>\n",
              "      <td>0</td>\n",
              "      <td>0</td>\n",
              "      <td>0</td>\n",
              "      <td>0</td>\n",
              "      <td>0</td>\n",
              "      <td>0</td>\n",
              "      <td>0</td>\n",
              "      <td>0</td>\n",
              "      <td>0</td>\n",
              "      <td>0</td>\n",
              "      <td>0</td>\n",
              "      <td>0</td>\n",
              "      <td>0</td>\n",
              "      <td>0</td>\n",
              "      <td>0</td>\n",
              "      <td>0</td>\n",
              "      <td>0</td>\n",
              "      <td>...</td>\n",
              "      <td>0</td>\n",
              "      <td>0</td>\n",
              "      <td>0</td>\n",
              "      <td>0</td>\n",
              "      <td>0</td>\n",
              "      <td>0</td>\n",
              "      <td>0</td>\n",
              "      <td>0</td>\n",
              "      <td>0</td>\n",
              "      <td>0</td>\n",
              "      <td>0</td>\n",
              "      <td>0</td>\n",
              "      <td>1</td>\n",
              "      <td>0</td>\n",
              "      <td>0</td>\n",
              "      <td>0</td>\n",
              "      <td>0</td>\n",
              "      <td>0</td>\n",
              "      <td>0</td>\n",
              "      <td>0</td>\n",
              "      <td>0</td>\n",
              "      <td>0</td>\n",
              "      <td>0</td>\n",
              "      <td>1</td>\n",
              "      <td>0</td>\n",
              "      <td>0</td>\n",
              "      <td>0</td>\n",
              "      <td>0</td>\n",
              "      <td>0</td>\n",
              "      <td>0</td>\n",
              "      <td>1</td>\n",
              "      <td>0</td>\n",
              "      <td>0</td>\n",
              "      <td>0</td>\n",
              "      <td>0</td>\n",
              "      <td>0</td>\n",
              "      <td>0</td>\n",
              "      <td>0</td>\n",
              "      <td>0</td>\n",
              "      <td>0</td>\n",
              "    </tr>\n",
              "  </tbody>\n",
              "</table>\n",
              "<p>5 rows × 2916 columns</p>\n",
              "</div>"
            ],
            "text/plain": [
              "   log_Duration  Distribution Channel_Offline  ...  Agency_TST  Agency_TTW\n",
              "0      5.225747                             1  ...           0           0\n",
              "1      5.225747                             1  ...           0           0\n",
              "2      4.174387                             0  ...           0           0\n",
              "3      4.094345                             0  ...           0           0\n",
              "4      4.369448                             0  ...           0           0\n",
              "\n",
              "[5 rows x 2916 columns]"
            ]
          },
          "metadata": {
            "tags": []
          },
          "execution_count": 65
        }
      ]
    },
    {
      "cell_type": "code",
      "metadata": {
        "id": "uTeP2C0rxgSe",
        "colab_type": "code",
        "colab": {
          "base_uri": "https://localhost:8080/",
          "height": 35
        },
        "outputId": "b6017b6f-fa64-41a2-ad94-f8c8d4be04e7"
      },
      "source": [
        "df_ohe.shape"
      ],
      "execution_count": 66,
      "outputs": [
        {
          "output_type": "execute_result",
          "data": {
            "text/plain": [
              "(63326, 2916)"
            ]
          },
          "metadata": {
            "tags": []
          },
          "execution_count": 66
        }
      ]
    }
  ]
}