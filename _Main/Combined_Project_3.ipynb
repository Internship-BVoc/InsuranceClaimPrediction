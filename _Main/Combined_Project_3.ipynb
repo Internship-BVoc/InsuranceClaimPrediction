{
  "nbformat": 4,
  "nbformat_minor": 0,
  "metadata": {
    "colab": {
      "name": "Combined_Project_3.ipynb",
      "provenance": [],
      "collapsed_sections": [
        "OmwzWffH4UEV",
        "lIRHzEjx2HNU"
      ],
      "toc_visible": true
    },
    "kernelspec": {
      "name": "python3",
      "display_name": "Python 3"
    }
  },
  "cells": [
    {
      "cell_type": "markdown",
      "metadata": {
        "id": "glZxHnf3OEr-",
        "colab_type": "text"
      },
      "source": [
        "# Predicting Insurance Claims filed by Travelling Agencies"
      ]
    },
    {
      "cell_type": "code",
      "metadata": {
        "id": "FSmQF3hef56U",
        "colab_type": "code",
        "colab": {
          "base_uri": "https://localhost:8080/",
          "height": 71
        },
        "outputId": "c0d20701-6a86-4ddd-af91-0272583000d0"
      },
      "source": [
        "import pandas as pd\n",
        "import numpy as np\n",
        "from scipy import *\n",
        "from sklearn.preprocessing import LabelEncoder\n",
        "from sklearn.preprocessing import OneHotEncoder\n",
        "from sklearn.preprocessing import *\n",
        "from sklearn.model_selection import GridSearchCV\n",
        "from sklearn.model_selection import *\n",
        "from sklearn.model_selection import cross_validate\n",
        "from sklearn.tree import DecisionTreeClassifier\n",
        "from sklearn.linear_model import LogisticRegression\n",
        "from sklearn.ensemble import RandomForestClassifier\n",
        "from sklearn.metrics import *\n",
        "from sklearn.decomposition import PCA\n",
        "import matplotlib.pyplot as plt\n",
        "import seaborn as sns"
      ],
      "execution_count": 1,
      "outputs": [
        {
          "output_type": "stream",
          "text": [
            "/usr/local/lib/python3.6/dist-packages/statsmodels/tools/_testing.py:19: FutureWarning: pandas.util.testing is deprecated. Use the functions in the public API at pandas.testing instead.\n",
            "  import pandas.util.testing as tm\n"
          ],
          "name": "stderr"
        }
      ]
    },
    {
      "cell_type": "code",
      "metadata": {
        "id": "QHEf0BToV3oW",
        "colab_type": "code",
        "colab": {
          "base_uri": "https://localhost:8080/",
          "height": 105
        },
        "outputId": "66f8a04f-45c1-4825-d4c6-a1df7cb5cdb3"
      },
      "source": [
        "from imblearn.over_sampling import RandomOverSampler, SMOTE, ADASYN\n",
        "from imblearn.under_sampling import RandomUnderSampler, TomekLinks\n",
        "from collections import Counter"
      ],
      "execution_count": 2,
      "outputs": [
        {
          "output_type": "stream",
          "text": [
            "/usr/local/lib/python3.6/dist-packages/sklearn/externals/six.py:31: FutureWarning: The module is deprecated in version 0.21 and will be removed in version 0.23 since we've dropped support for Python 2.7. Please rely on the official version of six (https://pypi.org/project/six/).\n",
            "  \"(https://pypi.org/project/six/).\", FutureWarning)\n",
            "/usr/local/lib/python3.6/dist-packages/sklearn/utils/deprecation.py:144: FutureWarning: The sklearn.neighbors.base module is  deprecated in version 0.22 and will be removed in version 0.24. The corresponding classes / functions should instead be imported from sklearn.neighbors. Anything that cannot be imported from sklearn.neighbors is now part of the private API.\n",
            "  warnings.warn(message, FutureWarning)\n"
          ],
          "name": "stderr"
        }
      ]
    },
    {
      "cell_type": "code",
      "metadata": {
        "id": "ptKPd1nQk-hP",
        "colab_type": "code",
        "colab": {}
      },
      "source": [
        "# import warnings\n",
        "# from sklearn.exceptions import DataConversionWarning\n",
        "# warnings.filterwarnings(action='ignore', category=DataConversionWarning)\n",
        "# from sklearn.exceptions import ConvergenceWarning\n",
        "# warnings.filterwarnings(\"ignore\", category=ConvergenceWarning)\n",
        "# from sklearn.exceptions import FitFailedWarning\n",
        "# warnings.filterwarnings(\"ignore\", category=FitFailedWarning)\n",
        "import warnings\n",
        "warnings.simplefilter(action='ignore', category=FutureWarning)"
      ],
      "execution_count": 3,
      "outputs": []
    },
    {
      "cell_type": "code",
      "metadata": {
        "id": "67J8DXfog29H",
        "colab_type": "code",
        "colab": {
          "base_uri": "https://localhost:8080/",
          "height": 122
        },
        "outputId": "9da6bb2d-53f1-4d96-ff2b-c87b05932bcf"
      },
      "source": [
        "df=pd.read_csv('travel insurance.csv',sep=',')\n",
        "row,column=df.shape\n",
        "print(\"The dataset has {} Rows and {} Columns\".format(row,column))\n",
        "print('')\n",
        "cols=list(df.columns)\n",
        "continous=list(set(df._get_numeric_data().columns)-{'Duration','Age'})\n",
        "print(\"Columns : \",cols)\n",
        "print(\"Continous Variables   : \",continous)\n",
        "categorical=list(set(cols)-set(continous))\n",
        "print(\"Categorical Variables : \",categorical)\n",
        "# Duration and Age are categorical ( done in EDA part [Ayush_Project.ipynb] )\n",
        "df_=df.copy()\n",
        "df_['Gender']=df_['Gender'].fillna('N')"
      ],
      "execution_count": 4,
      "outputs": [
        {
          "output_type": "stream",
          "text": [
            "The dataset has 63326 Rows and 11 Columns\n",
            "\n",
            "Columns :  ['Agency', 'Agency Type', 'Distribution Channel', 'Product Name', 'Claim', 'Duration', 'Destination', 'Net Sales', 'Commision (in value)', 'Gender', 'Age']\n",
            "Continous Variables   :  ['Net Sales', 'Commision (in value)']\n",
            "Categorical Variables :  ['Agency Type', 'Distribution Channel', 'Destination', 'Age', 'Duration', 'Claim', 'Agency', 'Product Name', 'Gender']\n"
          ],
          "name": "stdout"
        }
      ]
    },
    {
      "cell_type": "code",
      "metadata": {
        "id": "cXzD62-J3lf5",
        "colab_type": "code",
        "colab": {}
      },
      "source": [
        "a=list(df_['Destination'].unique())\n",
        "aa=list(df_['Agency'].unique())"
      ],
      "execution_count": 5,
      "outputs": []
    },
    {
      "cell_type": "code",
      "metadata": {
        "id": "NYS69s06hlTJ",
        "colab_type": "code",
        "colab": {
          "base_uri": "https://localhost:8080/",
          "height": 51
        },
        "outputId": "2b36dcbb-a245-41bc-dba9-36692ccf2774"
      },
      "source": [
        "df_ = df_[df_.Age != 118]\n",
        "df_ = df_[df_.Duration >=0]\n",
        "df_.loc[df_['Net Sales'] == 0.0, 'Commision (in value)'] = 0\n",
        "print(\"Now the dataset  has {} Rows and {} Columns\".format(df_.shape[0],df_.shape[1]))\n",
        "print(\"%d records deleted from the dataset\"%(df.shape[0]-df_.shape[0]))\n",
        "df_=df_.reset_index().drop(columns='index')\n",
        "df1=df_.copy()"
      ],
      "execution_count": 6,
      "outputs": [
        {
          "output_type": "stream",
          "text": [
            "Now the dataset  has 62342 Rows and 11 Columns\n",
            "984 records deleted from the dataset\n"
          ],
          "name": "stdout"
        }
      ]
    },
    {
      "cell_type": "code",
      "metadata": {
        "id": "Gh1JzA4f1P1U",
        "colab_type": "code",
        "colab": {}
      },
      "source": [
        "b=list(df_['Destination'].unique())\n",
        "bb=list(df_['Agency'].unique())"
      ],
      "execution_count": 7,
      "outputs": []
    },
    {
      "cell_type": "code",
      "metadata": {
        "id": "2ryjRbCg1sZH",
        "colab_type": "code",
        "colab": {
          "base_uri": "https://localhost:8080/",
          "height": 68
        },
        "outputId": "cc15a97d-0f6e-4685-e788-dad4d4842b0b"
      },
      "source": [
        "new=[]\n",
        "for i in a :\n",
        "  if(i not in list(b)):\n",
        "    print(i)\n",
        "    new.append(i)\n",
        "for i in aa:\n",
        "  if(i not in list(bb)):\n",
        "    print(i)\n",
        "    new.append(i)"
      ],
      "execution_count": 8,
      "outputs": [
        {
          "output_type": "stream",
          "text": [
            "KOREA, DEMOCRATIC PEOPLE'S REPUBLIC OF\n",
            "TIBET\n",
            "JWT\n"
          ],
          "name": "stdout"
        }
      ]
    },
    {
      "cell_type": "code",
      "metadata": {
        "id": "2GLhJME14RXM",
        "colab_type": "code",
        "colab": {}
      },
      "source": [
        "#df.loc[df['Destination'].isin(new) ]#| df['Agency'].isin(new)]"
      ],
      "execution_count": 9,
      "outputs": []
    },
    {
      "cell_type": "code",
      "metadata": {
        "id": "eKIOKnVkTnPd",
        "colab_type": "code",
        "colab": {
          "base_uri": "https://localhost:8080/",
          "height": 34
        },
        "outputId": "1c992f41-a631-4e85-a203-1b662ca93fd3"
      },
      "source": [
        "# Label Encoding\n",
        "le=LabelEncoder()\n",
        "le_df=pd.DataFrame()\n",
        "for i in list(set(df_.columns)-set(df_._get_numeric_data().columns)):\n",
        "  le_df[i]=le.fit_transform(df_[i])\n",
        "for j in list(df_._get_numeric_data().columns):\n",
        "  le_df[j]=df_[j]\n",
        "print(\"Label Encoded dataset  has {} Rows and {} Columns\".format(le_df.shape[0],le_df.shape[1]))"
      ],
      "execution_count": 10,
      "outputs": [
        {
          "output_type": "stream",
          "text": [
            "Label Encoded dataset  has 62342 Rows and 11 Columns\n"
          ],
          "name": "stdout"
        }
      ]
    },
    {
      "cell_type": "code",
      "metadata": {
        "id": "Zod_9ueDVNu_",
        "colab_type": "code",
        "colab": {
          "base_uri": "https://localhost:8080/",
          "height": 156
        },
        "outputId": "a1e16473-c69a-4e3f-d86f-108cacaaf114"
      },
      "source": [
        "relation=dict()\n",
        "for l in list(set(df_.columns)-set(df_._get_numeric_data().columns)):\n",
        "  indx=[]\n",
        "  for x in df_[l].unique():\n",
        "    #print(x,' ',df_.index[df_[l] == x].tolist()[0])\n",
        "    indx.append(df_.index[df_[l] == x].tolist()[0])\n",
        "  dic=dict(zip(le_df.loc[indx][l].to_list(),df_.loc[indx][l].to_list()))\n",
        "  relation[l]=dic\n",
        "  print(dic)"
      ],
      "execution_count": 11,
      "outputs": [
        {
          "output_type": "stream",
          "text": [
            "{1: 'Travel Agency', 0: 'Airlines'}\n",
            "{0: 'Offline', 1: 'Online'}\n",
            "{78: 'MALAYSIA', 4: 'AUSTRALIA', 61: 'ITALY', 138: 'UNITED STATES', 128: 'THAILAND', 95: 'NORWAY', 143: 'VIET NAM', 32: 'DENMARK', 117: 'SINGAPORE', 63: 'JAPAN', 137: 'UNITED KINGDOM', 57: 'INDONESIA', 56: 'INDIA', 26: 'CHINA', 41: 'FRANCE', 125: 'TAIWAN, PROVINCE OF CHINA', 101: 'PHILIPPINES', 87: 'MYANMAR', 53: 'HONG KONG', 67: 'KOREA, REPUBLIC OF', 136: 'UNITED ARAB EMIRATES', 88: 'NAMIBIA', 92: 'NEW ZEALAND', 28: 'COSTA RICA', 19: 'BRUNEI DARUSSALAM', 102: 'POLAND', 121: 'SPAIN', 31: 'CZECH REPUBLIC', 44: 'GERMANY', 122: 'SRI LANKA', 21: 'CAMBODIA', 5: 'AUSTRIA', 120: 'SOUTH AFRICA', 127: 'TANZANIA, UNITED REPUBLIC OF', 70: \"LAO PEOPLE'S DEMOCRATIC REPUBLIC\", 89: 'NEPAL', 90: 'NETHERLANDS', 76: 'MACAO', 29: 'CROATIA', 40: 'FINLAND', 23: 'CANADA', 130: 'TUNISIA', 109: 'RUSSIAN FEDERATION', 46: 'GREECE', 11: 'BELGIUM', 59: 'IRELAND', 124: 'SWITZERLAND', 25: 'CHILE', 60: 'ISRAEL', 8: 'BANGLADESH', 55: 'ICELAND', 103: 'PORTUGAL', 108: 'ROMANIA', 66: 'KENYA', 43: 'GEORGIA', 131: 'TURKEY', 123: 'SWEDEN', 79: 'MALDIVES', 36: 'ESTONIA', 112: 'SAUDI ARABIA', 97: 'PAKISTAN', 105: 'QATAR', 100: 'PERU', 75: 'LUXEMBOURG', 85: 'MONGOLIA', 2: 'ARGENTINA', 30: 'CYPRUS', 39: 'FIJI', 9: 'BARBADOS', 129: 'TRINIDAD AND TOBAGO', 37: 'ETHIOPIA', 99: 'PAPUA NEW GUINEA', 114: 'SERBIA', 64: 'JORDAN', 34: 'ECUADOR', 12: 'BENIN', 96: 'OMAN', 7: 'BAHRAIN', 134: 'UGANDA', 18: 'BRAZIL', 83: 'MEXICO', 54: 'HUNGARY', 6: 'AZERBAIJAN', 86: 'MOROCCO', 139: 'URUGUAY', 82: 'MAURITIUS', 62: 'JAMAICA', 65: 'KAZAKHSTAN', 45: 'GHANA', 140: 'UZBEKISTAN', 118: 'SLOVENIA', 68: 'KUWAIT', 48: 'GUAM', 20: 'BULGARIA', 74: 'LITHUANIA', 91: 'NEW CALEDONIA', 35: 'EGYPT', 3: 'ARMENIA', 15: 'BOLIVIA', 144: 'VIRGIN ISLANDS, U.S.', 98: 'PANAMA', 116: 'SIERRA LEONE', 27: 'COLOMBIA', 104: 'PUERTO RICO', 135: 'UKRAINE', 50: 'GUINEA', 47: 'GUADELOUPE', 84: 'MOLDOVA, REPUBLIC OF', 52: 'GUYANA', 71: 'LATVIA', 146: 'ZIMBABWE', 141: 'VANUATU', 142: 'VENEZUELA', 17: 'BOTSWANA', 13: 'BERMUDA', 80: 'MALI', 69: 'KYRGYZSTAN', 24: 'CAYMAN ISLANDS', 81: 'MALTA', 72: 'LEBANON', 107: 'REUNION', 115: 'SEYCHELLES', 145: 'ZAMBIA', 111: 'SAMOA', 94: 'NORTHERN MARIANA ISLANDS', 93: 'NIGERIA', 33: 'DOMINICAN REPUBLIC', 126: 'TAJIKISTAN', 0: 'ALBANIA', 77: 'MACEDONIA, THE FORMER YUGOSLAV REPUBLIC OF', 73: 'LIBYAN ARAB JAMAHIRIYA', 1: 'ANGOLA', 10: 'BELARUS', 133: 'TURKS AND CAICOS ISLANDS', 38: 'FAROE ISLANDS', 132: 'TURKMENISTAN', 51: 'GUINEA-BISSAU', 22: 'CAMEROON', 14: 'BHUTAN', 110: 'RWANDA', 119: 'SOLOMON ISLANDS', 58: 'IRAN, ISLAMIC REPUBLIC OF', 49: 'GUATEMALA', 42: 'FRENCH POLYNESIA', 113: 'SENEGAL', 106: 'REPUBLIC OF MONTENEGRO', 16: 'BOSNIA AND HERZEGOVINA'}\n",
            "{0: 'No', 1: 'Yes'}\n",
            "{3: 'CBH', 6: 'CWT', 8: 'JZI', 9: 'KML', 7: 'EPX', 2: 'C2B', 11: 'RAB', 12: 'SSI', 1: 'ART', 5: 'CSR', 4: 'CCR', 0: 'ADM', 10: 'LWC', 14: 'TTW', 13: 'TST'}\n",
            "{12: 'Comprehensive Plan', 16: 'Rental Vehicle Excess Insurance', 25: 'Value Plan', 8: 'Basic Plan', 15: 'Premier Plan', 1: '2 way Comprehensive Plan', 9: 'Bronze Plan', 17: 'Silver Plan', 4: 'Annual Silver Plan', 10: 'Cancellation Plan', 0: '1 way Comprehensive Plan', 22: 'Ticket Protector', 2: '24 Protect', 13: 'Gold Plan', 3: 'Annual Gold Plan', 20: 'Single Trip Travel Protect Silver', 14: 'Individual Comprehensive Plan', 21: 'Spouse or Parents Comprehensive Plan', 7: 'Annual Travel Protect Silver', 19: 'Single Trip Travel Protect Platinum', 5: 'Annual Travel Protect Gold', 18: 'Single Trip Travel Protect Gold', 6: 'Annual Travel Protect Platinum', 11: 'Child Comprehensive Plan', 23: 'Travel Cruise Protect', 24: 'Travel Cruise Protect Family'}\n",
            "{0: 'F', 2: 'N', 1: 'M'}\n"
          ],
          "name": "stdout"
        }
      ]
    },
    {
      "cell_type": "code",
      "metadata": {
        "id": "vHo0N50fZvKT",
        "colab_type": "code",
        "colab": {
          "base_uri": "https://localhost:8080/",
          "height": 34
        },
        "outputId": "eee5fe50-a965-44be-848b-67d02ed24e66"
      },
      "source": [
        "#OneHotEncoding\n",
        "ohe=OneHotEncoder()\n",
        "ohe_df=df_.copy()\n",
        "for i in list(set(df_.columns)-set(df_._get_numeric_data().columns)-{'Claim'}):\n",
        "  ohe_df = pd.get_dummies(ohe_df, columns=[i], prefix=[i] )\n",
        "ohe_df=ohe_df.drop(columns='Claim')\n",
        "print(\"One Hot Encoded dataset  has {} Rows and {} Columns\".format(ohe_df.shape[0],ohe_df.shape[1]))"
      ],
      "execution_count": 12,
      "outputs": [
        {
          "output_type": "stream",
          "text": [
            "One Hot Encoded dataset  has 62342 Rows and 199 Columns\n"
          ],
          "name": "stdout"
        }
      ]
    },
    {
      "cell_type": "code",
      "metadata": {
        "id": "m1xB8ekNcrNa",
        "colab_type": "code",
        "colab": {}
      },
      "source": [
        "# Function to print the result after the prediction \n",
        "def print_result(y_test,y_pred):\n",
        "  print(\"Confusion Matrix       : \\n\" ,confusion_matrix(y_test,y_pred))\n",
        "  print(\"Accuracy of Model      : \",accuracy_score(y_test, y_pred))\n",
        "  print(\"Precision of Model     : \",precision_score(y_test, y_pred))\n",
        "  print(\"Recall of Model        : \" , recall_score(y_test, y_pred))\n",
        "  print(\"F1 Score of Model      : \" ,f1_score(y_test, y_pred))\n",
        "  print(\"ROC_AUC score of Model : \" ,roc_auc_score(y_test,y_pred))\t\n",
        "  fpr, tpr, thresholds = roc_curve(y_test,y_pred)\n",
        "  plt.figure(1)\n",
        "  plt.plot([0, 1], [0, 1], 'k--')\n",
        "  plt.plot(fpr, tpr, label='ROC curve (area = %0.2f)'% roc_auc_score(y_test,y_pred))\n",
        "  plt.xlabel('False Positive Rate')\n",
        "  plt.ylabel('True Positive Rate')\n",
        "  plt.legend(loc='best')"
      ],
      "execution_count": 13,
      "outputs": []
    },
    {
      "cell_type": "code",
      "metadata": {
        "id": "I7d1sYvUhdoY",
        "colab_type": "code",
        "colab": {}
      },
      "source": [
        "# Funtion to print the details after train-test split\n",
        "def print_input(X_train, X_test, y_train, y_test):\n",
        "  print(\"TRAIN(X_train) Feature set        : \",len(X_train))\n",
        "  print(\"TRAIN(y_train) Label Feature set  : \",len(y_train))\n",
        "  print(\"TEST (X_test)  Feature set        : \",len(X_test))\n",
        "  print(\"TEST (y_test)  Label set          : \",len(y_test))\n",
        "  print(\"-------For Training Set--------\\n\")\n",
        "  print(y_train['Claim'].value_counts())\n",
        "  l_1,l_2= y_train['Claim'].value_counts()\n",
        "  print(\"Class Label 0 is : \",(l_1/y_train.shape[0])*100,\"%\")\n",
        "  print(\"Class Label 1 is : \",(l_2/y_train.shape[0])*100,\"%\")\n",
        "  print(\"\\n-------For Testing Set--------\\n\")\n",
        "  print(y_test['Claim'].value_counts())\n",
        "  l_1,l_2= y_test['Claim'].value_counts()\n",
        "  print(\"Class Label 0 is : \",(l_1/y_test.shape[0])*100,\"%\")\n",
        "  print(\"Class Label 1 is : \",(l_2/y_test.shape[0])*100,\"%\")"
      ],
      "execution_count": 14,
      "outputs": []
    },
    {
      "cell_type": "code",
      "metadata": {
        "id": "gpKq0imUU95O",
        "colab_type": "code",
        "colab": {}
      },
      "source": [
        "# Function to balance the imbalanced classes \n",
        "def balance(X_train,y_train,typ,s=0.3):\n",
        "  if(typ.lower() == 'ros'):\n",
        "    rus=RandomOverSampler(random_state=21)\n",
        "    x_res, y_res = rus.fit_sample(X_train, y_train)\n",
        "    print('Dataset shape after Random Over Sampling', Counter(y_res))\n",
        "    print('After ROS the number of Rows Training set has are  : ', x_res.shape[0])\n",
        "  elif(typ.lower() == 'rus' ):\n",
        "    ros=RandomUnderSampler(random_state=21)\n",
        "    x_res, y_res = ros.fit_sample(X_train, y_train)\n",
        "    print('Dataset shape after Random Under Sampling', Counter(y_res))\n",
        "    print('After RUS the number of Rows Training set has are : ', x_res.shape[0])\n",
        "  elif(typ.lower() == 'adasyn'):\n",
        "    ada=ADASYN(random_state=21, sampling_strategy=s, n_jobs=-1)\n",
        "    x_res, y_res = ada.fit_sample(X_train, y_train)\n",
        "    print('Dataset shape after ADASYN', Counter(y_res))\n",
        "    print('After ADASYN the number of Rows Training set has are : ', x_res.shape[0])\n",
        "  elif(typ.lower() == 'smote'):\n",
        "    smo=SMOTE(random_state=21, sampling_strategy=s, n_jobs=-1)\n",
        "    x_rs, y_rs = smo.fit_sample(X_train, y_train)\n",
        "    tom=TomekLinks(random_state=21)\n",
        "    x_res, y_res = tom.fit_sample(x_rs,y_rs)\n",
        "    print('Dataset shape after SMOTE + Tomek Links', Counter(y_res))\n",
        "    print('After SMOTE Tomek the number of Rows Training set has are : ', x_res.shape[0])\n",
        "  return x_res, y_res\n"
      ],
      "execution_count": 15,
      "outputs": []
    },
    {
      "cell_type": "code",
      "metadata": {
        "id": "jvvpcf12a1Aw",
        "colab_type": "code",
        "colab": {}
      },
      "source": [
        "# Function to plot the scatter plot of values it get by applying PCA\n",
        "def plt_scatter(tmp_sample):\n",
        "  plt.figure(figsize=(10,10))\n",
        "  sns.scatterplot(x='Component 1',y='Component 2', hue='Label', data=tmp_sample)\n",
        "  plt.legend(bbox_to_anchor=(1.05,1), loc=2, borderaxespad=0.)\n"
      ],
      "execution_count": 16,
      "outputs": []
    },
    {
      "cell_type": "code",
      "metadata": {
        "id": "uAtkICiy_eNn",
        "colab_type": "code",
        "colab": {}
      },
      "source": [
        "# Function to count the number of elements with Label 1 and Lable 0\n",
        "def plt_print(temp):\n",
        "  tmp_sample = temp.sample(frac = 0.10, random_state=21)\n",
        "  tmp_sample = tmp_sample[tmp_sample['Component 1'] < 0.90 ]\n",
        "  print(tmp_sample['Label'].value_counts())\n",
        "  l_1,l_2= tmp_sample['Label'].value_counts()\n",
        "  print(\"Class Label 0 is : \",(l_1/tmp_sample.shape[0])*100,\"%\")\n",
        "  print(\"Class Label 1 is : \",(l_2/tmp_sample.shape[0])*100,\"%\")\n",
        "  print(\" \")\n",
        "  plt_scatter(tmp_sample)"
      ],
      "execution_count": 17,
      "outputs": []
    },
    {
      "cell_type": "code",
      "metadata": {
        "id": "F5hNooHOLgXT",
        "colab_type": "code",
        "colab": {}
      },
      "source": [
        "# Function to plot the graph \n",
        "def plot_graph(X_train,y_train):\n",
        "  pca=PCA(n_components=2) \n",
        "  dim=pca.fit_transform(X_train)\n",
        "  scaler=MinMaxScaler()\n",
        "  res=scaler.fit_transform(dim)\n",
        "  temp= pd.DataFrame(res,columns=['Component 1', 'Component 2'])\n",
        "  y_temp=y_train.copy()\n",
        "  y_temp=y_temp.reset_index()\n",
        "  temp['Label'] = y_temp['Claim']\n",
        "  plt_print(temp)"
      ],
      "execution_count": 18,
      "outputs": []
    },
    {
      "cell_type": "code",
      "metadata": {
        "id": "lsAWfS-JwtN0",
        "colab_type": "code",
        "colab": {}
      },
      "source": [
        "# Function to plot the graph \n",
        "def plt_graph(X_train,y_train):\n",
        "  pca=PCA(n_components=2) \n",
        "  dim=pca.fit_transform(X_train)\n",
        "  scaler=MinMaxScaler()\n",
        "  res=scaler.fit_transform(dim)\n",
        "  temp= pd.DataFrame(res,columns=['Component 1', 'Component 2'])\n",
        "  y_temp=y_train.copy()\n",
        "  temp['Label'] = y_temp\n",
        "  plt_print(temp)"
      ],
      "execution_count": 19,
      "outputs": []
    },
    {
      "cell_type": "code",
      "metadata": {
        "id": "wS8bLKLPdZVb",
        "colab_type": "code",
        "colab": {}
      },
      "source": [
        "# Function to print precision , recall, Accuracy and F1 score\n",
        "def calc(TP,TN,FP,FN):\n",
        "  if(TP==0):\n",
        "    TP=0.00000000000000001\n",
        "  if(FP==0):\n",
        "    FP=0.00000000000000001\n",
        "  if(FN==0):\n",
        "    FN=0.00000000000000001\n",
        "  conf_mat=[[TN,FP],[FN,TP]]\n",
        "  precision=(TP/(TP+FP))\n",
        "  recall= (TP/(TP+FN))\n",
        "  f1=((2*recall*precision)/(recall+precision))\n",
        "  accuracy=((TP+TN)/(TP+TN+FP+FN))\n",
        "  TPR=(TP/(TP+FN))\n",
        "  FPR=(FP/(FP+TN))\n",
        "  print(\"Confusion Matrix       : \\n\" ,conf_mat[0],'\\n',conf_mat[1])\n",
        "  print(\"Accuracy of Model      : \", accuracy)\n",
        "  print(\"Precision of Model     : \", precision)\n",
        "  print(\"Recall of Model        : \", recall)\n",
        "  print(\"F1 Score of Model      : \", f1)"
      ],
      "execution_count": 20,
      "outputs": []
    },
    {
      "cell_type": "code",
      "metadata": {
        "id": "5TgZ7rP8dtMO",
        "colab_type": "code",
        "colab": {}
      },
      "source": [
        "# Function to compute the value of TP, TN, FP, FN\n",
        "def comp(y_test,y_pred):\n",
        "  TP=0\n",
        "  TN=0\n",
        "  FP=0\n",
        "  FN=0\n",
        "  for i in range(0,len(y_pred)):\n",
        "    if (int(y_test.iloc[i]) == 1 and y_pred[i] == 1):\n",
        "      TP+=1\n",
        "    elif (int(y_test.iloc[i]) == 1 and y_pred[i] == 0 ):\n",
        "      FN+=1\n",
        "    elif (int(y_test.iloc[i]) == 0 and y_pred[i] == 1 ):\n",
        "      FP+=1\n",
        "    elif (int(y_test.iloc[i]) == 0 and y_pred[i] == 0 ):\n",
        "      TN+=1\n",
        "  print(\"{0} {1} {2} {3}\".format(TP,TN,FP,FN))\n",
        "  calc(TP,TN,FP,FN)"
      ],
      "execution_count": 21,
      "outputs": []
    },
    {
      "cell_type": "code",
      "metadata": {
        "id": "OTXBCSfb28JR",
        "colab_type": "code",
        "colab": {}
      },
      "source": [
        "# Funtion to get the predicted value via probability \n",
        "def thresh(y_thresh,val=0.5):\n",
        "  y_pred=[]\n",
        "  for i in range(0,len(y_thresh)):\n",
        "    if(y_thresh[i][0] >= val):\n",
        "      y_pred.append(0)\n",
        "    else:\n",
        "      y_pred.append(1)\n",
        "  y_pred=np.array(y_pred)\n",
        "  return y_pred\n"
      ],
      "execution_count": 22,
      "outputs": []
    },
    {
      "cell_type": "code",
      "metadata": {
        "id": "6SGs5Iy7ysJ_",
        "colab_type": "code",
        "colab": {}
      },
      "source": [
        "# Function to plot the mapping of 4 Buckets \n",
        "def plot_buk(val,new_dff):\n",
        "  nn=[['TP','TN'],['FP','FN']]\n",
        "  f, axes = plt.subplots(2, 2)\n",
        "  f.set_size_inches(15,10)\n",
        "  for i in range(2):\n",
        "    for j in range(2):\n",
        "      sns.countplot(x=val,hue=nn[i][j],data=new_dff,ax=axes[i][j])\n",
        "      sns.countplot(x=val,hue=nn[i][j],data=new_dff,ax=axes[i][j])\n",
        "      sns.countplot(x=val,hue=nn[i][j],data=new_dff,ax=axes[i][j])\n",
        "      sns.countplot(x=val,hue=nn[i][j],data=new_dff,ax=axes[i][j])"
      ],
      "execution_count": 23,
      "outputs": []
    },
    {
      "cell_type": "code",
      "metadata": {
        "id": "m46Aul6vFwA6",
        "colab_type": "code",
        "colab": {}
      },
      "source": [
        "# Function to Compare all the four buckets ( TP, TN, FP, FN) of the top 10% imp features\n",
        "def comp_feat(X_test,y_test,y_pred,f=0):\n",
        "  new=X_test.copy()\n",
        "  new=new.reset_index()\n",
        "  new=new.drop(columns='index')\n",
        "  new['Actual']=y_test.values\n",
        "  new['Predicted']=y_pred\n",
        "  for i in range(0,len(new)):\n",
        "    if   (int(new.iloc[i]['Actual']) == 1 and int(new.iloc[i]['Predicted']) == 1 ):\n",
        "      new.loc[i,'TP'] = 1\n",
        "    elif (int(new.iloc[i]['Actual']) == 1 and int(new.iloc[i]['Predicted']) == 0 ):\n",
        "      new.loc[i,'FN'] = 1\n",
        "    elif (int(new.iloc[i]['Actual']) == 0 and int(new.iloc[i]['Predicted']) == 1 ):\n",
        "      new.loc[i,'FP'] = 1\n",
        "    elif (int(new.iloc[i]['Actual']) == 0 and int(new.iloc[i]['Predicted']) == 0 ):\n",
        "      new.loc[i,'TN'] = 1\n",
        "  if (f==0):\n",
        "    new=new.fillna(0)\n",
        "  return(new)  "
      ],
      "execution_count": 24,
      "outputs": []
    },
    {
      "cell_type": "code",
      "metadata": {
        "id": "oonmzWVKK9k9",
        "colab_type": "code",
        "colab": {}
      },
      "source": [
        "def reason(df,h):\n",
        "  l=[]\n",
        "  i=0\n",
        "  while(len(l)<5):\n",
        "    n=['Age','Duration','Net Sales','Commision (in value)']\n",
        "    if(h[i] not in n):\n",
        "      l.append(h[i])\n",
        "    i+=1\n",
        "  #print(l)\n",
        "  for j in range(0,len(df)):\n",
        "    nn=[]\n",
        "    for k in l:\n",
        "      if (int(df.loc[j][k]) == 1):\n",
        "        nn.append(k)\n",
        "        #print(k)\n",
        "    #print(nn) \n",
        "    \n",
        "    #print(s) \n",
        "    if (len(nn) >= 2):\n",
        "      s = ', '.join(nn) + ' were present'\n",
        "    elif (len(nn) == 1):\n",
        "      s = ', '.join(nn) + ' was present'\n",
        "    else:\n",
        "      s = ''\n",
        "    nn_=list(set(l)-set(nn))\n",
        "    if (len(nn_) >= 2):\n",
        "      s_ = ', '.join(nn_) + ' were not present'\n",
        "    elif (len(nn_) == 1):\n",
        "      s_ = ', '.join(nn) + ' was not present'\n",
        "    else:\n",
        "      s_ = ''\n",
        "    if (len(nn) == 0):\n",
        "      st = s_\n",
        "    elif (len(nn_) == 0):\n",
        "      st = s\n",
        "    else :\n",
        "      st = s + ' and '+ s_\n",
        "    #print(s)\n",
        "    df.loc[j, 'Reasoning'] = st \n",
        "  return(df)"
      ],
      "execution_count": 68,
      "outputs": []
    },
    {
      "cell_type": "code",
      "metadata": {
        "id": "GTF1j_oiw0Qy",
        "colab_type": "code",
        "colab": {}
      },
      "source": [
        "target = pd.DataFrame(le_df['Claim'])\n",
        "le_df=le_df.drop(columns='Claim')"
      ],
      "execution_count": 26,
      "outputs": []
    },
    {
      "cell_type": "markdown",
      "metadata": {
        "id": "OmwzWffH4UEV",
        "colab_type": "text"
      },
      "source": [
        "# MODEL TRAINING"
      ]
    },
    {
      "cell_type": "code",
      "metadata": {
        "id": "u7G_FQew4ONl",
        "colab_type": "code",
        "colab": {
          "base_uri": "https://localhost:8080/",
          "height": 476
        },
        "outputId": "fd15c302-90b8-4906-c763-4061d50bb942"
      },
      "source": [
        "X_train, X_test, y_train, y_test = train_test_split(ohe_df,target,test_size = 0.25, random_state = 21, stratify = target)\n",
        "print_input(X_train, X_test, y_train, y_test)\n",
        "X_u_train, y_u_train = balance(X_train, y_train.values.ravel(),'rus')\n",
        "X_o_train, y_o_train = balance(X_train, y_train.values.ravel(),'ros')\n",
        "X_s_train, y_s_train = balance(X_train, y_train.values.ravel(),'smote',0.5)\n",
        "X_a_train, y_a_train = balance(X_train, y_train.values.ravel(),'adasyn',0.5)"
      ],
      "execution_count": 27,
      "outputs": [
        {
          "output_type": "stream",
          "text": [
            "TRAIN(X_train) Feature set        :  46756\n",
            "TRAIN(y_train) Label Feature set  :  46756\n",
            "TEST (X_test)  Feature set        :  15586\n",
            "TEST (y_test)  Label set          :  15586\n",
            "-------For Training Set--------\n",
            "\n",
            "0    46068\n",
            "1      688\n",
            "Name: Claim, dtype: int64\n",
            "Class Label 0 is :  98.52853109761314 %\n",
            "Class Label 1 is :  1.4714689023868595 %\n",
            "\n",
            "-------For Testing Set--------\n",
            "\n",
            "0    15357\n",
            "1      229\n",
            "Name: Claim, dtype: int64\n",
            "Class Label 0 is :  98.53073270884127 %\n",
            "Class Label 1 is :  1.4692672911587321 %\n",
            "Dataset shape after Random Under Sampling Counter({0: 688, 1: 688})\n",
            "After RUS the number of Rows Training set has are :  1376\n",
            "Dataset shape after Random Over Sampling Counter({0: 46068, 1: 46068})\n",
            "After ROS the number of Rows Training set has are  :  92136\n",
            "Dataset shape after SMOTE + Tomek Links Counter({0: 45752, 1: 23034})\n",
            "After SMOTE Tomek the number of Rows Training set has are :  68786\n",
            "Dataset shape after ADASYN Counter({0: 46068, 1: 22899})\n",
            "After ADASYN the number of Rows Training set has are :  68967\n"
          ],
          "name": "stdout"
        }
      ]
    },
    {
      "cell_type": "markdown",
      "metadata": {
        "id": "2bt3c4ltkUi_",
        "colab_type": "text"
      },
      "source": [
        "## With HyperParameter Tuning"
      ]
    },
    {
      "cell_type": "code",
      "metadata": {
        "id": "mrExPLFBSfVy",
        "colab_type": "code",
        "colab": {}
      },
      "source": [
        "clf_dt = RandomForestClassifier()\n",
        "param_grid = {\n",
        "   'max_leaf_nodes': [ 40,50 ],\n",
        "   'class_weight' : ['balanced'],\n",
        "   'criterion' :['gini','entropy'] ,\n",
        "   'max_depth' : [ 30, 50, 100 ],\n",
        "   'min_samples_split': [ 2, 3, 4],\n",
        "   'random_state': [42]\n",
        "    }"
      ],
      "execution_count": 28,
      "outputs": []
    },
    {
      "cell_type": "code",
      "metadata": {
        "id": "5k44G3DR4cnE",
        "colab_type": "code",
        "colab": {
          "base_uri": "https://localhost:8080/",
          "height": 551
        },
        "outputId": "b3bcf0de-951a-4b4b-a2a3-174165aa15d6"
      },
      "source": [
        "CV_dt = GridSearchCV(estimator=clf_dt, param_grid=param_grid, cv= 3)\n",
        "CV_dt.fit(X_u_train, y_u_train)\n",
        "clf_best_dt = CV_dt.best_estimator_\n",
        "print(clf_best_dt)\n",
        "y_pred = clf_best_dt.predict(X_test)\n",
        "print_result(y_test=y_test,y_pred=y_pred)"
      ],
      "execution_count": 29,
      "outputs": [
        {
          "output_type": "stream",
          "text": [
            "RandomForestClassifier(bootstrap=True, ccp_alpha=0.0, class_weight='balanced',\n",
            "                       criterion='gini', max_depth=30, max_features='auto',\n",
            "                       max_leaf_nodes=50, max_samples=None,\n",
            "                       min_impurity_decrease=0.0, min_impurity_split=None,\n",
            "                       min_samples_leaf=1, min_samples_split=2,\n",
            "                       min_weight_fraction_leaf=0.0, n_estimators=100,\n",
            "                       n_jobs=None, oob_score=False, random_state=42, verbose=0,\n",
            "                       warm_start=False)\n",
            "Confusion Matrix       : \n",
            " [[12448  2909]\n",
            " [   69   160]]\n",
            "Accuracy of Model      :  0.8089310920056461\n",
            "Precision of Model     :  0.05213424568263278\n",
            "Recall of Model        :  0.6986899563318777\n",
            "F1 Score of Model      :  0.09702850212249849\n",
            "ROC_AUC score of Model :  0.7546324692123673\n"
          ],
          "name": "stdout"
        },
        {
          "output_type": "display_data",
          "data": {
            "image/png": "[encoded data removed]",
            "text/plain": [
              "<Figure size 432x288 with 1 Axes>"
            ]
          },
          "metadata": {
            "tags": [],
            "needs_background": "light"
          }
        }
      ]
    },
    {
      "cell_type": "markdown",
      "metadata": {
        "id": "36kuDuSGPILa",
        "colab_type": "text"
      },
      "source": [
        "# Feature Selection "
      ]
    },
    {
      "cell_type": "code",
      "metadata": {
        "id": "zQMQxEOE3_1A",
        "colab_type": "code",
        "colab": {
          "base_uri": "https://localhost:8080/",
          "height": 638
        },
        "outputId": "30101bd4-797c-4b20-fb3b-f3688b721fda"
      },
      "source": [
        "# hyper parameter\n",
        "hyp=pd.DataFrame({'Percent' : clf_best_dt.feature_importances_ , 'col' : ohe_df.columns}).sort_values(by='Percent',ascending=False)\n",
        "hyp[:19]"
      ],
      "execution_count": 30,
      "outputs": [
        {
          "output_type": "execute_result",
          "data": {
            "text/html": [
              "<div>\n",
              "<style scoped>\n",
              "    .dataframe tbody tr th:only-of-type {\n",
              "        vertical-align: middle;\n",
              "    }\n",
              "\n",
              "    .dataframe tbody tr th {\n",
              "        vertical-align: top;\n",
              "    }\n",
              "\n",
              "    .dataframe thead th {\n",
              "        text-align: right;\n",
              "    }\n",
              "</style>\n",
              "<table border=\"1\" class=\"dataframe\">\n",
              "  <thead>\n",
              "    <tr style=\"text-align: right;\">\n",
              "      <th></th>\n",
              "      <th>Percent</th>\n",
              "      <th>col</th>\n",
              "    </tr>\n",
              "  </thead>\n",
              "  <tbody>\n",
              "    <tr>\n",
              "      <th>1</th>\n",
              "      <td>0.127304</td>\n",
              "      <td>Net Sales</td>\n",
              "    </tr>\n",
              "    <tr>\n",
              "      <th>2</th>\n",
              "      <td>0.112015</td>\n",
              "      <td>Commision (in value)</td>\n",
              "    </tr>\n",
              "    <tr>\n",
              "      <th>0</th>\n",
              "      <td>0.084911</td>\n",
              "      <td>Duration</td>\n",
              "    </tr>\n",
              "    <tr>\n",
              "      <th>198</th>\n",
              "      <td>0.080020</td>\n",
              "      <td>Gender_N</td>\n",
              "    </tr>\n",
              "    <tr>\n",
              "      <th>125</th>\n",
              "      <td>0.072258</td>\n",
              "      <td>Destination_SINGAPORE</td>\n",
              "    </tr>\n",
              "    <tr>\n",
              "      <th>157</th>\n",
              "      <td>0.065970</td>\n",
              "      <td>Agency_C2B</td>\n",
              "    </tr>\n",
              "    <tr>\n",
              "      <th>3</th>\n",
              "      <td>0.050689</td>\n",
              "      <td>Age</td>\n",
              "    </tr>\n",
              "    <tr>\n",
              "      <th>4</th>\n",
              "      <td>0.041484</td>\n",
              "      <td>Agency Type_Airlines</td>\n",
              "    </tr>\n",
              "    <tr>\n",
              "      <th>5</th>\n",
              "      <td>0.038721</td>\n",
              "      <td>Agency Type_Travel Agency</td>\n",
              "    </tr>\n",
              "    <tr>\n",
              "      <th>180</th>\n",
              "      <td>0.033407</td>\n",
              "      <td>Product Name_Cancellation Plan</td>\n",
              "    </tr>\n",
              "    <tr>\n",
              "      <th>162</th>\n",
              "      <td>0.023808</td>\n",
              "      <td>Agency_EPX</td>\n",
              "    </tr>\n",
              "    <tr>\n",
              "      <th>196</th>\n",
              "      <td>0.023064</td>\n",
              "      <td>Gender_F</td>\n",
              "    </tr>\n",
              "    <tr>\n",
              "      <th>178</th>\n",
              "      <td>0.022813</td>\n",
              "      <td>Product Name_Basic Plan</td>\n",
              "    </tr>\n",
              "    <tr>\n",
              "      <th>179</th>\n",
              "      <td>0.020958</td>\n",
              "      <td>Product Name_Bronze Plan</td>\n",
              "    </tr>\n",
              "    <tr>\n",
              "      <th>163</th>\n",
              "      <td>0.019116</td>\n",
              "      <td>Agency_JZI</td>\n",
              "    </tr>\n",
              "    <tr>\n",
              "      <th>171</th>\n",
              "      <td>0.014515</td>\n",
              "      <td>Product Name_2 way Comprehensive Plan</td>\n",
              "    </tr>\n",
              "    <tr>\n",
              "      <th>187</th>\n",
              "      <td>0.010461</td>\n",
              "      <td>Product Name_Silver Plan</td>\n",
              "    </tr>\n",
              "    <tr>\n",
              "      <th>165</th>\n",
              "      <td>0.009098</td>\n",
              "      <td>Agency_LWC</td>\n",
              "    </tr>\n",
              "    <tr>\n",
              "      <th>34</th>\n",
              "      <td>0.008429</td>\n",
              "      <td>Destination_CHINA</td>\n",
              "    </tr>\n",
              "  </tbody>\n",
              "</table>\n",
              "</div>"
            ],
            "text/plain": [
              "      Percent                                    col\n",
              "1    0.127304                              Net Sales\n",
              "2    0.112015                   Commision (in value)\n",
              "0    0.084911                               Duration\n",
              "198  0.080020                               Gender_N\n",
              "125  0.072258                  Destination_SINGAPORE\n",
              "157  0.065970                             Agency_C2B\n",
              "3    0.050689                                    Age\n",
              "4    0.041484                   Agency Type_Airlines\n",
              "5    0.038721              Agency Type_Travel Agency\n",
              "180  0.033407         Product Name_Cancellation Plan\n",
              "162  0.023808                             Agency_EPX\n",
              "196  0.023064                               Gender_F\n",
              "178  0.022813                Product Name_Basic Plan\n",
              "179  0.020958               Product Name_Bronze Plan\n",
              "163  0.019116                             Agency_JZI\n",
              "171  0.014515  Product Name_2 way Comprehensive Plan\n",
              "187  0.010461               Product Name_Silver Plan\n",
              "165  0.009098                             Agency_LWC\n",
              "34   0.008429                      Destination_CHINA"
            ]
          },
          "metadata": {
            "tags": []
          },
          "execution_count": 30
        }
      ]
    },
    {
      "cell_type": "code",
      "metadata": {
        "id": "kNQp5DzVvdOF",
        "colab_type": "code",
        "colab": {}
      },
      "source": [
        "h=hyp['col'][0:19].to_list()"
      ],
      "execution_count": 31,
      "outputs": []
    },
    {
      "cell_type": "markdown",
      "metadata": {
        "id": "x85hmsKcQ_1I",
        "colab_type": "text"
      },
      "source": [
        "# Comparing Feature selction for each TP, TN, FP, FN"
      ]
    },
    {
      "cell_type": "markdown",
      "metadata": {
        "id": "K4A5vzezSScQ",
        "colab_type": "text"
      },
      "source": [
        "### With Hyperparameter tuning"
      ]
    },
    {
      "cell_type": "code",
      "metadata": {
        "id": "-2Cg1np02k1w",
        "colab_type": "code",
        "colab": {
          "base_uri": "https://localhost:8080/",
          "height": 340
        },
        "outputId": "6304b91b-70b2-4c37-cbf2-23a3eb0a8f70"
      },
      "source": [
        "h"
      ],
      "execution_count": 32,
      "outputs": [
        {
          "output_type": "execute_result",
          "data": {
            "text/plain": [
              "['Net Sales',\n",
              " 'Commision (in value)',\n",
              " 'Duration',\n",
              " 'Gender_N',\n",
              " 'Destination_SINGAPORE',\n",
              " 'Agency_C2B',\n",
              " 'Age',\n",
              " 'Agency Type_Airlines',\n",
              " 'Agency Type_Travel Agency',\n",
              " 'Product Name_Cancellation Plan',\n",
              " 'Agency_EPX',\n",
              " 'Gender_F',\n",
              " 'Product Name_Basic Plan',\n",
              " 'Product Name_Bronze Plan',\n",
              " 'Agency_JZI',\n",
              " 'Product Name_2 way Comprehensive Plan',\n",
              " 'Product Name_Silver Plan',\n",
              " 'Agency_LWC',\n",
              " 'Destination_CHINA']"
            ]
          },
          "metadata": {
            "tags": []
          },
          "execution_count": 32
        }
      ]
    },
    {
      "cell_type": "code",
      "metadata": {
        "id": "ZURomSTXYxsR",
        "colab_type": "code",
        "colab": {}
      },
      "source": [
        "new_df=comp_feat(X_test,y_test,y_pred)"
      ],
      "execution_count": 33,
      "outputs": []
    },
    {
      "cell_type": "code",
      "metadata": {
        "id": "RcWCzluJFQdE",
        "colab_type": "code",
        "colab": {}
      },
      "source": [
        "n=['TP','TN','FP','FN','Actual','Predicted']\n",
        "for i in n:\n",
        "  h.append(i)\n",
        "new_df=new_df[h]\n"
      ],
      "execution_count": 34,
      "outputs": []
    },
    {
      "cell_type": "code",
      "metadata": {
        "id": "NOlfLuEhZoMa",
        "colab_type": "code",
        "colab": {
          "base_uri": "https://localhost:8080/",
          "height": 490
        },
        "outputId": "bba06e27-0829-48b7-896a-102bfa684296"
      },
      "source": [
        "new_df"
      ],
      "execution_count": 35,
      "outputs": [
        {
          "output_type": "execute_result",
          "data": {
            "text/html": [
              "<div>\n",
              "<style scoped>\n",
              "    .dataframe tbody tr th:only-of-type {\n",
              "        vertical-align: middle;\n",
              "    }\n",
              "\n",
              "    .dataframe tbody tr th {\n",
              "        vertical-align: top;\n",
              "    }\n",
              "\n",
              "    .dataframe thead th {\n",
              "        text-align: right;\n",
              "    }\n",
              "</style>\n",
              "<table border=\"1\" class=\"dataframe\">\n",
              "  <thead>\n",
              "    <tr style=\"text-align: right;\">\n",
              "      <th></th>\n",
              "      <th>Net Sales</th>\n",
              "      <th>Commision (in value)</th>\n",
              "      <th>Duration</th>\n",
              "      <th>Gender_N</th>\n",
              "      <th>Destination_SINGAPORE</th>\n",
              "      <th>Agency_C2B</th>\n",
              "      <th>Age</th>\n",
              "      <th>Agency Type_Airlines</th>\n",
              "      <th>Agency Type_Travel Agency</th>\n",
              "      <th>Product Name_Cancellation Plan</th>\n",
              "      <th>Agency_EPX</th>\n",
              "      <th>Gender_F</th>\n",
              "      <th>Product Name_Basic Plan</th>\n",
              "      <th>Product Name_Bronze Plan</th>\n",
              "      <th>Agency_JZI</th>\n",
              "      <th>Product Name_2 way Comprehensive Plan</th>\n",
              "      <th>Product Name_Silver Plan</th>\n",
              "      <th>Agency_LWC</th>\n",
              "      <th>Destination_CHINA</th>\n",
              "      <th>TP</th>\n",
              "      <th>TN</th>\n",
              "      <th>FP</th>\n",
              "      <th>FN</th>\n",
              "      <th>Actual</th>\n",
              "      <th>Predicted</th>\n",
              "    </tr>\n",
              "  </thead>\n",
              "  <tbody>\n",
              "    <tr>\n",
              "      <th>0</th>\n",
              "      <td>20.0</td>\n",
              "      <td>0.00</td>\n",
              "      <td>21</td>\n",
              "      <td>1</td>\n",
              "      <td>0</td>\n",
              "      <td>0</td>\n",
              "      <td>34</td>\n",
              "      <td>0</td>\n",
              "      <td>1</td>\n",
              "      <td>0</td>\n",
              "      <td>1</td>\n",
              "      <td>0</td>\n",
              "      <td>0</td>\n",
              "      <td>0</td>\n",
              "      <td>0</td>\n",
              "      <td>1</td>\n",
              "      <td>0</td>\n",
              "      <td>0</td>\n",
              "      <td>1</td>\n",
              "      <td>0.0</td>\n",
              "      <td>1.0</td>\n",
              "      <td>0.0</td>\n",
              "      <td>0.0</td>\n",
              "      <td>0</td>\n",
              "      <td>0</td>\n",
              "    </tr>\n",
              "    <tr>\n",
              "      <th>1</th>\n",
              "      <td>24.0</td>\n",
              "      <td>0.00</td>\n",
              "      <td>47</td>\n",
              "      <td>1</td>\n",
              "      <td>0</td>\n",
              "      <td>0</td>\n",
              "      <td>36</td>\n",
              "      <td>0</td>\n",
              "      <td>1</td>\n",
              "      <td>0</td>\n",
              "      <td>1</td>\n",
              "      <td>0</td>\n",
              "      <td>0</td>\n",
              "      <td>0</td>\n",
              "      <td>0</td>\n",
              "      <td>1</td>\n",
              "      <td>0</td>\n",
              "      <td>0</td>\n",
              "      <td>0</td>\n",
              "      <td>0.0</td>\n",
              "      <td>1.0</td>\n",
              "      <td>0.0</td>\n",
              "      <td>0.0</td>\n",
              "      <td>0</td>\n",
              "      <td>0</td>\n",
              "    </tr>\n",
              "    <tr>\n",
              "      <th>2</th>\n",
              "      <td>-59.4</td>\n",
              "      <td>35.64</td>\n",
              "      <td>61</td>\n",
              "      <td>1</td>\n",
              "      <td>0</td>\n",
              "      <td>0</td>\n",
              "      <td>60</td>\n",
              "      <td>0</td>\n",
              "      <td>1</td>\n",
              "      <td>0</td>\n",
              "      <td>0</td>\n",
              "      <td>0</td>\n",
              "      <td>0</td>\n",
              "      <td>0</td>\n",
              "      <td>0</td>\n",
              "      <td>0</td>\n",
              "      <td>0</td>\n",
              "      <td>0</td>\n",
              "      <td>0</td>\n",
              "      <td>0.0</td>\n",
              "      <td>1.0</td>\n",
              "      <td>0.0</td>\n",
              "      <td>0.0</td>\n",
              "      <td>0</td>\n",
              "      <td>0</td>\n",
              "    </tr>\n",
              "    <tr>\n",
              "      <th>3</th>\n",
              "      <td>80.0</td>\n",
              "      <td>0.00</td>\n",
              "      <td>63</td>\n",
              "      <td>1</td>\n",
              "      <td>0</td>\n",
              "      <td>0</td>\n",
              "      <td>36</td>\n",
              "      <td>0</td>\n",
              "      <td>1</td>\n",
              "      <td>1</td>\n",
              "      <td>1</td>\n",
              "      <td>0</td>\n",
              "      <td>0</td>\n",
              "      <td>0</td>\n",
              "      <td>0</td>\n",
              "      <td>0</td>\n",
              "      <td>0</td>\n",
              "      <td>0</td>\n",
              "      <td>0</td>\n",
              "      <td>0.0</td>\n",
              "      <td>1.0</td>\n",
              "      <td>0.0</td>\n",
              "      <td>0.0</td>\n",
              "      <td>0</td>\n",
              "      <td>0</td>\n",
              "    </tr>\n",
              "    <tr>\n",
              "      <th>4</th>\n",
              "      <td>28.0</td>\n",
              "      <td>0.00</td>\n",
              "      <td>79</td>\n",
              "      <td>1</td>\n",
              "      <td>0</td>\n",
              "      <td>0</td>\n",
              "      <td>36</td>\n",
              "      <td>0</td>\n",
              "      <td>1</td>\n",
              "      <td>1</td>\n",
              "      <td>1</td>\n",
              "      <td>0</td>\n",
              "      <td>0</td>\n",
              "      <td>0</td>\n",
              "      <td>0</td>\n",
              "      <td>0</td>\n",
              "      <td>0</td>\n",
              "      <td>0</td>\n",
              "      <td>1</td>\n",
              "      <td>0.0</td>\n",
              "      <td>1.0</td>\n",
              "      <td>0.0</td>\n",
              "      <td>0.0</td>\n",
              "      <td>0</td>\n",
              "      <td>0</td>\n",
              "    </tr>\n",
              "    <tr>\n",
              "      <th>...</th>\n",
              "      <td>...</td>\n",
              "      <td>...</td>\n",
              "      <td>...</td>\n",
              "      <td>...</td>\n",
              "      <td>...</td>\n",
              "      <td>...</td>\n",
              "      <td>...</td>\n",
              "      <td>...</td>\n",
              "      <td>...</td>\n",
              "      <td>...</td>\n",
              "      <td>...</td>\n",
              "      <td>...</td>\n",
              "      <td>...</td>\n",
              "      <td>...</td>\n",
              "      <td>...</td>\n",
              "      <td>...</td>\n",
              "      <td>...</td>\n",
              "      <td>...</td>\n",
              "      <td>...</td>\n",
              "      <td>...</td>\n",
              "      <td>...</td>\n",
              "      <td>...</td>\n",
              "      <td>...</td>\n",
              "      <td>...</td>\n",
              "      <td>...</td>\n",
              "    </tr>\n",
              "    <tr>\n",
              "      <th>15581</th>\n",
              "      <td>29.0</td>\n",
              "      <td>0.00</td>\n",
              "      <td>77</td>\n",
              "      <td>1</td>\n",
              "      <td>0</td>\n",
              "      <td>0</td>\n",
              "      <td>36</td>\n",
              "      <td>0</td>\n",
              "      <td>1</td>\n",
              "      <td>0</td>\n",
              "      <td>1</td>\n",
              "      <td>0</td>\n",
              "      <td>0</td>\n",
              "      <td>0</td>\n",
              "      <td>0</td>\n",
              "      <td>1</td>\n",
              "      <td>0</td>\n",
              "      <td>0</td>\n",
              "      <td>0</td>\n",
              "      <td>0.0</td>\n",
              "      <td>1.0</td>\n",
              "      <td>0.0</td>\n",
              "      <td>0.0</td>\n",
              "      <td>0</td>\n",
              "      <td>0</td>\n",
              "    </tr>\n",
              "    <tr>\n",
              "      <th>15582</th>\n",
              "      <td>15.0</td>\n",
              "      <td>0.00</td>\n",
              "      <td>4</td>\n",
              "      <td>1</td>\n",
              "      <td>0</td>\n",
              "      <td>0</td>\n",
              "      <td>36</td>\n",
              "      <td>0</td>\n",
              "      <td>1</td>\n",
              "      <td>1</td>\n",
              "      <td>1</td>\n",
              "      <td>0</td>\n",
              "      <td>0</td>\n",
              "      <td>0</td>\n",
              "      <td>0</td>\n",
              "      <td>0</td>\n",
              "      <td>0</td>\n",
              "      <td>0</td>\n",
              "      <td>0</td>\n",
              "      <td>0.0</td>\n",
              "      <td>1.0</td>\n",
              "      <td>0.0</td>\n",
              "      <td>0.0</td>\n",
              "      <td>0</td>\n",
              "      <td>0</td>\n",
              "    </tr>\n",
              "    <tr>\n",
              "      <th>15583</th>\n",
              "      <td>26.0</td>\n",
              "      <td>9.10</td>\n",
              "      <td>40</td>\n",
              "      <td>0</td>\n",
              "      <td>0</td>\n",
              "      <td>0</td>\n",
              "      <td>44</td>\n",
              "      <td>1</td>\n",
              "      <td>0</td>\n",
              "      <td>0</td>\n",
              "      <td>0</td>\n",
              "      <td>0</td>\n",
              "      <td>1</td>\n",
              "      <td>0</td>\n",
              "      <td>1</td>\n",
              "      <td>0</td>\n",
              "      <td>0</td>\n",
              "      <td>0</td>\n",
              "      <td>1</td>\n",
              "      <td>0.0</td>\n",
              "      <td>1.0</td>\n",
              "      <td>0.0</td>\n",
              "      <td>0.0</td>\n",
              "      <td>0</td>\n",
              "      <td>0</td>\n",
              "    </tr>\n",
              "    <tr>\n",
              "      <th>15584</th>\n",
              "      <td>72.0</td>\n",
              "      <td>18.00</td>\n",
              "      <td>35</td>\n",
              "      <td>0</td>\n",
              "      <td>1</td>\n",
              "      <td>1</td>\n",
              "      <td>39</td>\n",
              "      <td>1</td>\n",
              "      <td>0</td>\n",
              "      <td>0</td>\n",
              "      <td>0</td>\n",
              "      <td>1</td>\n",
              "      <td>0</td>\n",
              "      <td>0</td>\n",
              "      <td>0</td>\n",
              "      <td>0</td>\n",
              "      <td>1</td>\n",
              "      <td>0</td>\n",
              "      <td>0</td>\n",
              "      <td>0.0</td>\n",
              "      <td>0.0</td>\n",
              "      <td>1.0</td>\n",
              "      <td>0.0</td>\n",
              "      <td>0</td>\n",
              "      <td>1</td>\n",
              "    </tr>\n",
              "    <tr>\n",
              "      <th>15585</th>\n",
              "      <td>20.0</td>\n",
              "      <td>0.00</td>\n",
              "      <td>60</td>\n",
              "      <td>1</td>\n",
              "      <td>0</td>\n",
              "      <td>0</td>\n",
              "      <td>36</td>\n",
              "      <td>0</td>\n",
              "      <td>1</td>\n",
              "      <td>0</td>\n",
              "      <td>1</td>\n",
              "      <td>0</td>\n",
              "      <td>0</td>\n",
              "      <td>0</td>\n",
              "      <td>0</td>\n",
              "      <td>0</td>\n",
              "      <td>0</td>\n",
              "      <td>0</td>\n",
              "      <td>0</td>\n",
              "      <td>0.0</td>\n",
              "      <td>1.0</td>\n",
              "      <td>0.0</td>\n",
              "      <td>0.0</td>\n",
              "      <td>0</td>\n",
              "      <td>0</td>\n",
              "    </tr>\n",
              "  </tbody>\n",
              "</table>\n",
              "<p>15586 rows × 25 columns</p>\n",
              "</div>"
            ],
            "text/plain": [
              "       Net Sales  Commision (in value)  Duration  ...   FN  Actual  Predicted\n",
              "0           20.0                  0.00        21  ...  0.0       0          0\n",
              "1           24.0                  0.00        47  ...  0.0       0          0\n",
              "2          -59.4                 35.64        61  ...  0.0       0          0\n",
              "3           80.0                  0.00        63  ...  0.0       0          0\n",
              "4           28.0                  0.00        79  ...  0.0       0          0\n",
              "...          ...                   ...       ...  ...  ...     ...        ...\n",
              "15581       29.0                  0.00        77  ...  0.0       0          0\n",
              "15582       15.0                  0.00         4  ...  0.0       0          0\n",
              "15583       26.0                  9.10        40  ...  0.0       0          0\n",
              "15584       72.0                 18.00        35  ...  0.0       0          1\n",
              "15585       20.0                  0.00        60  ...  0.0       0          0\n",
              "\n",
              "[15586 rows x 25 columns]"
            ]
          },
          "metadata": {
            "tags": []
          },
          "execution_count": 35
        }
      ]
    },
    {
      "cell_type": "code",
      "metadata": {
        "id": "gFg-wXHzOvJw",
        "colab_type": "code",
        "colab": {}
      },
      "source": [
        "new_dff=comp_feat(X_test,y_test,y_pred,1)"
      ],
      "execution_count": 36,
      "outputs": []
    },
    {
      "cell_type": "code",
      "metadata": {
        "id": "DkMyAvesOyoA",
        "colab_type": "code",
        "colab": {}
      },
      "source": [
        "new_dff=new_dff[h]\n"
      ],
      "execution_count": 37,
      "outputs": []
    },
    {
      "cell_type": "code",
      "metadata": {
        "id": "T1At0wwTQB7t",
        "colab_type": "code",
        "colab": {
          "base_uri": "https://localhost:8080/",
          "height": 490
        },
        "outputId": "d3647ca8-5067-4069-c036-ca8e0a0421de"
      },
      "source": [
        "new_dff"
      ],
      "execution_count": 38,
      "outputs": [
        {
          "output_type": "execute_result",
          "data": {
            "text/html": [
              "<div>\n",
              "<style scoped>\n",
              "    .dataframe tbody tr th:only-of-type {\n",
              "        vertical-align: middle;\n",
              "    }\n",
              "\n",
              "    .dataframe tbody tr th {\n",
              "        vertical-align: top;\n",
              "    }\n",
              "\n",
              "    .dataframe thead th {\n",
              "        text-align: right;\n",
              "    }\n",
              "</style>\n",
              "<table border=\"1\" class=\"dataframe\">\n",
              "  <thead>\n",
              "    <tr style=\"text-align: right;\">\n",
              "      <th></th>\n",
              "      <th>Net Sales</th>\n",
              "      <th>Commision (in value)</th>\n",
              "      <th>Duration</th>\n",
              "      <th>Gender_N</th>\n",
              "      <th>Destination_SINGAPORE</th>\n",
              "      <th>Agency_C2B</th>\n",
              "      <th>Age</th>\n",
              "      <th>Agency Type_Airlines</th>\n",
              "      <th>Agency Type_Travel Agency</th>\n",
              "      <th>Product Name_Cancellation Plan</th>\n",
              "      <th>Agency_EPX</th>\n",
              "      <th>Gender_F</th>\n",
              "      <th>Product Name_Basic Plan</th>\n",
              "      <th>Product Name_Bronze Plan</th>\n",
              "      <th>Agency_JZI</th>\n",
              "      <th>Product Name_2 way Comprehensive Plan</th>\n",
              "      <th>Product Name_Silver Plan</th>\n",
              "      <th>Agency_LWC</th>\n",
              "      <th>Destination_CHINA</th>\n",
              "      <th>TP</th>\n",
              "      <th>TN</th>\n",
              "      <th>FP</th>\n",
              "      <th>FN</th>\n",
              "      <th>Actual</th>\n",
              "      <th>Predicted</th>\n",
              "    </tr>\n",
              "  </thead>\n",
              "  <tbody>\n",
              "    <tr>\n",
              "      <th>0</th>\n",
              "      <td>20.0</td>\n",
              "      <td>0.00</td>\n",
              "      <td>21</td>\n",
              "      <td>1</td>\n",
              "      <td>0</td>\n",
              "      <td>0</td>\n",
              "      <td>34</td>\n",
              "      <td>0</td>\n",
              "      <td>1</td>\n",
              "      <td>0</td>\n",
              "      <td>1</td>\n",
              "      <td>0</td>\n",
              "      <td>0</td>\n",
              "      <td>0</td>\n",
              "      <td>0</td>\n",
              "      <td>1</td>\n",
              "      <td>0</td>\n",
              "      <td>0</td>\n",
              "      <td>1</td>\n",
              "      <td>NaN</td>\n",
              "      <td>1.0</td>\n",
              "      <td>NaN</td>\n",
              "      <td>NaN</td>\n",
              "      <td>0</td>\n",
              "      <td>0</td>\n",
              "    </tr>\n",
              "    <tr>\n",
              "      <th>1</th>\n",
              "      <td>24.0</td>\n",
              "      <td>0.00</td>\n",
              "      <td>47</td>\n",
              "      <td>1</td>\n",
              "      <td>0</td>\n",
              "      <td>0</td>\n",
              "      <td>36</td>\n",
              "      <td>0</td>\n",
              "      <td>1</td>\n",
              "      <td>0</td>\n",
              "      <td>1</td>\n",
              "      <td>0</td>\n",
              "      <td>0</td>\n",
              "      <td>0</td>\n",
              "      <td>0</td>\n",
              "      <td>1</td>\n",
              "      <td>0</td>\n",
              "      <td>0</td>\n",
              "      <td>0</td>\n",
              "      <td>NaN</td>\n",
              "      <td>1.0</td>\n",
              "      <td>NaN</td>\n",
              "      <td>NaN</td>\n",
              "      <td>0</td>\n",
              "      <td>0</td>\n",
              "    </tr>\n",
              "    <tr>\n",
              "      <th>2</th>\n",
              "      <td>-59.4</td>\n",
              "      <td>35.64</td>\n",
              "      <td>61</td>\n",
              "      <td>1</td>\n",
              "      <td>0</td>\n",
              "      <td>0</td>\n",
              "      <td>60</td>\n",
              "      <td>0</td>\n",
              "      <td>1</td>\n",
              "      <td>0</td>\n",
              "      <td>0</td>\n",
              "      <td>0</td>\n",
              "      <td>0</td>\n",
              "      <td>0</td>\n",
              "      <td>0</td>\n",
              "      <td>0</td>\n",
              "      <td>0</td>\n",
              "      <td>0</td>\n",
              "      <td>0</td>\n",
              "      <td>NaN</td>\n",
              "      <td>1.0</td>\n",
              "      <td>NaN</td>\n",
              "      <td>NaN</td>\n",
              "      <td>0</td>\n",
              "      <td>0</td>\n",
              "    </tr>\n",
              "    <tr>\n",
              "      <th>3</th>\n",
              "      <td>80.0</td>\n",
              "      <td>0.00</td>\n",
              "      <td>63</td>\n",
              "      <td>1</td>\n",
              "      <td>0</td>\n",
              "      <td>0</td>\n",
              "      <td>36</td>\n",
              "      <td>0</td>\n",
              "      <td>1</td>\n",
              "      <td>1</td>\n",
              "      <td>1</td>\n",
              "      <td>0</td>\n",
              "      <td>0</td>\n",
              "      <td>0</td>\n",
              "      <td>0</td>\n",
              "      <td>0</td>\n",
              "      <td>0</td>\n",
              "      <td>0</td>\n",
              "      <td>0</td>\n",
              "      <td>NaN</td>\n",
              "      <td>1.0</td>\n",
              "      <td>NaN</td>\n",
              "      <td>NaN</td>\n",
              "      <td>0</td>\n",
              "      <td>0</td>\n",
              "    </tr>\n",
              "    <tr>\n",
              "      <th>4</th>\n",
              "      <td>28.0</td>\n",
              "      <td>0.00</td>\n",
              "      <td>79</td>\n",
              "      <td>1</td>\n",
              "      <td>0</td>\n",
              "      <td>0</td>\n",
              "      <td>36</td>\n",
              "      <td>0</td>\n",
              "      <td>1</td>\n",
              "      <td>1</td>\n",
              "      <td>1</td>\n",
              "      <td>0</td>\n",
              "      <td>0</td>\n",
              "      <td>0</td>\n",
              "      <td>0</td>\n",
              "      <td>0</td>\n",
              "      <td>0</td>\n",
              "      <td>0</td>\n",
              "      <td>1</td>\n",
              "      <td>NaN</td>\n",
              "      <td>1.0</td>\n",
              "      <td>NaN</td>\n",
              "      <td>NaN</td>\n",
              "      <td>0</td>\n",
              "      <td>0</td>\n",
              "    </tr>\n",
              "    <tr>\n",
              "      <th>...</th>\n",
              "      <td>...</td>\n",
              "      <td>...</td>\n",
              "      <td>...</td>\n",
              "      <td>...</td>\n",
              "      <td>...</td>\n",
              "      <td>...</td>\n",
              "      <td>...</td>\n",
              "      <td>...</td>\n",
              "      <td>...</td>\n",
              "      <td>...</td>\n",
              "      <td>...</td>\n",
              "      <td>...</td>\n",
              "      <td>...</td>\n",
              "      <td>...</td>\n",
              "      <td>...</td>\n",
              "      <td>...</td>\n",
              "      <td>...</td>\n",
              "      <td>...</td>\n",
              "      <td>...</td>\n",
              "      <td>...</td>\n",
              "      <td>...</td>\n",
              "      <td>...</td>\n",
              "      <td>...</td>\n",
              "      <td>...</td>\n",
              "      <td>...</td>\n",
              "    </tr>\n",
              "    <tr>\n",
              "      <th>15581</th>\n",
              "      <td>29.0</td>\n",
              "      <td>0.00</td>\n",
              "      <td>77</td>\n",
              "      <td>1</td>\n",
              "      <td>0</td>\n",
              "      <td>0</td>\n",
              "      <td>36</td>\n",
              "      <td>0</td>\n",
              "      <td>1</td>\n",
              "      <td>0</td>\n",
              "      <td>1</td>\n",
              "      <td>0</td>\n",
              "      <td>0</td>\n",
              "      <td>0</td>\n",
              "      <td>0</td>\n",
              "      <td>1</td>\n",
              "      <td>0</td>\n",
              "      <td>0</td>\n",
              "      <td>0</td>\n",
              "      <td>NaN</td>\n",
              "      <td>1.0</td>\n",
              "      <td>NaN</td>\n",
              "      <td>NaN</td>\n",
              "      <td>0</td>\n",
              "      <td>0</td>\n",
              "    </tr>\n",
              "    <tr>\n",
              "      <th>15582</th>\n",
              "      <td>15.0</td>\n",
              "      <td>0.00</td>\n",
              "      <td>4</td>\n",
              "      <td>1</td>\n",
              "      <td>0</td>\n",
              "      <td>0</td>\n",
              "      <td>36</td>\n",
              "      <td>0</td>\n",
              "      <td>1</td>\n",
              "      <td>1</td>\n",
              "      <td>1</td>\n",
              "      <td>0</td>\n",
              "      <td>0</td>\n",
              "      <td>0</td>\n",
              "      <td>0</td>\n",
              "      <td>0</td>\n",
              "      <td>0</td>\n",
              "      <td>0</td>\n",
              "      <td>0</td>\n",
              "      <td>NaN</td>\n",
              "      <td>1.0</td>\n",
              "      <td>NaN</td>\n",
              "      <td>NaN</td>\n",
              "      <td>0</td>\n",
              "      <td>0</td>\n",
              "    </tr>\n",
              "    <tr>\n",
              "      <th>15583</th>\n",
              "      <td>26.0</td>\n",
              "      <td>9.10</td>\n",
              "      <td>40</td>\n",
              "      <td>0</td>\n",
              "      <td>0</td>\n",
              "      <td>0</td>\n",
              "      <td>44</td>\n",
              "      <td>1</td>\n",
              "      <td>0</td>\n",
              "      <td>0</td>\n",
              "      <td>0</td>\n",
              "      <td>0</td>\n",
              "      <td>1</td>\n",
              "      <td>0</td>\n",
              "      <td>1</td>\n",
              "      <td>0</td>\n",
              "      <td>0</td>\n",
              "      <td>0</td>\n",
              "      <td>1</td>\n",
              "      <td>NaN</td>\n",
              "      <td>1.0</td>\n",
              "      <td>NaN</td>\n",
              "      <td>NaN</td>\n",
              "      <td>0</td>\n",
              "      <td>0</td>\n",
              "    </tr>\n",
              "    <tr>\n",
              "      <th>15584</th>\n",
              "      <td>72.0</td>\n",
              "      <td>18.00</td>\n",
              "      <td>35</td>\n",
              "      <td>0</td>\n",
              "      <td>1</td>\n",
              "      <td>1</td>\n",
              "      <td>39</td>\n",
              "      <td>1</td>\n",
              "      <td>0</td>\n",
              "      <td>0</td>\n",
              "      <td>0</td>\n",
              "      <td>1</td>\n",
              "      <td>0</td>\n",
              "      <td>0</td>\n",
              "      <td>0</td>\n",
              "      <td>0</td>\n",
              "      <td>1</td>\n",
              "      <td>0</td>\n",
              "      <td>0</td>\n",
              "      <td>NaN</td>\n",
              "      <td>NaN</td>\n",
              "      <td>1.0</td>\n",
              "      <td>NaN</td>\n",
              "      <td>0</td>\n",
              "      <td>1</td>\n",
              "    </tr>\n",
              "    <tr>\n",
              "      <th>15585</th>\n",
              "      <td>20.0</td>\n",
              "      <td>0.00</td>\n",
              "      <td>60</td>\n",
              "      <td>1</td>\n",
              "      <td>0</td>\n",
              "      <td>0</td>\n",
              "      <td>36</td>\n",
              "      <td>0</td>\n",
              "      <td>1</td>\n",
              "      <td>0</td>\n",
              "      <td>1</td>\n",
              "      <td>0</td>\n",
              "      <td>0</td>\n",
              "      <td>0</td>\n",
              "      <td>0</td>\n",
              "      <td>0</td>\n",
              "      <td>0</td>\n",
              "      <td>0</td>\n",
              "      <td>0</td>\n",
              "      <td>NaN</td>\n",
              "      <td>1.0</td>\n",
              "      <td>NaN</td>\n",
              "      <td>NaN</td>\n",
              "      <td>0</td>\n",
              "      <td>0</td>\n",
              "    </tr>\n",
              "  </tbody>\n",
              "</table>\n",
              "<p>15586 rows × 25 columns</p>\n",
              "</div>"
            ],
            "text/plain": [
              "       Net Sales  Commision (in value)  Duration  ...  FN  Actual  Predicted\n",
              "0           20.0                  0.00        21  ... NaN       0          0\n",
              "1           24.0                  0.00        47  ... NaN       0          0\n",
              "2          -59.4                 35.64        61  ... NaN       0          0\n",
              "3           80.0                  0.00        63  ... NaN       0          0\n",
              "4           28.0                  0.00        79  ... NaN       0          0\n",
              "...          ...                   ...       ...  ...  ..     ...        ...\n",
              "15581       29.0                  0.00        77  ... NaN       0          0\n",
              "15582       15.0                  0.00         4  ... NaN       0          0\n",
              "15583       26.0                  9.10        40  ... NaN       0          0\n",
              "15584       72.0                 18.00        35  ... NaN       0          1\n",
              "15585       20.0                  0.00        60  ... NaN       0          0\n",
              "\n",
              "[15586 rows x 25 columns]"
            ]
          },
          "metadata": {
            "tags": []
          },
          "execution_count": 38
        }
      ]
    },
    {
      "cell_type": "markdown",
      "metadata": {
        "id": "lIRHzEjx2HNU",
        "colab_type": "text"
      },
      "source": [
        "##Graph"
      ]
    },
    {
      "cell_type": "code",
      "metadata": {
        "id": "zk5W8aZlyNaZ",
        "colab_type": "code",
        "colab": {
          "base_uri": "https://localhost:8080/",
          "height": 0
        },
        "outputId": "e580e4bb-5354-424d-98cb-47217b9fef21"
      },
      "source": [
        "sns.relplot(x=\"Duration\", y=\"Actual\",hue=\"Predicted\", col='TP', kind=\"line\", data=new_df);"
      ],
      "execution_count": 39,
      "outputs": [
        {
          "output_type": "display_data",
          "data": {
            "image/png": "[encoded data removed]",
            "text/plain": [
              "<Figure size 803x360 with 2 Axes>"
            ]
          },
          "metadata": {
            "tags": [],
            "needs_background": "light"
          }
        }
      ]
    },
    {
      "cell_type": "code",
      "metadata": {
        "id": "Mcd6qo961lhb",
        "colab_type": "code",
        "colab": {
          "base_uri": "https://localhost:8080/",
          "height": 0
        },
        "outputId": "e36fce8b-3ef1-4aea-a26a-9870198b85d3"
      },
      "source": [
        "sns.relplot(x=\"Age\", y=\"Actual\",hue=\"Predicted\", col='TN', kind=\"line\", data=new_df);"
      ],
      "execution_count": 40,
      "outputs": [
        {
          "output_type": "display_data",
          "data": {
            "image/png": "[encoded data removed]",
            "text/plain": [
              "<Figure size 803x360 with 2 Axes>"
            ]
          },
          "metadata": {
            "tags": [],
            "needs_background": "light"
          }
        }
      ]
    },
    {
      "cell_type": "code",
      "metadata": {
        "id": "VPJZYwlD2hY8",
        "colab_type": "code",
        "colab": {}
      },
      "source": [
        "#sns.pairplot(new_dff,hue='TP')"
      ],
      "execution_count": 41,
      "outputs": []
    },
    {
      "cell_type": "code",
      "metadata": {
        "id": "DR2kdnYhhDNa",
        "colab_type": "code",
        "colab": {}
      },
      "source": [
        "con=['TP','TN','FP','FN','Actual','Predicted','Commision (in value)', 'Net Sales','Duration','Age']\n",
        "l_n=h.copy()\n",
        "for i in con:\n",
        "  l_n.remove(i)"
      ],
      "execution_count": 42,
      "outputs": []
    },
    {
      "cell_type": "code",
      "metadata": {
        "id": "cyd3IR8Jxc_j",
        "colab_type": "code",
        "colab": {}
      },
      "source": [
        "ll=iter(l_n)"
      ],
      "execution_count": 43,
      "outputs": []
    },
    {
      "cell_type": "code",
      "metadata": {
        "id": "PV63_uNZxnvM",
        "colab_type": "code",
        "colab": {
          "base_uri": "https://localhost:8080/",
          "height": 0
        },
        "outputId": "6d750507-4d8f-4760-f6bd-a25b1e81cb81"
      },
      "source": [
        "plot_buk(next(ll),new_dff)"
      ],
      "execution_count": 44,
      "outputs": [
        {
          "output_type": "display_data",
          "data": {
            "image/png": "[encoded data removed]",
            "text/plain": [
              "<Figure size 1080x720 with 4 Axes>"
            ]
          },
          "metadata": {
            "tags": [],
            "needs_background": "light"
          }
        }
      ]
    },
    {
      "cell_type": "code",
      "metadata": {
        "id": "7HKnjCPB0zOZ",
        "colab_type": "code",
        "colab": {
          "base_uri": "https://localhost:8080/",
          "height": 0
        },
        "outputId": "bf77789a-24d4-4559-9cef-9e66133cca36"
      },
      "source": [
        "plot_buk(next(ll),new_dff)"
      ],
      "execution_count": 45,
      "outputs": [
        {
          "output_type": "display_data",
          "data": {
            "image/png": "[encoded data removed]",
            "text/plain": [
              "<Figure size 1080x720 with 4 Axes>"
            ]
          },
          "metadata": {
            "tags": [],
            "needs_background": "light"
          }
        }
      ]
    },
    {
      "cell_type": "code",
      "metadata": {
        "id": "724GYnbpwvCW",
        "colab_type": "code",
        "colab": {
          "base_uri": "https://localhost:8080/",
          "height": 0
        },
        "outputId": "14d7043f-e8da-4245-ee67-73be319bbb2e"
      },
      "source": [
        "plot_buk(next(ll),new_dff)"
      ],
      "execution_count": 46,
      "outputs": [
        {
          "output_type": "display_data",
          "data": {
            "image/png": "[encoded data removed]",
            "text/plain": [
              "<Figure size 1080x720 with 4 Axes>"
            ]
          },
          "metadata": {
            "tags": [],
            "needs_background": "light"
          }
        }
      ]
    },
    {
      "cell_type": "code",
      "metadata": {
        "id": "Z9XZ3PYqyARx",
        "colab_type": "code",
        "colab": {
          "base_uri": "https://localhost:8080/",
          "height": 0
        },
        "outputId": "28cdead6-eaad-4c49-f03a-7d47c1d53bd1"
      },
      "source": [
        "plot_buk(next(ll),new_dff)"
      ],
      "execution_count": 47,
      "outputs": [
        {
          "output_type": "display_data",
          "data": {
            "image/png": "[encoded data removed]",
            "text/plain": [
              "<Figure size 1080x720 with 4 Axes>"
            ]
          },
          "metadata": {
            "tags": [],
            "needs_background": "light"
          }
        }
      ]
    },
    {
      "cell_type": "code",
      "metadata": {
        "id": "Vs_glgWMyEzT",
        "colab_type": "code",
        "colab": {
          "base_uri": "https://localhost:8080/",
          "height": 0
        },
        "outputId": "02c2a971-84b6-4096-da41-20242a13ea5b"
      },
      "source": [
        "plot_buk(next(ll),new_dff)"
      ],
      "execution_count": 48,
      "outputs": [
        {
          "output_type": "display_data",
          "data": {
            "image/png": "[encoded data removed]",
            "text/plain": [
              "<Figure size 1080x720 with 4 Axes>"
            ]
          },
          "metadata": {
            "tags": [],
            "needs_background": "light"
          }
        }
      ]
    },
    {
      "cell_type": "code",
      "metadata": {
        "id": "hIKyYAakyGd2",
        "colab_type": "code",
        "colab": {
          "base_uri": "https://localhost:8080/",
          "height": 0
        },
        "outputId": "e8ecc503-f7c6-40f0-ca97-146be897c500"
      },
      "source": [
        "plot_buk(next(ll),new_dff)"
      ],
      "execution_count": 49,
      "outputs": [
        {
          "output_type": "display_data",
          "data": {
            "image/png": "[encoded data removed]",
            "text/plain": [
              "<Figure size 1080x720 with 4 Axes>"
            ]
          },
          "metadata": {
            "tags": [],
            "needs_background": "light"
          }
        }
      ]
    },
    {
      "cell_type": "code",
      "metadata": {
        "id": "2myXfhR7yLI6",
        "colab_type": "code",
        "colab": {
          "base_uri": "https://localhost:8080/",
          "height": 0
        },
        "outputId": "179695b9-6637-40d0-f9a8-e2e49e7b5acf"
      },
      "source": [
        "plot_buk(next(ll),new_dff)"
      ],
      "execution_count": 50,
      "outputs": [
        {
          "output_type": "display_data",
          "data": {
            "image/png": "[encoded data removed]",
            "text/plain": [
              "<Figure size 1080x720 with 4 Axes>"
            ]
          },
          "metadata": {
            "tags": [],
            "needs_background": "light"
          }
        }
      ]
    },
    {
      "cell_type": "code",
      "metadata": {
        "id": "99UNQ2XyyWDX",
        "colab_type": "code",
        "colab": {
          "base_uri": "https://localhost:8080/",
          "height": 0
        },
        "outputId": "475016c0-50bb-4f08-edf9-1c8ce385e52c"
      },
      "source": [
        "plot_buk(next(ll),new_dff)"
      ],
      "execution_count": 51,
      "outputs": [
        {
          "output_type": "display_data",
          "data": {
            "image/png": "[encoded data removed]",
            "text/plain": [
              "<Figure size 1080x720 with 4 Axes>"
            ]
          },
          "metadata": {
            "tags": [],
            "needs_background": "light"
          }
        }
      ]
    },
    {
      "cell_type": "code",
      "metadata": {
        "id": "GpGuTR9XyWzM",
        "colab_type": "code",
        "colab": {
          "base_uri": "https://localhost:8080/",
          "height": 0
        },
        "outputId": "5d3c112d-5cc0-4416-f0d7-fc10adfb981f"
      },
      "source": [
        "plot_buk(next(ll),new_dff)"
      ],
      "execution_count": 52,
      "outputs": [
        {
          "output_type": "display_data",
          "data": {
            "image/png": "[encoded data removed]",
            "text/plain": [
              "<Figure size 1080x720 with 4 Axes>"
            ]
          },
          "metadata": {
            "tags": [],
            "needs_background": "light"
          }
        }
      ]
    },
    {
      "cell_type": "code",
      "metadata": {
        "id": "v53TsVjEyXwb",
        "colab_type": "code",
        "colab": {
          "base_uri": "https://localhost:8080/",
          "height": 0
        },
        "outputId": "c33668c0-b95b-4423-e307-595d7360e88b"
      },
      "source": [
        "plot_buk(next(ll),new_dff)"
      ],
      "execution_count": 53,
      "outputs": [
        {
          "output_type": "display_data",
          "data": {
            "image/png": "[encoded data removed]",
            "text/plain": [
              "<Figure size 1080x720 with 4 Axes>"
            ]
          },
          "metadata": {
            "tags": [],
            "needs_background": "light"
          }
        }
      ]
    },
    {
      "cell_type": "code",
      "metadata": {
        "id": "Oij9n7twyZTX",
        "colab_type": "code",
        "colab": {
          "base_uri": "https://localhost:8080/",
          "height": 0
        },
        "outputId": "ad77d288-210b-408c-8419-30fe7b28360c"
      },
      "source": [
        "plot_buk(next(ll),new_dff)"
      ],
      "execution_count": 54,
      "outputs": [
        {
          "output_type": "display_data",
          "data": {
            "image/png": "[encoded data removed]",
            "text/plain": [
              "<Figure size 1080x720 with 4 Axes>"
            ]
          },
          "metadata": {
            "tags": [],
            "needs_background": "light"
          }
        }
      ]
    },
    {
      "cell_type": "code",
      "metadata": {
        "id": "HAvpUEXsyaNa",
        "colab_type": "code",
        "colab": {
          "base_uri": "https://localhost:8080/",
          "height": 0
        },
        "outputId": "b01d8710-4d63-472e-e2c8-5f0be6279fc9"
      },
      "source": [
        "plot_buk(next(ll),new_dff)"
      ],
      "execution_count": 55,
      "outputs": [
        {
          "output_type": "display_data",
          "data": {
            "image/png": "[encoded data removed]",
            "text/plain": [
              "<Figure size 1080x720 with 4 Axes>"
            ]
          },
          "metadata": {
            "tags": [],
            "needs_background": "light"
          }
        }
      ]
    },
    {
      "cell_type": "code",
      "metadata": {
        "id": "5fxCuE51ybN1",
        "colab_type": "code",
        "colab": {
          "base_uri": "https://localhost:8080/",
          "height": 0
        },
        "outputId": "b501fd6a-fd50-47b8-bdd1-0fb4aa4eef06"
      },
      "source": [
        "plot_buk(next(ll),new_dff)"
      ],
      "execution_count": 56,
      "outputs": [
        {
          "output_type": "display_data",
          "data": {
            "image/png": "[encoded data removed]",
            "text/plain": [
              "<Figure size 1080x720 with 4 Axes>"
            ]
          },
          "metadata": {
            "tags": [],
            "needs_background": "light"
          }
        }
      ]
    },
    {
      "cell_type": "code",
      "metadata": {
        "id": "3j-v4fPjyc0x",
        "colab_type": "code",
        "colab": {
          "base_uri": "https://localhost:8080/",
          "height": 0
        },
        "outputId": "3706ac5d-c526-4207-f16d-44a642523adb"
      },
      "source": [
        "plot_buk(next(ll),new_dff)"
      ],
      "execution_count": 57,
      "outputs": [
        {
          "output_type": "display_data",
          "data": {
            "image/png": "[encoded data removed]",
            "text/plain": [
              "<Figure size 1080x720 with 4 Axes>"
            ]
          },
          "metadata": {
            "tags": [],
            "needs_background": "light"
          }
        }
      ]
    },
    {
      "cell_type": "code",
      "metadata": {
        "id": "TLGsqRf_yepg",
        "colab_type": "code",
        "colab": {
          "base_uri": "https://localhost:8080/",
          "height": 0
        },
        "outputId": "f30c4363-eeb9-4829-b71a-3dc9619803b5"
      },
      "source": [
        "plot_buk(next(ll),new_dff)"
      ],
      "execution_count": 58,
      "outputs": [
        {
          "output_type": "display_data",
          "data": {
            "image/png": "[encoded data removed]",
            "text/plain": [
              "<Figure size 1080x720 with 4 Axes>"
            ]
          },
          "metadata": {
            "tags": [],
            "needs_background": "light"
          }
        }
      ]
    },
    {
      "cell_type": "markdown",
      "metadata": {
        "id": "ODJojq1-HyMl",
        "colab_type": "text"
      },
      "source": [
        "# Reasoning "
      ]
    },
    {
      "cell_type": "code",
      "metadata": {
        "id": "SZlCWQyVH3-T",
        "colab_type": "code",
        "colab": {
          "base_uri": "https://localhost:8080/",
          "height": 700
        },
        "outputId": "d834e77d-1d22-4720-d820-7c69ea18008d"
      },
      "source": [
        "df_res=reason(new_df,h)\n",
        "df_res.head()"
      ],
      "execution_count": 69,
      "outputs": [
        {
          "output_type": "execute_result",
          "data": {
            "text/html": [
              "<div>\n",
              "<style scoped>\n",
              "    .dataframe tbody tr th:only-of-type {\n",
              "        vertical-align: middle;\n",
              "    }\n",
              "\n",
              "    .dataframe tbody tr th {\n",
              "        vertical-align: top;\n",
              "    }\n",
              "\n",
              "    .dataframe thead th {\n",
              "        text-align: right;\n",
              "    }\n",
              "</style>\n",
              "<table border=\"1\" class=\"dataframe\">\n",
              "  <thead>\n",
              "    <tr style=\"text-align: right;\">\n",
              "      <th></th>\n",
              "      <th>Net Sales</th>\n",
              "      <th>Commision (in value)</th>\n",
              "      <th>Duration</th>\n",
              "      <th>Gender_N</th>\n",
              "      <th>Destination_SINGAPORE</th>\n",
              "      <th>Agency_C2B</th>\n",
              "      <th>Age</th>\n",
              "      <th>Agency Type_Airlines</th>\n",
              "      <th>Agency Type_Travel Agency</th>\n",
              "      <th>Product Name_Cancellation Plan</th>\n",
              "      <th>Agency_EPX</th>\n",
              "      <th>Gender_F</th>\n",
              "      <th>Product Name_Basic Plan</th>\n",
              "      <th>Product Name_Bronze Plan</th>\n",
              "      <th>Agency_JZI</th>\n",
              "      <th>Product Name_2 way Comprehensive Plan</th>\n",
              "      <th>Product Name_Silver Plan</th>\n",
              "      <th>Agency_LWC</th>\n",
              "      <th>Destination_CHINA</th>\n",
              "      <th>TP</th>\n",
              "      <th>TN</th>\n",
              "      <th>FP</th>\n",
              "      <th>FN</th>\n",
              "      <th>Actual</th>\n",
              "      <th>Predicted</th>\n",
              "      <th>Reasoning</th>\n",
              "    </tr>\n",
              "  </thead>\n",
              "  <tbody>\n",
              "    <tr>\n",
              "      <th>0</th>\n",
              "      <td>20.0</td>\n",
              "      <td>0.00</td>\n",
              "      <td>21</td>\n",
              "      <td>1</td>\n",
              "      <td>0</td>\n",
              "      <td>0</td>\n",
              "      <td>34</td>\n",
              "      <td>0</td>\n",
              "      <td>1</td>\n",
              "      <td>0</td>\n",
              "      <td>1</td>\n",
              "      <td>0</td>\n",
              "      <td>0</td>\n",
              "      <td>0</td>\n",
              "      <td>0</td>\n",
              "      <td>1</td>\n",
              "      <td>0</td>\n",
              "      <td>0</td>\n",
              "      <td>1</td>\n",
              "      <td>0.0</td>\n",
              "      <td>1.0</td>\n",
              "      <td>0.0</td>\n",
              "      <td>0.0</td>\n",
              "      <td>0</td>\n",
              "      <td>0</td>\n",
              "      <td>Gender_N, Agency Type_Travel Agency were prese...</td>\n",
              "    </tr>\n",
              "    <tr>\n",
              "      <th>1</th>\n",
              "      <td>24.0</td>\n",
              "      <td>0.00</td>\n",
              "      <td>47</td>\n",
              "      <td>1</td>\n",
              "      <td>0</td>\n",
              "      <td>0</td>\n",
              "      <td>36</td>\n",
              "      <td>0</td>\n",
              "      <td>1</td>\n",
              "      <td>0</td>\n",
              "      <td>1</td>\n",
              "      <td>0</td>\n",
              "      <td>0</td>\n",
              "      <td>0</td>\n",
              "      <td>0</td>\n",
              "      <td>1</td>\n",
              "      <td>0</td>\n",
              "      <td>0</td>\n",
              "      <td>0</td>\n",
              "      <td>0.0</td>\n",
              "      <td>1.0</td>\n",
              "      <td>0.0</td>\n",
              "      <td>0.0</td>\n",
              "      <td>0</td>\n",
              "      <td>0</td>\n",
              "      <td>Gender_N, Agency Type_Travel Agency were prese...</td>\n",
              "    </tr>\n",
              "    <tr>\n",
              "      <th>2</th>\n",
              "      <td>-59.4</td>\n",
              "      <td>35.64</td>\n",
              "      <td>61</td>\n",
              "      <td>1</td>\n",
              "      <td>0</td>\n",
              "      <td>0</td>\n",
              "      <td>60</td>\n",
              "      <td>0</td>\n",
              "      <td>1</td>\n",
              "      <td>0</td>\n",
              "      <td>0</td>\n",
              "      <td>0</td>\n",
              "      <td>0</td>\n",
              "      <td>0</td>\n",
              "      <td>0</td>\n",
              "      <td>0</td>\n",
              "      <td>0</td>\n",
              "      <td>0</td>\n",
              "      <td>0</td>\n",
              "      <td>0.0</td>\n",
              "      <td>1.0</td>\n",
              "      <td>0.0</td>\n",
              "      <td>0.0</td>\n",
              "      <td>0</td>\n",
              "      <td>0</td>\n",
              "      <td>Gender_N, Agency Type_Travel Agency were prese...</td>\n",
              "    </tr>\n",
              "    <tr>\n",
              "      <th>3</th>\n",
              "      <td>80.0</td>\n",
              "      <td>0.00</td>\n",
              "      <td>63</td>\n",
              "      <td>1</td>\n",
              "      <td>0</td>\n",
              "      <td>0</td>\n",
              "      <td>36</td>\n",
              "      <td>0</td>\n",
              "      <td>1</td>\n",
              "      <td>1</td>\n",
              "      <td>1</td>\n",
              "      <td>0</td>\n",
              "      <td>0</td>\n",
              "      <td>0</td>\n",
              "      <td>0</td>\n",
              "      <td>0</td>\n",
              "      <td>0</td>\n",
              "      <td>0</td>\n",
              "      <td>0</td>\n",
              "      <td>0.0</td>\n",
              "      <td>1.0</td>\n",
              "      <td>0.0</td>\n",
              "      <td>0.0</td>\n",
              "      <td>0</td>\n",
              "      <td>0</td>\n",
              "      <td>Gender_N, Agency Type_Travel Agency were prese...</td>\n",
              "    </tr>\n",
              "    <tr>\n",
              "      <th>4</th>\n",
              "      <td>28.0</td>\n",
              "      <td>0.00</td>\n",
              "      <td>79</td>\n",
              "      <td>1</td>\n",
              "      <td>0</td>\n",
              "      <td>0</td>\n",
              "      <td>36</td>\n",
              "      <td>0</td>\n",
              "      <td>1</td>\n",
              "      <td>1</td>\n",
              "      <td>1</td>\n",
              "      <td>0</td>\n",
              "      <td>0</td>\n",
              "      <td>0</td>\n",
              "      <td>0</td>\n",
              "      <td>0</td>\n",
              "      <td>0</td>\n",
              "      <td>0</td>\n",
              "      <td>1</td>\n",
              "      <td>0.0</td>\n",
              "      <td>1.0</td>\n",
              "      <td>0.0</td>\n",
              "      <td>0.0</td>\n",
              "      <td>0</td>\n",
              "      <td>0</td>\n",
              "      <td>Gender_N, Agency Type_Travel Agency were prese...</td>\n",
              "    </tr>\n",
              "  </tbody>\n",
              "</table>\n",
              "</div>"
            ],
            "text/plain": [
              "   Net Sales  ...                                          Reasoning\n",
              "0       20.0  ...  Gender_N, Agency Type_Travel Agency were prese...\n",
              "1       24.0  ...  Gender_N, Agency Type_Travel Agency were prese...\n",
              "2      -59.4  ...  Gender_N, Agency Type_Travel Agency were prese...\n",
              "3       80.0  ...  Gender_N, Agency Type_Travel Agency were prese...\n",
              "4       28.0  ...  Gender_N, Agency Type_Travel Agency were prese...\n",
              "\n",
              "[5 rows x 26 columns]"
            ]
          },
          "metadata": {
            "tags": []
          },
          "execution_count": 69
        }
      ]
    },
    {
      "cell_type": "code",
      "metadata": {
        "id": "orC8xq_UhOd_",
        "colab_type": "code",
        "colab": {
          "base_uri": "https://localhost:8080/",
          "height": 830
        },
        "outputId": "a3954c80-d9eb-4c42-a5a5-0e07601b6e19"
      },
      "source": [
        "df_res[df_res['Actual'] == 1]"
      ],
      "execution_count": 70,
      "outputs": [
        {
          "output_type": "execute_result",
          "data": {
            "text/html": [
              "<div>\n",
              "<style scoped>\n",
              "    .dataframe tbody tr th:only-of-type {\n",
              "        vertical-align: middle;\n",
              "    }\n",
              "\n",
              "    .dataframe tbody tr th {\n",
              "        vertical-align: top;\n",
              "    }\n",
              "\n",
              "    .dataframe thead th {\n",
              "        text-align: right;\n",
              "    }\n",
              "</style>\n",
              "<table border=\"1\" class=\"dataframe\">\n",
              "  <thead>\n",
              "    <tr style=\"text-align: right;\">\n",
              "      <th></th>\n",
              "      <th>Net Sales</th>\n",
              "      <th>Commision (in value)</th>\n",
              "      <th>Duration</th>\n",
              "      <th>Gender_N</th>\n",
              "      <th>Destination_SINGAPORE</th>\n",
              "      <th>Agency_C2B</th>\n",
              "      <th>Age</th>\n",
              "      <th>Agency Type_Airlines</th>\n",
              "      <th>Agency Type_Travel Agency</th>\n",
              "      <th>Product Name_Cancellation Plan</th>\n",
              "      <th>Agency_EPX</th>\n",
              "      <th>Gender_F</th>\n",
              "      <th>Product Name_Basic Plan</th>\n",
              "      <th>Product Name_Bronze Plan</th>\n",
              "      <th>Agency_JZI</th>\n",
              "      <th>Product Name_2 way Comprehensive Plan</th>\n",
              "      <th>Product Name_Silver Plan</th>\n",
              "      <th>Agency_LWC</th>\n",
              "      <th>Destination_CHINA</th>\n",
              "      <th>TP</th>\n",
              "      <th>TN</th>\n",
              "      <th>FP</th>\n",
              "      <th>FN</th>\n",
              "      <th>Actual</th>\n",
              "      <th>Predicted</th>\n",
              "      <th>Reasoning</th>\n",
              "    </tr>\n",
              "  </thead>\n",
              "  <tbody>\n",
              "    <tr>\n",
              "      <th>67</th>\n",
              "      <td>432.00</td>\n",
              "      <td>108.00</td>\n",
              "      <td>367</td>\n",
              "      <td>0</td>\n",
              "      <td>1</td>\n",
              "      <td>1</td>\n",
              "      <td>52</td>\n",
              "      <td>1</td>\n",
              "      <td>0</td>\n",
              "      <td>0</td>\n",
              "      <td>0</td>\n",
              "      <td>0</td>\n",
              "      <td>0</td>\n",
              "      <td>0</td>\n",
              "      <td>0</td>\n",
              "      <td>0</td>\n",
              "      <td>0</td>\n",
              "      <td>0</td>\n",
              "      <td>0</td>\n",
              "      <td>1.0</td>\n",
              "      <td>0.0</td>\n",
              "      <td>0.0</td>\n",
              "      <td>0.0</td>\n",
              "      <td>1</td>\n",
              "      <td>1</td>\n",
              "      <td>Destination_SINGAPORE, Agency_C2B, Agency Type...</td>\n",
              "    </tr>\n",
              "    <tr>\n",
              "      <th>115</th>\n",
              "      <td>62.25</td>\n",
              "      <td>15.56</td>\n",
              "      <td>11</td>\n",
              "      <td>0</td>\n",
              "      <td>1</td>\n",
              "      <td>1</td>\n",
              "      <td>33</td>\n",
              "      <td>1</td>\n",
              "      <td>0</td>\n",
              "      <td>0</td>\n",
              "      <td>0</td>\n",
              "      <td>0</td>\n",
              "      <td>0</td>\n",
              "      <td>0</td>\n",
              "      <td>0</td>\n",
              "      <td>0</td>\n",
              "      <td>1</td>\n",
              "      <td>0</td>\n",
              "      <td>0</td>\n",
              "      <td>1.0</td>\n",
              "      <td>0.0</td>\n",
              "      <td>0.0</td>\n",
              "      <td>0.0</td>\n",
              "      <td>1</td>\n",
              "      <td>1</td>\n",
              "      <td>Destination_SINGAPORE, Agency_C2B, Agency Type...</td>\n",
              "    </tr>\n",
              "    <tr>\n",
              "      <th>149</th>\n",
              "      <td>39.00</td>\n",
              "      <td>9.75</td>\n",
              "      <td>70</td>\n",
              "      <td>0</td>\n",
              "      <td>1</td>\n",
              "      <td>1</td>\n",
              "      <td>36</td>\n",
              "      <td>1</td>\n",
              "      <td>0</td>\n",
              "      <td>0</td>\n",
              "      <td>0</td>\n",
              "      <td>1</td>\n",
              "      <td>0</td>\n",
              "      <td>0</td>\n",
              "      <td>0</td>\n",
              "      <td>0</td>\n",
              "      <td>1</td>\n",
              "      <td>0</td>\n",
              "      <td>0</td>\n",
              "      <td>1.0</td>\n",
              "      <td>0.0</td>\n",
              "      <td>0.0</td>\n",
              "      <td>0.0</td>\n",
              "      <td>1</td>\n",
              "      <td>1</td>\n",
              "      <td>Destination_SINGAPORE, Agency_C2B, Agency Type...</td>\n",
              "    </tr>\n",
              "    <tr>\n",
              "      <th>207</th>\n",
              "      <td>252.85</td>\n",
              "      <td>63.21</td>\n",
              "      <td>413</td>\n",
              "      <td>0</td>\n",
              "      <td>1</td>\n",
              "      <td>1</td>\n",
              "      <td>31</td>\n",
              "      <td>1</td>\n",
              "      <td>0</td>\n",
              "      <td>0</td>\n",
              "      <td>0</td>\n",
              "      <td>1</td>\n",
              "      <td>0</td>\n",
              "      <td>0</td>\n",
              "      <td>0</td>\n",
              "      <td>0</td>\n",
              "      <td>0</td>\n",
              "      <td>0</td>\n",
              "      <td>0</td>\n",
              "      <td>1.0</td>\n",
              "      <td>0.0</td>\n",
              "      <td>0.0</td>\n",
              "      <td>0.0</td>\n",
              "      <td>1</td>\n",
              "      <td>1</td>\n",
              "      <td>Destination_SINGAPORE, Agency_C2B, Agency Type...</td>\n",
              "    </tr>\n",
              "    <tr>\n",
              "      <th>236</th>\n",
              "      <td>29.50</td>\n",
              "      <td>7.38</td>\n",
              "      <td>11</td>\n",
              "      <td>0</td>\n",
              "      <td>1</td>\n",
              "      <td>1</td>\n",
              "      <td>33</td>\n",
              "      <td>1</td>\n",
              "      <td>0</td>\n",
              "      <td>0</td>\n",
              "      <td>0</td>\n",
              "      <td>0</td>\n",
              "      <td>0</td>\n",
              "      <td>1</td>\n",
              "      <td>0</td>\n",
              "      <td>0</td>\n",
              "      <td>0</td>\n",
              "      <td>0</td>\n",
              "      <td>0</td>\n",
              "      <td>1.0</td>\n",
              "      <td>0.0</td>\n",
              "      <td>0.0</td>\n",
              "      <td>0.0</td>\n",
              "      <td>1</td>\n",
              "      <td>1</td>\n",
              "      <td>Destination_SINGAPORE, Agency_C2B, Agency Type...</td>\n",
              "    </tr>\n",
              "    <tr>\n",
              "      <th>...</th>\n",
              "      <td>...</td>\n",
              "      <td>...</td>\n",
              "      <td>...</td>\n",
              "      <td>...</td>\n",
              "      <td>...</td>\n",
              "      <td>...</td>\n",
              "      <td>...</td>\n",
              "      <td>...</td>\n",
              "      <td>...</td>\n",
              "      <td>...</td>\n",
              "      <td>...</td>\n",
              "      <td>...</td>\n",
              "      <td>...</td>\n",
              "      <td>...</td>\n",
              "      <td>...</td>\n",
              "      <td>...</td>\n",
              "      <td>...</td>\n",
              "      <td>...</td>\n",
              "      <td>...</td>\n",
              "      <td>...</td>\n",
              "      <td>...</td>\n",
              "      <td>...</td>\n",
              "      <td>...</td>\n",
              "      <td>...</td>\n",
              "      <td>...</td>\n",
              "      <td>...</td>\n",
              "    </tr>\n",
              "    <tr>\n",
              "      <th>15345</th>\n",
              "      <td>26.50</td>\n",
              "      <td>6.63</td>\n",
              "      <td>52</td>\n",
              "      <td>0</td>\n",
              "      <td>1</td>\n",
              "      <td>1</td>\n",
              "      <td>74</td>\n",
              "      <td>1</td>\n",
              "      <td>0</td>\n",
              "      <td>0</td>\n",
              "      <td>0</td>\n",
              "      <td>0</td>\n",
              "      <td>0</td>\n",
              "      <td>1</td>\n",
              "      <td>0</td>\n",
              "      <td>0</td>\n",
              "      <td>0</td>\n",
              "      <td>0</td>\n",
              "      <td>0</td>\n",
              "      <td>1.0</td>\n",
              "      <td>0.0</td>\n",
              "      <td>0.0</td>\n",
              "      <td>0.0</td>\n",
              "      <td>1</td>\n",
              "      <td>1</td>\n",
              "      <td>Destination_SINGAPORE, Agency_C2B, Agency Type...</td>\n",
              "    </tr>\n",
              "    <tr>\n",
              "      <th>15425</th>\n",
              "      <td>27.00</td>\n",
              "      <td>6.75</td>\n",
              "      <td>10</td>\n",
              "      <td>0</td>\n",
              "      <td>1</td>\n",
              "      <td>1</td>\n",
              "      <td>23</td>\n",
              "      <td>1</td>\n",
              "      <td>0</td>\n",
              "      <td>0</td>\n",
              "      <td>0</td>\n",
              "      <td>0</td>\n",
              "      <td>0</td>\n",
              "      <td>1</td>\n",
              "      <td>0</td>\n",
              "      <td>0</td>\n",
              "      <td>0</td>\n",
              "      <td>0</td>\n",
              "      <td>0</td>\n",
              "      <td>1.0</td>\n",
              "      <td>0.0</td>\n",
              "      <td>0.0</td>\n",
              "      <td>0.0</td>\n",
              "      <td>1</td>\n",
              "      <td>1</td>\n",
              "      <td>Destination_SINGAPORE, Agency_C2B, Agency Type...</td>\n",
              "    </tr>\n",
              "    <tr>\n",
              "      <th>15433</th>\n",
              "      <td>22.10</td>\n",
              "      <td>5.53</td>\n",
              "      <td>31</td>\n",
              "      <td>0</td>\n",
              "      <td>1</td>\n",
              "      <td>1</td>\n",
              "      <td>24</td>\n",
              "      <td>1</td>\n",
              "      <td>0</td>\n",
              "      <td>0</td>\n",
              "      <td>0</td>\n",
              "      <td>1</td>\n",
              "      <td>0</td>\n",
              "      <td>1</td>\n",
              "      <td>0</td>\n",
              "      <td>0</td>\n",
              "      <td>0</td>\n",
              "      <td>0</td>\n",
              "      <td>0</td>\n",
              "      <td>1.0</td>\n",
              "      <td>0.0</td>\n",
              "      <td>0.0</td>\n",
              "      <td>0.0</td>\n",
              "      <td>1</td>\n",
              "      <td>1</td>\n",
              "      <td>Destination_SINGAPORE, Agency_C2B, Agency Type...</td>\n",
              "    </tr>\n",
              "    <tr>\n",
              "      <th>15459</th>\n",
              "      <td>252.85</td>\n",
              "      <td>63.21</td>\n",
              "      <td>367</td>\n",
              "      <td>0</td>\n",
              "      <td>1</td>\n",
              "      <td>1</td>\n",
              "      <td>45</td>\n",
              "      <td>1</td>\n",
              "      <td>0</td>\n",
              "      <td>0</td>\n",
              "      <td>0</td>\n",
              "      <td>0</td>\n",
              "      <td>0</td>\n",
              "      <td>0</td>\n",
              "      <td>0</td>\n",
              "      <td>0</td>\n",
              "      <td>0</td>\n",
              "      <td>0</td>\n",
              "      <td>0</td>\n",
              "      <td>1.0</td>\n",
              "      <td>0.0</td>\n",
              "      <td>0.0</td>\n",
              "      <td>0.0</td>\n",
              "      <td>1</td>\n",
              "      <td>1</td>\n",
              "      <td>Destination_SINGAPORE, Agency_C2B, Agency Type...</td>\n",
              "    </tr>\n",
              "    <tr>\n",
              "      <th>15481</th>\n",
              "      <td>76.30</td>\n",
              "      <td>19.07</td>\n",
              "      <td>13</td>\n",
              "      <td>0</td>\n",
              "      <td>1</td>\n",
              "      <td>1</td>\n",
              "      <td>35</td>\n",
              "      <td>1</td>\n",
              "      <td>0</td>\n",
              "      <td>0</td>\n",
              "      <td>0</td>\n",
              "      <td>1</td>\n",
              "      <td>0</td>\n",
              "      <td>0</td>\n",
              "      <td>0</td>\n",
              "      <td>0</td>\n",
              "      <td>1</td>\n",
              "      <td>0</td>\n",
              "      <td>0</td>\n",
              "      <td>1.0</td>\n",
              "      <td>0.0</td>\n",
              "      <td>0.0</td>\n",
              "      <td>0.0</td>\n",
              "      <td>1</td>\n",
              "      <td>1</td>\n",
              "      <td>Destination_SINGAPORE, Agency_C2B, Agency Type...</td>\n",
              "    </tr>\n",
              "  </tbody>\n",
              "</table>\n",
              "<p>229 rows × 26 columns</p>\n",
              "</div>"
            ],
            "text/plain": [
              "       Net Sales  ...                                          Reasoning\n",
              "67        432.00  ...  Destination_SINGAPORE, Agency_C2B, Agency Type...\n",
              "115        62.25  ...  Destination_SINGAPORE, Agency_C2B, Agency Type...\n",
              "149        39.00  ...  Destination_SINGAPORE, Agency_C2B, Agency Type...\n",
              "207       252.85  ...  Destination_SINGAPORE, Agency_C2B, Agency Type...\n",
              "236        29.50  ...  Destination_SINGAPORE, Agency_C2B, Agency Type...\n",
              "...          ...  ...                                                ...\n",
              "15345      26.50  ...  Destination_SINGAPORE, Agency_C2B, Agency Type...\n",
              "15425      27.00  ...  Destination_SINGAPORE, Agency_C2B, Agency Type...\n",
              "15433      22.10  ...  Destination_SINGAPORE, Agency_C2B, Agency Type...\n",
              "15459     252.85  ...  Destination_SINGAPORE, Agency_C2B, Agency Type...\n",
              "15481      76.30  ...  Destination_SINGAPORE, Agency_C2B, Agency Type...\n",
              "\n",
              "[229 rows x 26 columns]"
            ]
          },
          "metadata": {
            "tags": []
          },
          "execution_count": 70
        }
      ]
    },
    {
      "cell_type": "code",
      "metadata": {
        "id": "qt8BHvBLhbD8",
        "colab_type": "code",
        "colab": {
          "base_uri": "https://localhost:8080/",
          "height": 255
        },
        "outputId": "f4f15d44-f347-49ad-fe2e-d43f57daff9d"
      },
      "source": [
        "print(df_res[['Predicted','Reasoning']])"
      ],
      "execution_count": 71,
      "outputs": [
        {
          "output_type": "stream",
          "text": [
            "       Predicted                                          Reasoning\n",
            "0              0  Gender_N, Agency Type_Travel Agency were prese...\n",
            "1              0  Gender_N, Agency Type_Travel Agency were prese...\n",
            "2              0  Gender_N, Agency Type_Travel Agency were prese...\n",
            "3              0  Gender_N, Agency Type_Travel Agency were prese...\n",
            "4              0  Gender_N, Agency Type_Travel Agency were prese...\n",
            "...          ...                                                ...\n",
            "15581          0  Gender_N, Agency Type_Travel Agency were prese...\n",
            "15582          0  Gender_N, Agency Type_Travel Agency were prese...\n",
            "15583          0  Agency Type_Airlines was present and Gender_N,...\n",
            "15584          1  Destination_SINGAPORE, Agency_C2B, Agency Type...\n",
            "15585          0  Gender_N, Agency Type_Travel Agency were prese...\n",
            "\n",
            "[15586 rows x 2 columns]\n"
          ],
          "name": "stdout"
        }
      ]
    },
    {
      "cell_type": "code",
      "metadata": {
        "id": "LG3NCa2Q2Pp1",
        "colab_type": "code",
        "colab": {
          "base_uri": "https://localhost:8080/",
          "height": 309
        },
        "outputId": "93266d20-b1eb-4117-8c79-9e36d6a5c900"
      },
      "source": [
        "print(df_res[['Actual', 'Predicted', 'Reasoning']][0:15].to_string())"
      ],
      "execution_count": 74,
      "outputs": [
        {
          "output_type": "stream",
          "text": [
            "    Actual  Predicted                                                                                                                      Reasoning\n",
            "0        0          0  Gender_N, Agency Type_Travel Agency were present and Destination_SINGAPORE, Agency Type_Airlines, Agency_C2B were not present\n",
            "1        0          0  Gender_N, Agency Type_Travel Agency were present and Destination_SINGAPORE, Agency Type_Airlines, Agency_C2B were not present\n",
            "2        0          0  Gender_N, Agency Type_Travel Agency were present and Destination_SINGAPORE, Agency Type_Airlines, Agency_C2B were not present\n",
            "3        0          0  Gender_N, Agency Type_Travel Agency were present and Destination_SINGAPORE, Agency Type_Airlines, Agency_C2B were not present\n",
            "4        0          0  Gender_N, Agency Type_Travel Agency were present and Destination_SINGAPORE, Agency Type_Airlines, Agency_C2B were not present\n",
            "5        0          0  Gender_N, Agency Type_Travel Agency were present and Destination_SINGAPORE, Agency Type_Airlines, Agency_C2B were not present\n",
            "6        0          0   Agency Type_Airlines was present and Gender_N, Destination_SINGAPORE, Agency Type_Travel Agency, Agency_C2B were not present\n",
            "7        0          0  Gender_N, Agency Type_Travel Agency were present and Destination_SINGAPORE, Agency Type_Airlines, Agency_C2B were not present\n",
            "8        0          0   Agency Type_Airlines was present and Gender_N, Destination_SINGAPORE, Agency Type_Travel Agency, Agency_C2B were not present\n",
            "9        0          0  Gender_N, Agency Type_Travel Agency were present and Destination_SINGAPORE, Agency Type_Airlines, Agency_C2B were not present\n",
            "10       0          0  Gender_N, Agency Type_Travel Agency were present and Destination_SINGAPORE, Agency Type_Airlines, Agency_C2B were not present\n",
            "11       0          0  Gender_N, Agency Type_Travel Agency were present and Destination_SINGAPORE, Agency Type_Airlines, Agency_C2B were not present\n",
            "12       0          0  Gender_N, Agency Type_Travel Agency were present and Destination_SINGAPORE, Agency Type_Airlines, Agency_C2B were not present\n",
            "13       0          0  Gender_N, Destination_SINGAPORE, Agency Type_Travel Agency were present and Agency Type_Airlines, Agency_C2B were not present\n",
            "14       0          0  Gender_N, Destination_SINGAPORE, Agency Type_Travel Agency were present and Agency Type_Airlines, Agency_C2B were not present\n"
          ],
          "name": "stdout"
        }
      ]
    },
    {
      "cell_type": "code",
      "metadata": {
        "id": "Ti-V5Hdq5yMK",
        "colab_type": "code",
        "colab": {
          "base_uri": "https://localhost:8080/",
          "height": 309
        },
        "outputId": "b88c350d-779e-4496-acec-986f42842fb2"
      },
      "source": [
        "print(df_res[df_res['TP'] == 1][['Actual', 'Predicted', 'Reasoning']][0:15].to_string())"
      ],
      "execution_count": 80,
      "outputs": [
        {
          "output_type": "stream",
          "text": [
            "      Actual  Predicted                                                                                                                      Reasoning\n",
            "67         1          1  Destination_SINGAPORE, Agency_C2B, Agency Type_Airlines were present and Gender_N, Agency Type_Travel Agency were not present\n",
            "115        1          1  Destination_SINGAPORE, Agency_C2B, Agency Type_Airlines were present and Gender_N, Agency Type_Travel Agency were not present\n",
            "149        1          1  Destination_SINGAPORE, Agency_C2B, Agency Type_Airlines were present and Gender_N, Agency Type_Travel Agency were not present\n",
            "207        1          1  Destination_SINGAPORE, Agency_C2B, Agency Type_Airlines were present and Gender_N, Agency Type_Travel Agency were not present\n",
            "236        1          1  Destination_SINGAPORE, Agency_C2B, Agency Type_Airlines were present and Gender_N, Agency Type_Travel Agency were not present\n",
            "336        1          1   Agency Type_Travel Agency was present and Gender_N, Destination_SINGAPORE, Agency Type_Airlines, Agency_C2B were not present\n",
            "509        1          1  Destination_SINGAPORE, Agency_C2B, Agency Type_Airlines were present and Gender_N, Agency Type_Travel Agency were not present\n",
            "616        1          1  Destination_SINGAPORE, Agency_C2B, Agency Type_Airlines were present and Gender_N, Agency Type_Travel Agency were not present\n",
            "682        1          1  Destination_SINGAPORE, Agency_C2B, Agency Type_Airlines were present and Gender_N, Agency Type_Travel Agency were not present\n",
            "694        1          1   Agency Type_Travel Agency was present and Gender_N, Destination_SINGAPORE, Agency Type_Airlines, Agency_C2B were not present\n",
            "710        1          1  Destination_SINGAPORE, Agency_C2B, Agency Type_Airlines were present and Gender_N, Agency Type_Travel Agency were not present\n",
            "800        1          1  Destination_SINGAPORE, Agency_C2B, Agency Type_Airlines were present and Gender_N, Agency Type_Travel Agency were not present\n",
            "863        1          1  Destination_SINGAPORE, Agency_C2B, Agency Type_Airlines were present and Gender_N, Agency Type_Travel Agency were not present\n",
            "969        1          1  Destination_SINGAPORE, Agency_C2B, Agency Type_Airlines were present and Gender_N, Agency Type_Travel Agency were not present\n",
            "1195       1          1  Destination_SINGAPORE, Agency_C2B, Agency Type_Airlines were present and Gender_N, Agency Type_Travel Agency were not present\n"
          ],
          "name": "stdout"
        }
      ]
    },
    {
      "cell_type": "markdown",
      "metadata": {
        "id": "yBPVDLa6PO11",
        "colab_type": "text"
      },
      "source": [
        "# Threshold"
      ]
    },
    {
      "cell_type": "code",
      "metadata": {
        "id": "rW0po2yu88G1",
        "colab_type": "code",
        "colab": {
          "base_uri": "https://localhost:8080/",
          "height": 34
        },
        "outputId": "601b381f-fb8f-46d8-87ed-a4d3a87b92be"
      },
      "source": [
        "x=np.linspace(0.5,0.95,10)\n",
        "x"
      ],
      "execution_count": 63,
      "outputs": [
        {
          "output_type": "execute_result",
          "data": {
            "text/plain": [
              "array([0.5 , 0.55, 0.6 , 0.65, 0.7 , 0.75, 0.8 , 0.85, 0.9 , 0.95])"
            ]
          },
          "metadata": {
            "tags": []
          },
          "execution_count": 63
        }
      ]
    },
    {
      "cell_type": "code",
      "metadata": {
        "id": "ojR4CoXT5ecu",
        "colab_type": "code",
        "colab": {
          "base_uri": "https://localhost:8080/",
          "height": 136
        },
        "outputId": "c3ea04ed-0ced-4f2c-a779-44f58374bb46"
      },
      "source": [
        "# cv=3\n",
        "y_prob = clf_best_dt.predict_proba(X_test)\n",
        "y_prob"
      ],
      "execution_count": 64,
      "outputs": [
        {
          "output_type": "execute_result",
          "data": {
            "text/plain": [
              "array([[0.71448865, 0.28551135],\n",
              "       [0.7824823 , 0.2175177 ],\n",
              "       [0.70648454, 0.29351546],\n",
              "       ...,\n",
              "       [0.76229379, 0.23770621],\n",
              "       [0.16409457, 0.83590543],\n",
              "       [0.79994547, 0.20005453]])"
            ]
          },
          "metadata": {
            "tags": []
          },
          "execution_count": 64
        }
      ]
    },
    {
      "cell_type": "code",
      "metadata": {
        "id": "_dIDc-9Wp6_i",
        "colab_type": "code",
        "colab": {
          "base_uri": "https://localhost:8080/",
          "height": 1000
        },
        "outputId": "9c2136ce-0888-4477-bd96-7db0dbed492d"
      },
      "source": [
        "# CV= 3\n",
        "for i in x:\n",
        "  print(\"\\n Threshold => \",i,'\\n')\n",
        "  comp(y_test,thresh(y_prob,i))\n",
        "#Best threshold = 0.60"
      ],
      "execution_count": 65,
      "outputs": [
        {
          "output_type": "stream",
          "text": [
            "\n",
            " Threshold =>  0.5 \n",
            "\n",
            "160 12448 2909 69\n",
            "Confusion Matrix       : \n",
            " [12448, 2909] \n",
            " [69, 160]\n",
            "Accuracy of Model      :  0.8089310920056461\n",
            "Precision of Model     :  0.05213424568263278\n",
            "Recall of Model        :  0.6986899563318777\n",
            "F1 Score of Model      :  0.09702850212249849\n",
            "\n",
            " Threshold =>  0.55 \n",
            "\n",
            "168 11913 3444 61\n",
            "Confusion Matrix       : \n",
            " [11913, 3444] \n",
            " [61, 168]\n",
            "Accuracy of Model      :  0.7751186962658796\n",
            "Precision of Model     :  0.046511627906976744\n",
            "Recall of Model        :  0.7336244541484717\n",
            "F1 Score of Model      :  0.08747721947409529\n",
            "\n",
            " Threshold =>  0.6 \n",
            "\n",
            "181 11179 4178 48\n",
            "Confusion Matrix       : \n",
            " [11179, 4178] \n",
            " [48, 181]\n",
            "Accuracy of Model      :  0.7288592326446811\n",
            "Precision of Model     :  0.041523285157146136\n",
            "Recall of Model        :  0.7903930131004366\n",
            "F1 Score of Model      :  0.07890148212728858\n",
            "\n",
            " Threshold =>  0.65 \n",
            "\n",
            "193 10209 5148 36\n",
            "Confusion Matrix       : \n",
            " [10209, 5148] \n",
            " [36, 193]\n",
            "Accuracy of Model      :  0.6673938149621456\n",
            "Precision of Model     :  0.036135555139486984\n",
            "Recall of Model        :  0.8427947598253275\n",
            "F1 Score of Model      :  0.06929982046678634\n",
            "\n",
            " Threshold =>  0.7 \n",
            "\n",
            "204 9074 6283 25\n",
            "Confusion Matrix       : \n",
            " [9074, 6283] \n",
            " [25, 204]\n",
            "Accuracy of Model      :  0.595277813422302\n",
            "Precision of Model     :  0.03144751040542624\n",
            "Recall of Model        :  0.8908296943231441\n",
            "F1 Score of Model      :  0.06075044669446099\n",
            "\n",
            " Threshold =>  0.75 \n",
            "\n",
            "211 7375 7982 18\n",
            "Confusion Matrix       : \n",
            " [7375, 7982] \n",
            " [18, 211]\n",
            "Accuracy of Model      :  0.48671885025022454\n",
            "Precision of Model     :  0.025753692176248018\n",
            "Recall of Model        :  0.9213973799126638\n",
            "F1 Score of Model      :  0.05010686297791499\n",
            "\n",
            " Threshold =>  0.8 \n",
            "\n",
            "221 4693 10664 8\n",
            "Confusion Matrix       : \n",
            " [4693, 10664] \n",
            " [8, 221]\n",
            "Accuracy of Model      :  0.31528294623379954\n",
            "Precision of Model     :  0.020303169499310977\n",
            "Recall of Model        :  0.9650655021834061\n",
            "F1 Score of Model      :  0.039769659888429\n",
            "\n",
            " Threshold =>  0.85 \n",
            "\n",
            "229 1226 14131 0\n",
            "Confusion Matrix       : \n",
            " [1226, 14131] \n",
            " [1e-17, 229]\n",
            "Accuracy of Model      :  0.0933530091107404\n",
            "Precision of Model     :  0.01594707520891365\n",
            "Recall of Model        :  1.0\n",
            "F1 Score of Model      :  0.03139351566248543\n",
            "\n",
            " Threshold =>  0.8999999999999999 \n",
            "\n",
            "229 0 15357 0\n",
            "Confusion Matrix       : \n",
            " [0, 15357] \n",
            " [1e-17, 229]\n",
            "Accuracy of Model      :  0.014692672911587322\n",
            "Precision of Model     :  0.014692672911587322\n",
            "Recall of Model        :  1.0\n",
            "F1 Score of Model      :  0.028959848245336706\n",
            "\n",
            " Threshold =>  0.95 \n",
            "\n",
            "229 0 15357 0\n",
            "Confusion Matrix       : \n",
            " [0, 15357] \n",
            " [1e-17, 229]\n",
            "Accuracy of Model      :  0.014692672911587322\n",
            "Precision of Model     :  0.014692672911587322\n",
            "Recall of Model        :  1.0\n",
            "F1 Score of Model      :  0.028959848245336706\n"
          ],
          "name": "stdout"
        }
      ]
    }
  ]
}