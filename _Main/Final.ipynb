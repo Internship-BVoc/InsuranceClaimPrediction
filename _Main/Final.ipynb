{
  "nbformat": 4,
  "nbformat_minor": 0,
  "metadata": {
    "colab": {
      "name": "Combined_Project_3.ipynb",
      "provenance": [],
      "collapsed_sections": [
        "lIRHzEjx2HNU"
      ]
    },
    "kernelspec": {
      "name": "python3",
      "display_name": "Python 3"
    }
  },
  "cells": [
    {
      "cell_type": "markdown",
      "metadata": {
        "id": "glZxHnf3OEr-",
        "colab_type": "text"
      },
      "source": [
        "# Predicting Insurance Claims filed by Travelling Agencies"
      ]
    },
    {
      "cell_type": "code",
      "metadata": {
        "id": "FSmQF3hef56U",
        "colab_type": "code",
        "colab": {}
      },
      "source": [
        "# Importing all the required modules for the model building\n",
        "import pandas as pd\n",
        "import numpy as np\n",
        "from scipy import *\n",
        "from sklearn.preprocessing import *                   # For Encoding \n",
        "from sklearn.model_selection import *                 # For GridSearchCV\n",
        "from sklearn.tree import DecisionTreeClassifier\n",
        "from sklearn.linear_model import LogisticRegression\n",
        "from sklearn.ensemble import RandomForestClassifier\n",
        "from sklearn.metrics import *                     \n",
        "from sklearn.decomposition import PCA\n",
        "import matplotlib.pyplot as plt\n",
        "import seaborn as sns"
      ],
      "execution_count": 98,
      "outputs": []
    },
    {
      "cell_type": "code",
      "metadata": {
        "id": "QHEf0BToV3oW",
        "colab_type": "code",
        "colab": {}
      },
      "source": [
        "# importing libraries for balancing the imbalanced class \n",
        "from imblearn.over_sampling import RandomOverSampler, SMOTE, ADASYN\n",
        "from imblearn.under_sampling import RandomUnderSampler, TomekLinks\n",
        "from collections import Counter"
      ],
      "execution_count": 99,
      "outputs": []
    },
    {
      "cell_type": "code",
      "metadata": {
        "id": "67J8DXfog29H",
        "colab_type": "code",
        "colab": {
          "base_uri": "https://localhost:8080/",
          "height": 122
        },
        "outputId": "9c3ae78f-1f8d-4e2c-909f-3b50bba8efbe"
      },
      "source": [
        "# Reading the dataset file \n",
        "df=pd.read_csv('travel insurance.csv',sep=',')\n",
        "row,column=df.shape\n",
        "print(\"The dataset has {} Rows and {} Columns\".format(row,column))\n",
        "print('')\n",
        "cols=list(df.columns)\n",
        "continous=list(set(df._get_numeric_data().columns)-{'Duration','Age'})\n",
        "print(\"Columns : \",cols)\n",
        "print(\"Continous Variables   : \",continous)\n",
        "categorical=list(set(cols)-set(continous))\n",
        "print(\"Categorical Variables : \",categorical)\n",
        "# Duration and Age are categorical ( done in EDA part [Ayush_Project.ipynb] )\n",
        "df_=df.copy()"
      ],
      "execution_count": 102,
      "outputs": [
        {
          "output_type": "stream",
          "text": [
            "The dataset has 63326 Rows and 11 Columns\n",
            "\n",
            "Columns :  ['Agency', 'Agency Type', 'Distribution Channel', 'Product Name', 'Claim', 'Duration', 'Destination', 'Net Sales', 'Commision (in value)', 'Gender', 'Age']\n",
            "Continous Variables   :  ['Net Sales', 'Commision (in value)']\n",
            "Categorical Variables :  ['Distribution Channel', 'Agency Type', 'Product Name', 'Duration', 'Gender', 'Age', 'Destination', 'Agency', 'Claim']\n"
          ],
          "name": "stdout"
        }
      ]
    },
    {
      "cell_type": "markdown",
      "metadata": {
        "id": "SRfr-sbG4mBw",
        "colab_type": "text"
      },
      "source": [
        "##Feature Engineering \n",
        "It includes :\n",
        "* Encoding the DataFrame \n",
        "* Missing values Handling \n",
        "* Outliers Handling "
      ]
    },
    {
      "cell_type": "markdown",
      "metadata": {
        "id": "l2AxIE3h5VKx",
        "colab_type": "text"
      },
      "source": [
        "### Missing value and Outliers Handling "
      ]
    },
    {
      "cell_type": "code",
      "metadata": {
        "id": "fjbuwMU15c0N",
        "colab_type": "code",
        "colab": {}
      },
      "source": [
        "# Imputing the missing values in column Gender with 'N'\n",
        "df_['Gender']=df_['Gender'].fillna('N')"
      ],
      "execution_count": null,
      "outputs": []
    },
    {
      "cell_type": "code",
      "metadata": {
        "id": "NYS69s06hlTJ",
        "colab_type": "code",
        "colab": {
          "base_uri": "https://localhost:8080/",
          "height": 51
        },
        "outputId": "f53ecf1d-d173-410b-82c4-b08984bd0810"
      },
      "source": [
        "# Handling Outliers by removing the outliers\n",
        "df_ = df_[df_.Age != 118]\n",
        "df_ = df_[df_.Duration >=0]\n",
        "df_.loc[df_['Net Sales'] == 0.0, 'Commision (in value)'] = 0\n",
        "print(\"Now the dataset  has {} Rows and {} Columns\".format(df_.shape[0],df_.shape[1]))\n",
        "print(\"%d records deleted from the dataset\"%(df.shape[0]-df_.shape[0]))\n",
        "df_=df_.reset_index().drop(columns='index')\n",
        "df1=df_.copy()"
      ],
      "execution_count": 104,
      "outputs": [
        {
          "output_type": "stream",
          "text": [
            "Now the dataset  has 62342 Rows and 11 Columns\n",
            "984 records deleted from the dataset\n"
          ],
          "name": "stdout"
        }
      ]
    },
    {
      "cell_type": "markdown",
      "metadata": {
        "id": "UTJ81oKp4wh3",
        "colab_type": "text"
      },
      "source": [
        "### Encoding the DataFrame "
      ]
    },
    {
      "cell_type": "code",
      "metadata": {
        "id": "eKIOKnVkTnPd",
        "colab_type": "code",
        "colab": {
          "base_uri": "https://localhost:8080/",
          "height": 34
        },
        "outputId": "ed6695f0-698c-4595-c521-f4931eaa2f51"
      },
      "source": [
        "# Label Encoding\n",
        "le=LabelEncoder()\n",
        "le_df=pd.DataFrame()\n",
        "for i in list(set(df_.columns)-set(df_._get_numeric_data().columns)):\n",
        "  le_df[i]=le.fit_transform(df_[i])\n",
        "for j in list(df_._get_numeric_data().columns):\n",
        "  le_df[j]=df_[j]\n",
        "print(\"Label Encoded dataset  has {} Rows and {} Columns\".format(le_df.shape[0],le_df.shape[1]))"
      ],
      "execution_count": 106,
      "outputs": [
        {
          "output_type": "stream",
          "text": [
            "Label Encoded dataset  has 62342 Rows and 11 Columns\n"
          ],
          "name": "stdout"
        }
      ]
    },
    {
      "cell_type": "code",
      "metadata": {
        "id": "Zod_9ueDVNu_",
        "colab_type": "code",
        "colab": {}
      },
      "source": [
        "# To get the name of the values that corresponds to the lable after encoding\n",
        "relation=dict()\n",
        "for l in list(set(df_.columns)-set(df_._get_numeric_data().columns)):\n",
        "  indx=[]\n",
        "  for x in df_[l].unique():\n",
        "    #print(x,' ',df_.index[df_[l] == x].tolist()[0])\n",
        "    indx.append(df_.index[df_[l] == x].tolist()[0])\n",
        "  dic=dict(zip(le_df.loc[indx][l].to_list(),df_.loc[indx][l].to_list()))\n",
        "  relation[l]=dic\n",
        "  #print(dic)"
      ],
      "execution_count": 107,
      "outputs": []
    },
    {
      "cell_type": "code",
      "metadata": {
        "id": "vHo0N50fZvKT",
        "colab_type": "code",
        "colab": {
          "base_uri": "https://localhost:8080/",
          "height": 34
        },
        "outputId": "ae625a71-c20f-4052-9f9b-d6283aa80569"
      },
      "source": [
        "#OneHotEncoding\n",
        "ohe=OneHotEncoder()\n",
        "ohe_df=df_.copy()\n",
        "for i in list(set(df_.columns)-set(df_._get_numeric_data().columns)-{'Claim'}):\n",
        "  ohe_df = pd.get_dummies(ohe_df, columns=[i], prefix=[i] )\n",
        "ohe_df=ohe_df.drop(columns='Claim')\n",
        "print(\"One Hot Encoded dataset  has {} Rows and {} Columns\".format(ohe_df.shape[0],ohe_df.shape[1]))"
      ],
      "execution_count": 108,
      "outputs": [
        {
          "output_type": "stream",
          "text": [
            "One Hot Encoded dataset  has 62342 Rows and 199 Columns\n"
          ],
          "name": "stdout"
        }
      ]
    },
    {
      "cell_type": "markdown",
      "metadata": {
        "id": "j0Ov9VExY8gK",
        "colab_type": "text"
      },
      "source": [
        "## Functions"
      ]
    },
    {
      "cell_type": "code",
      "metadata": {
        "id": "m1xB8ekNcrNa",
        "colab_type": "code",
        "colab": {}
      },
      "source": [
        "# Function to print the result and ROC curve after the prediction \n",
        "def print_result(y_test,y_pred):\n",
        "  print(\"Confusion Matrix       : \\n\" ,confusion_matrix(y_test,y_pred))\n",
        "  print(\"Accuracy of Model      : \",accuracy_score(y_test, y_pred))\n",
        "  print(\"Precision of Model     : \",precision_score(y_test, y_pred))\n",
        "  print(\"Recall of Model        : \" , recall_score(y_test, y_pred))\n",
        "  print(\"F1 Score of Model      : \" ,f1_score(y_test, y_pred))\n",
        "  print(\"ROC_AUC score of Model : \" ,roc_auc_score(y_test,y_pred))\t\n",
        "  fpr, tpr, thresholds = roc_curve(y_test,y_pred)\n",
        "  plt.figure(1)\n",
        "  plt.plot([0, 1], [0, 1], 'k--')\n",
        "  plt.plot(fpr, tpr, label='ROC curve (area = %0.2f)'% roc_auc_score(y_test,y_pred))\n",
        "  plt.xlabel('False Positive Rate')\n",
        "  plt.ylabel('True Positive Rate')\n",
        "  plt.legend(loc='best')"
      ],
      "execution_count": 109,
      "outputs": []
    },
    {
      "cell_type": "code",
      "metadata": {
        "id": "I7d1sYvUhdoY",
        "colab_type": "code",
        "colab": {}
      },
      "source": [
        "# Funtion to print the details of training and testing data after train-test split\n",
        "def print_input(X_train, X_test, y_train, y_test):\n",
        "  print(\"TRAIN(X_train) Feature set        : \",len(X_train))\n",
        "  print(\"TRAIN(y_train) Label Feature set  : \",len(y_train))\n",
        "  print(\"TEST (X_test)  Feature set        : \",len(X_test))\n",
        "  print(\"TEST (y_test)  Label set          : \",len(y_test))\n",
        "  print(\"-------For Training Set--------\\n\")\n",
        "  print(y_train['Claim'].value_counts())\n",
        "  l_1,l_2= y_train['Claim'].value_counts()\n",
        "  print(\"Class Label 0 is : \",(l_1/y_train.shape[0])*100,\"%\")\n",
        "  print(\"Class Label 1 is : \",(l_2/y_train.shape[0])*100,\"%\")\n",
        "  print(\"\\n-------For Testing Set--------\\n\")\n",
        "  print(y_test['Claim'].value_counts())\n",
        "  l_1,l_2= y_test['Claim'].value_counts()\n",
        "  print(\"Class Label 0 is : \",(l_1/y_test.shape[0])*100,\"%\")\n",
        "  print(\"Class Label 1 is : \",(l_2/y_test.shape[0])*100,\"%\")"
      ],
      "execution_count": 110,
      "outputs": []
    },
    {
      "cell_type": "code",
      "metadata": {
        "id": "gpKq0imUU95O",
        "colab_type": "code",
        "colab": {}
      },
      "source": [
        "# Function to balance the imbalanced classes \n",
        "def balance(X_train,y_train,typ,s=0.3):\n",
        "  if(typ.lower() == 'ros'):\n",
        "    rus=RandomOverSampler(random_state=21)\n",
        "    x_res, y_res = rus.fit_sample(X_train, y_train)\n",
        "    print('Dataset shape after Random Over Sampling', Counter(y_res))\n",
        "    print('After ROS the number of Rows Training set has are  : ', x_res.shape[0])\n",
        "  elif(typ.lower() == 'rus' ):\n",
        "    ros=RandomUnderSampler(random_state=21)\n",
        "    x_res, y_res = ros.fit_sample(X_train, y_train)\n",
        "    print('Dataset shape after Random Under Sampling', Counter(y_res))\n",
        "    print('After RUS the number of Rows Training set has are : ', x_res.shape[0])\n",
        "  elif(typ.lower() == 'adasyn'):\n",
        "    ada=ADASYN(random_state=21, sampling_strategy=s, n_jobs=-1)\n",
        "    x_res, y_res = ada.fit_sample(X_train, y_train)\n",
        "    print('Dataset shape after ADASYN', Counter(y_res))\n",
        "    print('After ADASYN the number of Rows Training set has are : ', x_res.shape[0])\n",
        "  elif(typ.lower() == 'smote'):\n",
        "    smo=SMOTE(random_state=21, sampling_strategy=s, n_jobs=-1)\n",
        "    x_rs, y_rs = smo.fit_sample(X_train, y_train)\n",
        "    tom=TomekLinks(random_state=21)\n",
        "    x_res, y_res = tom.fit_sample(x_rs,y_rs)\n",
        "    print('Dataset shape after SMOTE + Tomek Links', Counter(y_res))\n",
        "    print('After SMOTE Tomek the number of Rows Training set has are : ', x_res.shape[0])\n",
        "  return x_res, y_res\n"
      ],
      "execution_count": 111,
      "outputs": []
    },
    {
      "cell_type": "code",
      "metadata": {
        "id": "jvvpcf12a1Aw",
        "colab_type": "code",
        "colab": {}
      },
      "source": [
        "# Function to plot the scatter plot of values it get by applying PCA\n",
        "def plt_scatter(tmp_sample):\n",
        "  plt.figure(figsize=(10,10))\n",
        "  sns.scatterplot(x='Component 1',y='Component 2', hue='Label', data=tmp_sample)\n",
        "  plt.legend(bbox_to_anchor=(1.05,1), loc=2, borderaxespad=0.)"
      ],
      "execution_count": 112,
      "outputs": []
    },
    {
      "cell_type": "code",
      "metadata": {
        "id": "uAtkICiy_eNn",
        "colab_type": "code",
        "colab": {}
      },
      "source": [
        "# Function to count the number of elements with Label 1 and Lable 0\n",
        "def plt_print(temp):\n",
        "  tmp_sample = temp.sample(frac = 0.10, random_state=21)\n",
        "  tmp_sample = tmp_sample[tmp_sample['Component 1'] < 0.90 ]\n",
        "  print(tmp_sample['Label'].value_counts())\n",
        "  l_1,l_2= tmp_sample['Label'].value_counts()\n",
        "  print(\"Class Label 0 is : \",(l_1/tmp_sample.shape[0])*100,\"%\")\n",
        "  print(\"Class Label 1 is : \",(l_2/tmp_sample.shape[0])*100,\"%\")\n",
        "  print(\" \")\n",
        "  plt_scatter(tmp_sample)"
      ],
      "execution_count": 113,
      "outputs": []
    },
    {
      "cell_type": "code",
      "metadata": {
        "id": "F5hNooHOLgXT",
        "colab_type": "code",
        "colab": {}
      },
      "source": [
        "# Function to plot the graph \n",
        "def plot_graph(X_train,y_train):\n",
        "  pca=PCA(n_components=2) \n",
        "  dim=pca.fit_transform(X_train)\n",
        "  scaler=MinMaxScaler()\n",
        "  res=scaler.fit_transform(dim)\n",
        "  temp= pd.DataFrame(res,columns=['Component 1', 'Component 2'])\n",
        "  y_temp=y_train.copy()\n",
        "  y_temp=y_temp.reset_index()\n",
        "  temp['Label'] = y_temp['Claim']\n",
        "  plt_print(temp)"
      ],
      "execution_count": 114,
      "outputs": []
    },
    {
      "cell_type": "code",
      "metadata": {
        "id": "lsAWfS-JwtN0",
        "colab_type": "code",
        "colab": {}
      },
      "source": [
        "# Function to plot the graph \n",
        "def plt_graph(X_train,y_train):\n",
        "  pca=PCA(n_components=2) \n",
        "  dim=pca.fit_transform(X_train)\n",
        "  scaler=MinMaxScaler()\n",
        "  res=scaler.fit_transform(dim)\n",
        "  temp= pd.DataFrame(res,columns=['Component 1', 'Component 2'])\n",
        "  y_temp=y_train.copy()\n",
        "  temp['Label'] = y_temp\n",
        "  plt_print(temp)"
      ],
      "execution_count": 115,
      "outputs": []
    },
    {
      "cell_type": "code",
      "metadata": {
        "id": "wS8bLKLPdZVb",
        "colab_type": "code",
        "colab": {}
      },
      "source": [
        "# Function to print precision , recall, Accuracy and F1 score\n",
        "def calc(TP,TN,FP,FN):\n",
        "  if(TP==0):\n",
        "    TP=0.00000000000000001\n",
        "  if(FP==0):\n",
        "    FP=0.00000000000000001\n",
        "  if(FN==0):\n",
        "    FN=0.00000000000000001\n",
        "  conf_mat=[[TN,FP],[FN,TP]]\n",
        "  precision=(TP/(TP+FP))\n",
        "  recall= (TP/(TP+FN))\n",
        "  f1=((2*recall*precision)/(recall+precision))\n",
        "  accuracy=((TP+TN)/(TP+TN+FP+FN))\n",
        "  TPR=(TP/(TP+FN))\n",
        "  FPR=(FP/(FP+TN))\n",
        "  print(\"Confusion Matrix       : \\n\" ,conf_mat[0],'\\n',conf_mat[1])\n",
        "  print(\"Accuracy of Model      : \", accuracy)\n",
        "  print(\"Precision of Model     : \", precision)\n",
        "  print(\"Recall of Model        : \", recall)\n",
        "  print(\"F1 Score of Model      : \", f1)"
      ],
      "execution_count": 116,
      "outputs": []
    },
    {
      "cell_type": "code",
      "metadata": {
        "id": "5TgZ7rP8dtMO",
        "colab_type": "code",
        "colab": {}
      },
      "source": [
        "# Function to compute the value of TP, TN, FP, FN\n",
        "def comp(y_test,y_pred):\n",
        "  TP=0\n",
        "  TN=0\n",
        "  FP=0\n",
        "  FN=0\n",
        "  for i in range(0,len(y_pred)):\n",
        "    if (int(y_test.iloc[i]) == 1 and y_pred[i] == 1):\n",
        "      TP+=1\n",
        "    elif (int(y_test.iloc[i]) == 1 and y_pred[i] == 0 ):\n",
        "      FN+=1\n",
        "    elif (int(y_test.iloc[i]) == 0 and y_pred[i] == 1 ):\n",
        "      FP+=1\n",
        "    elif (int(y_test.iloc[i]) == 0 and y_pred[i] == 0 ):\n",
        "      TN+=1\n",
        "  print(\"{0} {1} {2} {3}\".format(TP,TN,FP,FN))\n",
        "  calc(TP,TN,FP,FN)"
      ],
      "execution_count": 117,
      "outputs": []
    },
    {
      "cell_type": "code",
      "metadata": {
        "id": "OTXBCSfb28JR",
        "colab_type": "code",
        "colab": {}
      },
      "source": [
        "# Funtion to get the predicted value via probability \n",
        "def thresh(y_thresh,val=0.5):\n",
        "  y_pred=[]\n",
        "  for i in range(0,len(y_thresh)):\n",
        "    if(y_thresh[i][0] >= val):\n",
        "      y_pred.append(0)\n",
        "    else:\n",
        "      y_pred.append(1)\n",
        "  y_pred=np.array(y_pred)\n",
        "  return y_pred\n"
      ],
      "execution_count": 118,
      "outputs": []
    },
    {
      "cell_type": "code",
      "metadata": {
        "id": "6SGs5Iy7ysJ_",
        "colab_type": "code",
        "colab": {}
      },
      "source": [
        "# Function to plot the mapping of 4 Buckets \n",
        "def plot_buk(val,new_dff):\n",
        "  nn=[['TP','TN'],['FP','FN']]\n",
        "  f, axes = plt.subplots(2, 2)\n",
        "  f.set_size_inches(15,10)\n",
        "  for i in range(2):\n",
        "    for j in range(2):\n",
        "      sns.countplot(x=val,hue=nn[i][j],data=new_dff,ax=axes[i][j])\n",
        "      sns.countplot(x=val,hue=nn[i][j],data=new_dff,ax=axes[i][j])\n",
        "      sns.countplot(x=val,hue=nn[i][j],data=new_dff,ax=axes[i][j])\n",
        "      sns.countplot(x=val,hue=nn[i][j],data=new_dff,ax=axes[i][j])"
      ],
      "execution_count": 119,
      "outputs": []
    },
    {
      "cell_type": "code",
      "metadata": {
        "id": "m46Aul6vFwA6",
        "colab_type": "code",
        "colab": {}
      },
      "source": [
        "# Function to Compare all the four buckets ( TP, TN, FP, FN) of the top 10% imp features\n",
        "def comp_feat(X_test,y_test,y_pred,f=0):\n",
        "  new=X_test.copy()\n",
        "  new=new.reset_index()\n",
        "  new=new.drop(columns='index')\n",
        "  new['Actual']=y_test.values\n",
        "  new['Predicted']=y_pred\n",
        "  for i in range(0,len(new)):\n",
        "    if   (int(new.iloc[i]['Actual']) == 1 and int(new.iloc[i]['Predicted']) == 1 ):\n",
        "      new.loc[i,'TP'] = 1\n",
        "    elif (int(new.iloc[i]['Actual']) == 1 and int(new.iloc[i]['Predicted']) == 0 ):\n",
        "      new.loc[i,'FN'] = 1\n",
        "    elif (int(new.iloc[i]['Actual']) == 0 and int(new.iloc[i]['Predicted']) == 1 ):\n",
        "      new.loc[i,'FP'] = 1\n",
        "    elif (int(new.iloc[i]['Actual']) == 0 and int(new.iloc[i]['Predicted']) == 0 ):\n",
        "      new.loc[i,'TN'] = 1\n",
        "  if (f==0):\n",
        "    new=new.fillna(0)\n",
        "  return(new)  "
      ],
      "execution_count": 120,
      "outputs": []
    },
    {
      "cell_type": "code",
      "metadata": {
        "id": "j4WbPCHvDzum",
        "colab_type": "code",
        "colab": {}
      },
      "source": [
        "#Function to print the reasoning behind every prediction\n",
        "def reason(df,h):\n",
        "  l=[]\n",
        "  i=0\n",
        "  while(len(l)<6):\n",
        "    n=['Age','Gender_N']\n",
        "    if(h[i] not in n):\n",
        "      l.append(h[i])\n",
        "    i+=1\n",
        "  contt=['Duration','Net Sales','Commision (in value)']\n",
        "  for j in range(0,len(df)):\n",
        "    nn=[]\n",
        "    more=[]\n",
        "    less=[]\n",
        "    c=d=e=0\n",
        "    for k in l:\n",
        "      if (k in contt):\n",
        "        if (df.loc[j][k] >= df[k].mean()):\n",
        "          more.append(k)\n",
        "        elif (df.loc[j][k] < df[k].mean()):\n",
        "          less.append(k)\n",
        "      elif (int(df.loc[j][k]) == 1):\n",
        "        nn.append(k)\n",
        "    s = ', '.join(nn).replace('_',' was found to be ')\n",
        "    if (len(more) == 2):\n",
        "      s_ =' and '.join(more) + ' value was large'\n",
        "    elif (len(more) == 3) :\n",
        "      s_ ='{}, {} and {} value was large'.format(more[0],more[1],more[2])\n",
        "    elif (len(more) == 1) :\n",
        "      s_ = ''.join(more) + ' value was large'\n",
        "    else : \n",
        "      s_=''\n",
        "    if (len(less) == 2):\n",
        "      s__ =' and '.join(less) + ' value was small'\n",
        "    elif (len(less) == 3) :\n",
        "      s__ ='{}, {} and {} value was small'.format(less[0],less[1],less[2])\n",
        "    elif (len(less) == 1) :\n",
        "      s__ = ''.join(less) + ' value was small'\n",
        "    else :\n",
        "      s__=''\n",
        "    if (len(nn) !=0 and len(more) != 0 and len(less) != 0):\n",
        "      st = s + ' while ' + s_ + ' & ' + s__\n",
        "    elif (len(nn) !=0 and len(more) != 0 and len(less) == 0):\n",
        "      st = s + ' while ' + s_\n",
        "    elif (len(nn) !=0 and len(more) == 0 and len(less) != 0):\n",
        "      st = s + ' while ' + s__ \n",
        "    elif (len(nn) ==0 and len(more) != 0 and len(less) != 0):\n",
        "      st = s_ + ' & ' + s__ \n",
        "    elif (len(nn) ==0 and len(more) != 0 and len(less) == 0):\n",
        "      st = s_ \n",
        "    elif (len(nn) ==0 and len(more) == 0 and len(less) != 0):\n",
        "      st = s__\n",
        "    elif (len(nn) !=0 and len(more) == 0 and len(less) == 0):\n",
        "      st = s\n",
        "    df.loc[j, 'Reasoning'] = st \n",
        "  return(df)"
      ],
      "execution_count": 203,
      "outputs": []
    },
    {
      "cell_type": "code",
      "metadata": {
        "id": "UdifZmJfUFib",
        "colab_type": "code",
        "colab": {}
      },
      "source": [
        "# #Function to print the reasoning behind every prediction\n",
        "# def reason(df,h):\n",
        "#   df=new_df.copy()\n",
        "#   import re\n",
        "#   l=[]\n",
        "#   i=0\n",
        "#   while(len(l)<6):\n",
        "#     n=['Age','Gender_N']\n",
        "#     if(h[i] not in n):\n",
        "#       l.append(h[i])\n",
        "#     i+=1\n",
        "#   contt=['Duration','Net Sales','Commision (in value)']\n",
        "#   for j in range(0,10):\n",
        "#     nn=[]\n",
        "#     more=[]\n",
        "#     less=[]\n",
        "#     c=d=e=0\n",
        "#     for k in l:\n",
        "#       if (k in contt):\n",
        "#         if (df.loc[j][k] >= df[k].mean()):\n",
        "#           more.append(k)\n",
        "#         elif (df.loc[j][k] < df[k].mean()):\n",
        "#           less.append(k)\n",
        "#       elif (int(df.loc[j][k]) == 1):\n",
        "#         nn.append(k)\n",
        "#     s = ', '.join(nn).replace('_',' was found to be ')\n",
        "#     if (len(more) == 2):\n",
        "#       s_ =', '.join(more) + ' value was large'\n",
        "#     elif (len(more) == 3) :\n",
        "#       s_ ='{}, {} and {} value was large'.format(more[0],more[1],more[2])\n",
        "#     elif (len(more) == 1) :\n",
        "#       s_ = ''.join(more) + ' value was large'\n",
        "#     else : \n",
        "#       s_=''\n",
        "#     if (len(less) == 2):\n",
        "#       s__ =', '.join(less) + ' value was small'\n",
        "#     elif (len(less) == 3) :\n",
        "#       s__ ='{}, {} and {} value was small'.format(less[0],less[1],less[2])\n",
        "#     elif (len(less) == 1) :\n",
        "#       s__ = ''.join(less) + ' value was small'\n",
        "#     else :\n",
        "#       s__=''\n",
        "#     string = s + ' while ' + s_ + ' and ' + s__\n",
        "#     string = re.sub(r'(\\b(while )\\b)',\"\",string).replace(\"  \",\" \").replace(\"while and\",\"while\").replace(\"and\",\"\\t\\t\").replace(\"\\t\\t\",\"and\",1).replace(\"\\t\",\"\")\n",
        "#     print(string)\n",
        "#     df.loc[j, 'Reasoning'] = st \n",
        "#   return(df)"
      ],
      "execution_count": null,
      "outputs": []
    },
    {
      "cell_type": "code",
      "metadata": {
        "id": "GTF1j_oiw0Qy",
        "colab_type": "code",
        "colab": {}
      },
      "source": [
        "# Tagert variable \n",
        "target = pd.DataFrame(le_df['Claim'])\n",
        "le_df=le_df.drop(columns='Claim')"
      ],
      "execution_count": 124,
      "outputs": []
    },
    {
      "cell_type": "markdown",
      "metadata": {
        "id": "OmwzWffH4UEV",
        "colab_type": "text"
      },
      "source": [
        "# MODEL TRAINING\n",
        "Training the Machine Learning Model after balancing the imbalanced class"
      ]
    },
    {
      "cell_type": "code",
      "metadata": {
        "id": "z5RXUq1nmrkx",
        "colab_type": "code",
        "colab": {}
      },
      "source": [
        "#Splitting the dataset into trainng and testing data and then balancing it using the following techniques:\n",
        "# The model used is Random Forest Classifier with hyperparameter tuning at a threshold of 0.6 on one hot encoded dataset."
      ],
      "execution_count": 125,
      "outputs": []
    },
    {
      "cell_type": "code",
      "metadata": {
        "id": "u7G_FQew4ONl",
        "colab_type": "code",
        "colab": {
          "base_uri": "https://localhost:8080/",
          "height": 476
        },
        "outputId": "82527d8e-2d8c-4b8d-9f81-056b8c7ec291"
      },
      "source": [
        "X_train, X_test, y_train, y_test = train_test_split(ohe_df,target,test_size = 0.25, random_state = 21, stratify = target)\n",
        "print_input(X_train, X_test, y_train, y_test)\n",
        "# calling balance() function\n",
        "X_u_train, y_u_train = balance(X_train, y_train.values.ravel(),'rus')  #RandomUnderSampling\n",
        "X_o_train, y_o_train = balance(X_train, y_train.values.ravel(),'ros')  #RandomOverSampling\n",
        "X_s_train, y_s_train = balance(X_train, y_train.values.ravel(),'smote',0.5)  #Smote + Tomek Links\n",
        "X_a_train, y_a_train = balance(X_train, y_train.values.ravel(),'adasyn',0.5) #ADASYN"
      ],
      "execution_count": 126,
      "outputs": [
        {
          "output_type": "stream",
          "text": [
            "TRAIN(X_train) Feature set        :  46756\n",
            "TRAIN(y_train) Label Feature set  :  46756\n",
            "TEST (X_test)  Feature set        :  15586\n",
            "TEST (y_test)  Label set          :  15586\n",
            "-------For Training Set--------\n",
            "\n",
            "0    46068\n",
            "1      688\n",
            "Name: Claim, dtype: int64\n",
            "Class Label 0 is :  98.52853109761314 %\n",
            "Class Label 1 is :  1.4714689023868595 %\n",
            "\n",
            "-------For Testing Set--------\n",
            "\n",
            "0    15357\n",
            "1      229\n",
            "Name: Claim, dtype: int64\n",
            "Class Label 0 is :  98.53073270884127 %\n",
            "Class Label 1 is :  1.4692672911587321 %\n",
            "Dataset shape after Random Under Sampling Counter({0: 688, 1: 688})\n",
            "After RUS the number of Rows Training set has are :  1376\n",
            "Dataset shape after Random Over Sampling Counter({0: 46068, 1: 46068})\n",
            "After ROS the number of Rows Training set has are  :  92136\n",
            "Dataset shape after SMOTE + Tomek Links Counter({0: 45752, 1: 23034})\n",
            "After SMOTE Tomek the number of Rows Training set has are :  68786\n",
            "Dataset shape after ADASYN Counter({0: 46068, 1: 22899})\n",
            "After ADASYN the number of Rows Training set has are :  68967\n"
          ],
          "name": "stdout"
        }
      ]
    },
    {
      "cell_type": "code",
      "metadata": {
        "id": "mrExPLFBSfVy",
        "colab_type": "code",
        "colab": {}
      },
      "source": [
        "# Tuning the hyperparameters for getting better results.\n",
        "# The parameters passed in Random forest Classifier are in the param_grid\n",
        "clf_dt = RandomForestClassifier()\n",
        "param_grid = {\n",
        "   'max_leaf_nodes': [ 40,50 ],\n",
        "   'class_weight' : ['balanced'],\n",
        "   'criterion' :['gini','entropy'] ,\n",
        "   'max_depth' : [ 30, 50, 100 ],\n",
        "   'min_samples_split': [ 2, 3, 4],\n",
        "   'random_state': [42]\n",
        "    }"
      ],
      "execution_count": 128,
      "outputs": []
    },
    {
      "cell_type": "code",
      "metadata": {
        "id": "5k44G3DR4cnE",
        "colab_type": "code",
        "colab": {
          "base_uri": "https://localhost:8080/",
          "height": 551
        },
        "outputId": "a9b25134-3b7b-4287-acff-89875ba50357"
      },
      "source": [
        "# Using GridSearchCV for hyperparameter tuning\n",
        "CV_dt = GridSearchCV(estimator=clf_dt, param_grid=param_grid, cv= 3)\n",
        "CV_dt.fit(X_u_train, y_u_train)\n",
        "clf_best_dt = CV_dt.best_estimator_\n",
        "print(clf_best_dt)\n",
        "y_pred = clf_best_dt.predict(X_test)\n",
        "print_result(y_test=y_test,y_pred=y_pred)"
      ],
      "execution_count": 130,
      "outputs": [
        {
          "output_type": "stream",
          "text": [
            "RandomForestClassifier(bootstrap=True, ccp_alpha=0.0, class_weight='balanced',\n",
            "                       criterion='gini', max_depth=30, max_features='auto',\n",
            "                       max_leaf_nodes=50, max_samples=None,\n",
            "                       min_impurity_decrease=0.0, min_impurity_split=None,\n",
            "                       min_samples_leaf=1, min_samples_split=4,\n",
            "                       min_weight_fraction_leaf=0.0, n_estimators=100,\n",
            "                       n_jobs=None, oob_score=False, random_state=42, verbose=0,\n",
            "                       warm_start=False)\n",
            "Confusion Matrix       : \n",
            " [[12311  3046]\n",
            " [   67   162]]\n",
            "Accuracy of Model      :  0.8002694726036186\n",
            "Precision of Model     :  0.05049875311720698\n",
            "Recall of Model        :  0.7074235807860262\n",
            "F1 Score of Model      :  0.09426825720104744\n",
            "ROC_AUC score of Model :  0.7545387748300776\n"
          ],
          "name": "stdout"
        },
        {
          "output_type": "display_data",
          "data": {
            "image/png": "[encoded data removed]",
            "text/plain": [
              "<Figure size 432x288 with 1 Axes>"
            ]
          },
          "metadata": {
            "tags": [],
            "needs_background": "light"
          }
        }
      ]
    },
    {
      "cell_type": "markdown",
      "metadata": {
        "colab_type": "text",
        "id": "z0ewMp1y5flK"
      },
      "source": [
        "# Threshold\n",
        "Chaning the thresholding from 0.50-0.95 to find the most appropriate result"
      ]
    },
    {
      "cell_type": "code",
      "metadata": {
        "colab_type": "code",
        "id": "hcjgj6FC5flR",
        "colab": {
          "base_uri": "https://localhost:8080/",
          "height": 34
        },
        "outputId": "92df6ff1-edf4-4a6c-e3e5-37e70b7e0c91"
      },
      "source": [
        "x=np.linspace(0.5,0.95,10) # making a list of numbers with difference of 0.05\n",
        "x"
      ],
      "execution_count": 132,
      "outputs": [
        {
          "output_type": "execute_result",
          "data": {
            "text/plain": [
              "array([0.5 , 0.55, 0.6 , 0.65, 0.7 , 0.75, 0.8 , 0.85, 0.9 , 0.95])"
            ]
          },
          "metadata": {
            "tags": []
          },
          "execution_count": 132
        }
      ]
    },
    {
      "cell_type": "code",
      "metadata": {
        "colab_type": "code",
        "id": "Ff_HI9Tg5flY",
        "colab": {
          "base_uri": "https://localhost:8080/",
          "height": 136
        },
        "outputId": "f2c0af0a-debc-436a-a759-77c59eae8e17"
      },
      "source": [
        "# Computing the perdiction probability \n",
        "y_prob = clf_best_dt.predict_proba(X_test)\n",
        "y_prob"
      ],
      "execution_count": 133,
      "outputs": [
        {
          "output_type": "execute_result",
          "data": {
            "text/plain": [
              "array([[0.68541708, 0.31458292],\n",
              "       [0.76985923, 0.23014077],\n",
              "       [0.72273105, 0.27726895],\n",
              "       ...,\n",
              "       [0.75320052, 0.24679948],\n",
              "       [0.16750293, 0.83249707],\n",
              "       [0.81692139, 0.18307861]])"
            ]
          },
          "metadata": {
            "tags": []
          },
          "execution_count": 133
        }
      ]
    },
    {
      "cell_type": "code",
      "metadata": {
        "colab_type": "code",
        "id": "pJXjgwNj5fla",
        "colab": {
          "base_uri": "https://localhost:8080/",
          "height": 1000
        },
        "outputId": "b1ec8e7a-b281-4f43-c7e1-1597a89a262f"
      },
      "source": [
        "# Getting the reslts after changing the threshold \n",
        "# calling thresh(y_prob,i) function  which returns prediction matrix (y_pred)\n",
        "# calling comp(y_test,y_pred) which prints the result (confusion matrix, accuracy, precision, recall, F1 score)\n",
        "for i in x:\n",
        "  print(\"\\n Threshold => \",i,'\\n')\n",
        "  comp(y_test,thresh(y_prob,i))\n",
        "#Most optimum results if obtained at threshold of 0.65 "
      ],
      "execution_count": 134,
      "outputs": [
        {
          "output_type": "stream",
          "text": [
            "\n",
            " Threshold =>  0.5 \n",
            "\n",
            "162 12311 3046 67\n",
            "Confusion Matrix       : \n",
            " [12311, 3046] \n",
            " [67, 162]\n",
            "Accuracy of Model      :  0.8002694726036186\n",
            "Precision of Model     :  0.05049875311720698\n",
            "Recall of Model        :  0.7074235807860262\n",
            "F1 Score of Model      :  0.09426825720104744\n",
            "\n",
            " Threshold =>  0.55 \n",
            "\n",
            "174 11777 3580 55\n",
            "Confusion Matrix       : \n",
            " [11777, 3580] \n",
            " [55, 174]\n",
            "Accuracy of Model      :  0.7667778775824458\n",
            "Precision of Model     :  0.04635055940330314\n",
            "Recall of Model        :  0.759825327510917\n",
            "F1 Score of Model      :  0.0873713281446146\n",
            "\n",
            " Threshold =>  0.6 \n",
            "\n",
            "179 11111 4246 50\n",
            "Confusion Matrix       : \n",
            " [11111, 4246] \n",
            " [50, 179]\n",
            "Accuracy of Model      :  0.7243680225843706\n",
            "Precision of Model     :  0.04045197740112994\n",
            "Recall of Model        :  0.7816593886462883\n",
            "F1 Score of Model      :  0.07692307692307693\n",
            "\n",
            " Threshold =>  0.65 \n",
            "\n",
            "190 10150 5207 39\n",
            "Confusion Matrix       : \n",
            " [10150, 5207] \n",
            " [39, 190]\n",
            "Accuracy of Model      :  0.6634158860515847\n",
            "Precision of Model     :  0.0352047433759496\n",
            "Recall of Model        :  0.8296943231441049\n",
            "F1 Score of Model      :  0.067543547813722\n",
            "\n",
            " Threshold =>  0.7 \n",
            "\n",
            "202 8910 6447 27\n",
            "Confusion Matrix       : \n",
            " [8910, 6447] \n",
            " [27, 202]\n",
            "Accuracy of Model      :  0.5846272295649942\n",
            "Precision of Model     :  0.030380508347119868\n",
            "Recall of Model        :  0.8820960698689956\n",
            "F1 Score of Model      :  0.058738005234079675\n",
            "\n",
            " Threshold =>  0.75 \n",
            "\n",
            "211 7093 8264 18\n",
            "Confusion Matrix       : \n",
            " [7093, 8264] \n",
            " [18, 211]\n",
            "Accuracy of Model      :  0.468625689721545\n",
            "Precision of Model     :  0.024896755162241886\n",
            "Recall of Model        :  0.9213973799126638\n",
            "F1 Score of Model      :  0.048483455882352935\n",
            "\n",
            " Threshold =>  0.8 \n",
            "\n",
            "222 4618 10739 7\n",
            "Confusion Matrix       : \n",
            " [4618, 10739] \n",
            " [7, 222]\n",
            "Accuracy of Model      :  0.31053509559861414\n",
            "Precision of Model     :  0.020253626493933034\n",
            "Recall of Model        :  0.9694323144104804\n",
            "F1 Score of Model      :  0.03967828418230563\n",
            "\n",
            " Threshold =>  0.85 \n",
            "\n",
            "228 1260 14097 1\n",
            "Confusion Matrix       : \n",
            " [1260, 14097] \n",
            " [1, 228]\n",
            "Accuracy of Model      :  0.09547029385345823\n",
            "Precision of Model     :  0.015916230366492146\n",
            "Recall of Model        :  0.9956331877729258\n",
            "F1 Score of Model      :  0.03133159268929504\n",
            "\n",
            " Threshold =>  0.8999999999999999 \n",
            "\n",
            "229 0 15357 0\n",
            "Confusion Matrix       : \n",
            " [0, 15357] \n",
            " [1e-17, 229]\n",
            "Accuracy of Model      :  0.014692672911587322\n",
            "Precision of Model     :  0.014692672911587322\n",
            "Recall of Model        :  1.0\n",
            "F1 Score of Model      :  0.028959848245336706\n",
            "\n",
            " Threshold =>  0.95 \n",
            "\n",
            "229 0 15357 0\n",
            "Confusion Matrix       : \n",
            " [0, 15357] \n",
            " [1e-17, 229]\n",
            "Accuracy of Model      :  0.014692672911587322\n",
            "Precision of Model     :  0.014692672911587322\n",
            "Recall of Model        :  1.0\n",
            "F1 Score of Model      :  0.028959848245336706\n"
          ],
          "name": "stdout"
        }
      ]
    },
    {
      "cell_type": "code",
      "metadata": {
        "id": "t_7ZcOvpZ2xT",
        "colab_type": "code",
        "colab": {
          "base_uri": "https://localhost:8080/",
          "height": 153
        },
        "outputId": "2243304a-81cb-4141-ec32-b528cc02f988"
      },
      "source": [
        "# Results when threshold is 0.65\n",
        "comp(y_test,thresh(y_prob,0.65))"
      ],
      "execution_count": 136,
      "outputs": [
        {
          "output_type": "stream",
          "text": [
            "190 10150 5207 39\n",
            "Confusion Matrix       : \n",
            " [10150, 5207] \n",
            " [39, 190]\n",
            "Accuracy of Model      :  0.6634158860515847\n",
            "Precision of Model     :  0.0352047433759496\n",
            "Recall of Model        :  0.8296943231441049\n",
            "F1 Score of Model      :  0.067543547813722\n"
          ],
          "name": "stdout"
        }
      ]
    },
    {
      "cell_type": "code",
      "metadata": {
        "id": "KEAc1-RhsPk6",
        "colab_type": "code",
        "colab": {
          "base_uri": "https://localhost:8080/",
          "height": 153
        },
        "outputId": "2fb6f851-988f-4c77-8810-55f19eace752"
      },
      "source": [
        "# Results when threshold is 0.60\n",
        "comp(y_test,thresh(y_prob,0.60))"
      ],
      "execution_count": 137,
      "outputs": [
        {
          "output_type": "stream",
          "text": [
            "179 11111 4246 50\n",
            "Confusion Matrix       : \n",
            " [11111, 4246] \n",
            " [50, 179]\n",
            "Accuracy of Model      :  0.7243680225843706\n",
            "Precision of Model     :  0.04045197740112994\n",
            "Recall of Model        :  0.7816593886462883\n",
            "F1 Score of Model      :  0.07692307692307693\n"
          ],
          "name": "stdout"
        }
      ]
    },
    {
      "cell_type": "markdown",
      "metadata": {
        "id": "36kuDuSGPILa",
        "colab_type": "text"
      },
      "source": [
        "# Feature Importance \n",
        "Feature Importance  is done to know the contribution of each feature to the model. \n",
        "\n",
        "Here, only top 10% features are represented.\n",
        "\n",
        "This is done to find the reason behind the prediction and for explaining the model "
      ]
    },
    {
      "cell_type": "code",
      "metadata": {
        "id": "zQMQxEOE3_1A",
        "colab_type": "code",
        "colab": {
          "base_uri": "https://localhost:8080/",
          "height": 638
        },
        "outputId": "747710d0-1829-479e-93c7-f319cd26ff30"
      },
      "source": [
        "# Creating a dataframe containing the features contributing top 10% in the model prediction and the corresponding percentage they've been contributing.\n",
        "hyp=pd.DataFrame({'Percent' : clf_best_dt.feature_importances_ , 'Top 10% Features' : ohe_df.columns}).sort_values(by='Percent',ascending=False)\n",
        "hyp[:19]"
      ],
      "execution_count": 139,
      "outputs": [
        {
          "output_type": "execute_result",
          "data": {
            "text/html": [
              "<div>\n",
              "<style scoped>\n",
              "    .dataframe tbody tr th:only-of-type {\n",
              "        vertical-align: middle;\n",
              "    }\n",
              "\n",
              "    .dataframe tbody tr th {\n",
              "        vertical-align: top;\n",
              "    }\n",
              "\n",
              "    .dataframe thead th {\n",
              "        text-align: right;\n",
              "    }\n",
              "</style>\n",
              "<table border=\"1\" class=\"dataframe\">\n",
              "  <thead>\n",
              "    <tr style=\"text-align: right;\">\n",
              "      <th></th>\n",
              "      <th>Percent</th>\n",
              "      <th>Top 10% Features</th>\n",
              "    </tr>\n",
              "  </thead>\n",
              "  <tbody>\n",
              "    <tr>\n",
              "      <th>1</th>\n",
              "      <td>0.116756</td>\n",
              "      <td>Net Sales</td>\n",
              "    </tr>\n",
              "    <tr>\n",
              "      <th>186</th>\n",
              "      <td>0.104108</td>\n",
              "      <td>Agency_C2B</td>\n",
              "    </tr>\n",
              "    <tr>\n",
              "      <th>2</th>\n",
              "      <td>0.099301</td>\n",
              "      <td>Commision (in value)</td>\n",
              "    </tr>\n",
              "    <tr>\n",
              "      <th>0</th>\n",
              "      <td>0.090804</td>\n",
              "      <td>Duration</td>\n",
              "    </tr>\n",
              "    <tr>\n",
              "      <th>154</th>\n",
              "      <td>0.066609</td>\n",
              "      <td>Destination_SINGAPORE</td>\n",
              "    </tr>\n",
              "    <tr>\n",
              "      <th>33</th>\n",
              "      <td>0.055320</td>\n",
              "      <td>Agency Type_Travel Agency</td>\n",
              "    </tr>\n",
              "    <tr>\n",
              "      <th>36</th>\n",
              "      <td>0.055239</td>\n",
              "      <td>Gender_N</td>\n",
              "    </tr>\n",
              "    <tr>\n",
              "      <th>3</th>\n",
              "      <td>0.048490</td>\n",
              "      <td>Age</td>\n",
              "    </tr>\n",
              "    <tr>\n",
              "      <th>32</th>\n",
              "      <td>0.039169</td>\n",
              "      <td>Agency Type_Airlines</td>\n",
              "    </tr>\n",
              "    <tr>\n",
              "      <th>16</th>\n",
              "      <td>0.028481</td>\n",
              "      <td>Product Name_Cancellation Plan</td>\n",
              "    </tr>\n",
              "    <tr>\n",
              "      <th>192</th>\n",
              "      <td>0.024541</td>\n",
              "      <td>Agency_JZI</td>\n",
              "    </tr>\n",
              "    <tr>\n",
              "      <th>34</th>\n",
              "      <td>0.022635</td>\n",
              "      <td>Gender_F</td>\n",
              "    </tr>\n",
              "    <tr>\n",
              "      <th>191</th>\n",
              "      <td>0.021743</td>\n",
              "      <td>Agency_EPX</td>\n",
              "    </tr>\n",
              "    <tr>\n",
              "      <th>15</th>\n",
              "      <td>0.017475</td>\n",
              "      <td>Product Name_Bronze Plan</td>\n",
              "    </tr>\n",
              "    <tr>\n",
              "      <th>10</th>\n",
              "      <td>0.017341</td>\n",
              "      <td>Product Name_Annual Silver Plan</td>\n",
              "    </tr>\n",
              "    <tr>\n",
              "      <th>35</th>\n",
              "      <td>0.014838</td>\n",
              "      <td>Gender_M</td>\n",
              "    </tr>\n",
              "    <tr>\n",
              "      <th>7</th>\n",
              "      <td>0.014068</td>\n",
              "      <td>Product Name_2 way Comprehensive Plan</td>\n",
              "    </tr>\n",
              "    <tr>\n",
              "      <th>14</th>\n",
              "      <td>0.011586</td>\n",
              "      <td>Product Name_Basic Plan</td>\n",
              "    </tr>\n",
              "    <tr>\n",
              "      <th>63</th>\n",
              "      <td>0.009979</td>\n",
              "      <td>Destination_CHINA</td>\n",
              "    </tr>\n",
              "  </tbody>\n",
              "</table>\n",
              "</div>"
            ],
            "text/plain": [
              "      Percent                       Top 10% Features\n",
              "1    0.116756                              Net Sales\n",
              "186  0.104108                             Agency_C2B\n",
              "2    0.099301                   Commision (in value)\n",
              "0    0.090804                               Duration\n",
              "154  0.066609                  Destination_SINGAPORE\n",
              "33   0.055320              Agency Type_Travel Agency\n",
              "36   0.055239                               Gender_N\n",
              "3    0.048490                                    Age\n",
              "32   0.039169                   Agency Type_Airlines\n",
              "16   0.028481         Product Name_Cancellation Plan\n",
              "192  0.024541                             Agency_JZI\n",
              "34   0.022635                               Gender_F\n",
              "191  0.021743                             Agency_EPX\n",
              "15   0.017475               Product Name_Bronze Plan\n",
              "10   0.017341        Product Name_Annual Silver Plan\n",
              "35   0.014838                               Gender_M\n",
              "7    0.014068  Product Name_2 way Comprehensive Plan\n",
              "14   0.011586                Product Name_Basic Plan\n",
              "63   0.009979                      Destination_CHINA"
            ]
          },
          "metadata": {
            "tags": []
          },
          "execution_count": 139
        }
      ]
    },
    {
      "cell_type": "code",
      "metadata": {
        "id": "kNQp5DzVvdOF",
        "colab_type": "code",
        "colab": {}
      },
      "source": [
        "h=hyp['Top 10% Features'][0:19].to_list()"
      ],
      "execution_count": 140,
      "outputs": []
    },
    {
      "cell_type": "markdown",
      "metadata": {
        "id": "x85hmsKcQ_1I",
        "colab_type": "text"
      },
      "source": [
        "# Comparing Feature Importance for each TP, TN, FP, FN\n",
        "It is to infer that how much a feature contribute to a particular bucket [ TP, TN, FP, FN ]. "
      ]
    },
    {
      "cell_type": "code",
      "metadata": {
        "id": "ZURomSTXYxsR",
        "colab_type": "code",
        "colab": {}
      },
      "source": [
        "# calling comp_feat(X_test,y_test,y_pred) which returns a dataframe that has the computed values for each bucket\n",
        "new_df=comp_feat(X_test,y_test,y_pred)"
      ],
      "execution_count": 143,
      "outputs": []
    },
    {
      "cell_type": "code",
      "metadata": {
        "id": "RcWCzluJFQdE",
        "colab_type": "code",
        "colab": {}
      },
      "source": [
        "# Appending the columns for true positve, true negative, false positive and false negative with actual and predicted values for the comparison of features \n",
        "n=['TP','TN','FP','FN','Actual','Predicted']\n",
        "for i in n:\n",
        "  h.append(i)\n",
        "new_df=new_df[h]\n"
      ],
      "execution_count": 145,
      "outputs": []
    },
    {
      "cell_type": "code",
      "metadata": {
        "id": "NOlfLuEhZoMa",
        "colab_type": "code",
        "colab": {
          "base_uri": "https://localhost:8080/",
          "height": 490
        },
        "outputId": "e229c9b7-5bf8-470c-e0a1-a0f9a28a7c33"
      },
      "source": [
        "new_df"
      ],
      "execution_count": 146,
      "outputs": [
        {
          "output_type": "execute_result",
          "data": {
            "text/html": [
              "<div>\n",
              "<style scoped>\n",
              "    .dataframe tbody tr th:only-of-type {\n",
              "        vertical-align: middle;\n",
              "    }\n",
              "\n",
              "    .dataframe tbody tr th {\n",
              "        vertical-align: top;\n",
              "    }\n",
              "\n",
              "    .dataframe thead th {\n",
              "        text-align: right;\n",
              "    }\n",
              "</style>\n",
              "<table border=\"1\" class=\"dataframe\">\n",
              "  <thead>\n",
              "    <tr style=\"text-align: right;\">\n",
              "      <th></th>\n",
              "      <th>Net Sales</th>\n",
              "      <th>Agency_C2B</th>\n",
              "      <th>Commision (in value)</th>\n",
              "      <th>Duration</th>\n",
              "      <th>Destination_SINGAPORE</th>\n",
              "      <th>Agency Type_Travel Agency</th>\n",
              "      <th>Gender_N</th>\n",
              "      <th>Age</th>\n",
              "      <th>Agency Type_Airlines</th>\n",
              "      <th>Product Name_Cancellation Plan</th>\n",
              "      <th>Agency_JZI</th>\n",
              "      <th>Gender_F</th>\n",
              "      <th>Agency_EPX</th>\n",
              "      <th>Product Name_Bronze Plan</th>\n",
              "      <th>Product Name_Annual Silver Plan</th>\n",
              "      <th>Gender_M</th>\n",
              "      <th>Product Name_2 way Comprehensive Plan</th>\n",
              "      <th>Product Name_Basic Plan</th>\n",
              "      <th>Destination_CHINA</th>\n",
              "      <th>TP</th>\n",
              "      <th>TN</th>\n",
              "      <th>FP</th>\n",
              "      <th>FN</th>\n",
              "      <th>Actual</th>\n",
              "      <th>Predicted</th>\n",
              "    </tr>\n",
              "  </thead>\n",
              "  <tbody>\n",
              "    <tr>\n",
              "      <th>0</th>\n",
              "      <td>20.0</td>\n",
              "      <td>0</td>\n",
              "      <td>0.00</td>\n",
              "      <td>21</td>\n",
              "      <td>0</td>\n",
              "      <td>1</td>\n",
              "      <td>1</td>\n",
              "      <td>34</td>\n",
              "      <td>0</td>\n",
              "      <td>0</td>\n",
              "      <td>0</td>\n",
              "      <td>0</td>\n",
              "      <td>1</td>\n",
              "      <td>0</td>\n",
              "      <td>0</td>\n",
              "      <td>0</td>\n",
              "      <td>1</td>\n",
              "      <td>0</td>\n",
              "      <td>1</td>\n",
              "      <td>0.0</td>\n",
              "      <td>1.0</td>\n",
              "      <td>0.0</td>\n",
              "      <td>0.0</td>\n",
              "      <td>0</td>\n",
              "      <td>0</td>\n",
              "    </tr>\n",
              "    <tr>\n",
              "      <th>1</th>\n",
              "      <td>24.0</td>\n",
              "      <td>0</td>\n",
              "      <td>0.00</td>\n",
              "      <td>47</td>\n",
              "      <td>0</td>\n",
              "      <td>1</td>\n",
              "      <td>1</td>\n",
              "      <td>36</td>\n",
              "      <td>0</td>\n",
              "      <td>0</td>\n",
              "      <td>0</td>\n",
              "      <td>0</td>\n",
              "      <td>1</td>\n",
              "      <td>0</td>\n",
              "      <td>0</td>\n",
              "      <td>0</td>\n",
              "      <td>1</td>\n",
              "      <td>0</td>\n",
              "      <td>0</td>\n",
              "      <td>0.0</td>\n",
              "      <td>1.0</td>\n",
              "      <td>0.0</td>\n",
              "      <td>0.0</td>\n",
              "      <td>0</td>\n",
              "      <td>0</td>\n",
              "    </tr>\n",
              "    <tr>\n",
              "      <th>2</th>\n",
              "      <td>-59.4</td>\n",
              "      <td>0</td>\n",
              "      <td>35.64</td>\n",
              "      <td>61</td>\n",
              "      <td>0</td>\n",
              "      <td>1</td>\n",
              "      <td>1</td>\n",
              "      <td>60</td>\n",
              "      <td>0</td>\n",
              "      <td>0</td>\n",
              "      <td>0</td>\n",
              "      <td>0</td>\n",
              "      <td>0</td>\n",
              "      <td>0</td>\n",
              "      <td>0</td>\n",
              "      <td>0</td>\n",
              "      <td>0</td>\n",
              "      <td>0</td>\n",
              "      <td>0</td>\n",
              "      <td>0.0</td>\n",
              "      <td>1.0</td>\n",
              "      <td>0.0</td>\n",
              "      <td>0.0</td>\n",
              "      <td>0</td>\n",
              "      <td>0</td>\n",
              "    </tr>\n",
              "    <tr>\n",
              "      <th>3</th>\n",
              "      <td>80.0</td>\n",
              "      <td>0</td>\n",
              "      <td>0.00</td>\n",
              "      <td>63</td>\n",
              "      <td>0</td>\n",
              "      <td>1</td>\n",
              "      <td>1</td>\n",
              "      <td>36</td>\n",
              "      <td>0</td>\n",
              "      <td>1</td>\n",
              "      <td>0</td>\n",
              "      <td>0</td>\n",
              "      <td>1</td>\n",
              "      <td>0</td>\n",
              "      <td>0</td>\n",
              "      <td>0</td>\n",
              "      <td>0</td>\n",
              "      <td>0</td>\n",
              "      <td>0</td>\n",
              "      <td>0.0</td>\n",
              "      <td>1.0</td>\n",
              "      <td>0.0</td>\n",
              "      <td>0.0</td>\n",
              "      <td>0</td>\n",
              "      <td>0</td>\n",
              "    </tr>\n",
              "    <tr>\n",
              "      <th>4</th>\n",
              "      <td>28.0</td>\n",
              "      <td>0</td>\n",
              "      <td>0.00</td>\n",
              "      <td>79</td>\n",
              "      <td>0</td>\n",
              "      <td>1</td>\n",
              "      <td>1</td>\n",
              "      <td>36</td>\n",
              "      <td>0</td>\n",
              "      <td>1</td>\n",
              "      <td>0</td>\n",
              "      <td>0</td>\n",
              "      <td>1</td>\n",
              "      <td>0</td>\n",
              "      <td>0</td>\n",
              "      <td>0</td>\n",
              "      <td>0</td>\n",
              "      <td>0</td>\n",
              "      <td>1</td>\n",
              "      <td>0.0</td>\n",
              "      <td>1.0</td>\n",
              "      <td>0.0</td>\n",
              "      <td>0.0</td>\n",
              "      <td>0</td>\n",
              "      <td>0</td>\n",
              "    </tr>\n",
              "    <tr>\n",
              "      <th>...</th>\n",
              "      <td>...</td>\n",
              "      <td>...</td>\n",
              "      <td>...</td>\n",
              "      <td>...</td>\n",
              "      <td>...</td>\n",
              "      <td>...</td>\n",
              "      <td>...</td>\n",
              "      <td>...</td>\n",
              "      <td>...</td>\n",
              "      <td>...</td>\n",
              "      <td>...</td>\n",
              "      <td>...</td>\n",
              "      <td>...</td>\n",
              "      <td>...</td>\n",
              "      <td>...</td>\n",
              "      <td>...</td>\n",
              "      <td>...</td>\n",
              "      <td>...</td>\n",
              "      <td>...</td>\n",
              "      <td>...</td>\n",
              "      <td>...</td>\n",
              "      <td>...</td>\n",
              "      <td>...</td>\n",
              "      <td>...</td>\n",
              "      <td>...</td>\n",
              "    </tr>\n",
              "    <tr>\n",
              "      <th>15581</th>\n",
              "      <td>29.0</td>\n",
              "      <td>0</td>\n",
              "      <td>0.00</td>\n",
              "      <td>77</td>\n",
              "      <td>0</td>\n",
              "      <td>1</td>\n",
              "      <td>1</td>\n",
              "      <td>36</td>\n",
              "      <td>0</td>\n",
              "      <td>0</td>\n",
              "      <td>0</td>\n",
              "      <td>0</td>\n",
              "      <td>1</td>\n",
              "      <td>0</td>\n",
              "      <td>0</td>\n",
              "      <td>0</td>\n",
              "      <td>1</td>\n",
              "      <td>0</td>\n",
              "      <td>0</td>\n",
              "      <td>0.0</td>\n",
              "      <td>1.0</td>\n",
              "      <td>0.0</td>\n",
              "      <td>0.0</td>\n",
              "      <td>0</td>\n",
              "      <td>0</td>\n",
              "    </tr>\n",
              "    <tr>\n",
              "      <th>15582</th>\n",
              "      <td>15.0</td>\n",
              "      <td>0</td>\n",
              "      <td>0.00</td>\n",
              "      <td>4</td>\n",
              "      <td>0</td>\n",
              "      <td>1</td>\n",
              "      <td>1</td>\n",
              "      <td>36</td>\n",
              "      <td>0</td>\n",
              "      <td>1</td>\n",
              "      <td>0</td>\n",
              "      <td>0</td>\n",
              "      <td>1</td>\n",
              "      <td>0</td>\n",
              "      <td>0</td>\n",
              "      <td>0</td>\n",
              "      <td>0</td>\n",
              "      <td>0</td>\n",
              "      <td>0</td>\n",
              "      <td>0.0</td>\n",
              "      <td>1.0</td>\n",
              "      <td>0.0</td>\n",
              "      <td>0.0</td>\n",
              "      <td>0</td>\n",
              "      <td>0</td>\n",
              "    </tr>\n",
              "    <tr>\n",
              "      <th>15583</th>\n",
              "      <td>26.0</td>\n",
              "      <td>0</td>\n",
              "      <td>9.10</td>\n",
              "      <td>40</td>\n",
              "      <td>0</td>\n",
              "      <td>0</td>\n",
              "      <td>0</td>\n",
              "      <td>44</td>\n",
              "      <td>1</td>\n",
              "      <td>0</td>\n",
              "      <td>1</td>\n",
              "      <td>0</td>\n",
              "      <td>0</td>\n",
              "      <td>0</td>\n",
              "      <td>0</td>\n",
              "      <td>1</td>\n",
              "      <td>0</td>\n",
              "      <td>1</td>\n",
              "      <td>1</td>\n",
              "      <td>0.0</td>\n",
              "      <td>1.0</td>\n",
              "      <td>0.0</td>\n",
              "      <td>0.0</td>\n",
              "      <td>0</td>\n",
              "      <td>0</td>\n",
              "    </tr>\n",
              "    <tr>\n",
              "      <th>15584</th>\n",
              "      <td>72.0</td>\n",
              "      <td>1</td>\n",
              "      <td>18.00</td>\n",
              "      <td>35</td>\n",
              "      <td>1</td>\n",
              "      <td>0</td>\n",
              "      <td>0</td>\n",
              "      <td>39</td>\n",
              "      <td>1</td>\n",
              "      <td>0</td>\n",
              "      <td>0</td>\n",
              "      <td>1</td>\n",
              "      <td>0</td>\n",
              "      <td>0</td>\n",
              "      <td>0</td>\n",
              "      <td>0</td>\n",
              "      <td>0</td>\n",
              "      <td>0</td>\n",
              "      <td>0</td>\n",
              "      <td>0.0</td>\n",
              "      <td>0.0</td>\n",
              "      <td>1.0</td>\n",
              "      <td>0.0</td>\n",
              "      <td>0</td>\n",
              "      <td>1</td>\n",
              "    </tr>\n",
              "    <tr>\n",
              "      <th>15585</th>\n",
              "      <td>20.0</td>\n",
              "      <td>0</td>\n",
              "      <td>0.00</td>\n",
              "      <td>60</td>\n",
              "      <td>0</td>\n",
              "      <td>1</td>\n",
              "      <td>1</td>\n",
              "      <td>36</td>\n",
              "      <td>0</td>\n",
              "      <td>0</td>\n",
              "      <td>0</td>\n",
              "      <td>0</td>\n",
              "      <td>1</td>\n",
              "      <td>0</td>\n",
              "      <td>0</td>\n",
              "      <td>0</td>\n",
              "      <td>0</td>\n",
              "      <td>0</td>\n",
              "      <td>0</td>\n",
              "      <td>0.0</td>\n",
              "      <td>1.0</td>\n",
              "      <td>0.0</td>\n",
              "      <td>0.0</td>\n",
              "      <td>0</td>\n",
              "      <td>0</td>\n",
              "    </tr>\n",
              "  </tbody>\n",
              "</table>\n",
              "<p>15586 rows × 25 columns</p>\n",
              "</div>"
            ],
            "text/plain": [
              "       Net Sales  Agency_C2B  Commision (in value)  ...   FN  Actual  Predicted\n",
              "0           20.0           0                  0.00  ...  0.0       0          0\n",
              "1           24.0           0                  0.00  ...  0.0       0          0\n",
              "2          -59.4           0                 35.64  ...  0.0       0          0\n",
              "3           80.0           0                  0.00  ...  0.0       0          0\n",
              "4           28.0           0                  0.00  ...  0.0       0          0\n",
              "...          ...         ...                   ...  ...  ...     ...        ...\n",
              "15581       29.0           0                  0.00  ...  0.0       0          0\n",
              "15582       15.0           0                  0.00  ...  0.0       0          0\n",
              "15583       26.0           0                  9.10  ...  0.0       0          0\n",
              "15584       72.0           1                 18.00  ...  0.0       0          1\n",
              "15585       20.0           0                  0.00  ...  0.0       0          0\n",
              "\n",
              "[15586 rows x 25 columns]"
            ]
          },
          "metadata": {
            "tags": []
          },
          "execution_count": 146
        }
      ]
    },
    {
      "cell_type": "code",
      "metadata": {
        "id": "gFg-wXHzOvJw",
        "colab_type": "code",
        "colab": {}
      },
      "source": [
        "# calling comp_feat(X_test,y_test,y_pred,1) function which returns a dataframe\n",
        "# that has the computed values for each bucket and add NaN values where the valeus\n",
        "# is not 1 in TP ,TN, FP, FN\n",
        "new_dff=comp_feat(X_test,y_test,y_pred,1)"
      ],
      "execution_count": 147,
      "outputs": []
    },
    {
      "cell_type": "code",
      "metadata": {
        "id": "T1At0wwTQB7t",
        "colab_type": "code",
        "colab": {
          "base_uri": "https://localhost:8080/",
          "height": 490
        },
        "outputId": "5bc049d6-2a2e-46c1-ab5e-34f658596d35"
      },
      "source": [
        "new_dff=new_dff[h]\n",
        "new_dff  # replace 0 with NaN, so as to plot them in graphs for the finding the patterns.\n",
        "# NaN value aren't ploted in plot "
      ],
      "execution_count": 149,
      "outputs": [
        {
          "output_type": "execute_result",
          "data": {
            "text/html": [
              "<div>\n",
              "<style scoped>\n",
              "    .dataframe tbody tr th:only-of-type {\n",
              "        vertical-align: middle;\n",
              "    }\n",
              "\n",
              "    .dataframe tbody tr th {\n",
              "        vertical-align: top;\n",
              "    }\n",
              "\n",
              "    .dataframe thead th {\n",
              "        text-align: right;\n",
              "    }\n",
              "</style>\n",
              "<table border=\"1\" class=\"dataframe\">\n",
              "  <thead>\n",
              "    <tr style=\"text-align: right;\">\n",
              "      <th></th>\n",
              "      <th>Net Sales</th>\n",
              "      <th>Agency_C2B</th>\n",
              "      <th>Commision (in value)</th>\n",
              "      <th>Duration</th>\n",
              "      <th>Destination_SINGAPORE</th>\n",
              "      <th>Agency Type_Travel Agency</th>\n",
              "      <th>Gender_N</th>\n",
              "      <th>Age</th>\n",
              "      <th>Agency Type_Airlines</th>\n",
              "      <th>Product Name_Cancellation Plan</th>\n",
              "      <th>Agency_JZI</th>\n",
              "      <th>Gender_F</th>\n",
              "      <th>Agency_EPX</th>\n",
              "      <th>Product Name_Bronze Plan</th>\n",
              "      <th>Product Name_Annual Silver Plan</th>\n",
              "      <th>Gender_M</th>\n",
              "      <th>Product Name_2 way Comprehensive Plan</th>\n",
              "      <th>Product Name_Basic Plan</th>\n",
              "      <th>Destination_CHINA</th>\n",
              "      <th>TP</th>\n",
              "      <th>TN</th>\n",
              "      <th>FP</th>\n",
              "      <th>FN</th>\n",
              "      <th>Actual</th>\n",
              "      <th>Predicted</th>\n",
              "    </tr>\n",
              "  </thead>\n",
              "  <tbody>\n",
              "    <tr>\n",
              "      <th>0</th>\n",
              "      <td>20.0</td>\n",
              "      <td>0</td>\n",
              "      <td>0.00</td>\n",
              "      <td>21</td>\n",
              "      <td>0</td>\n",
              "      <td>1</td>\n",
              "      <td>1</td>\n",
              "      <td>34</td>\n",
              "      <td>0</td>\n",
              "      <td>0</td>\n",
              "      <td>0</td>\n",
              "      <td>0</td>\n",
              "      <td>1</td>\n",
              "      <td>0</td>\n",
              "      <td>0</td>\n",
              "      <td>0</td>\n",
              "      <td>1</td>\n",
              "      <td>0</td>\n",
              "      <td>1</td>\n",
              "      <td>NaN</td>\n",
              "      <td>1.0</td>\n",
              "      <td>NaN</td>\n",
              "      <td>NaN</td>\n",
              "      <td>0</td>\n",
              "      <td>0</td>\n",
              "    </tr>\n",
              "    <tr>\n",
              "      <th>1</th>\n",
              "      <td>24.0</td>\n",
              "      <td>0</td>\n",
              "      <td>0.00</td>\n",
              "      <td>47</td>\n",
              "      <td>0</td>\n",
              "      <td>1</td>\n",
              "      <td>1</td>\n",
              "      <td>36</td>\n",
              "      <td>0</td>\n",
              "      <td>0</td>\n",
              "      <td>0</td>\n",
              "      <td>0</td>\n",
              "      <td>1</td>\n",
              "      <td>0</td>\n",
              "      <td>0</td>\n",
              "      <td>0</td>\n",
              "      <td>1</td>\n",
              "      <td>0</td>\n",
              "      <td>0</td>\n",
              "      <td>NaN</td>\n",
              "      <td>1.0</td>\n",
              "      <td>NaN</td>\n",
              "      <td>NaN</td>\n",
              "      <td>0</td>\n",
              "      <td>0</td>\n",
              "    </tr>\n",
              "    <tr>\n",
              "      <th>2</th>\n",
              "      <td>-59.4</td>\n",
              "      <td>0</td>\n",
              "      <td>35.64</td>\n",
              "      <td>61</td>\n",
              "      <td>0</td>\n",
              "      <td>1</td>\n",
              "      <td>1</td>\n",
              "      <td>60</td>\n",
              "      <td>0</td>\n",
              "      <td>0</td>\n",
              "      <td>0</td>\n",
              "      <td>0</td>\n",
              "      <td>0</td>\n",
              "      <td>0</td>\n",
              "      <td>0</td>\n",
              "      <td>0</td>\n",
              "      <td>0</td>\n",
              "      <td>0</td>\n",
              "      <td>0</td>\n",
              "      <td>NaN</td>\n",
              "      <td>1.0</td>\n",
              "      <td>NaN</td>\n",
              "      <td>NaN</td>\n",
              "      <td>0</td>\n",
              "      <td>0</td>\n",
              "    </tr>\n",
              "    <tr>\n",
              "      <th>3</th>\n",
              "      <td>80.0</td>\n",
              "      <td>0</td>\n",
              "      <td>0.00</td>\n",
              "      <td>63</td>\n",
              "      <td>0</td>\n",
              "      <td>1</td>\n",
              "      <td>1</td>\n",
              "      <td>36</td>\n",
              "      <td>0</td>\n",
              "      <td>1</td>\n",
              "      <td>0</td>\n",
              "      <td>0</td>\n",
              "      <td>1</td>\n",
              "      <td>0</td>\n",
              "      <td>0</td>\n",
              "      <td>0</td>\n",
              "      <td>0</td>\n",
              "      <td>0</td>\n",
              "      <td>0</td>\n",
              "      <td>NaN</td>\n",
              "      <td>1.0</td>\n",
              "      <td>NaN</td>\n",
              "      <td>NaN</td>\n",
              "      <td>0</td>\n",
              "      <td>0</td>\n",
              "    </tr>\n",
              "    <tr>\n",
              "      <th>4</th>\n",
              "      <td>28.0</td>\n",
              "      <td>0</td>\n",
              "      <td>0.00</td>\n",
              "      <td>79</td>\n",
              "      <td>0</td>\n",
              "      <td>1</td>\n",
              "      <td>1</td>\n",
              "      <td>36</td>\n",
              "      <td>0</td>\n",
              "      <td>1</td>\n",
              "      <td>0</td>\n",
              "      <td>0</td>\n",
              "      <td>1</td>\n",
              "      <td>0</td>\n",
              "      <td>0</td>\n",
              "      <td>0</td>\n",
              "      <td>0</td>\n",
              "      <td>0</td>\n",
              "      <td>1</td>\n",
              "      <td>NaN</td>\n",
              "      <td>1.0</td>\n",
              "      <td>NaN</td>\n",
              "      <td>NaN</td>\n",
              "      <td>0</td>\n",
              "      <td>0</td>\n",
              "    </tr>\n",
              "    <tr>\n",
              "      <th>...</th>\n",
              "      <td>...</td>\n",
              "      <td>...</td>\n",
              "      <td>...</td>\n",
              "      <td>...</td>\n",
              "      <td>...</td>\n",
              "      <td>...</td>\n",
              "      <td>...</td>\n",
              "      <td>...</td>\n",
              "      <td>...</td>\n",
              "      <td>...</td>\n",
              "      <td>...</td>\n",
              "      <td>...</td>\n",
              "      <td>...</td>\n",
              "      <td>...</td>\n",
              "      <td>...</td>\n",
              "      <td>...</td>\n",
              "      <td>...</td>\n",
              "      <td>...</td>\n",
              "      <td>...</td>\n",
              "      <td>...</td>\n",
              "      <td>...</td>\n",
              "      <td>...</td>\n",
              "      <td>...</td>\n",
              "      <td>...</td>\n",
              "      <td>...</td>\n",
              "    </tr>\n",
              "    <tr>\n",
              "      <th>15581</th>\n",
              "      <td>29.0</td>\n",
              "      <td>0</td>\n",
              "      <td>0.00</td>\n",
              "      <td>77</td>\n",
              "      <td>0</td>\n",
              "      <td>1</td>\n",
              "      <td>1</td>\n",
              "      <td>36</td>\n",
              "      <td>0</td>\n",
              "      <td>0</td>\n",
              "      <td>0</td>\n",
              "      <td>0</td>\n",
              "      <td>1</td>\n",
              "      <td>0</td>\n",
              "      <td>0</td>\n",
              "      <td>0</td>\n",
              "      <td>1</td>\n",
              "      <td>0</td>\n",
              "      <td>0</td>\n",
              "      <td>NaN</td>\n",
              "      <td>1.0</td>\n",
              "      <td>NaN</td>\n",
              "      <td>NaN</td>\n",
              "      <td>0</td>\n",
              "      <td>0</td>\n",
              "    </tr>\n",
              "    <tr>\n",
              "      <th>15582</th>\n",
              "      <td>15.0</td>\n",
              "      <td>0</td>\n",
              "      <td>0.00</td>\n",
              "      <td>4</td>\n",
              "      <td>0</td>\n",
              "      <td>1</td>\n",
              "      <td>1</td>\n",
              "      <td>36</td>\n",
              "      <td>0</td>\n",
              "      <td>1</td>\n",
              "      <td>0</td>\n",
              "      <td>0</td>\n",
              "      <td>1</td>\n",
              "      <td>0</td>\n",
              "      <td>0</td>\n",
              "      <td>0</td>\n",
              "      <td>0</td>\n",
              "      <td>0</td>\n",
              "      <td>0</td>\n",
              "      <td>NaN</td>\n",
              "      <td>1.0</td>\n",
              "      <td>NaN</td>\n",
              "      <td>NaN</td>\n",
              "      <td>0</td>\n",
              "      <td>0</td>\n",
              "    </tr>\n",
              "    <tr>\n",
              "      <th>15583</th>\n",
              "      <td>26.0</td>\n",
              "      <td>0</td>\n",
              "      <td>9.10</td>\n",
              "      <td>40</td>\n",
              "      <td>0</td>\n",
              "      <td>0</td>\n",
              "      <td>0</td>\n",
              "      <td>44</td>\n",
              "      <td>1</td>\n",
              "      <td>0</td>\n",
              "      <td>1</td>\n",
              "      <td>0</td>\n",
              "      <td>0</td>\n",
              "      <td>0</td>\n",
              "      <td>0</td>\n",
              "      <td>1</td>\n",
              "      <td>0</td>\n",
              "      <td>1</td>\n",
              "      <td>1</td>\n",
              "      <td>NaN</td>\n",
              "      <td>1.0</td>\n",
              "      <td>NaN</td>\n",
              "      <td>NaN</td>\n",
              "      <td>0</td>\n",
              "      <td>0</td>\n",
              "    </tr>\n",
              "    <tr>\n",
              "      <th>15584</th>\n",
              "      <td>72.0</td>\n",
              "      <td>1</td>\n",
              "      <td>18.00</td>\n",
              "      <td>35</td>\n",
              "      <td>1</td>\n",
              "      <td>0</td>\n",
              "      <td>0</td>\n",
              "      <td>39</td>\n",
              "      <td>1</td>\n",
              "      <td>0</td>\n",
              "      <td>0</td>\n",
              "      <td>1</td>\n",
              "      <td>0</td>\n",
              "      <td>0</td>\n",
              "      <td>0</td>\n",
              "      <td>0</td>\n",
              "      <td>0</td>\n",
              "      <td>0</td>\n",
              "      <td>0</td>\n",
              "      <td>NaN</td>\n",
              "      <td>NaN</td>\n",
              "      <td>1.0</td>\n",
              "      <td>NaN</td>\n",
              "      <td>0</td>\n",
              "      <td>1</td>\n",
              "    </tr>\n",
              "    <tr>\n",
              "      <th>15585</th>\n",
              "      <td>20.0</td>\n",
              "      <td>0</td>\n",
              "      <td>0.00</td>\n",
              "      <td>60</td>\n",
              "      <td>0</td>\n",
              "      <td>1</td>\n",
              "      <td>1</td>\n",
              "      <td>36</td>\n",
              "      <td>0</td>\n",
              "      <td>0</td>\n",
              "      <td>0</td>\n",
              "      <td>0</td>\n",
              "      <td>1</td>\n",
              "      <td>0</td>\n",
              "      <td>0</td>\n",
              "      <td>0</td>\n",
              "      <td>0</td>\n",
              "      <td>0</td>\n",
              "      <td>0</td>\n",
              "      <td>NaN</td>\n",
              "      <td>1.0</td>\n",
              "      <td>NaN</td>\n",
              "      <td>NaN</td>\n",
              "      <td>0</td>\n",
              "      <td>0</td>\n",
              "    </tr>\n",
              "  </tbody>\n",
              "</table>\n",
              "<p>15586 rows × 25 columns</p>\n",
              "</div>"
            ],
            "text/plain": [
              "       Net Sales  Agency_C2B  Commision (in value)  ...  FN  Actual  Predicted\n",
              "0           20.0           0                  0.00  ... NaN       0          0\n",
              "1           24.0           0                  0.00  ... NaN       0          0\n",
              "2          -59.4           0                 35.64  ... NaN       0          0\n",
              "3           80.0           0                  0.00  ... NaN       0          0\n",
              "4           28.0           0                  0.00  ... NaN       0          0\n",
              "...          ...         ...                   ...  ...  ..     ...        ...\n",
              "15581       29.0           0                  0.00  ... NaN       0          0\n",
              "15582       15.0           0                  0.00  ... NaN       0          0\n",
              "15583       26.0           0                  9.10  ... NaN       0          0\n",
              "15584       72.0           1                 18.00  ... NaN       0          1\n",
              "15585       20.0           0                  0.00  ... NaN       0          0\n",
              "\n",
              "[15586 rows x 25 columns]"
            ]
          },
          "metadata": {
            "tags": []
          },
          "execution_count": 149
        }
      ]
    },
    {
      "cell_type": "markdown",
      "metadata": {
        "id": "lIRHzEjx2HNU",
        "colab_type": "text"
      },
      "source": [
        "##Plots \n",
        "To see the patterns among the 4 buckets [ TP, TN, FP, FN ]."
      ]
    },
    {
      "cell_type": "code",
      "metadata": {
        "id": "zk5W8aZlyNaZ",
        "colab_type": "code",
        "colab": {
          "base_uri": "https://localhost:8080/",
          "height": 369
        },
        "outputId": "2b40aeab-f569-4ad3-eb88-07353e123228"
      },
      "source": [
        "sns.relplot(x=\"Duration\", y=\"Actual\",hue=\"Predicted\", col='TP', kind=\"line\", data=new_df);"
      ],
      "execution_count": 151,
      "outputs": [
        {
          "output_type": "display_data",
          "data": {
            "image/png": "[encoded data removed]",
            "text/plain": [
              "<Figure size 803x360 with 2 Axes>"
            ]
          },
          "metadata": {
            "tags": [],
            "needs_background": "light"
          }
        }
      ]
    },
    {
      "cell_type": "code",
      "metadata": {
        "id": "Mcd6qo961lhb",
        "colab_type": "code",
        "colab": {
          "base_uri": "https://localhost:8080/",
          "height": 369
        },
        "outputId": "4be5e695-a636-4d7f-fe4e-53b6cae833b6"
      },
      "source": [
        "sns.relplot(x=\"Age\", y=\"Actual\",hue=\"Predicted\", col='TN', kind=\"line\", data=new_df);"
      ],
      "execution_count": 152,
      "outputs": [
        {
          "output_type": "display_data",
          "data": {
            "image/png": "[encoded data removed]",
            "text/plain": [
              "<Figure size 803x360 with 2 Axes>"
            ]
          },
          "metadata": {
            "tags": [],
            "needs_background": "light"
          }
        }
      ]
    },
    {
      "cell_type": "code",
      "metadata": {
        "id": "WeEEDID_tEs1",
        "colab_type": "code",
        "colab": {
          "base_uri": "https://localhost:8080/",
          "height": 337
        },
        "outputId": "2be9717b-e522-45dc-9588-cce4185625e2"
      },
      "source": [
        "f, axes = plt.subplots(1, 2)\n",
        "f.set_size_inches(15,5)\n",
        "new_dff[new_dff['TP']==1]['Duration'].plot.hist(ax=axes[0])\n",
        "new_dff[new_dff['TN']==1]['Duration'].plot.hist(ax=axes[1])"
      ],
      "execution_count": 153,
      "outputs": [
        {
          "output_type": "execute_result",
          "data": {
            "text/plain": [
              "<matplotlib.axes._subplots.AxesSubplot at 0x7fc2dead2198>"
            ]
          },
          "metadata": {
            "tags": []
          },
          "execution_count": 153
        },
        {
          "output_type": "display_data",
          "data": {
            "image/png": "[encoded data removed]",
            "text/plain": [
              "<Figure size 1080x360 with 2 Axes>"
            ]
          },
          "metadata": {
            "tags": [],
            "needs_background": "light"
          }
        }
      ]
    },
    {
      "cell_type": "code",
      "metadata": {
        "id": "3KjPs22iuGqG",
        "colab_type": "code",
        "colab": {
          "base_uri": "https://localhost:8080/",
          "height": 337
        },
        "outputId": "425bd499-4d3c-4a83-8ad6-b454a256a8ec"
      },
      "source": [
        "f, axes = plt.subplots(1, 2)\n",
        "f.set_size_inches(15,5)\n",
        "new_dff[new_dff['TP']==1]['Net Sales'].plot.hist(ax=axes[0])\n",
        "new_dff[new_dff['TN']==1]['Net Sales'].plot.hist(ax=axes[1])"
      ],
      "execution_count": 154,
      "outputs": [
        {
          "output_type": "execute_result",
          "data": {
            "text/plain": [
              "<matplotlib.axes._subplots.AxesSubplot at 0x7fc2dea304a8>"
            ]
          },
          "metadata": {
            "tags": []
          },
          "execution_count": 154
        },
        {
          "output_type": "display_data",
          "data": {
            "image/png": "[encoded data removed]",
            "text/plain": [
              "<Figure size 1080x360 with 2 Axes>"
            ]
          },
          "metadata": {
            "tags": [],
            "needs_background": "light"
          }
        }
      ]
    },
    {
      "cell_type": "code",
      "metadata": {
        "id": "uNKF-BD1uKCq",
        "colab_type": "code",
        "colab": {
          "base_uri": "https://localhost:8080/",
          "height": 337
        },
        "outputId": "643743e7-1f3c-4f7e-a5cc-c23eab8a41ce"
      },
      "source": [
        "f, axes = plt.subplots(1, 2)\n",
        "f.set_size_inches(15,5)\n",
        "new_dff[new_dff['TP']==1]['Commision (in value)'].plot.hist(ax=axes[0])\n",
        "new_dff[new_dff['TN']==1]['Commision (in value)'].plot.hist(ax=axes[1])"
      ],
      "execution_count": 155,
      "outputs": [
        {
          "output_type": "execute_result",
          "data": {
            "text/plain": [
              "<matplotlib.axes._subplots.AxesSubplot at 0x7fc2de98b710>"
            ]
          },
          "metadata": {
            "tags": []
          },
          "execution_count": 155
        },
        {
          "output_type": "display_data",
          "data": {
            "image/png": "[encoded data removed]",
            "text/plain": [
              "<Figure size 1080x360 with 2 Axes>"
            ]
          },
          "metadata": {
            "tags": [],
            "needs_background": "light"
          }
        }
      ]
    },
    {
      "cell_type": "code",
      "metadata": {
        "id": "DR2kdnYhhDNa",
        "colab_type": "code",
        "colab": {}
      },
      "source": [
        "con=['TP','TN','FP','FN','Actual','Predicted','Commision (in value)', 'Net Sales','Duration','Age']\n",
        "l_n=h.copy()\n",
        "for i in con:\n",
        "  l_n.remove(i)\n",
        "ll=iter(l_n)"
      ],
      "execution_count": 157,
      "outputs": []
    },
    {
      "cell_type": "code",
      "metadata": {
        "id": "PV63_uNZxnvM",
        "colab_type": "code",
        "colab": {
          "base_uri": "https://localhost:8080/",
          "height": 607
        },
        "outputId": "2f38a67f-5377-4745-e105-df8829e39c89"
      },
      "source": [
        "# Calling plot_buk(val,new_dff) which plots the following 4 graphs\n",
        "plot_buk(next(ll),new_dff)"
      ],
      "execution_count": 159,
      "outputs": [
        {
          "output_type": "display_data",
          "data": {
            "image/png": "[encoded data removed]",
            "text/plain": [
              "<Figure size 1080x720 with 4 Axes>"
            ]
          },
          "metadata": {
            "tags": [],
            "needs_background": "light"
          }
        }
      ]
    },
    {
      "cell_type": "code",
      "metadata": {
        "id": "7HKnjCPB0zOZ",
        "colab_type": "code",
        "colab": {
          "base_uri": "https://localhost:8080/",
          "height": 606
        },
        "outputId": "4fb30ccc-6bb2-425a-a509-a71977ef037f"
      },
      "source": [
        "plot_buk(next(ll),new_dff)"
      ],
      "execution_count": 160,
      "outputs": [
        {
          "output_type": "display_data",
          "data": {
            "image/png": "[encoded data removed]",
            "text/plain": [
              "<Figure size 1080x720 with 4 Axes>"
            ]
          },
          "metadata": {
            "tags": [],
            "needs_background": "light"
          }
        }
      ]
    },
    {
      "cell_type": "code",
      "metadata": {
        "id": "724GYnbpwvCW",
        "colab_type": "code",
        "colab": {
          "base_uri": "https://localhost:8080/",
          "height": 606
        },
        "outputId": "fca7ec0d-6c2a-4ac3-88f6-a327796ef65d"
      },
      "source": [
        "plot_buk(next(ll),new_dff)"
      ],
      "execution_count": 161,
      "outputs": [
        {
          "output_type": "display_data",
          "data": {
            "image/png": "[encoded data removed]",
            "text/plain": [
              "<Figure size 1080x720 with 4 Axes>"
            ]
          },
          "metadata": {
            "tags": [],
            "needs_background": "light"
          }
        }
      ]
    },
    {
      "cell_type": "code",
      "metadata": {
        "id": "Z9XZ3PYqyARx",
        "colab_type": "code",
        "colab": {
          "base_uri": "https://localhost:8080/",
          "height": 606
        },
        "outputId": "7019add7-4364-4888-e0e6-712f281575f2"
      },
      "source": [
        "plot_buk(next(ll),new_dff)"
      ],
      "execution_count": 162,
      "outputs": [
        {
          "output_type": "display_data",
          "data": {
            "image/png": "[encoded data removed]",
            "text/plain": [
              "<Figure size 1080x720 with 4 Axes>"
            ]
          },
          "metadata": {
            "tags": [],
            "needs_background": "light"
          }
        }
      ]
    },
    {
      "cell_type": "code",
      "metadata": {
        "id": "Vs_glgWMyEzT",
        "colab_type": "code",
        "colab": {
          "base_uri": "https://localhost:8080/",
          "height": 606
        },
        "outputId": "45e14064-15c4-4111-f4de-35144c49e7be"
      },
      "source": [
        "plot_buk(next(ll),new_dff)"
      ],
      "execution_count": 163,
      "outputs": [
        {
          "output_type": "display_data",
          "data": {
            "image/png": "[encoded data removed]",
            "text/plain": [
              "<Figure size 1080x720 with 4 Axes>"
            ]
          },
          "metadata": {
            "tags": [],
            "needs_background": "light"
          }
        }
      ]
    },
    {
      "cell_type": "code",
      "metadata": {
        "id": "hIKyYAakyGd2",
        "colab_type": "code",
        "colab": {
          "base_uri": "https://localhost:8080/",
          "height": 606
        },
        "outputId": "ae03b2e7-ad26-408f-92a3-4cc0b260d09c"
      },
      "source": [
        "plot_buk(next(ll),new_dff)"
      ],
      "execution_count": 164,
      "outputs": [
        {
          "output_type": "display_data",
          "data": {
            "image/png": "[encoded data removed]",
            "text/plain": [
              "<Figure size 1080x720 with 4 Axes>"
            ]
          },
          "metadata": {
            "tags": [],
            "needs_background": "light"
          }
        }
      ]
    },
    {
      "cell_type": "code",
      "metadata": {
        "id": "2myXfhR7yLI6",
        "colab_type": "code",
        "colab": {
          "base_uri": "https://localhost:8080/",
          "height": 606
        },
        "outputId": "a6bf0de3-c3e6-48aa-ed00-2dabfcfe7b18"
      },
      "source": [
        "plot_buk(next(ll),new_dff)"
      ],
      "execution_count": 165,
      "outputs": [
        {
          "output_type": "display_data",
          "data": {
            "image/png": "[encoded data removed]",
            "text/plain": [
              "<Figure size 1080x720 with 4 Axes>"
            ]
          },
          "metadata": {
            "tags": [],
            "needs_background": "light"
          }
        }
      ]
    },
    {
      "cell_type": "code",
      "metadata": {
        "id": "99UNQ2XyyWDX",
        "colab_type": "code",
        "colab": {
          "base_uri": "https://localhost:8080/",
          "height": 606
        },
        "outputId": "f8395b29-f04f-4624-9754-f6fa2c71838e"
      },
      "source": [
        "plot_buk(next(ll),new_dff)"
      ],
      "execution_count": 166,
      "outputs": [
        {
          "output_type": "display_data",
          "data": {
            "image/png": "[encoded data removed]",
            "text/plain": [
              "<Figure size 1080x720 with 4 Axes>"
            ]
          },
          "metadata": {
            "tags": [],
            "needs_background": "light"
          }
        }
      ]
    },
    {
      "cell_type": "code",
      "metadata": {
        "id": "GpGuTR9XyWzM",
        "colab_type": "code",
        "colab": {
          "base_uri": "https://localhost:8080/",
          "height": 606
        },
        "outputId": "4d7a2bb8-e1f3-4127-fbcf-95092130a1c1"
      },
      "source": [
        "plot_buk(next(ll),new_dff)"
      ],
      "execution_count": 167,
      "outputs": [
        {
          "output_type": "display_data",
          "data": {
            "image/png": "[encoded data removed]",
            "text/plain": [
              "<Figure size 1080x720 with 4 Axes>"
            ]
          },
          "metadata": {
            "tags": [],
            "needs_background": "light"
          }
        }
      ]
    },
    {
      "cell_type": "code",
      "metadata": {
        "id": "v53TsVjEyXwb",
        "colab_type": "code",
        "colab": {
          "base_uri": "https://localhost:8080/",
          "height": 607
        },
        "outputId": "994467f2-b584-405f-fa6e-8c57967b4b96"
      },
      "source": [
        "plot_buk(next(ll),new_dff)"
      ],
      "execution_count": 168,
      "outputs": [
        {
          "output_type": "display_data",
          "data": {
            "image/png": "[encoded data removed]",
            "text/plain": [
              "<Figure size 1080x720 with 4 Axes>"
            ]
          },
          "metadata": {
            "tags": [],
            "needs_background": "light"
          }
        }
      ]
    },
    {
      "cell_type": "code",
      "metadata": {
        "id": "Oij9n7twyZTX",
        "colab_type": "code",
        "colab": {
          "base_uri": "https://localhost:8080/",
          "height": 606
        },
        "outputId": "b9cdfc93-bd48-4d08-c80c-a3408ff2cb1b"
      },
      "source": [
        "plot_buk(next(ll),new_dff)"
      ],
      "execution_count": 169,
      "outputs": [
        {
          "output_type": "display_data",
          "data": {
            "image/png": "[encoded data removed]",
            "text/plain": [
              "<Figure size 1080x720 with 4 Axes>"
            ]
          },
          "metadata": {
            "tags": [],
            "needs_background": "light"
          }
        }
      ]
    },
    {
      "cell_type": "code",
      "metadata": {
        "id": "HAvpUEXsyaNa",
        "colab_type": "code",
        "colab": {
          "base_uri": "https://localhost:8080/",
          "height": 606
        },
        "outputId": "fa254185-7e38-40ab-d7b9-884f6d37b015"
      },
      "source": [
        "plot_buk(next(ll),new_dff)"
      ],
      "execution_count": 170,
      "outputs": [
        {
          "output_type": "display_data",
          "data": {
            "image/png": "[encoded data removed]",
            "text/plain": [
              "<Figure size 1080x720 with 4 Axes>"
            ]
          },
          "metadata": {
            "tags": [],
            "needs_background": "light"
          }
        }
      ]
    },
    {
      "cell_type": "code",
      "metadata": {
        "id": "5fxCuE51ybN1",
        "colab_type": "code",
        "colab": {
          "base_uri": "https://localhost:8080/",
          "height": 606
        },
        "outputId": "19c27214-6170-49c7-c225-f09c5766808e"
      },
      "source": [
        "plot_buk(next(ll),new_dff)"
      ],
      "execution_count": 171,
      "outputs": [
        {
          "output_type": "display_data",
          "data": {
            "image/png": "[encoded data removed]",
            "text/plain": [
              "<Figure size 1080x720 with 4 Axes>"
            ]
          },
          "metadata": {
            "tags": [],
            "needs_background": "light"
          }
        }
      ]
    },
    {
      "cell_type": "code",
      "metadata": {
        "id": "3j-v4fPjyc0x",
        "colab_type": "code",
        "colab": {
          "base_uri": "https://localhost:8080/",
          "height": 606
        },
        "outputId": "8fd1ae9f-5a4b-47db-e772-52f68a7018fe"
      },
      "source": [
        "plot_buk(next(ll),new_dff)"
      ],
      "execution_count": 172,
      "outputs": [
        {
          "output_type": "display_data",
          "data": {
            "image/png": "[encoded data removed]",
            "text/plain": [
              "<Figure size 1080x720 with 4 Axes>"
            ]
          },
          "metadata": {
            "tags": [],
            "needs_background": "light"
          }
        }
      ]
    },
    {
      "cell_type": "code",
      "metadata": {
        "id": "TLGsqRf_yepg",
        "colab_type": "code",
        "colab": {
          "base_uri": "https://localhost:8080/",
          "height": 606
        },
        "outputId": "c71dc4f3-5ced-4c59-e9c0-97055c1c8dbc"
      },
      "source": [
        "plot_buk(next(ll),new_dff)"
      ],
      "execution_count": 173,
      "outputs": [
        {
          "output_type": "display_data",
          "data": {
            "image/png": "[encoded data removed]",
            "text/plain": [
              "<Figure size 1080x720 with 4 Axes>"
            ]
          },
          "metadata": {
            "tags": [],
            "needs_background": "light"
          }
        }
      ]
    },
    {
      "cell_type": "markdown",
      "metadata": {
        "id": "ODJojq1-HyMl",
        "colab_type": "text"
      },
      "source": [
        "# Reasoning \n",
        " It is done to give the reasoning behind the particular prediction by the model"
      ]
    },
    {
      "cell_type": "code",
      "metadata": {
        "id": "SZlCWQyVH3-T",
        "colab_type": "code",
        "colab": {
          "base_uri": "https://localhost:8080/",
          "height": 352
        },
        "outputId": "0fa3fa19-1e95-45fe-d43f-66ec9ab628a4"
      },
      "source": [
        "# Calling function reason(df,h) which returns a dataframe that has a appended column named 'Reasoning'\n",
        "df_res=reason(new_df,h)\n",
        "df_res.head(2)"
      ],
      "execution_count": 224,
      "outputs": [
        {
          "output_type": "execute_result",
          "data": {
            "text/html": [
              "<div>\n",
              "<style scoped>\n",
              "    .dataframe tbody tr th:only-of-type {\n",
              "        vertical-align: middle;\n",
              "    }\n",
              "\n",
              "    .dataframe tbody tr th {\n",
              "        vertical-align: top;\n",
              "    }\n",
              "\n",
              "    .dataframe thead th {\n",
              "        text-align: right;\n",
              "    }\n",
              "</style>\n",
              "<table border=\"1\" class=\"dataframe\">\n",
              "  <thead>\n",
              "    <tr style=\"text-align: right;\">\n",
              "      <th></th>\n",
              "      <th>Net Sales</th>\n",
              "      <th>Agency_C2B</th>\n",
              "      <th>Commision (in value)</th>\n",
              "      <th>Duration</th>\n",
              "      <th>Destination_SINGAPORE</th>\n",
              "      <th>Agency Type_Travel Agency</th>\n",
              "      <th>Gender_N</th>\n",
              "      <th>Age</th>\n",
              "      <th>Agency Type_Airlines</th>\n",
              "      <th>Product Name_Cancellation Plan</th>\n",
              "      <th>Agency_JZI</th>\n",
              "      <th>Gender_F</th>\n",
              "      <th>Agency_EPX</th>\n",
              "      <th>Product Name_Bronze Plan</th>\n",
              "      <th>Product Name_Annual Silver Plan</th>\n",
              "      <th>Gender_M</th>\n",
              "      <th>Product Name_2 way Comprehensive Plan</th>\n",
              "      <th>Product Name_Basic Plan</th>\n",
              "      <th>Destination_CHINA</th>\n",
              "      <th>TP</th>\n",
              "      <th>TN</th>\n",
              "      <th>FP</th>\n",
              "      <th>FN</th>\n",
              "      <th>Actual</th>\n",
              "      <th>Predicted</th>\n",
              "      <th>Reasoning</th>\n",
              "    </tr>\n",
              "  </thead>\n",
              "  <tbody>\n",
              "    <tr>\n",
              "      <th>0</th>\n",
              "      <td>20.0</td>\n",
              "      <td>0</td>\n",
              "      <td>0.0</td>\n",
              "      <td>21</td>\n",
              "      <td>0</td>\n",
              "      <td>1</td>\n",
              "      <td>1</td>\n",
              "      <td>34</td>\n",
              "      <td>0</td>\n",
              "      <td>0</td>\n",
              "      <td>0</td>\n",
              "      <td>0</td>\n",
              "      <td>1</td>\n",
              "      <td>0</td>\n",
              "      <td>0</td>\n",
              "      <td>0</td>\n",
              "      <td>1</td>\n",
              "      <td>0</td>\n",
              "      <td>1</td>\n",
              "      <td>0.0</td>\n",
              "      <td>1.0</td>\n",
              "      <td>0.0</td>\n",
              "      <td>0.0</td>\n",
              "      <td>0</td>\n",
              "      <td>0</td>\n",
              "      <td>Agency Type was found to be Travel Agency whil...</td>\n",
              "    </tr>\n",
              "    <tr>\n",
              "      <th>1</th>\n",
              "      <td>24.0</td>\n",
              "      <td>0</td>\n",
              "      <td>0.0</td>\n",
              "      <td>47</td>\n",
              "      <td>0</td>\n",
              "      <td>1</td>\n",
              "      <td>1</td>\n",
              "      <td>36</td>\n",
              "      <td>0</td>\n",
              "      <td>0</td>\n",
              "      <td>0</td>\n",
              "      <td>0</td>\n",
              "      <td>1</td>\n",
              "      <td>0</td>\n",
              "      <td>0</td>\n",
              "      <td>0</td>\n",
              "      <td>1</td>\n",
              "      <td>0</td>\n",
              "      <td>0</td>\n",
              "      <td>0.0</td>\n",
              "      <td>1.0</td>\n",
              "      <td>0.0</td>\n",
              "      <td>0.0</td>\n",
              "      <td>0</td>\n",
              "      <td>0</td>\n",
              "      <td>Agency Type was found to be Travel Agency whil...</td>\n",
              "    </tr>\n",
              "  </tbody>\n",
              "</table>\n",
              "</div>"
            ],
            "text/plain": [
              "   Net Sales  ...                                          Reasoning\n",
              "0       20.0  ...  Agency Type was found to be Travel Agency whil...\n",
              "1       24.0  ...  Agency Type was found to be Travel Agency whil...\n",
              "\n",
              "[2 rows x 26 columns]"
            ]
          },
          "metadata": {
            "tags": []
          },
          "execution_count": 224
        }
      ]
    },
    {
      "cell_type": "code",
      "metadata": {
        "id": "orC8xq_UhOd_",
        "colab_type": "code",
        "colab": {
          "base_uri": "https://localhost:8080/",
          "height": 1000
        },
        "outputId": "86d625b1-eb64-4e46-c036-20d685e22aee"
      },
      "source": [
        "df_res[df_res['Actual'] == 1]"
      ],
      "execution_count": 205,
      "outputs": [
        {
          "output_type": "execute_result",
          "data": {
            "text/html": [
              "<div>\n",
              "<style scoped>\n",
              "    .dataframe tbody tr th:only-of-type {\n",
              "        vertical-align: middle;\n",
              "    }\n",
              "\n",
              "    .dataframe tbody tr th {\n",
              "        vertical-align: top;\n",
              "    }\n",
              "\n",
              "    .dataframe thead th {\n",
              "        text-align: right;\n",
              "    }\n",
              "</style>\n",
              "<table border=\"1\" class=\"dataframe\">\n",
              "  <thead>\n",
              "    <tr style=\"text-align: right;\">\n",
              "      <th></th>\n",
              "      <th>Net Sales</th>\n",
              "      <th>Agency_C2B</th>\n",
              "      <th>Commision (in value)</th>\n",
              "      <th>Duration</th>\n",
              "      <th>Destination_SINGAPORE</th>\n",
              "      <th>Agency Type_Travel Agency</th>\n",
              "      <th>Gender_N</th>\n",
              "      <th>Age</th>\n",
              "      <th>Agency Type_Airlines</th>\n",
              "      <th>Product Name_Cancellation Plan</th>\n",
              "      <th>Agency_JZI</th>\n",
              "      <th>Gender_F</th>\n",
              "      <th>Agency_EPX</th>\n",
              "      <th>Product Name_Bronze Plan</th>\n",
              "      <th>Product Name_Annual Silver Plan</th>\n",
              "      <th>Gender_M</th>\n",
              "      <th>Product Name_2 way Comprehensive Plan</th>\n",
              "      <th>Product Name_Basic Plan</th>\n",
              "      <th>Destination_CHINA</th>\n",
              "      <th>TP</th>\n",
              "      <th>TN</th>\n",
              "      <th>FP</th>\n",
              "      <th>FN</th>\n",
              "      <th>Actual</th>\n",
              "      <th>Predicted</th>\n",
              "      <th>Reasoning</th>\n",
              "    </tr>\n",
              "  </thead>\n",
              "  <tbody>\n",
              "    <tr>\n",
              "      <th>67</th>\n",
              "      <td>432.00</td>\n",
              "      <td>1</td>\n",
              "      <td>108.00</td>\n",
              "      <td>367</td>\n",
              "      <td>1</td>\n",
              "      <td>0</td>\n",
              "      <td>0</td>\n",
              "      <td>52</td>\n",
              "      <td>1</td>\n",
              "      <td>0</td>\n",
              "      <td>0</td>\n",
              "      <td>0</td>\n",
              "      <td>0</td>\n",
              "      <td>0</td>\n",
              "      <td>1</td>\n",
              "      <td>1</td>\n",
              "      <td>0</td>\n",
              "      <td>0</td>\n",
              "      <td>0</td>\n",
              "      <td>1.0</td>\n",
              "      <td>0.0</td>\n",
              "      <td>0.0</td>\n",
              "      <td>0.0</td>\n",
              "      <td>1</td>\n",
              "      <td>1</td>\n",
              "      <td>Agency was found to be C2B, Destination was fo...</td>\n",
              "    </tr>\n",
              "    <tr>\n",
              "      <th>115</th>\n",
              "      <td>62.25</td>\n",
              "      <td>1</td>\n",
              "      <td>15.56</td>\n",
              "      <td>11</td>\n",
              "      <td>1</td>\n",
              "      <td>0</td>\n",
              "      <td>0</td>\n",
              "      <td>33</td>\n",
              "      <td>1</td>\n",
              "      <td>0</td>\n",
              "      <td>0</td>\n",
              "      <td>0</td>\n",
              "      <td>0</td>\n",
              "      <td>0</td>\n",
              "      <td>0</td>\n",
              "      <td>1</td>\n",
              "      <td>0</td>\n",
              "      <td>0</td>\n",
              "      <td>0</td>\n",
              "      <td>1.0</td>\n",
              "      <td>0.0</td>\n",
              "      <td>0.0</td>\n",
              "      <td>0.0</td>\n",
              "      <td>1</td>\n",
              "      <td>1</td>\n",
              "      <td>Agency was found to be C2B, Destination was fo...</td>\n",
              "    </tr>\n",
              "    <tr>\n",
              "      <th>149</th>\n",
              "      <td>39.00</td>\n",
              "      <td>1</td>\n",
              "      <td>9.75</td>\n",
              "      <td>70</td>\n",
              "      <td>1</td>\n",
              "      <td>0</td>\n",
              "      <td>0</td>\n",
              "      <td>36</td>\n",
              "      <td>1</td>\n",
              "      <td>0</td>\n",
              "      <td>0</td>\n",
              "      <td>1</td>\n",
              "      <td>0</td>\n",
              "      <td>0</td>\n",
              "      <td>0</td>\n",
              "      <td>0</td>\n",
              "      <td>0</td>\n",
              "      <td>0</td>\n",
              "      <td>0</td>\n",
              "      <td>1.0</td>\n",
              "      <td>0.0</td>\n",
              "      <td>0.0</td>\n",
              "      <td>0.0</td>\n",
              "      <td>1</td>\n",
              "      <td>1</td>\n",
              "      <td>Agency was found to be C2B, Destination was fo...</td>\n",
              "    </tr>\n",
              "    <tr>\n",
              "      <th>207</th>\n",
              "      <td>252.85</td>\n",
              "      <td>1</td>\n",
              "      <td>63.21</td>\n",
              "      <td>413</td>\n",
              "      <td>1</td>\n",
              "      <td>0</td>\n",
              "      <td>0</td>\n",
              "      <td>31</td>\n",
              "      <td>1</td>\n",
              "      <td>0</td>\n",
              "      <td>0</td>\n",
              "      <td>1</td>\n",
              "      <td>0</td>\n",
              "      <td>0</td>\n",
              "      <td>1</td>\n",
              "      <td>0</td>\n",
              "      <td>0</td>\n",
              "      <td>0</td>\n",
              "      <td>0</td>\n",
              "      <td>1.0</td>\n",
              "      <td>0.0</td>\n",
              "      <td>0.0</td>\n",
              "      <td>0.0</td>\n",
              "      <td>1</td>\n",
              "      <td>1</td>\n",
              "      <td>Agency was found to be C2B, Destination was fo...</td>\n",
              "    </tr>\n",
              "    <tr>\n",
              "      <th>236</th>\n",
              "      <td>29.50</td>\n",
              "      <td>1</td>\n",
              "      <td>7.38</td>\n",
              "      <td>11</td>\n",
              "      <td>1</td>\n",
              "      <td>0</td>\n",
              "      <td>0</td>\n",
              "      <td>33</td>\n",
              "      <td>1</td>\n",
              "      <td>0</td>\n",
              "      <td>0</td>\n",
              "      <td>0</td>\n",
              "      <td>0</td>\n",
              "      <td>1</td>\n",
              "      <td>0</td>\n",
              "      <td>1</td>\n",
              "      <td>0</td>\n",
              "      <td>0</td>\n",
              "      <td>0</td>\n",
              "      <td>1.0</td>\n",
              "      <td>0.0</td>\n",
              "      <td>0.0</td>\n",
              "      <td>0.0</td>\n",
              "      <td>1</td>\n",
              "      <td>1</td>\n",
              "      <td>Agency was found to be C2B, Destination was fo...</td>\n",
              "    </tr>\n",
              "    <tr>\n",
              "      <th>...</th>\n",
              "      <td>...</td>\n",
              "      <td>...</td>\n",
              "      <td>...</td>\n",
              "      <td>...</td>\n",
              "      <td>...</td>\n",
              "      <td>...</td>\n",
              "      <td>...</td>\n",
              "      <td>...</td>\n",
              "      <td>...</td>\n",
              "      <td>...</td>\n",
              "      <td>...</td>\n",
              "      <td>...</td>\n",
              "      <td>...</td>\n",
              "      <td>...</td>\n",
              "      <td>...</td>\n",
              "      <td>...</td>\n",
              "      <td>...</td>\n",
              "      <td>...</td>\n",
              "      <td>...</td>\n",
              "      <td>...</td>\n",
              "      <td>...</td>\n",
              "      <td>...</td>\n",
              "      <td>...</td>\n",
              "      <td>...</td>\n",
              "      <td>...</td>\n",
              "      <td>...</td>\n",
              "    </tr>\n",
              "    <tr>\n",
              "      <th>15345</th>\n",
              "      <td>26.50</td>\n",
              "      <td>1</td>\n",
              "      <td>6.63</td>\n",
              "      <td>52</td>\n",
              "      <td>1</td>\n",
              "      <td>0</td>\n",
              "      <td>0</td>\n",
              "      <td>74</td>\n",
              "      <td>1</td>\n",
              "      <td>0</td>\n",
              "      <td>0</td>\n",
              "      <td>0</td>\n",
              "      <td>0</td>\n",
              "      <td>1</td>\n",
              "      <td>0</td>\n",
              "      <td>1</td>\n",
              "      <td>0</td>\n",
              "      <td>0</td>\n",
              "      <td>0</td>\n",
              "      <td>1.0</td>\n",
              "      <td>0.0</td>\n",
              "      <td>0.0</td>\n",
              "      <td>0.0</td>\n",
              "      <td>1</td>\n",
              "      <td>1</td>\n",
              "      <td>Agency was found to be C2B, Destination was fo...</td>\n",
              "    </tr>\n",
              "    <tr>\n",
              "      <th>15425</th>\n",
              "      <td>27.00</td>\n",
              "      <td>1</td>\n",
              "      <td>6.75</td>\n",
              "      <td>10</td>\n",
              "      <td>1</td>\n",
              "      <td>0</td>\n",
              "      <td>0</td>\n",
              "      <td>23</td>\n",
              "      <td>1</td>\n",
              "      <td>0</td>\n",
              "      <td>0</td>\n",
              "      <td>0</td>\n",
              "      <td>0</td>\n",
              "      <td>1</td>\n",
              "      <td>0</td>\n",
              "      <td>1</td>\n",
              "      <td>0</td>\n",
              "      <td>0</td>\n",
              "      <td>0</td>\n",
              "      <td>1.0</td>\n",
              "      <td>0.0</td>\n",
              "      <td>0.0</td>\n",
              "      <td>0.0</td>\n",
              "      <td>1</td>\n",
              "      <td>1</td>\n",
              "      <td>Agency was found to be C2B, Destination was fo...</td>\n",
              "    </tr>\n",
              "    <tr>\n",
              "      <th>15433</th>\n",
              "      <td>22.10</td>\n",
              "      <td>1</td>\n",
              "      <td>5.53</td>\n",
              "      <td>31</td>\n",
              "      <td>1</td>\n",
              "      <td>0</td>\n",
              "      <td>0</td>\n",
              "      <td>24</td>\n",
              "      <td>1</td>\n",
              "      <td>0</td>\n",
              "      <td>0</td>\n",
              "      <td>1</td>\n",
              "      <td>0</td>\n",
              "      <td>1</td>\n",
              "      <td>0</td>\n",
              "      <td>0</td>\n",
              "      <td>0</td>\n",
              "      <td>0</td>\n",
              "      <td>0</td>\n",
              "      <td>1.0</td>\n",
              "      <td>0.0</td>\n",
              "      <td>0.0</td>\n",
              "      <td>0.0</td>\n",
              "      <td>1</td>\n",
              "      <td>1</td>\n",
              "      <td>Agency was found to be C2B, Destination was fo...</td>\n",
              "    </tr>\n",
              "    <tr>\n",
              "      <th>15459</th>\n",
              "      <td>252.85</td>\n",
              "      <td>1</td>\n",
              "      <td>63.21</td>\n",
              "      <td>367</td>\n",
              "      <td>1</td>\n",
              "      <td>0</td>\n",
              "      <td>0</td>\n",
              "      <td>45</td>\n",
              "      <td>1</td>\n",
              "      <td>0</td>\n",
              "      <td>0</td>\n",
              "      <td>0</td>\n",
              "      <td>0</td>\n",
              "      <td>0</td>\n",
              "      <td>1</td>\n",
              "      <td>1</td>\n",
              "      <td>0</td>\n",
              "      <td>0</td>\n",
              "      <td>0</td>\n",
              "      <td>1.0</td>\n",
              "      <td>0.0</td>\n",
              "      <td>0.0</td>\n",
              "      <td>0.0</td>\n",
              "      <td>1</td>\n",
              "      <td>1</td>\n",
              "      <td>Agency was found to be C2B, Destination was fo...</td>\n",
              "    </tr>\n",
              "    <tr>\n",
              "      <th>15481</th>\n",
              "      <td>76.30</td>\n",
              "      <td>1</td>\n",
              "      <td>19.07</td>\n",
              "      <td>13</td>\n",
              "      <td>1</td>\n",
              "      <td>0</td>\n",
              "      <td>0</td>\n",
              "      <td>35</td>\n",
              "      <td>1</td>\n",
              "      <td>0</td>\n",
              "      <td>0</td>\n",
              "      <td>1</td>\n",
              "      <td>0</td>\n",
              "      <td>0</td>\n",
              "      <td>0</td>\n",
              "      <td>0</td>\n",
              "      <td>0</td>\n",
              "      <td>0</td>\n",
              "      <td>0</td>\n",
              "      <td>1.0</td>\n",
              "      <td>0.0</td>\n",
              "      <td>0.0</td>\n",
              "      <td>0.0</td>\n",
              "      <td>1</td>\n",
              "      <td>1</td>\n",
              "      <td>Agency was found to be C2B, Destination was fo...</td>\n",
              "    </tr>\n",
              "  </tbody>\n",
              "</table>\n",
              "<p>229 rows × 26 columns</p>\n",
              "</div>"
            ],
            "text/plain": [
              "       Net Sales  ...                                          Reasoning\n",
              "67        432.00  ...  Agency was found to be C2B, Destination was fo...\n",
              "115        62.25  ...  Agency was found to be C2B, Destination was fo...\n",
              "149        39.00  ...  Agency was found to be C2B, Destination was fo...\n",
              "207       252.85  ...  Agency was found to be C2B, Destination was fo...\n",
              "236        29.50  ...  Agency was found to be C2B, Destination was fo...\n",
              "...          ...  ...                                                ...\n",
              "15345      26.50  ...  Agency was found to be C2B, Destination was fo...\n",
              "15425      27.00  ...  Agency was found to be C2B, Destination was fo...\n",
              "15433      22.10  ...  Agency was found to be C2B, Destination was fo...\n",
              "15459     252.85  ...  Agency was found to be C2B, Destination was fo...\n",
              "15481      76.30  ...  Agency was found to be C2B, Destination was fo...\n",
              "\n",
              "[229 rows x 26 columns]"
            ]
          },
          "metadata": {
            "tags": []
          },
          "execution_count": 205
        }
      ]
    },
    {
      "cell_type": "code",
      "metadata": {
        "id": "qt8BHvBLhbD8",
        "colab_type": "code",
        "colab": {
          "base_uri": "https://localhost:8080/",
          "height": 255
        },
        "outputId": "df3fe1f1-77b0-4f5e-9810-a61f54a3c175"
      },
      "source": [
        "print(df_res[['Predicted','Reasoning']])"
      ],
      "execution_count": 206,
      "outputs": [
        {
          "output_type": "stream",
          "text": [
            "       Predicted                                          Reasoning\n",
            "0              0  Agency Type was found to be Travel Agency whil...\n",
            "1              0  Agency Type was found to be Travel Agency whil...\n",
            "2              0  Agency Type was found to be Travel Agency whil...\n",
            "3              0  Agency Type was found to be Travel Agency whil...\n",
            "4              0  Agency Type was found to be Travel Agency whil...\n",
            "...          ...                                                ...\n",
            "15581          0  Agency Type was found to be Travel Agency whil...\n",
            "15582          0  Agency Type was found to be Travel Agency whil...\n",
            "15583          0  Commision (in value) value was large & Net Sal...\n",
            "15584          1  Agency was found to be C2B, Destination was fo...\n",
            "15585          0  Agency Type was found to be Travel Agency whil...\n",
            "\n",
            "[15586 rows x 2 columns]\n"
          ],
          "name": "stdout"
        }
      ]
    },
    {
      "cell_type": "code",
      "metadata": {
        "id": "LG3NCa2Q2Pp1",
        "colab_type": "code",
        "colab": {
          "base_uri": "https://localhost:8080/",
          "height": 309
        },
        "outputId": "759725ff-7044-43d8-a442-14f07ce89e08"
      },
      "source": [
        "print(df_res[['Actual', 'Predicted', 'Reasoning']][0:15].to_string())"
      ],
      "execution_count": 207,
      "outputs": [
        {
          "output_type": "stream",
          "text": [
            "    Actual  Predicted                                                                                                                                            Reasoning\n",
            "0        0          0                                         Agency Type was found to be Travel Agency while Net Sales, Commision (in value) and Duration value was small\n",
            "1        0          0                                         Agency Type was found to be Travel Agency while Net Sales, Commision (in value) and Duration value was small\n",
            "2        0          0                        Agency Type was found to be Travel Agency while Commision (in value) and Duration value was large & Net Sales value was small\n",
            "3        0          0                        Agency Type was found to be Travel Agency while Net Sales and Duration value was large & Commision (in value) value was small\n",
            "4        0          0                        Agency Type was found to be Travel Agency while Duration value was large & Net Sales and Commision (in value) value was small\n",
            "5        0          0                                         Agency Type was found to be Travel Agency while Net Sales, Commision (in value) and Duration value was small\n",
            "6        0          0                                                                        Commision (in value) value was large & Net Sales and Duration value was small\n",
            "7        0          0                        Agency Type was found to be Travel Agency while Net Sales value was large & Commision (in value) and Duration value was small\n",
            "8        0          0                                                                        Commision (in value) value was large & Net Sales and Duration value was small\n",
            "9        0          0                                         Agency Type was found to be Travel Agency while Net Sales, Commision (in value) and Duration value was small\n",
            "10       0          0                        Agency Type was found to be Travel Agency while Net Sales and Duration value was large & Commision (in value) value was small\n",
            "11       0          0                        Agency Type was found to be Travel Agency while Net Sales value was large & Commision (in value) and Duration value was small\n",
            "12       0          0                                         Agency Type was found to be Travel Agency while Net Sales, Commision (in value) and Duration value was small\n",
            "13       0          0  Destination was found to be SINGAPORE, Agency Type was found to be Travel Agency while Net Sales, Commision (in value) and Duration value was small\n",
            "14       0          0  Destination was found to be SINGAPORE, Agency Type was found to be Travel Agency while Net Sales, Commision (in value) and Duration value was small\n"
          ],
          "name": "stdout"
        }
      ]
    },
    {
      "cell_type": "code",
      "metadata": {
        "id": "Ti-V5Hdq5yMK",
        "colab_type": "code",
        "colab": {
          "base_uri": "https://localhost:8080/",
          "height": 309
        },
        "outputId": "8e64fba2-1434-49ca-8b0c-81c4c03200bd"
      },
      "source": [
        "print(df_res[df_res['TP'] == 1][['Actual', 'Predicted', 'Reasoning']][0:15].to_string())"
      ],
      "execution_count": 208,
      "outputs": [
        {
          "output_type": "stream",
          "text": [
            "      Actual  Predicted                                                                                                                                              Reasoning\n",
            "67         1          1                   Agency was found to be C2B, Destination was found to be SINGAPORE while Net Sales, Commision (in value) and Duration value was large\n",
            "115        1          1  Agency was found to be C2B, Destination was found to be SINGAPORE while Net Sales and Commision (in value) value was large & Duration value was small\n",
            "149        1          1  Agency was found to be C2B, Destination was found to be SINGAPORE while Commision (in value) and Duration value was large & Net Sales value was small\n",
            "207        1          1                   Agency was found to be C2B, Destination was found to be SINGAPORE while Net Sales, Commision (in value) and Duration value was large\n",
            "236        1          1                   Agency was found to be C2B, Destination was found to be SINGAPORE while Net Sales, Commision (in value) and Duration value was small\n",
            "336        1          1                                           Agency Type was found to be Travel Agency while Net Sales, Commision (in value) and Duration value was large\n",
            "509        1          1  Agency was found to be C2B, Destination was found to be SINGAPORE while Net Sales and Commision (in value) value was large & Duration value was small\n",
            "616        1          1                   Agency was found to be C2B, Destination was found to be SINGAPORE while Net Sales, Commision (in value) and Duration value was large\n",
            "682        1          1                   Agency was found to be C2B, Destination was found to be SINGAPORE while Net Sales, Commision (in value) and Duration value was small\n",
            "694        1          1                          Agency Type was found to be Travel Agency while Net Sales and Duration value was large & Commision (in value) value was small\n",
            "710        1          1  Agency was found to be C2B, Destination was found to be SINGAPORE while Net Sales and Commision (in value) value was large & Duration value was small\n",
            "800        1          1                   Agency was found to be C2B, Destination was found to be SINGAPORE while Net Sales, Commision (in value) and Duration value was small\n",
            "863        1          1                   Agency was found to be C2B, Destination was found to be SINGAPORE while Net Sales, Commision (in value) and Duration value was small\n",
            "969        1          1                   Agency was found to be C2B, Destination was found to be SINGAPORE while Net Sales, Commision (in value) and Duration value was large\n",
            "1059       1          1                                                                                           Net Sales, Commision (in value) and Duration value was large\n"
          ],
          "name": "stdout"
        }
      ]
    },
    {
      "cell_type": "code",
      "metadata": {
        "id": "H6x08JLqtFYl",
        "colab_type": "code",
        "colab": {
          "base_uri": "https://localhost:8080/",
          "height": 34
        },
        "outputId": "2d33ed1c-f070-425a-9e60-fe402e8a4234"
      },
      "source": [
        "len(df_res.Reasoning.unique())"
      ],
      "execution_count": 209,
      "outputs": [
        {
          "output_type": "execute_result",
          "data": {
            "text/plain": [
              "30"
            ]
          },
          "metadata": {
            "tags": []
          },
          "execution_count": 209
        }
      ]
    },
    {
      "cell_type": "code",
      "metadata": {
        "id": "m9yX1zA9uGyE",
        "colab_type": "code",
        "colab": {
          "base_uri": "https://localhost:8080/",
          "height": 564
        },
        "outputId": "b7fd30f4-4c03-425b-91d8-ca1b7c78b1cc"
      },
      "source": [
        "df_res.Reasoning.unique()"
      ],
      "execution_count": 210,
      "outputs": [
        {
          "output_type": "execute_result",
          "data": {
            "text/plain": [
              "array(['Agency Type was found to be Travel Agency while Net Sales, Commision (in value) and Duration value was small',\n",
              "       'Agency Type was found to be Travel Agency while Commision (in value) and Duration value was large & Net Sales value was small',\n",
              "       'Agency Type was found to be Travel Agency while Net Sales and Duration value was large & Commision (in value) value was small',\n",
              "       'Agency Type was found to be Travel Agency while Duration value was large & Net Sales and Commision (in value) value was small',\n",
              "       'Commision (in value) value was large & Net Sales and Duration value was small',\n",
              "       'Agency Type was found to be Travel Agency while Net Sales value was large & Commision (in value) and Duration value was small',\n",
              "       'Destination was found to be SINGAPORE, Agency Type was found to be Travel Agency while Net Sales, Commision (in value) and Duration value was small',\n",
              "       'Net Sales, Commision (in value) and Duration value was small',\n",
              "       'Agency Type was found to be Travel Agency while Net Sales and Commision (in value) value was large & Duration value was small',\n",
              "       'Agency was found to be C2B, Destination was found to be SINGAPORE while Commision (in value) and Duration value was large & Net Sales value was small',\n",
              "       'Destination was found to be SINGAPORE, Agency Type was found to be Travel Agency while Net Sales value was large & Commision (in value) and Duration value was small',\n",
              "       'Destination was found to be SINGAPORE while Net Sales, Commision (in value) and Duration value was small',\n",
              "       'Agency was found to be C2B, Destination was found to be SINGAPORE while Net Sales, Commision (in value) and Duration value was small',\n",
              "       'Agency Type was found to be Travel Agency while Net Sales, Commision (in value) and Duration value was large',\n",
              "       'Destination was found to be SINGAPORE, Agency Type was found to be Travel Agency while Duration value was large & Net Sales and Commision (in value) value was small',\n",
              "       'Destination was found to be SINGAPORE, Agency Type was found to be Travel Agency while Net Sales and Duration value was large & Commision (in value) value was small',\n",
              "       'Agency was found to be C2B, Destination was found to be SINGAPORE while Net Sales, Commision (in value) and Duration value was large',\n",
              "       'Agency Type was found to be Travel Agency while Commision (in value) value was large & Net Sales and Duration value was small',\n",
              "       'Agency was found to be C2B, Destination was found to be SINGAPORE while Net Sales and Commision (in value) value was large & Duration value was small',\n",
              "       'Agency was found to be C2B, Destination was found to be SINGAPORE while Commision (in value) value was large & Net Sales and Duration value was small',\n",
              "       'Net Sales and Commision (in value) value was large & Duration value was small',\n",
              "       'Agency was found to be C2B, Destination was found to be SINGAPORE while Duration value was large & Net Sales and Commision (in value) value was small',\n",
              "       'Net Sales, Commision (in value) and Duration value was large',\n",
              "       'Destination was found to be SINGAPORE while Duration value was large & Net Sales and Commision (in value) value was small',\n",
              "       'Duration value was large & Net Sales and Commision (in value) value was small',\n",
              "       'Commision (in value) and Duration value was large & Net Sales value was small',\n",
              "       'Destination was found to be SINGAPORE, Agency Type was found to be Travel Agency while Net Sales and Commision (in value) value was large & Duration value was small',\n",
              "       'Destination was found to be SINGAPORE while Commision (in value) value was large & Net Sales and Duration value was small',\n",
              "       'Destination was found to be SINGAPORE, Agency Type was found to be Travel Agency while Commision (in value) value was large & Net Sales and Duration value was small',\n",
              "       'Destination was found to be SINGAPORE, Agency Type was found to be Travel Agency while Commision (in value) and Duration value was large & Net Sales value was small'],\n",
              "      dtype=object)"
            ]
          },
          "metadata": {
            "tags": []
          },
          "execution_count": 210
        }
      ]
    },
    {
      "cell_type": "code",
      "metadata": {
        "id": "uKNNMc4-vgdT",
        "colab_type": "code",
        "colab": {
          "base_uri": "https://localhost:8080/",
          "height": 1000
        },
        "outputId": "d1e3b041-c212-42af-d328-931b38358a61"
      },
      "source": [
        "df_res.groupby('Reasoning').sum()[['Predicted','Actual','TP','TN','FP','FN']]"
      ],
      "execution_count": 223,
      "outputs": [
        {
          "output_type": "execute_result",
          "data": {
            "text/html": [
              "<div>\n",
              "<style scoped>\n",
              "    .dataframe tbody tr th:only-of-type {\n",
              "        vertical-align: middle;\n",
              "    }\n",
              "\n",
              "    .dataframe tbody tr th {\n",
              "        vertical-align: top;\n",
              "    }\n",
              "\n",
              "    .dataframe thead th {\n",
              "        text-align: right;\n",
              "    }\n",
              "</style>\n",
              "<table border=\"1\" class=\"dataframe\">\n",
              "  <thead>\n",
              "    <tr style=\"text-align: right;\">\n",
              "      <th></th>\n",
              "      <th>Predicted</th>\n",
              "      <th>Actual</th>\n",
              "      <th>TP</th>\n",
              "      <th>TN</th>\n",
              "      <th>FP</th>\n",
              "      <th>FN</th>\n",
              "    </tr>\n",
              "    <tr>\n",
              "      <th>Reasoning</th>\n",
              "      <th></th>\n",
              "      <th></th>\n",
              "      <th></th>\n",
              "      <th></th>\n",
              "      <th></th>\n",
              "      <th></th>\n",
              "    </tr>\n",
              "  </thead>\n",
              "  <tbody>\n",
              "    <tr>\n",
              "      <th>Agency Type was found to be Travel Agency while Commision (in value) and Duration value was large &amp; Net Sales value was small</th>\n",
              "      <td>33</td>\n",
              "      <td>0</td>\n",
              "      <td>0.0</td>\n",
              "      <td>275.0</td>\n",
              "      <td>33.0</td>\n",
              "      <td>0.0</td>\n",
              "    </tr>\n",
              "    <tr>\n",
              "      <th>Agency Type was found to be Travel Agency while Commision (in value) value was large &amp; Net Sales and Duration value was small</th>\n",
              "      <td>86</td>\n",
              "      <td>8</td>\n",
              "      <td>2.0</td>\n",
              "      <td>754.0</td>\n",
              "      <td>84.0</td>\n",
              "      <td>6.0</td>\n",
              "    </tr>\n",
              "    <tr>\n",
              "      <th>Agency Type was found to be Travel Agency while Duration value was large &amp; Net Sales and Commision (in value) value was small</th>\n",
              "      <td>32</td>\n",
              "      <td>9</td>\n",
              "      <td>0.0</td>\n",
              "      <td>1343.0</td>\n",
              "      <td>32.0</td>\n",
              "      <td>9.0</td>\n",
              "    </tr>\n",
              "    <tr>\n",
              "      <th>Agency Type was found to be Travel Agency while Net Sales and Commision (in value) value was large &amp; Duration value was small</th>\n",
              "      <td>407</td>\n",
              "      <td>11</td>\n",
              "      <td>7.0</td>\n",
              "      <td>204.0</td>\n",
              "      <td>400.0</td>\n",
              "      <td>4.0</td>\n",
              "    </tr>\n",
              "    <tr>\n",
              "      <th>Agency Type was found to be Travel Agency while Net Sales and Duration value was large &amp; Commision (in value) value was small</th>\n",
              "      <td>119</td>\n",
              "      <td>8</td>\n",
              "      <td>3.0</td>\n",
              "      <td>622.0</td>\n",
              "      <td>116.0</td>\n",
              "      <td>5.0</td>\n",
              "    </tr>\n",
              "    <tr>\n",
              "      <th>Agency Type was found to be Travel Agency while Net Sales value was large &amp; Commision (in value) and Duration value was small</th>\n",
              "      <td>83</td>\n",
              "      <td>13</td>\n",
              "      <td>2.0</td>\n",
              "      <td>1219.0</td>\n",
              "      <td>81.0</td>\n",
              "      <td>11.0</td>\n",
              "    </tr>\n",
              "    <tr>\n",
              "      <th>Agency Type was found to be Travel Agency while Net Sales, Commision (in value) and Duration value was large</th>\n",
              "      <td>310</td>\n",
              "      <td>9</td>\n",
              "      <td>9.0</td>\n",
              "      <td>91.0</td>\n",
              "      <td>301.0</td>\n",
              "      <td>0.0</td>\n",
              "    </tr>\n",
              "    <tr>\n",
              "      <th>Agency Type was found to be Travel Agency while Net Sales, Commision (in value) and Duration value was small</th>\n",
              "      <td>45</td>\n",
              "      <td>21</td>\n",
              "      <td>0.0</td>\n",
              "      <td>4784.0</td>\n",
              "      <td>45.0</td>\n",
              "      <td>21.0</td>\n",
              "    </tr>\n",
              "    <tr>\n",
              "      <th>Agency was found to be C2B, Destination was found to be SINGAPORE while Commision (in value) and Duration value was large &amp; Net Sales value was small</th>\n",
              "      <td>18</td>\n",
              "      <td>1</td>\n",
              "      <td>1.0</td>\n",
              "      <td>0.0</td>\n",
              "      <td>17.0</td>\n",
              "      <td>0.0</td>\n",
              "    </tr>\n",
              "    <tr>\n",
              "      <th>Agency was found to be C2B, Destination was found to be SINGAPORE while Commision (in value) value was large &amp; Net Sales and Duration value was small</th>\n",
              "      <td>104</td>\n",
              "      <td>6</td>\n",
              "      <td>6.0</td>\n",
              "      <td>0.0</td>\n",
              "      <td>98.0</td>\n",
              "      <td>0.0</td>\n",
              "    </tr>\n",
              "    <tr>\n",
              "      <th>Agency was found to be C2B, Destination was found to be SINGAPORE while Duration value was large &amp; Net Sales and Commision (in value) value was small</th>\n",
              "      <td>91</td>\n",
              "      <td>7</td>\n",
              "      <td>7.0</td>\n",
              "      <td>5.0</td>\n",
              "      <td>84.0</td>\n",
              "      <td>0.0</td>\n",
              "    </tr>\n",
              "    <tr>\n",
              "      <th>Agency was found to be C2B, Destination was found to be SINGAPORE while Net Sales and Commision (in value) value was large &amp; Duration value was small</th>\n",
              "      <td>359</td>\n",
              "      <td>23</td>\n",
              "      <td>23.0</td>\n",
              "      <td>0.0</td>\n",
              "      <td>336.0</td>\n",
              "      <td>0.0</td>\n",
              "    </tr>\n",
              "    <tr>\n",
              "      <th>Agency was found to be C2B, Destination was found to be SINGAPORE while Net Sales, Commision (in value) and Duration value was large</th>\n",
              "      <td>550</td>\n",
              "      <td>57</td>\n",
              "      <td>57.0</td>\n",
              "      <td>0.0</td>\n",
              "      <td>493.0</td>\n",
              "      <td>0.0</td>\n",
              "    </tr>\n",
              "    <tr>\n",
              "      <th>Agency was found to be C2B, Destination was found to be SINGAPORE while Net Sales, Commision (in value) and Duration value was small</th>\n",
              "      <td>934</td>\n",
              "      <td>41</td>\n",
              "      <td>41.0</td>\n",
              "      <td>14.0</td>\n",
              "      <td>893.0</td>\n",
              "      <td>0.0</td>\n",
              "    </tr>\n",
              "    <tr>\n",
              "      <th>Commision (in value) and Duration value was large &amp; Net Sales value was small</th>\n",
              "      <td>0</td>\n",
              "      <td>2</td>\n",
              "      <td>0.0</td>\n",
              "      <td>175.0</td>\n",
              "      <td>0.0</td>\n",
              "      <td>2.0</td>\n",
              "    </tr>\n",
              "    <tr>\n",
              "      <th>Commision (in value) value was large &amp; Net Sales and Duration value was small</th>\n",
              "      <td>0</td>\n",
              "      <td>4</td>\n",
              "      <td>0.0</td>\n",
              "      <td>461.0</td>\n",
              "      <td>0.0</td>\n",
              "      <td>4.0</td>\n",
              "    </tr>\n",
              "    <tr>\n",
              "      <th>Destination was found to be SINGAPORE while Commision (in value) value was large &amp; Net Sales and Duration value was small</th>\n",
              "      <td>0</td>\n",
              "      <td>0</td>\n",
              "      <td>0.0</td>\n",
              "      <td>1.0</td>\n",
              "      <td>0.0</td>\n",
              "      <td>0.0</td>\n",
              "    </tr>\n",
              "    <tr>\n",
              "      <th>Destination was found to be SINGAPORE while Duration value was large &amp; Net Sales and Commision (in value) value was small</th>\n",
              "      <td>0</td>\n",
              "      <td>0</td>\n",
              "      <td>0.0</td>\n",
              "      <td>115.0</td>\n",
              "      <td>0.0</td>\n",
              "      <td>0.0</td>\n",
              "    </tr>\n",
              "    <tr>\n",
              "      <th>Destination was found to be SINGAPORE while Net Sales, Commision (in value) and Duration value was small</th>\n",
              "      <td>0</td>\n",
              "      <td>1</td>\n",
              "      <td>0.0</td>\n",
              "      <td>110.0</td>\n",
              "      <td>0.0</td>\n",
              "      <td>1.0</td>\n",
              "    </tr>\n",
              "    <tr>\n",
              "      <th>Destination was found to be SINGAPORE, Agency Type was found to be Travel Agency while Commision (in value) and Duration value was large &amp; Net Sales value was small</th>\n",
              "      <td>0</td>\n",
              "      <td>0</td>\n",
              "      <td>0.0</td>\n",
              "      <td>1.0</td>\n",
              "      <td>0.0</td>\n",
              "      <td>0.0</td>\n",
              "    </tr>\n",
              "    <tr>\n",
              "      <th>Destination was found to be SINGAPORE, Agency Type was found to be Travel Agency while Commision (in value) value was large &amp; Net Sales and Duration value was small</th>\n",
              "      <td>0</td>\n",
              "      <td>0</td>\n",
              "      <td>0.0</td>\n",
              "      <td>1.0</td>\n",
              "      <td>0.0</td>\n",
              "      <td>0.0</td>\n",
              "    </tr>\n",
              "    <tr>\n",
              "      <th>Destination was found to be SINGAPORE, Agency Type was found to be Travel Agency while Duration value was large &amp; Net Sales and Commision (in value) value was small</th>\n",
              "      <td>0</td>\n",
              "      <td>0</td>\n",
              "      <td>0.0</td>\n",
              "      <td>105.0</td>\n",
              "      <td>0.0</td>\n",
              "      <td>0.0</td>\n",
              "    </tr>\n",
              "    <tr>\n",
              "      <th>Destination was found to be SINGAPORE, Agency Type was found to be Travel Agency while Net Sales and Commision (in value) value was large &amp; Duration value was small</th>\n",
              "      <td>1</td>\n",
              "      <td>0</td>\n",
              "      <td>0.0</td>\n",
              "      <td>1.0</td>\n",
              "      <td>1.0</td>\n",
              "      <td>0.0</td>\n",
              "    </tr>\n",
              "    <tr>\n",
              "      <th>Destination was found to be SINGAPORE, Agency Type was found to be Travel Agency while Net Sales and Duration value was large &amp; Commision (in value) value was small</th>\n",
              "      <td>22</td>\n",
              "      <td>2</td>\n",
              "      <td>2.0</td>\n",
              "      <td>67.0</td>\n",
              "      <td>20.0</td>\n",
              "      <td>0.0</td>\n",
              "    </tr>\n",
              "    <tr>\n",
              "      <th>Destination was found to be SINGAPORE, Agency Type was found to be Travel Agency while Net Sales value was large &amp; Commision (in value) and Duration value was small</th>\n",
              "      <td>0</td>\n",
              "      <td>0</td>\n",
              "      <td>0.0</td>\n",
              "      <td>124.0</td>\n",
              "      <td>0.0</td>\n",
              "      <td>0.0</td>\n",
              "    </tr>\n",
              "    <tr>\n",
              "      <th>Destination was found to be SINGAPORE, Agency Type was found to be Travel Agency while Net Sales, Commision (in value) and Duration value was small</th>\n",
              "      <td>0</td>\n",
              "      <td>0</td>\n",
              "      <td>0.0</td>\n",
              "      <td>663.0</td>\n",
              "      <td>0.0</td>\n",
              "      <td>0.0</td>\n",
              "    </tr>\n",
              "    <tr>\n",
              "      <th>Duration value was large &amp; Net Sales and Commision (in value) value was small</th>\n",
              "      <td>0</td>\n",
              "      <td>0</td>\n",
              "      <td>0.0</td>\n",
              "      <td>101.0</td>\n",
              "      <td>0.0</td>\n",
              "      <td>0.0</td>\n",
              "    </tr>\n",
              "    <tr>\n",
              "      <th>Net Sales and Commision (in value) value was large &amp; Duration value was small</th>\n",
              "      <td>2</td>\n",
              "      <td>1</td>\n",
              "      <td>0.0</td>\n",
              "      <td>162.0</td>\n",
              "      <td>2.0</td>\n",
              "      <td>1.0</td>\n",
              "    </tr>\n",
              "    <tr>\n",
              "      <th>Net Sales, Commision (in value) and Duration value was large</th>\n",
              "      <td>12</td>\n",
              "      <td>4</td>\n",
              "      <td>2.0</td>\n",
              "      <td>96.0</td>\n",
              "      <td>10.0</td>\n",
              "      <td>2.0</td>\n",
              "    </tr>\n",
              "    <tr>\n",
              "      <th>Net Sales, Commision (in value) and Duration value was small</th>\n",
              "      <td>0</td>\n",
              "      <td>1</td>\n",
              "      <td>0.0</td>\n",
              "      <td>817.0</td>\n",
              "      <td>0.0</td>\n",
              "      <td>1.0</td>\n",
              "    </tr>\n",
              "  </tbody>\n",
              "</table>\n",
              "</div>"
            ],
            "text/plain": [
              "                                                    Predicted  ...    FN\n",
              "Reasoning                                                      ...      \n",
              "Agency Type was found to be Travel Agency while...         33  ...   0.0\n",
              "Agency Type was found to be Travel Agency while...         86  ...   6.0\n",
              "Agency Type was found to be Travel Agency while...         32  ...   9.0\n",
              "Agency Type was found to be Travel Agency while...        407  ...   4.0\n",
              "Agency Type was found to be Travel Agency while...        119  ...   5.0\n",
              "Agency Type was found to be Travel Agency while...         83  ...  11.0\n",
              "Agency Type was found to be Travel Agency while...        310  ...   0.0\n",
              "Agency Type was found to be Travel Agency while...         45  ...  21.0\n",
              "Agency was found to be C2B, Destination was fou...         18  ...   0.0\n",
              "Agency was found to be C2B, Destination was fou...        104  ...   0.0\n",
              "Agency was found to be C2B, Destination was fou...         91  ...   0.0\n",
              "Agency was found to be C2B, Destination was fou...        359  ...   0.0\n",
              "Agency was found to be C2B, Destination was fou...        550  ...   0.0\n",
              "Agency was found to be C2B, Destination was fou...        934  ...   0.0\n",
              "Commision (in value) and Duration value was lar...          0  ...   2.0\n",
              "Commision (in value) value was large & Net Sale...          0  ...   4.0\n",
              "Destination was found to be SINGAPORE while Com...          0  ...   0.0\n",
              "Destination was found to be SINGAPORE while Dur...          0  ...   0.0\n",
              "Destination was found to be SINGAPORE while Net...          0  ...   1.0\n",
              "Destination was found to be SINGAPORE, Agency T...          0  ...   0.0\n",
              "Destination was found to be SINGAPORE, Agency T...          0  ...   0.0\n",
              "Destination was found to be SINGAPORE, Agency T...          0  ...   0.0\n",
              "Destination was found to be SINGAPORE, Agency T...          1  ...   0.0\n",
              "Destination was found to be SINGAPORE, Agency T...         22  ...   0.0\n",
              "Destination was found to be SINGAPORE, Agency T...          0  ...   0.0\n",
              "Destination was found to be SINGAPORE, Agency T...          0  ...   0.0\n",
              "Duration value was large & Net Sales and Commis...          0  ...   0.0\n",
              "Net Sales and Commision (in value) value was la...          2  ...   1.0\n",
              "Net Sales, Commision (in value) and Duration va...         12  ...   2.0\n",
              "Net Sales, Commision (in value) and Duration va...          0  ...   1.0\n",
              "\n",
              "[30 rows x 6 columns]"
            ]
          },
          "metadata": {
            "tags": []
          },
          "execution_count": 223
        }
      ]
    },
    {
      "cell_type": "code",
      "metadata": {
        "id": "EjgCZuKgNK1F",
        "colab_type": "code",
        "colab": {}
      },
      "source": [
        "a=df_res.groupby('Reasoning')"
      ],
      "execution_count": 211,
      "outputs": []
    },
    {
      "cell_type": "code",
      "metadata": {
        "id": "pOskRciWNWz3",
        "colab_type": "code",
        "colab": {
          "base_uri": "https://localhost:8080/",
          "height": 819
        },
        "outputId": "519dffbd-17f1-4d52-cf59-a211bcc1be53"
      },
      "source": [
        "a['Predicted'].value_counts()"
      ],
      "execution_count": 212,
      "outputs": [
        {
          "output_type": "execute_result",
          "data": {
            "text/plain": [
              "Reasoning                                                                                                                                                             Predicted\n",
              "Agency Type was found to be Travel Agency while Commision (in value) and Duration value was large & Net Sales value was small                                         0             275\n",
              "                                                                                                                                                                      1              33\n",
              "Agency Type was found to be Travel Agency while Commision (in value) value was large & Net Sales and Duration value was small                                         0             760\n",
              "                                                                                                                                                                      1              86\n",
              "Agency Type was found to be Travel Agency while Duration value was large & Net Sales and Commision (in value) value was small                                         0            1352\n",
              "                                                                                                                                                                      1              32\n",
              "Agency Type was found to be Travel Agency while Net Sales and Commision (in value) value was large & Duration value was small                                         1             407\n",
              "                                                                                                                                                                      0             208\n",
              "Agency Type was found to be Travel Agency while Net Sales and Duration value was large & Commision (in value) value was small                                         0             627\n",
              "                                                                                                                                                                      1             119\n",
              "Agency Type was found to be Travel Agency while Net Sales value was large & Commision (in value) and Duration value was small                                         0            1230\n",
              "                                                                                                                                                                      1              83\n",
              "Agency Type was found to be Travel Agency while Net Sales, Commision (in value) and Duration value was large                                                          1             310\n",
              "                                                                                                                                                                      0              91\n",
              "Agency Type was found to be Travel Agency while Net Sales, Commision (in value) and Duration value was small                                                          0            4805\n",
              "                                                                                                                                                                      1              45\n",
              "Agency was found to be C2B, Destination was found to be SINGAPORE while Commision (in value) and Duration value was large & Net Sales value was small                 1              18\n",
              "Agency was found to be C2B, Destination was found to be SINGAPORE while Commision (in value) value was large & Net Sales and Duration value was small                 1             104\n",
              "Agency was found to be C2B, Destination was found to be SINGAPORE while Duration value was large & Net Sales and Commision (in value) value was small                 1              91\n",
              "                                                                                                                                                                      0               5\n",
              "Agency was found to be C2B, Destination was found to be SINGAPORE while Net Sales and Commision (in value) value was large & Duration value was small                 1             359\n",
              "Agency was found to be C2B, Destination was found to be SINGAPORE while Net Sales, Commision (in value) and Duration value was large                                  1             550\n",
              "Agency was found to be C2B, Destination was found to be SINGAPORE while Net Sales, Commision (in value) and Duration value was small                                  1             934\n",
              "                                                                                                                                                                      0              14\n",
              "Commision (in value) and Duration value was large & Net Sales value was small                                                                                         0             177\n",
              "Commision (in value) value was large & Net Sales and Duration value was small                                                                                         0             465\n",
              "Destination was found to be SINGAPORE while Commision (in value) value was large & Net Sales and Duration value was small                                             0               1\n",
              "Destination was found to be SINGAPORE while Duration value was large & Net Sales and Commision (in value) value was small                                             0             115\n",
              "Destination was found to be SINGAPORE while Net Sales, Commision (in value) and Duration value was small                                                              0             111\n",
              "Destination was found to be SINGAPORE, Agency Type was found to be Travel Agency while Commision (in value) and Duration value was large & Net Sales value was small  0               1\n",
              "Destination was found to be SINGAPORE, Agency Type was found to be Travel Agency while Commision (in value) value was large & Net Sales and Duration value was small  0               1\n",
              "Destination was found to be SINGAPORE, Agency Type was found to be Travel Agency while Duration value was large & Net Sales and Commision (in value) value was small  0             105\n",
              "Destination was found to be SINGAPORE, Agency Type was found to be Travel Agency while Net Sales and Commision (in value) value was large & Duration value was small  0               1\n",
              "                                                                                                                                                                      1               1\n",
              "Destination was found to be SINGAPORE, Agency Type was found to be Travel Agency while Net Sales and Duration value was large & Commision (in value) value was small  0              67\n",
              "                                                                                                                                                                      1              22\n",
              "Destination was found to be SINGAPORE, Agency Type was found to be Travel Agency while Net Sales value was large & Commision (in value) and Duration value was small  0             124\n",
              "Destination was found to be SINGAPORE, Agency Type was found to be Travel Agency while Net Sales, Commision (in value) and Duration value was small                   0             663\n",
              "Duration value was large & Net Sales and Commision (in value) value was small                                                                                         0             101\n",
              "Net Sales and Commision (in value) value was large & Duration value was small                                                                                         0             163\n",
              "                                                                                                                                                                      1               2\n",
              "Net Sales, Commision (in value) and Duration value was large                                                                                                          0              98\n",
              "                                                                                                                                                                      1              12\n",
              "Net Sales, Commision (in value) and Duration value was small                                                                                                          0             818\n",
              "Name: Predicted, dtype: int64"
            ]
          },
          "metadata": {
            "tags": []
          },
          "execution_count": 212
        }
      ]
    },
    {
      "cell_type": "code",
      "metadata": {
        "id": "khaTiFSkNo0z",
        "colab_type": "code",
        "colab": {
          "base_uri": "https://localhost:8080/",
          "height": 921
        },
        "outputId": "2d5d171d-70ba-4f2a-d932-69e22906428c"
      },
      "source": [
        "a['Actual'].value_counts()"
      ],
      "execution_count": 214,
      "outputs": [
        {
          "output_type": "execute_result",
          "data": {
            "text/plain": [
              "Reasoning                                                                                                                                                             Actual\n",
              "Agency Type was found to be Travel Agency while Commision (in value) and Duration value was large & Net Sales value was small                                         0          308\n",
              "Agency Type was found to be Travel Agency while Commision (in value) value was large & Net Sales and Duration value was small                                         0          838\n",
              "                                                                                                                                                                      1            8\n",
              "Agency Type was found to be Travel Agency while Duration value was large & Net Sales and Commision (in value) value was small                                         0         1375\n",
              "                                                                                                                                                                      1            9\n",
              "Agency Type was found to be Travel Agency while Net Sales and Commision (in value) value was large & Duration value was small                                         0          604\n",
              "                                                                                                                                                                      1           11\n",
              "Agency Type was found to be Travel Agency while Net Sales and Duration value was large & Commision (in value) value was small                                         0          738\n",
              "                                                                                                                                                                      1            8\n",
              "Agency Type was found to be Travel Agency while Net Sales value was large & Commision (in value) and Duration value was small                                         0         1300\n",
              "                                                                                                                                                                      1           13\n",
              "Agency Type was found to be Travel Agency while Net Sales, Commision (in value) and Duration value was large                                                          0          392\n",
              "                                                                                                                                                                      1            9\n",
              "Agency Type was found to be Travel Agency while Net Sales, Commision (in value) and Duration value was small                                                          0         4829\n",
              "                                                                                                                                                                      1           21\n",
              "Agency was found to be C2B, Destination was found to be SINGAPORE while Commision (in value) and Duration value was large & Net Sales value was small                 0           17\n",
              "                                                                                                                                                                      1            1\n",
              "Agency was found to be C2B, Destination was found to be SINGAPORE while Commision (in value) value was large & Net Sales and Duration value was small                 0           98\n",
              "                                                                                                                                                                      1            6\n",
              "Agency was found to be C2B, Destination was found to be SINGAPORE while Duration value was large & Net Sales and Commision (in value) value was small                 0           89\n",
              "                                                                                                                                                                      1            7\n",
              "Agency was found to be C2B, Destination was found to be SINGAPORE while Net Sales and Commision (in value) value was large & Duration value was small                 0          336\n",
              "                                                                                                                                                                      1           23\n",
              "Agency was found to be C2B, Destination was found to be SINGAPORE while Net Sales, Commision (in value) and Duration value was large                                  0          493\n",
              "                                                                                                                                                                      1           57\n",
              "Agency was found to be C2B, Destination was found to be SINGAPORE while Net Sales, Commision (in value) and Duration value was small                                  0          907\n",
              "                                                                                                                                                                      1           41\n",
              "Commision (in value) and Duration value was large & Net Sales value was small                                                                                         0          175\n",
              "                                                                                                                                                                      1            2\n",
              "Commision (in value) value was large & Net Sales and Duration value was small                                                                                         0          461\n",
              "                                                                                                                                                                      1            4\n",
              "Destination was found to be SINGAPORE while Commision (in value) value was large & Net Sales and Duration value was small                                             0            1\n",
              "Destination was found to be SINGAPORE while Duration value was large & Net Sales and Commision (in value) value was small                                             0          115\n",
              "Destination was found to be SINGAPORE while Net Sales, Commision (in value) and Duration value was small                                                              0          110\n",
              "                                                                                                                                                                      1            1\n",
              "Destination was found to be SINGAPORE, Agency Type was found to be Travel Agency while Commision (in value) and Duration value was large & Net Sales value was small  0            1\n",
              "Destination was found to be SINGAPORE, Agency Type was found to be Travel Agency while Commision (in value) value was large & Net Sales and Duration value was small  0            1\n",
              "Destination was found to be SINGAPORE, Agency Type was found to be Travel Agency while Duration value was large & Net Sales and Commision (in value) value was small  0          105\n",
              "Destination was found to be SINGAPORE, Agency Type was found to be Travel Agency while Net Sales and Commision (in value) value was large & Duration value was small  0            2\n",
              "Destination was found to be SINGAPORE, Agency Type was found to be Travel Agency while Net Sales and Duration value was large & Commision (in value) value was small  0           87\n",
              "                                                                                                                                                                      1            2\n",
              "Destination was found to be SINGAPORE, Agency Type was found to be Travel Agency while Net Sales value was large & Commision (in value) and Duration value was small  0          124\n",
              "Destination was found to be SINGAPORE, Agency Type was found to be Travel Agency while Net Sales, Commision (in value) and Duration value was small                   0          663\n",
              "Duration value was large & Net Sales and Commision (in value) value was small                                                                                         0          101\n",
              "Net Sales and Commision (in value) value was large & Duration value was small                                                                                         0          164\n",
              "                                                                                                                                                                      1            1\n",
              "Net Sales, Commision (in value) and Duration value was large                                                                                                          0          106\n",
              "                                                                                                                                                                      1            4\n",
              "Net Sales, Commision (in value) and Duration value was small                                                                                                          0          817\n",
              "                                                                                                                                                                      1            1\n",
              "Name: Actual, dtype: int64"
            ]
          },
          "metadata": {
            "tags": []
          },
          "execution_count": 214
        }
      ]
    },
    {
      "cell_type": "code",
      "metadata": {
        "id": "dhICJY31OIKu",
        "colab_type": "code",
        "colab": {
          "base_uri": "https://localhost:8080/",
          "height": 581
        },
        "outputId": "cb2bb30f-2d4c-459e-d9c5-141e6c5f7c60"
      },
      "source": [
        "df_res.groupby('Reasoning').count()['Predicted']"
      ],
      "execution_count": 213,
      "outputs": [
        {
          "output_type": "execute_result",
          "data": {
            "text/plain": [
              "Reasoning\n",
              "Agency Type was found to be Travel Agency while Commision (in value) and Duration value was large & Net Sales value was small                                            308\n",
              "Agency Type was found to be Travel Agency while Commision (in value) value was large & Net Sales and Duration value was small                                            846\n",
              "Agency Type was found to be Travel Agency while Duration value was large & Net Sales and Commision (in value) value was small                                           1384\n",
              "Agency Type was found to be Travel Agency while Net Sales and Commision (in value) value was large & Duration value was small                                            615\n",
              "Agency Type was found to be Travel Agency while Net Sales and Duration value was large & Commision (in value) value was small                                            746\n",
              "Agency Type was found to be Travel Agency while Net Sales value was large & Commision (in value) and Duration value was small                                           1313\n",
              "Agency Type was found to be Travel Agency while Net Sales, Commision (in value) and Duration value was large                                                             401\n",
              "Agency Type was found to be Travel Agency while Net Sales, Commision (in value) and Duration value was small                                                            4850\n",
              "Agency was found to be C2B, Destination was found to be SINGAPORE while Commision (in value) and Duration value was large & Net Sales value was small                     18\n",
              "Agency was found to be C2B, Destination was found to be SINGAPORE while Commision (in value) value was large & Net Sales and Duration value was small                    104\n",
              "Agency was found to be C2B, Destination was found to be SINGAPORE while Duration value was large & Net Sales and Commision (in value) value was small                     96\n",
              "Agency was found to be C2B, Destination was found to be SINGAPORE while Net Sales and Commision (in value) value was large & Duration value was small                    359\n",
              "Agency was found to be C2B, Destination was found to be SINGAPORE while Net Sales, Commision (in value) and Duration value was large                                     550\n",
              "Agency was found to be C2B, Destination was found to be SINGAPORE while Net Sales, Commision (in value) and Duration value was small                                     948\n",
              "Commision (in value) and Duration value was large & Net Sales value was small                                                                                            177\n",
              "Commision (in value) value was large & Net Sales and Duration value was small                                                                                            465\n",
              "Destination was found to be SINGAPORE while Commision (in value) value was large & Net Sales and Duration value was small                                                  1\n",
              "Destination was found to be SINGAPORE while Duration value was large & Net Sales and Commision (in value) value was small                                                115\n",
              "Destination was found to be SINGAPORE while Net Sales, Commision (in value) and Duration value was small                                                                 111\n",
              "Destination was found to be SINGAPORE, Agency Type was found to be Travel Agency while Commision (in value) and Duration value was large & Net Sales value was small       1\n",
              "Destination was found to be SINGAPORE, Agency Type was found to be Travel Agency while Commision (in value) value was large & Net Sales and Duration value was small       1\n",
              "Destination was found to be SINGAPORE, Agency Type was found to be Travel Agency while Duration value was large & Net Sales and Commision (in value) value was small     105\n",
              "Destination was found to be SINGAPORE, Agency Type was found to be Travel Agency while Net Sales and Commision (in value) value was large & Duration value was small       2\n",
              "Destination was found to be SINGAPORE, Agency Type was found to be Travel Agency while Net Sales and Duration value was large & Commision (in value) value was small      89\n",
              "Destination was found to be SINGAPORE, Agency Type was found to be Travel Agency while Net Sales value was large & Commision (in value) and Duration value was small     124\n",
              "Destination was found to be SINGAPORE, Agency Type was found to be Travel Agency while Net Sales, Commision (in value) and Duration value was small                      663\n",
              "Duration value was large & Net Sales and Commision (in value) value was small                                                                                            101\n",
              "Net Sales and Commision (in value) value was large & Duration value was small                                                                                            165\n",
              "Net Sales, Commision (in value) and Duration value was large                                                                                                             110\n",
              "Net Sales, Commision (in value) and Duration value was small                                                                                                             818\n",
              "Name: Predicted, dtype: int64"
            ]
          },
          "metadata": {
            "tags": []
          },
          "execution_count": 213
        }
      ]
    }
  ]
}